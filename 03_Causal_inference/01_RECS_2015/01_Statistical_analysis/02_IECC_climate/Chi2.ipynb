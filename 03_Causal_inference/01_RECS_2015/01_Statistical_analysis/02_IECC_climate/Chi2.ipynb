{
 "cells": [
  {
   "cell_type": "code",
   "execution_count": 2,
   "metadata": {},
   "outputs": [
    {
     "data": {
      "text/plain": [
       "Index(['CDD65', 'DBT', 'IECC_CLIMATE', 'WSF', 'HHAGE', 'MONEYPY', 'NHSLDMEM',\n",
       "       'COOLTYPE', 'AGECENAC', 'WWACAGE', 'NUMBERAC', 'TYPEHUQ', 'ATTIC',\n",
       "       'ATTICFIN', 'PRKGPLC1', 'STUDIO', 'WALLTYPE', 'ROOFTYPE', 'WINDOWS',\n",
       "       'YEARMADERANGE', 'TOTROOMS', 'TOTAREA', 'TOTCAREA', 'CELLAR', 'STORIES',\n",
       "       'OA_LAT', 'ADQINSUL', 'ATTCCOOL', 'BASECOOL', 'TEMPHOMEAC',\n",
       "       'TEMPGONEAC', 'TEMPNITEAC', 'USECENAC', 'USEWWAC', 'SOLAR', 'THERMAIN',\n",
       "       'PROTHERM', 'AUDIT', 'AUDITCHG', 'ESWIN', 'SMARTTHERM', 'ELPAY',\n",
       "       'SMARTMETER', 'INTDATA', 'ENERGYASST', 'SOLOTHER', 'KWHCOL', 'EUI',\n",
       "       'TEMPNITEAC-TEMPHOMEAC', 'TEMPNITEAC-TEMPGONEAC', 'Home_vs_Night',\n",
       "       'Gone_vs_Night', 'CDD_category', 'Income_category', 'NHSLDMEM_category',\n",
       "       'AGECENAC_category', 'WWACAGE_category'],\n",
       "      dtype='object')"
      ]
     },
     "execution_count": 2,
     "metadata": {},
     "output_type": "execute_result"
    }
   ],
   "source": [
    "import pandas as pd\n",
    "from bioinfokit.analys import stat\n",
    "df = pd.read_excel('data.xlsx')\n",
    "import numpy as np\n",
    "df.columns"
   ]
  },
  {
   "cell_type": "code",
   "execution_count": 3,
   "metadata": {},
   "outputs": [
    {
     "name": "stdout",
     "output_type": "stream",
     "text": [
      "\n",
      "Chi-squared test for independence\n",
      "\n",
      "Test              Df    Chi-square     P-value\n",
      "--------------  ----  ------------  ----------\n",
      "Pearson           50       89.7221  0.00048074\n",
      "Log-likelihood    50       84.8692  0.00151667\n",
      "\n"
     ]
    }
   ],
   "source": [
    "# ICCE_climate vs NHSLDMEM_category\n",
    "ctab = pd.crosstab(df.IECC_CLIMATE, df.NHSLDMEM_category)\n",
    "res = stat()\n",
    "res.chisq(df=ctab)\n",
    "print(res.summary)"
   ]
  },
  {
   "cell_type": "code",
   "execution_count": 4,
   "metadata": {},
   "outputs": [
    {
     "name": "stdout",
     "output_type": "stream",
     "text": [
      "\n",
      "Chi-squared test for independence\n",
      "\n",
      "Test              Df    Chi-square      P-value\n",
      "--------------  ----  ------------  -----------\n",
      "Pearson           20       114.955  2.43147e-15\n",
      "Log-likelihood    20       106.901  7.18926e-14\n",
      "\n"
     ]
    }
   ],
   "source": [
    "# ICCE_climate vs Income_category\n",
    "ctab = pd.crosstab(df.IECC_CLIMATE, df.Income_category)\n",
    "res = stat()\n",
    "res.chisq(df=ctab)\n",
    "print(res.summary)"
   ]
  },
  {
   "cell_type": "code",
   "execution_count": 5,
   "metadata": {},
   "outputs": [
    {
     "name": "stdout",
     "output_type": "stream",
     "text": [
      "\n",
      "Chi-squared test for independence\n",
      "\n",
      "Test              Df    Chi-square      P-value\n",
      "--------------  ----  ------------  -----------\n",
      "Pearson           20       308.041  1.83741e-53\n",
      "Log-likelihood    20       313.414  1.46089e-54\n",
      "\n"
     ]
    }
   ],
   "source": [
    "# ICCE_climate vs COOLTYPE\n",
    "ctab = pd.crosstab(df.IECC_CLIMATE, df.COOLTYPE)\n",
    "res = stat()\n",
    "res.chisq(df=ctab)\n",
    "print(res.summary)"
   ]
  },
  {
   "cell_type": "code",
   "execution_count": 6,
   "metadata": {},
   "outputs": [
    {
     "name": "stdout",
     "output_type": "stream",
     "text": [
      "\n",
      "Chi-squared test for independence\n",
      "\n",
      "Test              Df    Chi-square      P-value\n",
      "--------------  ----  ------------  -----------\n",
      "Pearson           10       31.7518  0.0004404\n",
      "Log-likelihood    10       32.0756  0.000388978\n",
      "\n"
     ]
    }
   ],
   "source": [
    "# ICCE_climate vs AGECENAC_category\n",
    "\n",
    "ac_age = df.loc[(df['AGECENAC_category'] != -2)]\n",
    "ctab = pd.crosstab(ac_age.IECC_CLIMATE, ac_age.AGECENAC_category)\n",
    "res = stat()\n",
    "res.chisq(df=ctab)\n",
    "print(res.summary)"
   ]
  },
  {
   "cell_type": "code",
   "execution_count": 7,
   "metadata": {},
   "outputs": [
    {
     "name": "stdout",
     "output_type": "stream",
     "text": [
      "\n",
      "Chi-squared test for independence\n",
      "\n",
      "Test              Df    Chi-square      P-value\n",
      "--------------  ----  ------------  -----------\n",
      "Pearson           20       442.331  3.23356e-81\n",
      "Log-likelihood    20       437.036  4.09849e-80\n",
      "\n"
     ]
    }
   ],
   "source": [
    "# ICCE_climate vs THERMAIN\n",
    "ctab = pd.crosstab(df.IECC_CLIMATE, df.THERMAIN)\n",
    "res = stat()\n",
    "res.chisq(df=ctab)\n",
    "print(res.summary)"
   ]
  },
  {
   "cell_type": "code",
   "execution_count": 8,
   "metadata": {},
   "outputs": [
    {
     "name": "stdout",
     "output_type": "stream",
     "text": [
      "\n",
      "Chi-squared test for independence\n",
      "\n",
      "Test              Df    Chi-square      P-value\n",
      "--------------  ----  ------------  -----------\n",
      "Pearson           20       137.838  1.29977e-19\n",
      "Log-likelihood    20       134.945  4.57578e-19\n",
      "\n"
     ]
    }
   ],
   "source": [
    "# ICCE_climate vs Home_vs_Night\n",
    "ctab = pd.crosstab(df.IECC_CLIMATE, df.Home_vs_Night)\n",
    "res = stat()\n",
    "res.chisq(df=ctab)\n",
    "print(res.summary)"
   ]
  },
  {
   "cell_type": "code",
   "execution_count": 9,
   "metadata": {},
   "outputs": [
    {
     "name": "stdout",
     "output_type": "stream",
     "text": [
      "\n",
      "Chi-squared test for independence\n",
      "\n",
      "Test              Df    Chi-square      P-value\n",
      "--------------  ----  ------------  -----------\n",
      "Pearson           20       125.756  2.42641e-17\n",
      "Log-likelihood    20       127.082  1.37179e-17\n",
      "\n"
     ]
    }
   ],
   "source": [
    "# ICCE_climate vs Gone_vs_Night\n",
    "ctab = pd.crosstab(df.IECC_CLIMATE, df.Gone_vs_Night)\n",
    "res = stat()\n",
    "res.chisq(df=ctab)\n",
    "print(res.summary)"
   ]
  },
  {
   "cell_type": "code",
   "execution_count": 12,
   "metadata": {},
   "outputs": [
    {
     "name": "stdout",
     "output_type": "stream",
     "text": [
      "\n",
      "Chi-squared test for independence\n",
      "\n",
      "Test              Df    Chi-square      P-value\n",
      "--------------  ----  ------------  -----------\n",
      "Pearson           40       338.686  5.86199e-49\n",
      "Log-likelihood    40       298.446  2.94959e-41\n",
      "\n"
     ]
    }
   ],
   "source": [
    "# ICCE_climate vs USECENAC\n",
    "\n",
    "ac_age = df.loc[(df['USECENAC'] != -2)]\n",
    "ctab = pd.crosstab(ac_age.IECC_CLIMATE, ac_age.USECENAC)\n",
    "res = stat()\n",
    "res.chisq(df=ctab)\n",
    "print(res.summary)"
   ]
  },
  {
   "cell_type": "code",
   "execution_count": 13,
   "metadata": {},
   "outputs": [
    {
     "name": "stdout",
     "output_type": "stream",
     "text": [
      "\n",
      "Chi-squared test for independence\n",
      "\n",
      "Test              Df    Chi-square      P-value\n",
      "--------------  ----  ------------  -----------\n",
      "Pearson           30       154.255  1.17509e-18\n",
      "Log-likelihood    30       165.386  1.17577e-20\n",
      "\n"
     ]
    }
   ],
   "source": [
    "# ICCE_climate vs TYPEHUQ\n",
    "ctab = pd.crosstab(df.IECC_CLIMATE, df.TYPEHUQ)\n",
    "res = stat()\n",
    "res.chisq(df=ctab)\n",
    "print(res.summary)"
   ]
  },
  {
   "cell_type": "code",
   "execution_count": 14,
   "metadata": {},
   "outputs": [
    {
     "name": "stdout",
     "output_type": "stream",
     "text": [
      "\n",
      "Chi-squared test for independence\n",
      "\n",
      "Test              Df    Chi-square       P-value\n",
      "--------------  ----  ------------  ------------\n",
      "Pearson           70      1119.4    8.20089e-189\n",
      "Log-likelihood    70       876.168  1.31921e-139\n",
      "\n"
     ]
    }
   ],
   "source": [
    "# ICCE_climate vs ROOFTYPE\n",
    "ctab = pd.crosstab(df.IECC_CLIMATE, df.ROOFTYPE)\n",
    "res = stat()\n",
    "res.chisq(df=ctab)\n",
    "print(res.summary)"
   ]
  },
  {
   "cell_type": "code",
   "execution_count": 15,
   "metadata": {},
   "outputs": [
    {
     "name": "stdout",
     "output_type": "stream",
     "text": [
      "\n",
      "Chi-squared test for independence\n",
      "\n",
      "Test              Df    Chi-square    P-value\n",
      "--------------  ----  ------------  ---------\n",
      "Pearson           70       3031.27          0\n",
      "Log-likelihood    70       2633.01          0\n",
      "\n"
     ]
    }
   ],
   "source": [
    "# ICCE_climate vs WALLTYPE\n",
    "ctab = pd.crosstab(df.IECC_CLIMATE, df.WALLTYPE)\n",
    "res = stat()\n",
    "res.chisq(df=ctab)\n",
    "print(res.summary)"
   ]
  },
  {
   "cell_type": "code",
   "execution_count": 16,
   "metadata": {},
   "outputs": [
    {
     "name": "stdout",
     "output_type": "stream",
     "text": [
      "\n",
      "Chi-squared test for independence\n",
      "\n",
      "Test              Df    Chi-square      P-value\n",
      "--------------  ----  ------------  -----------\n",
      "Pearson           60       244.083  4.74883e-24\n",
      "Log-likelihood    60       230.203  9.14629e-22\n",
      "\n"
     ]
    }
   ],
   "source": [
    "# ICCE_climate vs WINDOWS\n",
    "ctab = pd.crosstab(df.IECC_CLIMATE, df.WINDOWS)\n",
    "res = stat()\n",
    "res.chisq(df=ctab)\n",
    "print(res.summary)"
   ]
  },
  {
   "cell_type": "code",
   "execution_count": 17,
   "metadata": {},
   "outputs": [
    {
     "name": "stdout",
     "output_type": "stream",
     "text": [
      "\n",
      "Chi-squared test for independence\n",
      "\n",
      "Test              Df    Chi-square      P-value\n",
      "--------------  ----  ------------  -----------\n",
      "Pearson           70       468.684  2.5065e-60\n",
      "Log-likelihood    70       492.07   1.08734e-64\n",
      "\n"
     ]
    }
   ],
   "source": [
    "# ICCE_climate vs YEARMADERANGE\n",
    "ctab = pd.crosstab(df.IECC_CLIMATE, df.YEARMADERANGE)\n",
    "res = stat()\n",
    "res.chisq(df=ctab)\n",
    "print(res.summary)"
   ]
  },
  {
   "cell_type": "code",
   "execution_count": 19,
   "metadata": {},
   "outputs": [
    {
     "name": "stdout",
     "output_type": "stream",
     "text": [
      "\n",
      "Chi-squared test for independence\n",
      "\n",
      "Test              Df    Chi-square      P-value\n",
      "--------------  ----  ------------  -----------\n",
      "Pearson           90       187.29   8.31017e-09\n",
      "Log-likelihood    90       188.341  6.25615e-09\n",
      "\n"
     ]
    }
   ],
   "source": [
    "# ICCE_climate vs TOTROOMS\n",
    "\n",
    "data_for_causal = df.copy()\n",
    "conditions = [(data_for_causal['TOTROOMS']>=1) & (data_for_causal['TOTROOMS']<=2), \n",
    "                (data_for_causal['TOTROOMS']>=3) & (data_for_causal['TOTROOMS']<=4),\n",
    "                (data_for_causal['TOTROOMS']>=5) & (data_for_causal['TOTROOMS']<=6),\n",
    "                (data_for_causal['TOTROOMS']>=7) & (data_for_causal['TOTROOMS']<=8),\n",
    "                (data_for_causal['TOTROOMS']>=9) & (data_for_causal['TOTROOMS']<=10),\n",
    "                (data_for_causal['TOTROOMS']>=11) & (data_for_causal['TOTROOMS']<=12),\n",
    "                (data_for_causal['TOTROOMS']>=13) & (data_for_causal['TOTROOMS']<=14),\n",
    "                (data_for_causal['TOTROOMS']>=15) & (data_for_causal['TOTROOMS']<=16),\n",
    "                (data_for_causal['TOTROOMS']>=17) & (data_for_causal['TOTROOMS']<=18),\n",
    "                (data_for_causal['TOTROOMS']>=19) & (data_for_causal['TOTROOMS']<=20),]\n",
    "\n",
    "choices = [0, 1 , 2 , 3, 4, 5, 6 ,7, 8, 9]\n",
    "\n",
    "data_for_causal['TOTROOMS_cat'] = np.select(conditions, choices, default=0)\n",
    "data_for_causal = data_for_causal.rename(columns={'TOTROOMS': 'TOTROOMS_old', 'TOTROOMS_cat': 'TOTROOMS'})\n",
    "data_for_causal.drop(labels=['TOTROOMS_old'], axis=1, inplace=True)\n",
    "\n",
    "\n",
    "\n",
    "\n",
    "ctab = pd.crosstab(data_for_causal.IECC_CLIMATE, data_for_causal.TOTROOMS)\n",
    "res = stat()\n",
    "res.chisq(df=ctab)\n",
    "print(res.summary)"
   ]
  },
  {
   "cell_type": "code",
   "execution_count": 20,
   "metadata": {},
   "outputs": [
    {
     "name": "stdout",
     "output_type": "stream",
     "text": [
      "\n",
      "Chi-squared test for independence\n",
      "\n",
      "Test              Df    Chi-square     P-value\n",
      "--------------  ----  ------------  ----------\n",
      "Pearson           30       65.0892  0.00021366\n",
      "Log-likelihood    30       57.041   0.00206908\n",
      "\n"
     ]
    }
   ],
   "source": [
    "# ICCE_climate vs ADQINSUL\n",
    "ctab = pd.crosstab(df.IECC_CLIMATE, df.ADQINSUL)\n",
    "res = stat()\n",
    "res.chisq(df=ctab)\n",
    "print(res.summary)"
   ]
  },
  {
   "cell_type": "code",
   "execution_count": 21,
   "metadata": {},
   "outputs": [
    {
     "name": "stdout",
     "output_type": "stream",
     "text": [
      "\n",
      "Chi-squared test for independence\n",
      "\n",
      "Test              Df    Chi-square    P-value\n",
      "--------------  ----  ------------  ---------\n",
      "Pearson           30       49.1952  0.015013\n",
      "Log-likelihood    30       41.9377  0.0724571\n",
      "\n"
     ]
    }
   ],
   "source": [
    "# ICCE_climate vs AUDIT\n",
    "ctab = pd.crosstab(df.IECC_CLIMATE, df.AUDIT)\n",
    "res = stat()\n",
    "res.chisq(df=ctab)\n",
    "print(res.summary)"
   ]
  },
  {
   "cell_type": "code",
   "execution_count": 22,
   "metadata": {},
   "outputs": [
    {
     "name": "stdout",
     "output_type": "stream",
     "text": [
      "\n",
      "Chi-squared test for independence\n",
      "\n",
      "Test              Df    Chi-square      P-value\n",
      "--------------  ----  ------------  -----------\n",
      "Pearson           30       132.159  8.78621e-15\n",
      "Log-likelihood    30       141.415  2.17927e-16\n",
      "\n"
     ]
    }
   ],
   "source": [
    "# ICCE_climate vs ESWIN\n",
    "ctab = pd.crosstab(df.IECC_CLIMATE, df.ESWIN)\n",
    "res = stat()\n",
    "res.chisq(df=ctab)\n",
    "print(res.summary)"
   ]
  },
  {
   "cell_type": "code",
   "execution_count": 23,
   "metadata": {},
   "outputs": [
    {
     "name": "stdout",
     "output_type": "stream",
     "text": [
      "\n",
      "Chi-squared test for independence\n",
      "\n",
      "Test              Df    Chi-square    P-value\n",
      "--------------  ----  ------------  ---------\n",
      "Pearson           30       42.3537  0.0667291\n",
      "Log-likelihood    30       47.7522  0.0209834\n",
      "\n"
     ]
    }
   ],
   "source": [
    "# ICCE_climate vs ELPAY\n",
    "ctab = pd.crosstab(df.IECC_CLIMATE, df.ELPAY)\n",
    "res = stat()\n",
    "res.chisq(df=ctab)\n",
    "print(res.summary)"
   ]
  },
  {
   "cell_type": "code",
   "execution_count": 24,
   "metadata": {},
   "outputs": [
    {
     "name": "stdout",
     "output_type": "stream",
     "text": [
      "\n",
      "Chi-squared test for independence\n",
      "\n",
      "Test              Df    Chi-square      P-value\n",
      "--------------  ----  ------------  -----------\n",
      "Pearson           30       221.316  4.73409e-31\n",
      "Log-likelihood    30       213.607  1.36762e-29\n",
      "\n"
     ]
    }
   ],
   "source": [
    "# ICCE_climate vs SMARTMETER\n",
    "ctab = pd.crosstab(df.IECC_CLIMATE, df.SMARTMETER)\n",
    "res = stat()\n",
    "res.chisq(df=ctab)\n",
    "print(res.summary)"
   ]
  },
  {
   "cell_type": "code",
   "execution_count": 25,
   "metadata": {},
   "outputs": [
    {
     "name": "stdout",
     "output_type": "stream",
     "text": [
      "\n",
      "Chi-squared test for independence\n",
      "\n",
      "Test              Df    Chi-square      P-value\n",
      "--------------  ----  ------------  -----------\n",
      "Pearson           40       221.696  5.06627e-27\n",
      "Log-likelihood    40       227.831  3.93912e-28\n",
      "\n"
     ]
    }
   ],
   "source": [
    "# ICCE_climate vs INTDATA\n",
    "ctab = pd.crosstab(df.IECC_CLIMATE, df.INTDATA)\n",
    "res = stat()\n",
    "res.chisq(df=ctab)\n",
    "print(res.summary)"
   ]
  },
  {
   "cell_type": "code",
   "execution_count": 26,
   "metadata": {},
   "outputs": [
    {
     "name": "stdout",
     "output_type": "stream",
     "text": [
      "\n",
      "Chi-squared test for independence\n",
      "\n",
      "Test              Df    Chi-square      P-value\n",
      "--------------  ----  ------------  -----------\n",
      "Pearson           10       75.4006  3.97567e-12\n",
      "Log-likelihood    10       62.6338  1.14643e-09\n",
      "\n"
     ]
    }
   ],
   "source": [
    "# ICCE_climate vs ENERGYASST\n",
    "ctab = pd.crosstab(df.IECC_CLIMATE, df.ENERGYASST)\n",
    "res = stat()\n",
    "res.chisq(df=ctab)\n",
    "print(res.summary)"
   ]
  },
  {
   "cell_type": "code",
   "execution_count": 27,
   "metadata": {},
   "outputs": [
    {
     "name": "stdout",
     "output_type": "stream",
     "text": [
      "\n",
      "Chi-squared test for independence\n",
      "\n",
      "Test              Df    Chi-square     P-value\n",
      "--------------  ----  ------------  ----------\n",
      "Pearson           10       22.1101  0.0145532\n",
      "Log-likelihood    10       24.7732  0.00579248\n",
      "\n"
     ]
    }
   ],
   "source": [
    "# ICCE_climate vs SOLOTHER\n",
    "ctab = pd.crosstab(df.IECC_CLIMATE, df.SOLOTHER)\n",
    "res = stat()\n",
    "res.chisq(df=ctab)\n",
    "print(res.summary)"
   ]
  },
  {
   "cell_type": "code",
   "execution_count": null,
   "metadata": {},
   "outputs": [],
   "source": []
  },
  {
   "cell_type": "code",
   "execution_count": null,
   "metadata": {},
   "outputs": [],
   "source": []
  }
 ],
 "metadata": {
  "kernelspec": {
   "display_name": "thesis",
   "language": "python",
   "name": "python3"
  },
  "language_info": {
   "codemirror_mode": {
    "name": "ipython",
    "version": 3
   },
   "file_extension": ".py",
   "mimetype": "text/x-python",
   "name": "python",
   "nbconvert_exporter": "python",
   "pygments_lexer": "ipython3",
   "version": "3.10.8"
  },
  "orig_nbformat": 4,
  "vscode": {
   "interpreter": {
    "hash": "d3e156ba609d3fe88450c2dc1973615cb05d3710a7f9768d2badc7f539ca2834"
   }
  }
 },
 "nbformat": 4,
 "nbformat_minor": 2
}
