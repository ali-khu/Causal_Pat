{
 "cells": [
  {
   "cell_type": "code",
   "execution_count": 12,
   "metadata": {},
   "outputs": [
    {
     "data": {
      "text/plain": [
       "Index(['CDD65', 'DBT', 'IECC_CLIMATE', 'WSF', 'HHAGE', 'MONEYPY', 'NHSLDMEM',\n",
       "       'COOLTYPE', 'AGECENAC', 'WWACAGE', 'NUMBERAC', 'TYPEHUQ', 'ATTIC',\n",
       "       'ATTICFIN', 'PRKGPLC1', 'STUDIO', 'WALLTYPE', 'ROOFTYPE', 'WINDOWS',\n",
       "       'YEARMADERANGE', 'TOTROOMS', 'TOTAREA', 'TOTCAREA', 'CELLAR', 'STORIES',\n",
       "       'OA_LAT', 'ADQINSUL', 'ATTCCOOL', 'BASECOOL', 'TEMPHOMEAC',\n",
       "       'TEMPGONEAC', 'TEMPNITEAC', 'USECENAC', 'USEWWAC', 'SOLAR', 'THERMAIN',\n",
       "       'PROTHERM', 'AUDIT', 'AUDITCHG', 'ESWIN', 'SMARTTHERM', 'ELPAY',\n",
       "       'SMARTMETER', 'INTDATA', 'ENERGYASST', 'SOLOTHER', 'KWHCOL', 'EUI',\n",
       "       'TEMPNITEAC-TEMPHOMEAC', 'TEMPNITEAC-TEMPGONEAC', 'Home_vs_Night',\n",
       "       'Gone_vs_Night', 'CDD_category', 'Income_category', 'NHSLDMEM_category',\n",
       "       'AGECENAC_category', 'WWACAGE_category'],\n",
       "      dtype='object')"
      ]
     },
     "execution_count": 12,
     "metadata": {},
     "output_type": "execute_result"
    }
   ],
   "source": [
    "import pandas as pd\n",
    "from bioinfokit.analys import stat\n",
    "df = pd.read_excel('data.xlsx')\n",
    "import numpy as np\n",
    "df.columns"
   ]
  },
  {
   "cell_type": "code",
   "execution_count": 4,
   "metadata": {},
   "outputs": [
    {
     "name": "stdout",
     "output_type": "stream",
     "text": [
      "\n",
      "Chi-squared test for independence\n",
      "\n",
      "Test              Df    Chi-square    P-value\n",
      "--------------  ----  ------------  ---------\n",
      "Pearson          130       9879.64          0\n",
      "Log-likelihood   130       8561.16          0\n",
      "\n"
     ]
    }
   ],
   "source": [
    "# CDD65 vs ICCE_climate\n",
    "ctab = pd.crosstab(df.CDD_category, df.IECC_CLIMATE)\n",
    "res = stat()\n",
    "res.chisq(df=ctab)\n",
    "print(res.summary)"
   ]
  },
  {
   "cell_type": "code",
   "execution_count": 2,
   "metadata": {},
   "outputs": [
    {
     "name": "stdout",
     "output_type": "stream",
     "text": [
      "\n",
      "Chi-squared test for independence\n",
      "\n",
      "Test              Df    Chi-square    P-value\n",
      "--------------  ----  ------------  ---------\n",
      "Pearson           65       55.8643   0.783179\n",
      "Log-likelihood    65       58.5548   0.700598\n",
      "\n"
     ]
    }
   ],
   "source": [
    "# CDD65 vs Number of people\n",
    "ctab = pd.crosstab(df.CDD_category, df.NHSLDMEM_category)\n",
    "res = stat()\n",
    "res.chisq(df=ctab)\n",
    "print(res.summary)"
   ]
  },
  {
   "cell_type": "code",
   "execution_count": 3,
   "metadata": {},
   "outputs": [
    {
     "name": "stdout",
     "output_type": "stream",
     "text": [
      "\n",
      "Chi-squared test for independence\n",
      "\n",
      "Test              Df    Chi-square      P-value\n",
      "--------------  ----  ------------  -----------\n",
      "Pearson           26       77.7449  4.6462e-07\n",
      "Log-likelihood    26       78.1563  4.02105e-07\n",
      "\n"
     ]
    }
   ],
   "source": [
    "# CDD65 vs Income\n",
    "ctab = pd.crosstab(df.CDD_category, df.Income_category)\n",
    "res = stat()\n",
    "res.chisq(df=ctab)\n",
    "print(res.summary)"
   ]
  },
  {
   "cell_type": "code",
   "execution_count": 4,
   "metadata": {},
   "outputs": [
    {
     "name": "stdout",
     "output_type": "stream",
     "text": [
      "\n",
      "Chi-squared test for independence\n",
      "\n",
      "Test              Df    Chi-square      P-value\n",
      "--------------  ----  ------------  -----------\n",
      "Pearson           26       313.05   5.14205e-51\n",
      "Log-likelihood    26       317.142  7.75772e-52\n",
      "\n"
     ]
    }
   ],
   "source": [
    "# CDD65 vs AC type\n",
    "ctab = pd.crosstab(df.CDD_category, df.COOLTYPE)\n",
    "res = stat()\n",
    "res.chisq(df=ctab)\n",
    "print(res.summary)"
   ]
  },
  {
   "cell_type": "code",
   "execution_count": 7,
   "metadata": {},
   "outputs": [
    {
     "name": "stdout",
     "output_type": "stream",
     "text": [
      "\n",
      "Chi-squared test for independence\n",
      "\n",
      "Test              Df    Chi-square     P-value\n",
      "--------------  ----  ------------  ----------\n",
      "Pearson           13       34.3965  0.00104738\n",
      "Log-likelihood    13       34.2453  0.00110448\n",
      "\n"
     ]
    }
   ],
   "source": [
    "# CDD65 vs AGECENAC_category\n",
    "\n",
    "ac_age = df.loc[(df['AGECENAC_category'] != -2)]\n",
    "ctab = pd.crosstab(ac_age.CDD_category, ac_age.AGECENAC_category)\n",
    "res = stat()\n",
    "res.chisq(df=ctab)\n",
    "print(res.summary)"
   ]
  },
  {
   "cell_type": "code",
   "execution_count": 5,
   "metadata": {},
   "outputs": [
    {
     "name": "stdout",
     "output_type": "stream",
     "text": [
      "\n",
      "Chi-squared test for independence\n",
      "\n",
      "Test              Df    Chi-square       P-value\n",
      "--------------  ----  ------------  ------------\n",
      "Pearson           26       769.414  1.90001e-145\n",
      "Log-likelihood    26       392.738  3.81733e-67\n",
      "\n"
     ]
    }
   ],
   "source": [
    "# CDD65 vs Thermostat\n",
    "ctab = pd.crosstab(df.CDD_category, df.THERMAIN)\n",
    "res = stat()\n",
    "res.chisq(df=ctab)\n",
    "print(res.summary)"
   ]
  },
  {
   "cell_type": "code",
   "execution_count": 6,
   "metadata": {},
   "outputs": [
    {
     "name": "stdout",
     "output_type": "stream",
     "text": [
      "\n",
      "Chi-squared test for independence\n",
      "\n",
      "Test              Df    Chi-square    P-value\n",
      "--------------  ----  ------------  ---------\n",
      "Pearson           26       37.2683  0.0706925\n",
      "Log-likelihood    26       37.6015  0.0659128\n",
      "\n"
     ]
    }
   ],
   "source": [
    "# CDD65 vs Home_vs_Night\n",
    "ctab = pd.crosstab(df.CDD_category, df.Home_vs_Night)\n",
    "res = stat()\n",
    "res.chisq(df=ctab)\n",
    "print(res.summary)"
   ]
  },
  {
   "cell_type": "code",
   "execution_count": 4,
   "metadata": {},
   "outputs": [
    {
     "name": "stdout",
     "output_type": "stream",
     "text": [
      "\n",
      "Chi-squared test for independence\n",
      "\n",
      "Test              Df    Chi-square     P-value\n",
      "--------------  ----  ------------  ----------\n",
      "Pearson           26       43.628   0.0165688\n",
      "Log-likelihood    26       46.6824  0.00764444\n",
      "\n"
     ]
    }
   ],
   "source": [
    "# CDD65 vs Gone_vs_Night\n",
    "ctab = pd.crosstab(df.CDD_category, df.Gone_vs_Night)\n",
    "res = stat()\n",
    "res.chisq(df=ctab)\n",
    "print(res.summary)"
   ]
  },
  {
   "cell_type": "code",
   "execution_count": 5,
   "metadata": {},
   "outputs": [
    {
     "name": "stdout",
     "output_type": "stream",
     "text": [
      "\n",
      "Chi-squared test for independence\n",
      "\n",
      "Test              Df    Chi-square      P-value\n",
      "--------------  ----  ------------  -----------\n",
      "Pearson           52       137.931  1.03291e-09\n",
      "Log-likelihood    52       129.754  1.38345e-08\n",
      "\n"
     ]
    }
   ],
   "source": [
    "# CDD65 vs USECENAC\n",
    "ac_age = df.loc[(df['USECENAC'] != -2)]\n",
    "ctab = pd.crosstab(ac_age.CDD_category, ac_age.USECENAC)\n",
    "res = stat()\n",
    "res.chisq(df=ctab)\n",
    "print(res.summary)"
   ]
  },
  {
   "cell_type": "code",
   "execution_count": 6,
   "metadata": {},
   "outputs": [
    {
     "name": "stdout",
     "output_type": "stream",
     "text": [
      "\n",
      "Chi-squared test for independence\n",
      "\n",
      "Test              Df    Chi-square      P-value\n",
      "--------------  ----  ------------  -----------\n",
      "Pearson           39       143.665  6.74967e-14\n",
      "Log-likelihood    39       138.716  4.23994e-13\n",
      "\n"
     ]
    }
   ],
   "source": [
    "# CDD65 vs TYPEHUQ\n",
    "ctab = pd.crosstab(df.CDD_category, df.TYPEHUQ)\n",
    "res = stat()\n",
    "res.chisq(df=ctab)\n",
    "print(res.summary)"
   ]
  },
  {
   "cell_type": "code",
   "execution_count": 7,
   "metadata": {},
   "outputs": [
    {
     "name": "stdout",
     "output_type": "stream",
     "text": [
      "\n",
      "Chi-squared test for independence\n",
      "\n",
      "Test              Df    Chi-square      P-value\n",
      "--------------  ----  ------------  -----------\n",
      "Pearson           91       612.413  2.89601e-78\n",
      "Log-likelihood    91       512.293  5.85076e-60\n",
      "\n"
     ]
    }
   ],
   "source": [
    "# CDD65 vs ROOFTYPE\n",
    "ctab = pd.crosstab(df.CDD_category, df.ROOFTYPE)\n",
    "res = stat()\n",
    "res.chisq(df=ctab)\n",
    "print(res.summary)"
   ]
  },
  {
   "cell_type": "code",
   "execution_count": 8,
   "metadata": {},
   "outputs": [
    {
     "name": "stdout",
     "output_type": "stream",
     "text": [
      "\n",
      "Chi-squared test for independence\n",
      "\n",
      "Test              Df    Chi-square       P-value\n",
      "--------------  ----  ------------  ------------\n",
      "Pearson           91       1577.07  1.68935e-269\n",
      "Log-likelihood    91       1328.3   8.59623e-219\n",
      "\n"
     ]
    }
   ],
   "source": [
    "# CDD65 vs WALLTYPE\n",
    "ctab = pd.crosstab(df.CDD_category, df.WALLTYPE)\n",
    "res = stat()\n",
    "res.chisq(df=ctab)\n",
    "print(res.summary)"
   ]
  },
  {
   "cell_type": "code",
   "execution_count": 9,
   "metadata": {},
   "outputs": [
    {
     "name": "stdout",
     "output_type": "stream",
     "text": [
      "\n",
      "Chi-squared test for independence\n",
      "\n",
      "Test              Df    Chi-square      P-value\n",
      "--------------  ----  ------------  -----------\n",
      "Pearson           78       210.363  4.23259e-14\n",
      "Log-likelihood    78       210.892  3.56989e-14\n",
      "\n"
     ]
    }
   ],
   "source": [
    "# CDD65 vs WINDOWS\n",
    "ctab = pd.crosstab(df.CDD_category, df.WINDOWS)\n",
    "res = stat()\n",
    "res.chisq(df=ctab)\n",
    "print(res.summary)"
   ]
  },
  {
   "cell_type": "code",
   "execution_count": 10,
   "metadata": {},
   "outputs": [
    {
     "name": "stdout",
     "output_type": "stream",
     "text": [
      "\n",
      "Chi-squared test for independence\n",
      "\n",
      "Test              Df    Chi-square      P-value\n",
      "--------------  ----  ------------  -----------\n",
      "Pearson           91       362.807  3.96723e-34\n",
      "Log-likelihood    91       390.443  1.01498e-38\n",
      "\n"
     ]
    }
   ],
   "source": [
    "# CDD65 vs YEARMADERANGE\n",
    "ctab = pd.crosstab(df.CDD_category, df.YEARMADERANGE)\n",
    "res = stat()\n",
    "res.chisq(df=ctab)\n",
    "print(res.summary)"
   ]
  },
  {
   "cell_type": "code",
   "execution_count": 14,
   "metadata": {},
   "outputs": [
    {
     "name": "stdout",
     "output_type": "stream",
     "text": [
      "\n",
      "Chi-squared test for independence\n",
      "\n",
      "Test              Df    Chi-square      P-value\n",
      "--------------  ----  ------------  -----------\n",
      "Pearson          117       196.506  5.88083e-06\n",
      "Log-likelihood   117       187.401  3.8855e-05\n",
      "\n"
     ]
    }
   ],
   "source": [
    "# CDD65 vs TOTROOMS\n",
    "\n",
    "data_for_causal = df.copy()\n",
    "conditions = [(data_for_causal['TOTROOMS']>=1) & (data_for_causal['TOTROOMS']<=2), \n",
    "                (data_for_causal['TOTROOMS']>=3) & (data_for_causal['TOTROOMS']<=4),\n",
    "                (data_for_causal['TOTROOMS']>=5) & (data_for_causal['TOTROOMS']<=6),\n",
    "                (data_for_causal['TOTROOMS']>=7) & (data_for_causal['TOTROOMS']<=8),\n",
    "                (data_for_causal['TOTROOMS']>=9) & (data_for_causal['TOTROOMS']<=10),\n",
    "                (data_for_causal['TOTROOMS']>=11) & (data_for_causal['TOTROOMS']<=12),\n",
    "                (data_for_causal['TOTROOMS']>=13) & (data_for_causal['TOTROOMS']<=14),\n",
    "                (data_for_causal['TOTROOMS']>=15) & (data_for_causal['TOTROOMS']<=16),\n",
    "                (data_for_causal['TOTROOMS']>=17) & (data_for_causal['TOTROOMS']<=18),\n",
    "                (data_for_causal['TOTROOMS']>=19) & (data_for_causal['TOTROOMS']<=20),]\n",
    "\n",
    "choices = [0, 1 , 2 , 3, 4, 5, 6 ,7, 8, 9]\n",
    "\n",
    "data_for_causal['TOTROOMS_cat'] = np.select(conditions, choices, default=0)\n",
    "data_for_causal = data_for_causal.rename(columns={'TOTROOMS': 'TOTROOMS_old', 'TOTROOMS_cat': 'TOTROOMS'})\n",
    "data_for_causal.drop(labels=['TOTROOMS_old'], axis=1, inplace=True)\n",
    "\n",
    "\n",
    "\n",
    "\n",
    "ctab = pd.crosstab(data_for_causal.CDD_category, data_for_causal.TOTROOMS)\n",
    "res = stat()\n",
    "res.chisq(df=ctab)\n",
    "print(res.summary)"
   ]
  },
  {
   "cell_type": "code",
   "execution_count": 16,
   "metadata": {},
   "outputs": [
    {
     "name": "stdout",
     "output_type": "stream",
     "text": [
      "\n",
      "Chi-squared test for independence\n",
      "\n",
      "Test              Df    Chi-square     P-value\n",
      "--------------  ----  ------------  ----------\n",
      "Pearson           39       80.5761  0.00010198\n",
      "Log-likelihood    39       63.2808  0.00826668\n",
      "\n"
     ]
    }
   ],
   "source": [
    "# CDD65 vs TOTAREA\n",
    "ctab = pd.crosstab(df.CDD_category, df.ADQINSUL)\n",
    "res = stat()\n",
    "res.chisq(df=ctab)\n",
    "print(res.summary)"
   ]
  },
  {
   "cell_type": "code",
   "execution_count": 17,
   "metadata": {},
   "outputs": [
    {
     "name": "stdout",
     "output_type": "stream",
     "text": [
      "\n",
      "Chi-squared test for independence\n",
      "\n",
      "Test              Df    Chi-square    P-value\n",
      "--------------  ----  ------------  ---------\n",
      "Pearson           39       25.6088   0.951328\n",
      "Log-likelihood    39       26.0535   0.944236\n",
      "\n"
     ]
    }
   ],
   "source": [
    "# CDD65 vs AUDIT\n",
    "ctab = pd.crosstab(df.CDD_category, df.AUDIT)\n",
    "res = stat()\n",
    "res.chisq(df=ctab)\n",
    "print(res.summary)"
   ]
  },
  {
   "cell_type": "code",
   "execution_count": 19,
   "metadata": {},
   "outputs": [
    {
     "name": "stdout",
     "output_type": "stream",
     "text": [
      "\n",
      "Chi-squared test for independence\n",
      "\n",
      "Test              Df    Chi-square      P-value\n",
      "--------------  ----  ------------  -----------\n",
      "Pearson           39       107.336  2.67109e-08\n",
      "Log-likelihood    39       110.978  7.8915e-09\n",
      "\n"
     ]
    }
   ],
   "source": [
    "# CDD65 vs ESWIN\n",
    "ctab = pd.crosstab(df.CDD_category, df.ESWIN)\n",
    "res = stat()\n",
    "res.chisq(df=ctab)\n",
    "print(res.summary)"
   ]
  },
  {
   "cell_type": "code",
   "execution_count": 20,
   "metadata": {},
   "outputs": [
    {
     "name": "stdout",
     "output_type": "stream",
     "text": [
      "\n",
      "Chi-squared test for independence\n",
      "\n",
      "Test              Df    Chi-square     P-value\n",
      "--------------  ----  ------------  ----------\n",
      "Pearson           39       67.2433  0.00329221\n",
      "Log-likelihood    39       59.8513  0.0174622\n",
      "\n"
     ]
    }
   ],
   "source": [
    "# CDD65 vs ELPAY\n",
    "ctab = pd.crosstab(df.CDD_category, df.ELPAY)\n",
    "res = stat()\n",
    "res.chisq(df=ctab)\n",
    "print(res.summary)"
   ]
  },
  {
   "cell_type": "code",
   "execution_count": 21,
   "metadata": {},
   "outputs": [
    {
     "name": "stdout",
     "output_type": "stream",
     "text": [
      "\n",
      "Chi-squared test for independence\n",
      "\n",
      "Test              Df    Chi-square      P-value\n",
      "--------------  ----  ------------  -----------\n",
      "Pearson           39       105.126  5.54605e-08\n",
      "Log-likelihood    39       105.251  5.32204e-08\n",
      "\n"
     ]
    }
   ],
   "source": [
    "# CDD65 vs SMARTMETER\n",
    "ctab = pd.crosstab(df.CDD_category, df.SMARTMETER)\n",
    "res = stat()\n",
    "res.chisq(df=ctab)\n",
    "print(res.summary)"
   ]
  },
  {
   "cell_type": "code",
   "execution_count": 22,
   "metadata": {},
   "outputs": [
    {
     "name": "stdout",
     "output_type": "stream",
     "text": [
      "\n",
      "Chi-squared test for independence\n",
      "\n",
      "Test              Df    Chi-square      P-value\n",
      "--------------  ----  ------------  -----------\n",
      "Pearson           52       104.591  2.13251e-05\n",
      "Log-likelihood    52       104.904  1.96068e-05\n",
      "\n"
     ]
    }
   ],
   "source": [
    "# CDD65 vs INTDATA\n",
    "ctab = pd.crosstab(df.CDD_category, df.INTDATA)\n",
    "res = stat()\n",
    "res.chisq(df=ctab)\n",
    "print(res.summary)"
   ]
  },
  {
   "cell_type": "code",
   "execution_count": 23,
   "metadata": {},
   "outputs": [
    {
     "name": "stdout",
     "output_type": "stream",
     "text": [
      "\n",
      "Chi-squared test for independence\n",
      "\n",
      "Test              Df    Chi-square    P-value\n",
      "--------------  ----  ------------  ---------\n",
      "Pearson           13       13.9426   0.3779\n",
      "Log-likelihood    13       16.5861   0.218922\n",
      "\n"
     ]
    }
   ],
   "source": [
    "# CDD65 vs ENERGYASST\n",
    "ctab = pd.crosstab(df.CDD_category, df.ENERGYASST)\n",
    "res = stat()\n",
    "res.chisq(df=ctab)\n",
    "print(res.summary)"
   ]
  },
  {
   "cell_type": "code",
   "execution_count": 24,
   "metadata": {},
   "outputs": [
    {
     "name": "stdout",
     "output_type": "stream",
     "text": [
      "\n",
      "Chi-squared test for independence\n",
      "\n",
      "Test              Df    Chi-square    P-value\n",
      "--------------  ----  ------------  ---------\n",
      "Pearson           13       24.5275  0.0266103\n",
      "Log-likelihood    13       21.7218  0.0598244\n",
      "\n"
     ]
    }
   ],
   "source": [
    "# CDD65 vs SOLOTHER\n",
    "ctab = pd.crosstab(df.CDD_category, df.SOLOTHER)\n",
    "res = stat()\n",
    "res.chisq(df=ctab)\n",
    "print(res.summary)"
   ]
  },
  {
   "cell_type": "code",
   "execution_count": null,
   "metadata": {},
   "outputs": [],
   "source": []
  }
 ],
 "metadata": {
  "kernelspec": {
   "display_name": "base",
   "language": "python",
   "name": "python3"
  },
  "language_info": {
   "codemirror_mode": {
    "name": "ipython",
    "version": 3
   },
   "file_extension": ".py",
   "mimetype": "text/x-python",
   "name": "python",
   "nbconvert_exporter": "python",
   "pygments_lexer": "ipython3",
   "version": "3.9.13"
  },
  "orig_nbformat": 4,
  "vscode": {
   "interpreter": {
    "hash": "4c318ab03dd33e1702ad128ef9aab324e20b426a685b3992f03cb49d68fa6186"
   }
  }
 },
 "nbformat": 4,
 "nbformat_minor": 2
}
