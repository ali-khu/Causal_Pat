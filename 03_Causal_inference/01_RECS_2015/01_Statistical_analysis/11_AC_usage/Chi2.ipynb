{
 "cells": [
  {
   "cell_type": "code",
   "execution_count": 1,
   "metadata": {},
   "outputs": [
    {
     "data": {
      "text/plain": [
       "Index(['CDD65', 'DBT', 'IECC_CLIMATE', 'WSF', 'HHAGE', 'MONEYPY', 'NHSLDMEM',\n",
       "       'COOLTYPE', 'AGECENAC', 'WWACAGE', 'NUMBERAC', 'TYPEHUQ', 'ATTIC',\n",
       "       'ATTICFIN', 'PRKGPLC1', 'STUDIO', 'WALLTYPE', 'ROOFTYPE', 'WINDOWS',\n",
       "       'YEARMADERANGE', 'TOTROOMS', 'TOTAREA', 'TOTCAREA', 'CELLAR', 'STORIES',\n",
       "       'OA_LAT', 'ADQINSUL', 'ATTCCOOL', 'BASECOOL', 'TEMPHOMEAC',\n",
       "       'TEMPGONEAC', 'TEMPNITEAC', 'USECENAC', 'USEWWAC', 'SOLAR', 'THERMAIN',\n",
       "       'PROTHERM', 'AUDIT', 'AUDITCHG', 'ESWIN', 'SMARTTHERM', 'ELPAY',\n",
       "       'SMARTMETER', 'INTDATA', 'ENERGYASST', 'SOLOTHER', 'KWHCOL', 'EUI',\n",
       "       'TEMPNITEAC-TEMPHOMEAC', 'TEMPNITEAC-TEMPGONEAC', 'Home_vs_Night',\n",
       "       'Gone_vs_Night', 'CDD_category', 'Income_category', 'NHSLDMEM_category',\n",
       "       'AGECENAC_category', 'WWACAGE_category'],\n",
       "      dtype='object')"
      ]
     },
     "execution_count": 1,
     "metadata": {},
     "output_type": "execute_result"
    }
   ],
   "source": [
    "import pandas as pd\n",
    "from bioinfokit.analys import stat\n",
    "df = pd.read_excel('data.xlsx')\n",
    "import numpy as np\n",
    "\n",
    "df.columns"
   ]
  },
  {
   "cell_type": "code",
   "execution_count": 2,
   "metadata": {},
   "outputs": [
    {
     "name": "stdout",
     "output_type": "stream",
     "text": [
      "\n",
      "Chi-squared test for independence\n",
      "\n",
      "Test              Df    Chi-square    P-value\n",
      "--------------  ----  ------------  ---------\n",
      "Pearson           21       4805.12          0\n",
      "Log-likelihood    21       4094.49          0\n",
      "\n"
     ]
    }
   ],
   "source": [
    "# TYPEHUQ vs ROOFTYPE\n",
    "ctab = pd.crosstab(df.TYPEHUQ, df.ROOFTYPE)\n",
    "res = stat()\n",
    "res.chisq(df=ctab)\n",
    "print(res.summary)"
   ]
  },
  {
   "cell_type": "code",
   "execution_count": 3,
   "metadata": {},
   "outputs": [
    {
     "name": "stdout",
     "output_type": "stream",
     "text": [
      "\n",
      "Chi-squared test for independence\n",
      "\n",
      "Test              Df    Chi-square      P-value\n",
      "--------------  ----  ------------  -----------\n",
      "Pearson           21       281.678  1.67149e-47\n",
      "Log-likelihood    21       269.769  4.28733e-45\n",
      "\n"
     ]
    }
   ],
   "source": [
    "# TYPEHUQ vs WALLTYPE\n",
    "ctab = pd.crosstab(df.TYPEHUQ, df.WALLTYPE)\n",
    "res = stat()\n",
    "res.chisq(df=ctab)\n",
    "print(res.summary)"
   ]
  },
  {
   "cell_type": "code",
   "execution_count": 4,
   "metadata": {},
   "outputs": [
    {
     "name": "stdout",
     "output_type": "stream",
     "text": [
      "\n",
      "Chi-squared test for independence\n",
      "\n",
      "Test              Df    Chi-square    P-value\n",
      "--------------  ----  ------------  ---------\n",
      "Pearson           18       2628.65          0\n",
      "Log-likelihood    18       2509.04          0\n",
      "\n"
     ]
    }
   ],
   "source": [
    "# TYPEHUQ vs WINDOWS\n",
    "ctab = pd.crosstab(df.TYPEHUQ, df.WINDOWS)\n",
    "res = stat()\n",
    "res.chisq(df=ctab)\n",
    "print(res.summary)"
   ]
  },
  {
   "cell_type": "code",
   "execution_count": 5,
   "metadata": {},
   "outputs": [
    {
     "name": "stdout",
     "output_type": "stream",
     "text": [
      "\n",
      "Chi-squared test for independence\n",
      "\n",
      "Test              Df    Chi-square      P-value\n",
      "--------------  ----  ------------  -----------\n",
      "Pearson           21       147.932  4.33633e-21\n",
      "Log-likelihood    21       147.907  4.385e-21\n",
      "\n"
     ]
    }
   ],
   "source": [
    "# TYPEHUQ vs YEARMADERANGE\n",
    "ctab = pd.crosstab(df.TYPEHUQ, df.YEARMADERANGE)\n",
    "res = stat()\n",
    "res.chisq(df=ctab)\n",
    "print(res.summary)"
   ]
  },
  {
   "cell_type": "code",
   "execution_count": 6,
   "metadata": {},
   "outputs": [
    {
     "name": "stdout",
     "output_type": "stream",
     "text": [
      "\n",
      "Chi-squared test for independence\n",
      "\n",
      "Test              Df    Chi-square    P-value\n",
      "--------------  ----  ------------  ---------\n",
      "Pearson           27       2275.46          0\n",
      "Log-likelihood    27       2239.1           0\n",
      "\n"
     ]
    }
   ],
   "source": [
    "# TYPEHUQ vs TOTROOMS\n",
    "\n",
    "data_for_causal = df.copy()\n",
    "conditions = [(data_for_causal['TOTROOMS']>=1) & (data_for_causal['TOTROOMS']<=2), \n",
    "                (data_for_causal['TOTROOMS']>=3) & (data_for_causal['TOTROOMS']<=4),\n",
    "                (data_for_causal['TOTROOMS']>=5) & (data_for_causal['TOTROOMS']<=6),\n",
    "                (data_for_causal['TOTROOMS']>=7) & (data_for_causal['TOTROOMS']<=8),\n",
    "                (data_for_causal['TOTROOMS']>=9) & (data_for_causal['TOTROOMS']<=10),\n",
    "                (data_for_causal['TOTROOMS']>=11) & (data_for_causal['TOTROOMS']<=12),\n",
    "                (data_for_causal['TOTROOMS']>=13) & (data_for_causal['TOTROOMS']<=14),\n",
    "                (data_for_causal['TOTROOMS']>=15) & (data_for_causal['TOTROOMS']<=16),\n",
    "                (data_for_causal['TOTROOMS']>=17) & (data_for_causal['TOTROOMS']<=18),\n",
    "                (data_for_causal['TOTROOMS']>=19) & (data_for_causal['TOTROOMS']<=20),]\n",
    "\n",
    "choices = [0, 1 , 2 , 3, 4, 5, 6 ,7, 8, 9]\n",
    "\n",
    "data_for_causal['TOTROOMS_cat'] = np.select(conditions, choices, default=0)\n",
    "data_for_causal = data_for_causal.rename(columns={'TOTROOMS': 'TOTROOMS_old', 'TOTROOMS_cat': 'TOTROOMS'})\n",
    "data_for_causal.drop(labels=['TOTROOMS_old'], axis=1, inplace=True)\n",
    "\n",
    "\n",
    "\n",
    "\n",
    "ctab = pd.crosstab(data_for_causal.TYPEHUQ, data_for_causal.TOTROOMS)\n",
    "res = stat()\n",
    "res.chisq(df=ctab)\n",
    "print(res.summary)"
   ]
  },
  {
   "cell_type": "code",
   "execution_count": 7,
   "metadata": {},
   "outputs": [
    {
     "name": "stdout",
     "output_type": "stream",
     "text": [
      "\n",
      "Chi-squared test for independence\n",
      "\n",
      "Test              Df    Chi-square      P-value\n",
      "--------------  ----  ------------  -----------\n",
      "Pearson            9       83.3918  3.41558e-14\n",
      "Log-likelihood     9       72.461   5.00266e-12\n",
      "\n"
     ]
    }
   ],
   "source": [
    "# TYPEHUQ vs ADQINSUL\n",
    "ctab = pd.crosstab(df.TYPEHUQ, df.ADQINSUL)\n",
    "res = stat()\n",
    "res.chisq(df=ctab)\n",
    "print(res.summary)"
   ]
  },
  {
   "cell_type": "code",
   "execution_count": 8,
   "metadata": {},
   "outputs": [
    {
     "name": "stdout",
     "output_type": "stream",
     "text": [
      "\n",
      "Chi-squared test for independence\n",
      "\n",
      "Test              Df    Chi-square      P-value\n",
      "--------------  ----  ------------  -----------\n",
      "Pearson            9       236.49   7.06137e-46\n",
      "Log-likelihood     9       203.267  6.8433e-39\n",
      "\n"
     ]
    }
   ],
   "source": [
    "# TYPEHUQ vs AUDIT\n",
    "ctab = pd.crosstab(df.TYPEHUQ, df.AUDIT)\n",
    "res = stat()\n",
    "res.chisq(df=ctab)\n",
    "print(res.summary)"
   ]
  },
  {
   "cell_type": "code",
   "execution_count": 9,
   "metadata": {},
   "outputs": [
    {
     "name": "stdout",
     "output_type": "stream",
     "text": [
      "\n",
      "Chi-squared test for independence\n",
      "\n",
      "Test              Df    Chi-square      P-value\n",
      "--------------  ----  ------------  -----------\n",
      "Pearson            9       264.12   1.0366e-51\n",
      "Log-likelihood     9       272.212  2.01451e-53\n",
      "\n"
     ]
    }
   ],
   "source": [
    "# TYPEHUQ vs ESWIN\n",
    "ctab = pd.crosstab(df.TYPEHUQ, df.ESWIN)\n",
    "res = stat()\n",
    "res.chisq(df=ctab)\n",
    "print(res.summary)"
   ]
  },
  {
   "cell_type": "code",
   "execution_count": 10,
   "metadata": {},
   "outputs": [
    {
     "name": "stdout",
     "output_type": "stream",
     "text": [
      "\n",
      "Chi-squared test for independence\n",
      "\n",
      "Test              Df    Chi-square       P-value\n",
      "--------------  ----  ------------  ------------\n",
      "Pearson            9       595.651  1.79582e-122\n",
      "Log-likelihood     9       461.851  8.38173e-94\n",
      "\n"
     ]
    }
   ],
   "source": [
    "# TYPEHUQ vs ELPAY\n",
    "ctab = pd.crosstab(df.TYPEHUQ, df.ELPAY)\n",
    "res = stat()\n",
    "res.chisq(df=ctab)\n",
    "print(res.summary)"
   ]
  },
  {
   "cell_type": "code",
   "execution_count": 11,
   "metadata": {},
   "outputs": [
    {
     "name": "stdout",
     "output_type": "stream",
     "text": [
      "\n",
      "Chi-squared test for independence\n",
      "\n",
      "Test              Df    Chi-square      P-value\n",
      "--------------  ----  ------------  -----------\n",
      "Pearson            9        111.46  7.41277e-20\n",
      "Log-likelihood     9        119.16  1.98512e-21\n",
      "\n"
     ]
    }
   ],
   "source": [
    "# TYPEHUQ vs SMARTMETER\n",
    "ctab = pd.crosstab(df.TYPEHUQ, df.SMARTMETER)\n",
    "res = stat()\n",
    "res.chisq(df=ctab)\n",
    "print(res.summary)"
   ]
  },
  {
   "cell_type": "code",
   "execution_count": 12,
   "metadata": {},
   "outputs": [
    {
     "name": "stdout",
     "output_type": "stream",
     "text": [
      "\n",
      "Chi-squared test for independence\n",
      "\n",
      "Test              Df    Chi-square      P-value\n",
      "--------------  ----  ------------  -----------\n",
      "Pearson           12       60.7835  1.62412e-08\n",
      "Log-likelihood    12       66.8118  1.25854e-09\n",
      "\n"
     ]
    }
   ],
   "source": [
    "# TYPEHUQ vs INTDATA\n",
    "ctab = pd.crosstab(df.TYPEHUQ, df.INTDATA)\n",
    "res = stat()\n",
    "res.chisq(df=ctab)\n",
    "print(res.summary)"
   ]
  },
  {
   "cell_type": "code",
   "execution_count": 13,
   "metadata": {},
   "outputs": [
    {
     "name": "stdout",
     "output_type": "stream",
     "text": [
      "\n",
      "Chi-squared test for independence\n",
      "\n",
      "Test              Df    Chi-square      P-value\n",
      "--------------  ----  ------------  -----------\n",
      "Pearson            3       33.6975  2.295e-07\n",
      "Log-likelihood     3       30.0431  1.35155e-06\n",
      "\n"
     ]
    }
   ],
   "source": [
    "# TYPEHUQ vs ENERGYASST\n",
    "ctab = pd.crosstab(df.TYPEHUQ, df.ENERGYASST)\n",
    "res = stat()\n",
    "res.chisq(df=ctab)\n",
    "print(res.summary)"
   ]
  },
  {
   "cell_type": "code",
   "execution_count": 14,
   "metadata": {},
   "outputs": [
    {
     "name": "stdout",
     "output_type": "stream",
     "text": [
      "\n",
      "Chi-squared test for independence\n",
      "\n",
      "Test              Df    Chi-square     P-value\n",
      "--------------  ----  ------------  ----------\n",
      "Pearson            3       8.39772  0.0384689\n",
      "Log-likelihood     3      14.0084   0.00289374\n",
      "\n"
     ]
    }
   ],
   "source": [
    "# TYPEHUQ vs SOLOTHER\n",
    "ctab = pd.crosstab(df.TYPEHUQ, df.SOLOTHER)\n",
    "res = stat()\n",
    "res.chisq(df=ctab)\n",
    "print(res.summary)"
   ]
  },
  {
   "cell_type": "code",
   "execution_count": null,
   "metadata": {},
   "outputs": [],
   "source": []
  },
  {
   "cell_type": "code",
   "execution_count": null,
   "metadata": {},
   "outputs": [],
   "source": []
  }
 ],
 "metadata": {
  "kernelspec": {
   "display_name": "thesis",
   "language": "python",
   "name": "python3"
  },
  "language_info": {
   "codemirror_mode": {
    "name": "ipython",
    "version": 3
   },
   "file_extension": ".py",
   "mimetype": "text/x-python",
   "name": "python",
   "nbconvert_exporter": "python",
   "pygments_lexer": "ipython3",
   "version": "3.10.6"
  },
  "orig_nbformat": 4,
  "vscode": {
   "interpreter": {
    "hash": "98c1c43490eba6286d7b33394c160ddc91e627c1db7e92063dec856a85670976"
   }
  }
 },
 "nbformat": 4,
 "nbformat_minor": 2
}
