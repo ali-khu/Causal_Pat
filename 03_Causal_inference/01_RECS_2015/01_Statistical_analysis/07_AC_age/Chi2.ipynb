{
 "cells": [
  {
   "cell_type": "code",
   "execution_count": 1,
   "metadata": {},
   "outputs": [
    {
     "data": {
      "text/plain": [
       "Index(['CDD65', 'DBT', 'IECC_CLIMATE', 'WSF', 'HHAGE', 'MONEYPY', 'NHSLDMEM',\n",
       "       'COOLTYPE', 'AGECENAC', 'WWACAGE', 'NUMBERAC', 'TYPEHUQ', 'ATTIC',\n",
       "       'ATTICFIN', 'PRKGPLC1', 'STUDIO', 'WALLTYPE', 'ROOFTYPE', 'WINDOWS',\n",
       "       'YEARMADERANGE', 'TOTROOMS', 'TOTAREA', 'TOTCAREA', 'CELLAR', 'STORIES',\n",
       "       'OA_LAT', 'ADQINSUL', 'ATTCCOOL', 'BASECOOL', 'TEMPHOMEAC',\n",
       "       'TEMPGONEAC', 'TEMPNITEAC', 'USECENAC', 'USEWWAC', 'SOLAR', 'THERMAIN',\n",
       "       'PROTHERM', 'AUDIT', 'AUDITCHG', 'ESWIN', 'SMARTTHERM', 'ELPAY',\n",
       "       'SMARTMETER', 'INTDATA', 'ENERGYASST', 'SOLOTHER', 'KWHCOL', 'EUI',\n",
       "       'TEMPNITEAC-TEMPHOMEAC', 'TEMPNITEAC-TEMPGONEAC', 'Home_vs_Night',\n",
       "       'Gone_vs_Night', 'CDD_category', 'Income_category', 'NHSLDMEM_category',\n",
       "       'AGECENAC_category', 'WWACAGE_category'],\n",
       "      dtype='object')"
      ]
     },
     "execution_count": 1,
     "metadata": {},
     "output_type": "execute_result"
    }
   ],
   "source": [
    "import pandas as pd\n",
    "from bioinfokit.analys import stat\n",
    "df = pd.read_excel('data.xlsx')\n",
    "import numpy as np\n",
    "df = df.loc[(df['AGECENAC_category'] != -2)]\n",
    "df.columns"
   ]
  },
  {
   "cell_type": "code",
   "execution_count": 2,
   "metadata": {},
   "outputs": [
    {
     "name": "stdout",
     "output_type": "stream",
     "text": [
      "\n",
      "Chi-squared test for independence\n",
      "\n",
      "Test              Df    Chi-square    P-value\n",
      "--------------  ----  ------------  ---------\n",
      "Pearson            2       8.8002   0.0122761\n",
      "Log-likelihood     2       7.99083  0.0183998\n",
      "\n"
     ]
    }
   ],
   "source": [
    "# AGECENAC_category vs THERMAIN\n",
    "ctab = pd.crosstab(df.AGECENAC_category, df.THERMAIN)\n",
    "res = stat()\n",
    "res.chisq(df=ctab)\n",
    "print(res.summary)"
   ]
  },
  {
   "cell_type": "code",
   "execution_count": 3,
   "metadata": {},
   "outputs": [
    {
     "name": "stdout",
     "output_type": "stream",
     "text": [
      "\n",
      "Chi-squared test for independence\n",
      "\n",
      "Test              Df    Chi-square    P-value\n",
      "--------------  ----  ------------  ---------\n",
      "Pearson            2       1.03478   0.596075\n",
      "Log-likelihood     2       1.03763   0.595225\n",
      "\n"
     ]
    }
   ],
   "source": [
    "# AGECENAC_category vs Home_vs_Night\n",
    "ctab = pd.crosstab(df.AGECENAC_category, df.Home_vs_Night)\n",
    "res = stat()\n",
    "res.chisq(df=ctab)\n",
    "print(res.summary)"
   ]
  },
  {
   "cell_type": "code",
   "execution_count": 4,
   "metadata": {},
   "outputs": [
    {
     "name": "stdout",
     "output_type": "stream",
     "text": [
      "\n",
      "Chi-squared test for independence\n",
      "\n",
      "Test              Df    Chi-square    P-value\n",
      "--------------  ----  ------------  ---------\n",
      "Pearson            2      0.489577   0.78287\n",
      "Log-likelihood     2      0.500169   0.778735\n",
      "\n"
     ]
    }
   ],
   "source": [
    "# AGECENAC_category vs Gone_vs_Night\n",
    "ctab = pd.crosstab(df.AGECENAC_category, df.Gone_vs_Night)\n",
    "res = stat()\n",
    "res.chisq(df=ctab)\n",
    "print(res.summary)"
   ]
  },
  {
   "cell_type": "code",
   "execution_count": 5,
   "metadata": {},
   "outputs": [
    {
     "name": "stdout",
     "output_type": "stream",
     "text": [
      "\n",
      "Chi-squared test for independence\n",
      "\n",
      "Test              Df    Chi-square    P-value\n",
      "--------------  ----  ------------  ---------\n",
      "Pearson            4       8.45028  0.0764087\n",
      "Log-likelihood     4       8.52578  0.0741095\n",
      "\n"
     ]
    }
   ],
   "source": [
    "# AGECENAC_category vs USECENAC\n",
    "\n",
    "ac_age = df.loc[(df['USECENAC'] != -2)]\n",
    "ctab = pd.crosstab(ac_age.AGECENAC_category, ac_age.USECENAC)\n",
    "res = stat()\n",
    "res.chisq(df=ctab)\n",
    "print(res.summary)"
   ]
  },
  {
   "cell_type": "code",
   "execution_count": 6,
   "metadata": {},
   "outputs": [
    {
     "name": "stdout",
     "output_type": "stream",
     "text": [
      "\n",
      "Chi-squared test for independence\n",
      "\n",
      "Test              Df    Chi-square    P-value\n",
      "--------------  ----  ------------  ---------\n",
      "Pearson            3      0.928429   0.818562\n",
      "Log-likelihood     3      0.945204   0.814507\n",
      "\n"
     ]
    }
   ],
   "source": [
    "# AGECENAC_category vs TYPEHUQ\n",
    "ctab = pd.crosstab(df.AGECENAC_category, df.TYPEHUQ)\n",
    "res = stat()\n",
    "res.chisq(df=ctab)\n",
    "print(res.summary)"
   ]
  },
  {
   "cell_type": "code",
   "execution_count": 7,
   "metadata": {},
   "outputs": [
    {
     "name": "stdout",
     "output_type": "stream",
     "text": [
      "\n",
      "Chi-squared test for independence\n",
      "\n",
      "Test              Df    Chi-square    P-value\n",
      "--------------  ----  ------------  ---------\n",
      "Pearson            7       5.25422   0.62897\n",
      "Log-likelihood     7       6.1397    0.523535\n",
      "\n"
     ]
    }
   ],
   "source": [
    "# AGECENAC_category vs ROOFTYPE\n",
    "ctab = pd.crosstab(df.AGECENAC_category, df.ROOFTYPE)\n",
    "res = stat()\n",
    "res.chisq(df=ctab)\n",
    "print(res.summary)"
   ]
  },
  {
   "cell_type": "code",
   "execution_count": 8,
   "metadata": {},
   "outputs": [
    {
     "name": "stdout",
     "output_type": "stream",
     "text": [
      "\n",
      "Chi-squared test for independence\n",
      "\n",
      "Test              Df    Chi-square     P-value\n",
      "--------------  ----  ------------  ----------\n",
      "Pearson            7       21.8992  0.00264407\n",
      "Log-likelihood     7       19.5979  0.0065069\n",
      "\n"
     ]
    }
   ],
   "source": [
    "# AGECENAC_category vs WALLTYPE\n",
    "ctab = pd.crosstab(df.AGECENAC_category, df.WALLTYPE)\n",
    "res = stat()\n",
    "res.chisq(df=ctab)\n",
    "print(res.summary)"
   ]
  },
  {
   "cell_type": "code",
   "execution_count": 9,
   "metadata": {},
   "outputs": [
    {
     "name": "stdout",
     "output_type": "stream",
     "text": [
      "\n",
      "Chi-squared test for independence\n",
      "\n",
      "Test              Df    Chi-square    P-value\n",
      "--------------  ----  ------------  ---------\n",
      "Pearson            6       9.33996   0.155342\n",
      "Log-likelihood     6       9.1908    0.163129\n",
      "\n"
     ]
    }
   ],
   "source": [
    "# AGECENAC_category vs WINDOWS\n",
    "ctab = pd.crosstab(df.AGECENAC_category, df.WINDOWS)\n",
    "res = stat()\n",
    "res.chisq(df=ctab)\n",
    "print(res.summary)"
   ]
  },
  {
   "cell_type": "code",
   "execution_count": 10,
   "metadata": {},
   "outputs": [
    {
     "name": "stdout",
     "output_type": "stream",
     "text": [
      "\n",
      "Chi-squared test for independence\n",
      "\n",
      "Test              Df    Chi-square      P-value\n",
      "--------------  ----  ------------  -----------\n",
      "Pearson            7       223.227  1.36257e-44\n",
      "Log-likelihood     7       261.232  1.1244e-52\n",
      "\n"
     ]
    }
   ],
   "source": [
    "# AGECENAC_category vs YEARMADERANGE\n",
    "ctab = pd.crosstab(df.AGECENAC_category, df.YEARMADERANGE)\n",
    "res = stat()\n",
    "res.chisq(df=ctab)\n",
    "print(res.summary)"
   ]
  },
  {
   "cell_type": "code",
   "execution_count": 11,
   "metadata": {},
   "outputs": [
    {
     "name": "stdout",
     "output_type": "stream",
     "text": [
      "\n",
      "Chi-squared test for independence\n",
      "\n",
      "Test              Df    Chi-square    P-value\n",
      "--------------  ----  ------------  ---------\n",
      "Pearson            8       6.16654   0.628583\n",
      "Log-likelihood     8       7.43686   0.490313\n",
      "\n"
     ]
    }
   ],
   "source": [
    "# AGECENAC_category vs TOTROOMS\n",
    "\n",
    "data_for_causal = df.copy()\n",
    "conditions = [(data_for_causal['TOTROOMS']>=1) & (data_for_causal['TOTROOMS']<=2), \n",
    "                (data_for_causal['TOTROOMS']>=3) & (data_for_causal['TOTROOMS']<=4),\n",
    "                (data_for_causal['TOTROOMS']>=5) & (data_for_causal['TOTROOMS']<=6),\n",
    "                (data_for_causal['TOTROOMS']>=7) & (data_for_causal['TOTROOMS']<=8),\n",
    "                (data_for_causal['TOTROOMS']>=9) & (data_for_causal['TOTROOMS']<=10),\n",
    "                (data_for_causal['TOTROOMS']>=11) & (data_for_causal['TOTROOMS']<=12),\n",
    "                (data_for_causal['TOTROOMS']>=13) & (data_for_causal['TOTROOMS']<=14),\n",
    "                (data_for_causal['TOTROOMS']>=15) & (data_for_causal['TOTROOMS']<=16),\n",
    "                (data_for_causal['TOTROOMS']>=17) & (data_for_causal['TOTROOMS']<=18),\n",
    "                (data_for_causal['TOTROOMS']>=19) & (data_for_causal['TOTROOMS']<=20),]\n",
    "\n",
    "choices = [0, 1 , 2 , 3, 4, 5, 6 ,7, 8, 9]\n",
    "\n",
    "data_for_causal['TOTROOMS_cat'] = np.select(conditions, choices, default=0)\n",
    "data_for_causal = data_for_causal.rename(columns={'TOTROOMS': 'TOTROOMS_old', 'TOTROOMS_cat': 'TOTROOMS'})\n",
    "data_for_causal.drop(labels=['TOTROOMS_old'], axis=1, inplace=True)\n",
    "\n",
    "\n",
    "\n",
    "\n",
    "ctab = pd.crosstab(data_for_causal.AGECENAC_category, data_for_causal.TOTROOMS)\n",
    "res = stat()\n",
    "res.chisq(df=ctab)\n",
    "print(res.summary)"
   ]
  },
  {
   "cell_type": "code",
   "execution_count": 12,
   "metadata": {},
   "outputs": [
    {
     "name": "stdout",
     "output_type": "stream",
     "text": [
      "\n",
      "Chi-squared test for independence\n",
      "\n",
      "Test              Df    Chi-square     P-value\n",
      "--------------  ----  ------------  ----------\n",
      "Pearson            3       14.2407  0.00259518\n",
      "Log-likelihood     3       13.7865  0.00321066\n",
      "\n"
     ]
    }
   ],
   "source": [
    "# AGECENAC_category vs ADQINSUL\n",
    "ctab = pd.crosstab(df.AGECENAC_category, df.ADQINSUL)\n",
    "res = stat()\n",
    "res.chisq(df=ctab)\n",
    "print(res.summary)"
   ]
  },
  {
   "cell_type": "code",
   "execution_count": 13,
   "metadata": {},
   "outputs": [
    {
     "name": "stdout",
     "output_type": "stream",
     "text": [
      "\n",
      "Chi-squared test for independence\n",
      "\n",
      "Test              Df    Chi-square     P-value\n",
      "--------------  ----  ------------  ----------\n",
      "Pearson            3       14.4     0.00240833\n",
      "Log-likelihood     3       15.7092  0.00130075\n",
      "\n"
     ]
    }
   ],
   "source": [
    "# AGECENAC_category vs AUDIT\n",
    "ctab = pd.crosstab(df.AGECENAC_category, df.AUDIT)\n",
    "res = stat()\n",
    "res.chisq(df=ctab)\n",
    "print(res.summary)"
   ]
  },
  {
   "cell_type": "code",
   "execution_count": 14,
   "metadata": {},
   "outputs": [
    {
     "name": "stdout",
     "output_type": "stream",
     "text": [
      "\n",
      "Chi-squared test for independence\n",
      "\n",
      "Test              Df    Chi-square      P-value\n",
      "--------------  ----  ------------  -----------\n",
      "Pearson            3       16.5322  0.000881844\n",
      "Log-likelihood     3       16.9859  0.000711482\n",
      "\n"
     ]
    }
   ],
   "source": [
    "# AGECENAC_category vs ESWIN\n",
    "ctab = pd.crosstab(df.AGECENAC_category, df.ESWIN)\n",
    "res = stat()\n",
    "res.chisq(df=ctab)\n",
    "print(res.summary)"
   ]
  },
  {
   "cell_type": "code",
   "execution_count": 15,
   "metadata": {},
   "outputs": [
    {
     "name": "stdout",
     "output_type": "stream",
     "text": [
      "\n",
      "Chi-squared test for independence\n",
      "\n",
      "Test              Df    Chi-square    P-value\n",
      "--------------  ----  ------------  ---------\n",
      "Pearson            3       4.64879   0.199396\n",
      "Log-likelihood     3       4.05355   0.25574\n",
      "\n"
     ]
    }
   ],
   "source": [
    "# AGECENAC_category vs ELPAY\n",
    "ctab = pd.crosstab(df.AGECENAC_category, df.ELPAY)\n",
    "res = stat()\n",
    "res.chisq(df=ctab)\n",
    "print(res.summary)"
   ]
  },
  {
   "cell_type": "code",
   "execution_count": 16,
   "metadata": {},
   "outputs": [
    {
     "name": "stdout",
     "output_type": "stream",
     "text": [
      "\n",
      "Chi-squared test for independence\n",
      "\n",
      "Test              Df    Chi-square    P-value\n",
      "--------------  ----  ------------  ---------\n",
      "Pearson            3       8.72314  0.0332076\n",
      "Log-likelihood     3       9.50821  0.0232441\n",
      "\n"
     ]
    }
   ],
   "source": [
    "# AGECENAC_category vs SMARTMETER\n",
    "ctab = pd.crosstab(df.AGECENAC_category, df.SMARTMETER)\n",
    "res = stat()\n",
    "res.chisq(df=ctab)\n",
    "print(res.summary)"
   ]
  },
  {
   "cell_type": "code",
   "execution_count": 17,
   "metadata": {},
   "outputs": [
    {
     "name": "stdout",
     "output_type": "stream",
     "text": [
      "\n",
      "Chi-squared test for independence\n",
      "\n",
      "Test              Df    Chi-square    P-value\n",
      "--------------  ----  ------------  ---------\n",
      "Pearson            4       8.96646  0.0619434\n",
      "Log-likelihood     4       9.25914  0.0549387\n",
      "\n"
     ]
    }
   ],
   "source": [
    "# AGECENAC_category vs INTDATA\n",
    "ctab = pd.crosstab(df.AGECENAC_category, df.INTDATA)\n",
    "res = stat()\n",
    "res.chisq(df=ctab)\n",
    "print(res.summary)"
   ]
  },
  {
   "cell_type": "code",
   "execution_count": 18,
   "metadata": {},
   "outputs": [
    {
     "name": "stdout",
     "output_type": "stream",
     "text": [
      "\n",
      "Chi-squared test for independence\n",
      "\n",
      "Test              Df    Chi-square    P-value\n",
      "--------------  ----  ------------  ---------\n",
      "Pearson            1      0.920139   0.337438\n",
      "Log-likelihood     1      0.954656   0.328537\n",
      "\n"
     ]
    }
   ],
   "source": [
    "# AGECENAC_category vs ENERGYASST\n",
    "ctab = pd.crosstab(df.AGECENAC_category, df.ENERGYASST)\n",
    "res = stat()\n",
    "res.chisq(df=ctab)\n",
    "print(res.summary)"
   ]
  },
  {
   "cell_type": "code",
   "execution_count": 19,
   "metadata": {},
   "outputs": [
    {
     "name": "stdout",
     "output_type": "stream",
     "text": [
      "\n",
      "Chi-squared test for independence\n",
      "\n",
      "Test              Df    Chi-square    P-value\n",
      "--------------  ----  ------------  ---------\n",
      "Pearson            1             0          1\n",
      "Log-likelihood     1             0          1\n",
      "\n"
     ]
    }
   ],
   "source": [
    "# AGECENAC_category vs SOLOTHER\n",
    "ctab = pd.crosstab(df.AGECENAC_category, df.SOLOTHER)\n",
    "res = stat()\n",
    "res.chisq(df=ctab)\n",
    "print(res.summary)"
   ]
  },
  {
   "cell_type": "code",
   "execution_count": null,
   "metadata": {},
   "outputs": [],
   "source": []
  },
  {
   "cell_type": "code",
   "execution_count": null,
   "metadata": {},
   "outputs": [],
   "source": []
  }
 ],
 "metadata": {
  "kernelspec": {
   "display_name": "thesis",
   "language": "python",
   "name": "python3"
  },
  "language_info": {
   "codemirror_mode": {
    "name": "ipython",
    "version": 3
   },
   "file_extension": ".py",
   "mimetype": "text/x-python",
   "name": "python",
   "nbconvert_exporter": "python",
   "pygments_lexer": "ipython3",
   "version": "3.10.6"
  },
  "orig_nbformat": 4,
  "vscode": {
   "interpreter": {
    "hash": "98c1c43490eba6286d7b33394c160ddc91e627c1db7e92063dec856a85670976"
   }
  }
 },
 "nbformat": 4,
 "nbformat_minor": 2
}
