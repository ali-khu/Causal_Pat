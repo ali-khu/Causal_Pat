{
 "cells": [
  {
   "cell_type": "code",
   "execution_count": 1,
   "metadata": {
    "collapsed": true,
    "pycharm": {
     "name": "#%%\n"
    }
   },
   "outputs": [
    {
     "data": {
      "text/plain": [
       "'DAG/Digraph.gv.pdf'"
      ]
     },
     "execution_count": 1,
     "metadata": {},
     "output_type": "execute_result"
    }
   ],
   "source": [
    "import numpy as np\n",
    "import pandas as pd\n",
    "from dowhy import CausalModel\n",
    "import graphviz\n",
    "import warnings\n",
    "from sklearn.preprocessing import PolynomialFeatures\n",
    "from sklearn.linear_model import LassoCV\n",
    "from sklearn.ensemble import GradientBoostingRegressor\n",
    "# EconML imports\n",
    "import seaborn as sns\n",
    "%matplotlib inline\n",
    "import matplotlib.pyplot as plt\n",
    "\n",
    "warnings.filterwarnings('ignore')\n",
    "\n",
    "\n",
    "\n",
    "G=graphviz.Digraph()\n",
    "G.edge(\"CDD_category\" , \"IECC_CLIMATE\")\n",
    "G.edge(\"CDD_category\" , \"WSF\")\n",
    "G.edge(\"CDD_category\" , \"COOLTYPE\")\n",
    "G.edge(\"CDD_category\" , \"THERMAIN\")\n",
    "G.edge(\"CDD_category\" , \"Gone_vs_Night\")\n",
    "G.edge(\"CDD_category\" , \"USECENAC\")\n",
    "G.edge(\"CDD_category\" , \"ROOFTYPE\")\n",
    "G.edge(\"CDD_category\" , \"WALLTYPE\")\n",
    "G.edge(\"CDD_category\" , \"WINDOWS\")\n",
    "G.edge(\"CDD_category\" , \"OA_LAT\")\n",
    "G.edge(\"CDD_category\" , \"ADQINSUL\")\n",
    "G.edge(\"CDD_category\" , \"ESWIN\")\n",
    "G.edge(\"CDD_category\" , \"SMARTMETER\")\n",
    "G.edge(\"CDD_category\" , \"INTDATA\")\n",
    "G.edge(\"CDD_category\" , \"SOLOTHER\")\n",
    "G.edge(\"CDD_category\" , \"EUI\")\n",
    "\n",
    "\n",
    "G.edge(\"IECC_CLIMATE\" , \"WSF\")\n",
    "G.edge(\"IECC_CLIMATE\" , \"COOLTYPE\")\n",
    "G.edge(\"IECC_CLIMATE\" , \"THERMAIN\")\n",
    "G.edge(\"IECC_CLIMATE\" , \"Home_vs_Night\")\n",
    "G.edge(\"IECC_CLIMATE\" , \"Gone_vs_Night\")\n",
    "G.edge(\"IECC_CLIMATE\" , \"USECENAC\")\n",
    "G.edge(\"IECC_CLIMATE\" , \"ROOFTYPE\")\n",
    "G.edge(\"IECC_CLIMATE\" , \"WALLTYPE\")\n",
    "G.edge(\"IECC_CLIMATE\" , \"WINDOWS\")\n",
    "G.edge(\"IECC_CLIMATE\" , \"OA_LAT\")\n",
    "G.edge(\"IECC_CLIMATE\" , \"ADQINSUL\")\n",
    "G.edge(\"IECC_CLIMATE\" , \"AUDIT\")\n",
    "G.edge(\"IECC_CLIMATE\" , \"ESWIN\")\n",
    "G.edge(\"IECC_CLIMATE\" , \"SMARTMETER\")\n",
    "G.edge(\"IECC_CLIMATE\" , \"INTDATA\")\n",
    "G.edge(\"IECC_CLIMATE\" , \"SOLOTHER\")\n",
    "G.edge(\"IECC_CLIMATE\" , \"EUI\")\n",
    "\n",
    "G.edge(\"WINDOWS\" , \"WSF\")\n",
    "G.edge(\"TOTAREA\" , \"WSF\")\n",
    "G.edge(\"WSF\" , \"OA_LAT\")\n",
    "G.edge(\"ESWIN\" , \"WSF\")\n",
    "G.edge(\"WSF\" , \"EUI\")\n",
    "\n",
    "G.edge(\"NHSLDMEM_category\" , \"Income_category\")\n",
    "G.edge(\"NHSLDMEM_category\" , \"COOLTYPE\")\n",
    "G.edge(\"NHSLDMEM_category\" , \"Home_vs_Night\")\n",
    "G.edge(\"NHSLDMEM_category\" , \"WINDOWS\")\n",
    "G.edge(\"NHSLDMEM_category\" , \"TOTROOMS\")\n",
    "G.edge(\"NHSLDMEM_category\" , \"TOTAREA\")\n",
    "G.edge(\"NHSLDMEM_category\" , \"TOTCAREA\")\n",
    "G.edge(\"NHSLDMEM_category\" , \"ENERGYASST\")\n",
    "G.edge(\"NHSLDMEM_category\" , \"EUI\")\n",
    "\n",
    "G.edge(\"Income_category\" , \"COOLTYPE\")\n",
    "G.edge(\"Income_category\" , \"THERMAIN\")\n",
    "G.edge(\"Income_category\" , \"Home_vs_Night\")\n",
    "G.edge(\"Income_category\" , \"Gone_vs_Night\")\n",
    "G.edge(\"Income_category\" , \"USECENAC\")\n",
    "G.edge(\"Income_category\" , \"TYPEHUQ\")\n",
    "G.edge(\"Income_category\" , \"ROOFTYPE\")\n",
    "G.edge(\"Income_category\" , \"WALLTYPE\")\n",
    "G.edge(\"Income_category\" , \"WINDOWS\")\n",
    "G.edge(\"Income_category\" , \"YEARMADERANGE\")\n",
    "G.edge(\"Income_category\" , \"TOTROOMS\")\n",
    "G.edge(\"Income_category\" , \"TOTAREA\")\n",
    "G.edge(\"Income_category\" , \"TOTCAREA\")\n",
    "G.edge(\"Income_category\" , \"ADQINSUL\")\n",
    "G.edge(\"Income_category\" , \"AUDIT\")\n",
    "G.edge(\"Income_category\" , \"ESWIN\")\n",
    "G.edge(\"Income_category\" , \"ELPAY\")\n",
    "G.edge(\"Income_category\" , \"SMARTMETER\")\n",
    "G.edge(\"Income_category\" , \"ENERGYASST\")\n",
    "G.edge(\"Income_category\" , \"SOLOTHER\")\n",
    "G.edge(\"Income_category\" , \"EUI\")\n",
    "\n",
    "##################\n",
    "G.edge(\"COOLTYPE\" , \"THERMAIN\")\n",
    "G.edge(\"COOLTYPE\" , \"Home_vs_Night\")\n",
    "G.edge(\"COOLTYPE\" , \"Gone_vs_Night\")\n",
    "G.edge(\"TYPEHUQ\" , \"COOLTYPE\")\n",
    "G.edge(\"YEARMADERANGE\" , \"COOLTYPE\")\n",
    "G.edge(\"TOTROOMS\" , \"COOLTYPE\")\n",
    "G.edge(\"TOTAREA\" , \"COOLTYPE\")\n",
    "G.edge(\"TOTCAREA\" , \"COOLTYPE\")\n",
    "G.edge(\"COOLTYPE\" , \"ESWIN\")\n",
    "G.edge(\"COOLTYPE\" , \"SMARTMETER\")\n",
    "G.edge(\"COOLTYPE\" , \"INTDATA\")\n",
    "G.edge(\"COOLTYPE\" , \"ENERGYASST\")\n",
    "G.edge(\"COOLTYPE\" , \"EUI\")\n",
    "#######################\n",
    "G.edge(\"AGECENAC_category\" , \"THERMAIN\")\n",
    "G.edge(\"AGECENAC_category\" , \"YEARMADERANGE\")\n",
    "G.edge(\"AGECENAC_category\" , \"TOTROOMS\")\n",
    "G.edge(\"AGECENAC_category\" , \"ESWIN\")\n",
    "\n",
    "########################\n",
    "G.edge(\"THERMAIN\" , \"Home_vs_Night\")\n",
    "G.edge(\"THERMAIN\" , \"Gone_vs_Night\")\n",
    "G.edge(\"THERMAIN\" , \"USECENAC\")\n",
    "G.edge(\"TYPEHUQ\" , \"THERMAIN\")\n",
    "G.edge(\"YEARMADERANGE\" , \"THERMAIN\")\n",
    "G.edge(\"TOTROOMS\" , \"THERMAIN\")\n",
    "G.edge(\"TOTAREA\" , \"THERMAIN\")\n",
    "G.edge(\"TOTCAREA\" , \"THERMAIN\")\n",
    "G.edge(\"THERMAIN\" , \"AUDIT\")\n",
    "G.edge(\"THERMAIN\" , \"ESWIN\")\n",
    "G.edge(\"THERMAIN\" , \"SMARTMETER\")\n",
    "G.edge(\"THERMAIN\" , \"INTDATA\")\n",
    "G.edge(\"THERMAIN\" , \"EUI\")\n",
    "###########################\n",
    "\n",
    "G.edge(\"USECENAC\" , \"Home_vs_Night\")\n",
    "G.edge(\"TYPEHUQ\" , \"Home_vs_Night\")\n",
    "G.edge(\"WINDOWS\" , \"Home_vs_Night\")\n",
    "G.edge(\"TOTROOMS\" , \"Home_vs_Night\")\n",
    "G.edge(\"TOTCAREA\" , \"Home_vs_Night\")\n",
    "G.edge(\"ESWIN\" , \"Home_vs_Night\")\n",
    "G.edge(\"ELPAY\" , \"Home_vs_Night\")\n",
    "G.edge(\"SMARTMETER\" , \"Home_vs_Night\")\n",
    "G.edge(\"INTDATA\" , \"Home_vs_Night\")\n",
    "G.edge(\"ENERGYASST\" , \"Home_vs_Night\")\n",
    "G.edge(\"SOLOTHER\" , \"Home_vs_Night\")\n",
    "G.edge(\"Home_vs_Night\" , \"EUI\")\n",
    "###########################\n",
    "\n",
    "G.edge(\"USECENAC\" , \"Gone_vs_Night\")\n",
    "G.edge(\"TYPEHUQ\" , \"Gone_vs_Night\")\n",
    "G.edge(\"WINDOWS\" , \"Gone_vs_Night\")\n",
    "G.edge(\"TOTROOMS\" , \"Gone_vs_Night\")\n",
    "G.edge(\"TOTAREA\" , \"Gone_vs_Night\")\n",
    "G.edge(\"TOTCAREA\" , \"Gone_vs_Night\")\n",
    "G.edge(\"OA_LAT\" , \"Gone_vs_Night\")\n",
    "G.edge(\"ESWIN\" , \"Gone_vs_Night\")\n",
    "G.edge(\"INTDATA\" , \"Gone_vs_Night\")\n",
    "G.edge(\"ENERGYASST\" , \"Gone_vs_Night\")\n",
    "G.edge(\"SOLOTHER\" , \"Gone_vs_Night\")\n",
    "G.edge(\"Gone_vs_Night\" , \"EUI\")\n",
    "\n",
    "########################\n",
    "\n",
    "G.edge(\"TYPEHUQ\" , \"USECENAC\")\n",
    "G.edge(\"WINDOWS\" , \"USECENAC\")\n",
    "G.edge(\"YEARMADERANGE\" , \"USECENAC\")\n",
    "G.edge(\"TOTROOMS\" , \"USECENAC\")\n",
    "G.edge(\"TOTAREA\" , \"USECENAC\")\n",
    "G.edge(\"TOTCAREA\" , \"USECENAC\")\n",
    "G.edge(\"OA_LAT\" , \"USECENAC\")\n",
    "G.edge(\"AUDIT\" , \"USECENAC\")\n",
    "G.edge (\"ESWIN\" , \"USECENAC\")\n",
    "G.edge(\"ELPAY\" , \"USECENAC\")\n",
    "G.edge(\"SMARTMETER\" , \"USECENAC\")\n",
    "G.edge(\"INTDATA\" , \"USECENAC\")\n",
    "G.edge(\"ENERGYASST\" , \"USECENAC\")\n",
    "G.edge(\"USECENAC\" , \"EUI\")\n",
    "\n",
    "#######################\n",
    "\n",
    "G.edge(\"TYPEHUQ\" , \"ROOFTYPE\")\n",
    "G.edge(\"TYPEHUQ\" , \"WALLTYPE\")\n",
    "G.edge(\"TYPEHUQ\" , \"TOTROOMS\")\n",
    "G.edge(\"TYPEHUQ\" , \"TOTAREA\")\n",
    "G.edge(\"TYPEHUQ\" , \"TOTCAREA\")\n",
    "G.edge(\"TYPEHUQ\" , \"OA_LAT\")\n",
    "G.edge(\"TYPEHUQ\" , \"ADQINSUL\")\n",
    "G.edge(\"TYPEHUQ\" , \"AUDIT\"),\n",
    "G.edge(\"TYPEHUQ\" , \"ESWIN\")\n",
    "G.edge(\"TYPEHUQ\" , \"ELPAY\")\n",
    "G.edge(\"TYPEHUQ\" , \"SMARTMETER\")\n",
    "G.edge(\"TYPEHUQ\" , \"INTDATA\")\n",
    "G.edge(\"TYPEHUQ\" , \"ENERGYASST\")\n",
    "G.edge(\"TYPEHUQ\" , \"SOLOTHER\")\n",
    "G.edge(\"TYPEHUQ\" , \"EUI\")\n",
    "\n",
    "#######################\n",
    "G.edge(\"YEARMADERANGE\" , \"ROOFTYPE\")\n",
    "G.edge(\"ROOFTYPE\" , \"OA_LAT\")\n",
    "G.edge(\"ROOFTYPE\" , \"ADQINSUL\")\n",
    "G.edge(\"ROOFTYPE\" , \"EUI\")\n",
    "\n",
    "#######################\n",
    "G.edge(\"YEARMADERANGE\" , \"WALLTYPE\")\n",
    "G.edge(\"WALLTYPE\" , \"OA_LAT\")\n",
    "G.edge(\"WALLTYPE\" , \"ADQINSUL\")\n",
    "G.edge(\"WALLTYPE\" , \"EUI\")\n",
    "######################\n",
    "\n",
    "G.edge(\"TOTROOMS\" , \"WINDOWS\")\n",
    "G.edge(\"TOTAREA\" , \"WINDOWS\")\n",
    "G.edge(\"TOTCAREA\" , \"WINDOWS\")\n",
    "G.edge(\"WINDOWS\" , \"ADQINSUL\")\n",
    "G.edge(\"WINDOWS\" , \"ESWIN\")\n",
    "G.edge(\"WINDOWS\" , \"EUI\")\n",
    "\n",
    "#########################\n",
    "\n",
    "G.edge(\"YEARMADERANGE\" , \"OA_LAT\")\n",
    "G.edge(\"YEARMADERANGE\" , \"ADQINSUL\")\n",
    "G.edge(\"YEARMADERANGE\" , \"AUDIT\")\n",
    "G.edge(\"YEARMADERANGE\" , \"ESWIN\")\n",
    "G.edge(\"YEARMADERANGE\" , \"SMARTMETER\")\n",
    "G.edge(\"YEARMADERANGE\" , \"EUI\")\n",
    "\n",
    "############################\n",
    "\n",
    "G.edge(\"TOTAREA\" , \"TOTROOMS\")\n",
    "G.edge(\"TOTROOMS\" , \"TOTCAREA\")\n",
    "G.edge(\"TOTROOMS\" , \"AUDIT\")\n",
    "G.edge(\"TOTROOMS\" , \"ESWIN\")\n",
    "G.edge(\"TOTROOMS\" , \"ENERGYASST\")\n",
    "G.edge(\"TOTROOMS\" , \"SOLOTHER\")\n",
    "G.edge(\"TOTROOMS\" , \"EUI\")\n",
    "\n",
    "#########################\n",
    "\n",
    "G.edge(\"TOTAREA\" , \"TOTCAREA\")\n",
    "G.edge(\"TOTAREA\" , \"AUDIT\")\n",
    "G.edge(\"TOTAREA\" , \"ESWIN\")\n",
    "G.edge(\"TOTAREA\" , \"SMARTMETER\")\n",
    "G.edge(\"TOTAREA\" , \"INTDATA\")\n",
    "G.edge(\"TOTAREA\" , \"ENERGYASST\")\n",
    "G.edge(\"TOTAREA\" , \"EUI\")\n",
    "\n",
    "######################\n",
    "\n",
    "G.edge(\"TOTCAREA\" , \"AUDIT\")\n",
    "G.edge(\"TOTCAREA\" , \"ESWIN\")\n",
    "G.edge(\"TOTCAREA\" , \"SMARTMETER\")\n",
    "G.edge(\"TOTCAREA\" , \"INTDATA\")\n",
    "G.edge(\"TOTCAREA\" , \"ENERGYASST\")\n",
    "G.edge(\"TOTCAREA\" , \"SOLOTHER\")\n",
    "G.edge(\"TOTCAREA\" , \"EUI\")\n",
    "\n",
    "##################\n",
    "\n",
    "G.edge(\"OA_LAT\" , \"EUI\")\n",
    "\n",
    "#######################\n",
    "\n",
    "G.edge(\"ESWIN\" , \"ADQINSUL\")\n",
    "G.edge(\"ADQINSUL\" , \"EUI\")\n",
    "\n",
    "###########################\n",
    "\n",
    "G.edge(\"AUDIT\" , \"ESWIN\")\n",
    "G.edge(\"AUDIT\" , \"SMARTMETER\")\n",
    "G.edge(\"AUDIT\" , \"INTDATA\")\n",
    "G.edge(\"AUDIT\" , \"ENERGYASST\")\n",
    "G.edge(\"AUDIT\" , \"SOLOTHER\")\n",
    "G.edge(\"AUDIT\" , \"EUI\")\n",
    "############################\n",
    "\n",
    "G.edge(\"ESWIN\" , \"SMARTMETER\")\n",
    "G.edge(\"ESWIN\" , \"INTDATA\")\n",
    "G.edge(\"ESWIN\" , \"ENERGYASST\")\n",
    "G.edge(\"ESWIN\" , \"EUI\")\n",
    "\n",
    "####################\n",
    "G.edge(\"ELPAY\" , \"SMARTMETER\")\n",
    "G.edge(\"ELPAY\" , \"INTDATA\")\n",
    "G.edge(\"ELPAY\" , \"SOLOTHER\")\n",
    "G.edge(\"ELPAY\" , \"EUI\")\n",
    "\n",
    "#########################\n",
    "G.edge(\"SMARTMETER\" , \"INTDATA\")\n",
    "G.edge(\"SOLOTHER\" , \"SMARTMETER\")\n",
    "G.edge(\"SMARTMETER\" , \"EUI\")\n",
    "\n",
    "########################\n",
    "\n",
    "G.edge(\"INTDATA\" , \"EUI\")\n",
    "\n",
    "####################\n",
    "\n",
    "G.edge(\"ENERGYASST\" , \"SOLOTHER\")\n",
    "G.edge(\"ENERGYASST\" , \"EUI\")\n",
    "#########################\n",
    "#########################################\n",
    "\n",
    "# print(dot.source)\n",
    "\n",
    "G.format = 'pdf'\n",
    "G.render(directory='DAG', view = False).replace('\\\\', '/')\n",
    "\n"
   ]
  },
  {
   "cell_type": "code",
   "execution_count": 2,
   "metadata": {
    "collapsed": false,
    "pycharm": {
     "name": "#%%\n"
    }
   },
   "outputs": [],
   "source": [
    "data = pd.read_excel(\"data.xlsx\")"
   ]
  },
  {
   "cell_type": "code",
   "execution_count": 3,
   "metadata": {
    "collapsed": false,
    "pycharm": {
     "name": "#%%\n"
    }
   },
   "outputs": [
    {
     "data": {
      "text/plain": [
       "Index(['CDD65', 'DBT', 'IECC_CLIMATE', 'WSF', 'HHAGE', 'MONEYPY', 'NHSLDMEM',\n",
       "       'COOLTYPE', 'AGECENAC', 'WWACAGE', 'NUMBERAC', 'TYPEHUQ', 'ATTIC',\n",
       "       'ATTICFIN', 'PRKGPLC1', 'STUDIO', 'WALLTYPE', 'ROOFTYPE', 'WINDOWS',\n",
       "       'YEARMADERANGE', 'TOTROOMS', 'TOTAREA', 'TOTCAREA', 'CELLAR', 'STORIES',\n",
       "       'OA_LAT', 'ADQINSUL', 'ATTCCOOL', 'BASECOOL', 'TEMPHOMEAC',\n",
       "       'TEMPGONEAC', 'TEMPNITEAC', 'USECENAC', 'USEWWAC', 'SOLAR', 'THERMAIN',\n",
       "       'PROTHERM', 'AUDIT', 'AUDITCHG', 'ESWIN', 'SMARTTHERM', 'ELPAY',\n",
       "       'SMARTMETER', 'INTDATA', 'ENERGYASST', 'SOLOTHER', 'KWHCOL', 'EUI',\n",
       "       'TEMPNITEAC-TEMPHOMEAC', 'TEMPNITEAC-TEMPGONEAC', 'Home_vs_Night',\n",
       "       'Gone_vs_Night', 'CDD_category', 'Income_category', 'NHSLDMEM_category',\n",
       "       'AGECENAC_category', 'WWACAGE_category'],\n",
       "      dtype='object')"
      ]
     },
     "execution_count": 3,
     "metadata": {},
     "output_type": "execute_result"
    }
   ],
   "source": [
    "data.columns"
   ]
  },
  {
   "cell_type": "code",
   "execution_count": 4,
   "metadata": {
    "pycharm": {
     "name": "#%%\n"
    }
   },
   "outputs": [],
   "source": [
    "data_for_causal = data[['CDD_category','IECC_CLIMATE','WSF','NHSLDMEM_category','Income_category','COOLTYPE','AGECENAC_category','THERMAIN','Home_vs_Night','Gone_vs_Night','USECENAC','TYPEHUQ','ROOFTYPE',\n",
    "                        'WALLTYPE','WINDOWS','YEARMADERANGE','TOTROOMS','TOTAREA','TOTCAREA','OA_LAT','ADQINSUL','AUDIT','ESWIN','ELPAY','SMARTMETER','INTDATA','ENERGYASST','SOLOTHER','EUI']]"
   ]
  },
  {
   "cell_type": "code",
   "execution_count": 5,
   "metadata": {
    "collapsed": false,
    "pycharm": {
     "name": "#%%\n"
    }
   },
   "outputs": [
    {
     "data": {
      "text/plain": [
       "ENERGYASST\n",
       "No     4457\n",
       "Yes     244\n",
       "Name: EUI, dtype: int64"
      ]
     },
     "execution_count": 5,
     "metadata": {},
     "output_type": "execute_result"
    }
   ],
   "source": [
    "energy_assist = data_for_causal.copy()\n",
    "energy_assist[\"ENERGYASST\"] = energy_assist['ENERGYASST'].replace([0,1], [\"No\", \"Yes\"])\n",
    "# data_access = data_access.loc[(data_access['ENERGYASST'] >= 0)]\n",
    "energy_assist.groupby(['ENERGYASST'])['EUI'].count()"
   ]
  },
  {
   "cell_type": "code",
   "execution_count": 6,
   "metadata": {
    "pycharm": {
     "name": "#%%\n"
    }
   },
   "outputs": [
    {
     "data": {
      "image/png": "[encoded data removed]",
      "text/plain": [
       "<Figure size 800x800 with 1 Axes>"
      ]
     },
     "metadata": {},
     "output_type": "display_data"
    }
   ],
   "source": [
    "# PROPS = {\n",
    "#     'boxprops':{'facecolor':'none', 'edgecolor':'black'},\n",
    "#     'medianprops':{'color':'black'},\n",
    "#     'whiskerprops':{'color':'black'},\n",
    "#     'capprops':{'color':'black'}\n",
    "# }\n",
    "\n",
    "plt.figure(figsize=(8,8))\n",
    "custom_params = {\"axes.spines.right\": False, \"axes.spines.top\": False}\n",
    "sns.set_theme(style=\"ticks\", rc=custom_params, font_scale=1.5)\n",
    "plt.rcParams[\"axes.edgecolor\"] = \"black\"\n",
    "# draw = sns.violinplot(x = temp['IECC_CLIMATE'], y = temp['EUI'], hue=temp['TEMP_CHANGE'])\n",
    "draw = sns.boxplot(x = energy_assist['ENERGYASST'], y = energy_assist['EUI'], width=0.4, order=[\"Yes\", \"No\"])\n",
    "draw.set_xlabel(\"Energy assistance program\",fontsize=24)\n",
    "draw.set_ylabel(\"Energy use intensity (kWh/$\\mathregular{m^2}$)\",fontsize=24)\n",
    "# draw.set(ylim=(0, 25000))\n",
    "figure = draw.get_figure()\n",
    "figure.savefig('energy_assist.png', bbox_inches='tight', dpi=300)"
   ]
  },
  {
   "cell_type": "code",
   "execution_count": 7,
   "metadata": {
    "collapsed": false,
    "pycharm": {
     "name": "#%%\n"
    }
   },
   "outputs": [
    {
     "name": "stdout",
     "output_type": "stream",
     "text": [
      "Estimand type: nonparametric-ate\n",
      "\n",
      "### Estimand : 1\n",
      "Estimand name: backdoor\n",
      "Estimand expression:\n",
      "      d                                                                       \n",
      "─────────────(E[EUI|ELPAY,IECC_CLIMATE,COOLTYPE,TOTAREA,TOTCAREA,ADQINSUL,WSF,\n",
      "d[ENERGYASST]                                                                 \n",
      "\n",
      "                                                                              \n",
      "YEARMADERANGE,NHSLDMEM_category,AUDIT,AGECENAC_category,TYPEHUQ,CDD_category,E\n",
      "                                                                              \n",
      "\n",
      "                                                                         \n",
      "SWIN,THERMAIN,TOTROOMS,Income_category,OA_LAT,ROOFTYPE,WALLTYPE,WINDOWS])\n",
      "                                                                         \n",
      "Estimand assumption 1, Unconfoundedness: If U→{ENERGYASST} and U→EUI then P(EUI|ENERGYASST,ELPAY,IECC_CLIMATE,COOLTYPE,TOTAREA,TOTCAREA,ADQINSUL,WSF,YEARMADERANGE,NHSLDMEM_category,AUDIT,AGECENAC_category,TYPEHUQ,CDD_category,ESWIN,THERMAIN,TOTROOMS,Income_category,OA_LAT,ROOFTYPE,WALLTYPE,WINDOWS,U) = P(EUI|ENERGYASST,ELPAY,IECC_CLIMATE,COOLTYPE,TOTAREA,TOTCAREA,ADQINSUL,WSF,YEARMADERANGE,NHSLDMEM_category,AUDIT,AGECENAC_category,TYPEHUQ,CDD_category,ESWIN,THERMAIN,TOTROOMS,Income_category,OA_LAT,ROOFTYPE,WALLTYPE,WINDOWS)\n",
      "\n",
      "### Estimand : 2\n",
      "Estimand name: iv\n",
      "No such variable(s) found!\n",
      "\n",
      "### Estimand : 3\n",
      "Estimand name: frontdoor\n",
      "No such variable(s) found!\n",
      "\n"
     ]
    }
   ],
   "source": [
    "# Initializing causal model\n",
    "energy_assist[\"ENERGYASST\"] = energy_assist['ENERGYASST'].replace([\"No\", \"Yes\"], [0, 1])\n",
    "energy_assist = energy_assist.loc[(energy_assist['ENERGYASST'] >= 0) & (energy_assist['AUDIT'] == 1)]\n",
    "model = CausalModel(data=energy_assist,\n",
    "                     graph=G.source.replace(\"\\t\", ' ').replace(\"\\n\", ' '),\n",
    "                     treatment=\"ENERGYASST\",\n",
    "                     outcome=\"EUI\")\n",
    "\n",
    "# Identifying the estimation method\n",
    "identified_estimand= model.identify_effect(proceed_when_unidentifiable=True)\n",
    "print(identified_estimand)"
   ]
  },
  {
   "cell_type": "code",
   "execution_count": 8,
   "metadata": {
    "collapsed": false,
    "pycharm": {
     "name": "#%%\n"
    }
   },
   "outputs": [
    {
     "name": "stdout",
     "output_type": "stream",
     "text": [
      "3.1631333909501704e-16\n"
     ]
    }
   ],
   "source": [
    "random_state = 120\n",
    "dml_estimate = model.estimate_effect(identified_estimand,\n",
    "                                     method_name=\"backdoor.econml.dml.DML\",\n",
    "                                     control_value = 0,\n",
    "                                     treatment_value = 1,\n",
    "                                     target_units = 'ate',\n",
    "                                     confidence_intervals=False,\n",
    "                                method_params={\"init_params\":{'model_y':GradientBoostingRegressor(random_state=random_state, learning_rate=0.0001),\n",
    "                                                              'model_t': GradientBoostingRegressor(random_state=random_state, learning_rate=0.0001),\n",
    "                                                              \"model_final\":LassoCV(fit_intercept=False, random_state=random_state),\n",
    "                                                              'featurizer':PolynomialFeatures(degree=1, include_bias=True),\n",
    "                                                              'random_state':random_state},\n",
    "                                               \"fit_params\":{}})\n",
    "print(dml_estimate.value)"
   ]
  },
  {
   "cell_type": "code",
   "execution_count": 9,
   "metadata": {
    "collapsed": false,
    "pycharm": {
     "name": "#%%\n"
    }
   },
   "outputs": [],
   "source": [
    "# dml_estimate.test_stat_significance()"
   ]
  },
  {
   "cell_type": "code",
   "execution_count": 10,
   "metadata": {
    "collapsed": false,
    "pycharm": {
     "name": "#%%\n"
    }
   },
   "outputs": [
    {
     "name": "stdout",
     "output_type": "stream",
     "text": [
      "Refute: Add a random common cause\n",
      "Estimated effect:3.1631333909501704e-16\n",
      "New effect:3.036084512220793e-16\n",
      "p value:0.35\n",
      "\n",
      "Refute: Add an Unobserved Common Cause\n",
      "Estimated effect:3.1631333909501704e-16\n",
      "New effect:1.5840615023016915e-15\n",
      "\n",
      "Refute: Use a Placebo Treatment\n",
      "Estimated effect:3.1631333909501704e-16\n",
      "New effect:0.0\n",
      "p value:1.0\n",
      "\n",
      "Refute: Use a subset of data\n",
      "Estimated effect:3.1631333909501704e-16\n",
      "New effect:0.3399154806523914\n",
      "p value:0.3694413401817636\n",
      "\n"
     ]
    }
   ],
   "source": [
    "# Random cause\n",
    "res_random=model.refute_estimate(identified_estimand, dml_estimate, method_name=\"random_common_cause\", random_seed=random_state)\n",
    "print(res_random)\n",
    "\n",
    "# Add Unobserved Common Causes\n",
    "res_unobserved=model.refute_estimate(identified_estimand, dml_estimate, method_name=\"add_unobserved_common_cause\",\n",
    "                                     confounders_effect_on_treatment=\"linear\", confounders_effect_on_outcome=\"linear\",\n",
    "                                    effect_strength_on_treatment=0.01, effect_strength_on_outcome=0.02, random_seed=random_state)\n",
    "print(res_unobserved)\n",
    "\n",
    "# Placebo Treatment\n",
    "res_placebo=model.refute_estimate(identified_estimand, dml_estimate,\n",
    "        method_name=\"placebo_treatment_refuter\", random_seed=random_state)\n",
    "print(res_placebo)\n",
    "\n",
    "\n",
    "# Data Subsets Validation\n",
    "res_subset=model.refute_estimate(identified_estimand, dml_estimate,\n",
    "        method_name=\"data_subset_refuter\", subset_fraction=0.8,\n",
    "        num_simulations=10, random_seed=random_state)\n",
    "print(res_subset)\n",
    "\n",
    "# # Boostrap Validation\n",
    "# res_bootstrap=model.refute_estimate(identified_estimand, dml_estimate,\n",
    "#         method_name=\"bootstrap_refuter\", random_seed=random_state)\n",
    "# print(res_bootstrap)"
   ]
  },
  {
   "cell_type": "code",
   "execution_count": null,
   "metadata": {
    "pycharm": {
     "name": "#%%\n"
    }
   },
   "outputs": [],
   "source": []
  }
 ],
 "metadata": {
  "kernelspec": {
   "display_name": "thesis",
   "language": "python",
   "name": "python3"
  },
  "language_info": {
   "codemirror_mode": {
    "name": "ipython",
    "version": 3
   },
   "file_extension": ".py",
   "mimetype": "text/x-python",
   "name": "python",
   "nbconvert_exporter": "python",
   "pygments_lexer": "ipython3",
   "version": "3.10.8"
  },
  "vscode": {
   "interpreter": {
    "hash": "98c1c43490eba6286d7b33394c160ddc91e627c1db7e92063dec856a85670976"
   }
  }
 },
 "nbformat": 4,
 "nbformat_minor": 0
}
