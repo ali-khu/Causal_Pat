{
 "cells": [
  {
   "cell_type": "code",
   "execution_count": 16,
   "metadata": {
    "collapsed": true,
    "pycharm": {
     "name": "#%%\n"
    }
   },
   "outputs": [
    {
     "data": {
      "text/plain": [
       "'DAG/Digraph.gv.pdf'"
      ]
     },
     "execution_count": 16,
     "metadata": {},
     "output_type": "execute_result"
    }
   ],
   "source": [
    "import numpy as np\n",
    "import pandas as pd\n",
    "from dowhy import CausalModel\n",
    "import graphviz\n",
    "import warnings\n",
    "from sklearn.preprocessing import PolynomialFeatures\n",
    "from sklearn.linear_model import LassoCV\n",
    "from sklearn.ensemble import GradientBoostingRegressor\n",
    "# EconML imports\n",
    "import seaborn as sns\n",
    "%matplotlib inline\n",
    "import matplotlib.pyplot as plt\n",
    "\n",
    "warnings.filterwarnings('ignore')\n",
    "\n",
    "\n",
    "\n",
    "G=graphviz.Digraph()\n",
    "G.edge(\"CDD_category\" , \"IECC_CLIMATE\")\n",
    "G.edge(\"CDD_category\" , \"WSF\")\n",
    "G.edge(\"CDD_category\" , \"COOLTYPE\")\n",
    "G.edge(\"CDD_category\" , \"THERMAIN\")\n",
    "G.edge(\"CDD_category\" , \"Gone_vs_Night\")\n",
    "G.edge(\"CDD_category\" , \"USECENAC\")\n",
    "G.edge(\"CDD_category\" , \"ROOFTYPE\")\n",
    "G.edge(\"CDD_category\" , \"WALLTYPE\")\n",
    "G.edge(\"CDD_category\" , \"WINDOWS\")\n",
    "G.edge(\"CDD_category\" , \"OA_LAT\")\n",
    "G.edge(\"CDD_category\" , \"ADQINSUL\")\n",
    "G.edge(\"CDD_category\" , \"ESWIN\")\n",
    "G.edge(\"CDD_category\" , \"SMARTMETER\")\n",
    "G.edge(\"CDD_category\" , \"INTDATA\")\n",
    "G.edge(\"CDD_category\" , \"SOLOTHER\")\n",
    "G.edge(\"CDD_category\" , \"EUI\")\n",
    "\n",
    "\n",
    "G.edge(\"IECC_CLIMATE\" , \"WSF\")\n",
    "G.edge(\"IECC_CLIMATE\" , \"COOLTYPE\")\n",
    "G.edge(\"IECC_CLIMATE\" , \"THERMAIN\")\n",
    "G.edge(\"IECC_CLIMATE\" , \"Home_vs_Night\")\n",
    "G.edge(\"IECC_CLIMATE\" , \"Gone_vs_Night\")\n",
    "G.edge(\"IECC_CLIMATE\" , \"USECENAC\")\n",
    "G.edge(\"IECC_CLIMATE\" , \"ROOFTYPE\")\n",
    "G.edge(\"IECC_CLIMATE\" , \"WALLTYPE\")\n",
    "G.edge(\"IECC_CLIMATE\" , \"WINDOWS\")\n",
    "G.edge(\"IECC_CLIMATE\" , \"OA_LAT\")\n",
    "G.edge(\"IECC_CLIMATE\" , \"ADQINSUL\")\n",
    "G.edge(\"IECC_CLIMATE\" , \"AUDIT\")\n",
    "G.edge(\"IECC_CLIMATE\" , \"ESWIN\")\n",
    "G.edge(\"IECC_CLIMATE\" , \"SMARTMETER\")\n",
    "G.edge(\"IECC_CLIMATE\" , \"INTDATA\")\n",
    "G.edge(\"IECC_CLIMATE\" , \"SOLOTHER\")\n",
    "G.edge(\"IECC_CLIMATE\" , \"EUI\")\n",
    "\n",
    "G.edge(\"WINDOWS\" , \"WSF\")\n",
    "G.edge(\"binned_area\" , \"WSF\")\n",
    "G.edge(\"WSF\" , \"OA_LAT\")\n",
    "G.edge(\"ESWIN\" , \"WSF\")\n",
    "G.edge(\"WSF\" , \"EUI\")\n",
    "\n",
    "G.edge(\"NHSLDMEM_category\" , \"MONEYPY\")\n",
    "G.edge(\"NHSLDMEM_category\" , \"COOLTYPE\")\n",
    "G.edge(\"NHSLDMEM_category\" , \"Home_vs_Night\")\n",
    "G.edge(\"NHSLDMEM_category\" , \"WINDOWS\")\n",
    "G.edge(\"NHSLDMEM_category\" , \"TOTROOMS\")\n",
    "G.edge(\"NHSLDMEM_category\" , \"binned_area\")\n",
    "G.edge(\"NHSLDMEM_category\" , \"TOTCAREA\")\n",
    "G.edge(\"NHSLDMEM_category\" , \"ENERGYASST\")\n",
    "G.edge(\"NHSLDMEM_category\" , \"EUI\")\n",
    "\n",
    "G.edge(\"MONEYPY\" , \"COOLTYPE\")\n",
    "G.edge(\"MONEYPY\" , \"THERMAIN\")\n",
    "G.edge(\"MONEYPY\" , \"Home_vs_Night\")\n",
    "G.edge(\"MONEYPY\" , \"Gone_vs_Night\")\n",
    "G.edge(\"MONEYPY\" , \"USECENAC\")\n",
    "G.edge(\"MONEYPY\" , \"TYPEHUQ\")\n",
    "G.edge(\"MONEYPY\" , \"ROOFTYPE\")\n",
    "G.edge(\"MONEYPY\" , \"WALLTYPE\")\n",
    "G.edge(\"MONEYPY\" , \"WINDOWS\")\n",
    "G.edge(\"MONEYPY\" , \"YEARMADERANGE\")\n",
    "G.edge(\"MONEYPY\" , \"TOTROOMS\")\n",
    "G.edge(\"MONEYPY\" , \"binned_area\")\n",
    "G.edge(\"MONEYPY\" , \"TOTCAREA\")\n",
    "G.edge(\"MONEYPY\" , \"ADQINSUL\")\n",
    "G.edge(\"MONEYPY\" , \"AUDIT\")\n",
    "G.edge(\"MONEYPY\" , \"ESWIN\")\n",
    "G.edge(\"MONEYPY\" , \"ELPAY\")\n",
    "G.edge(\"MONEYPY\" , \"SMARTMETER\")\n",
    "G.edge(\"MONEYPY\" , \"ENERGYASST\")\n",
    "G.edge(\"MONEYPY\" , \"SOLOTHER\")\n",
    "G.edge(\"MONEYPY\" , \"EUI\")\n",
    "\n",
    "##################\n",
    "G.edge(\"COOLTYPE\" , \"THERMAIN\")\n",
    "G.edge(\"COOLTYPE\" , \"Home_vs_Night\")\n",
    "G.edge(\"COOLTYPE\" , \"Gone_vs_Night\")\n",
    "G.edge(\"TYPEHUQ\" , \"COOLTYPE\")\n",
    "G.edge(\"YEARMADERANGE\" , \"COOLTYPE\")\n",
    "G.edge(\"TOTROOMS\" , \"COOLTYPE\")\n",
    "G.edge(\"binned_area\" , \"COOLTYPE\")\n",
    "G.edge(\"binned_carea\" , \"COOLTYPE\")\n",
    "G.edge(\"COOLTYPE\" , \"ESWIN\")\n",
    "G.edge(\"COOLTYPE\" , \"SMARTMETER\")\n",
    "G.edge(\"COOLTYPE\" , \"INTDATA\")\n",
    "G.edge(\"COOLTYPE\" , \"ENERGYASST\")\n",
    "G.edge(\"COOLTYPE\" , \"EUI\")\n",
    "#######################\n",
    "G.edge(\"AGECENAC_category\" , \"THERMAIN\")\n",
    "G.edge(\"AGECENAC_category\" , \"YEARMADERANGE\")\n",
    "G.edge(\"AGECENAC_category\" , \"TOTROOMS\")\n",
    "G.edge(\"AGECENAC_category\" , \"ESWIN\")\n",
    "\n",
    "########################\n",
    "G.edge(\"THERMAIN\" , \"Home_vs_Night\")\n",
    "G.edge(\"THERMAIN\" , \"Gone_vs_Night\")\n",
    "G.edge(\"THERMAIN\" , \"USECENAC\")\n",
    "G.edge(\"TYPEHUQ\" , \"THERMAIN\")\n",
    "G.edge(\"YEARMADERANGE\" , \"THERMAIN\")\n",
    "G.edge(\"TOTROOMS\" , \"THERMAIN\")\n",
    "G.edge(\"binned_area\" , \"THERMAIN\")\n",
    "G.edge(\"binned_carea\" , \"THERMAIN\")\n",
    "G.edge(\"THERMAIN\" , \"AUDIT\")\n",
    "G.edge(\"THERMAIN\" , \"ESWIN\")\n",
    "G.edge(\"THERMAIN\" , \"SMARTMETER\")\n",
    "G.edge(\"THERMAIN\" , \"INTDATA\")\n",
    "G.edge(\"THERMAIN\" , \"EUI\")\n",
    "###########################\n",
    "\n",
    "G.edge(\"USECENAC\" , \"Home_vs_Night\")\n",
    "G.edge(\"TYPEHUQ\" , \"Home_vs_Night\")\n",
    "G.edge(\"WINDOWS\" , \"Home_vs_Night\")\n",
    "G.edge(\"TOTROOMS\" , \"Home_vs_Night\")\n",
    "G.edge(\"binned_carea\" , \"Home_vs_Night\")\n",
    "G.edge(\"ESWIN\" , \"Home_vs_Night\")\n",
    "G.edge(\"ELPAY\" , \"Home_vs_Night\")\n",
    "G.edge(\"SMARTMETER\" , \"Home_vs_Night\")\n",
    "G.edge(\"INTDATA\" , \"Home_vs_Night\")\n",
    "G.edge(\"ENERGYASST\" , \"Home_vs_Night\")\n",
    "G.edge(\"SOLOTHER\" , \"Home_vs_Night\")\n",
    "G.edge(\"Home_vs_Night\" , \"EUI\")\n",
    "###########################\n",
    "\n",
    "G.edge(\"USECENAC\" , \"Gone_vs_Night\")\n",
    "G.edge(\"TYPEHUQ\" , \"Gone_vs_Night\")\n",
    "G.edge(\"WINDOWS\" , \"Gone_vs_Night\")\n",
    "G.edge(\"TOTROOMS\" , \"Gone_vs_Night\")\n",
    "G.edge(\"binned_area\" , \"Gone_vs_Night\")\n",
    "G.edge(\"binned_carea\" , \"Gone_vs_Night\")\n",
    "G.edge(\"OA_LAT\" , \"Gone_vs_Night\")\n",
    "G.edge(\"ESWIN\" , \"Gone_vs_Night\")\n",
    "G.edge(\"INTDATA\" , \"Gone_vs_Night\")\n",
    "G.edge(\"ENERGYASST\" , \"Gone_vs_Night\")\n",
    "G.edge(\"SOLOTHER\" , \"Gone_vs_Night\")\n",
    "G.edge(\"Gone_vs_Night\" , \"EUI\")\n",
    "\n",
    "########################\n",
    "\n",
    "G.edge(\"TYPEHUQ\" , \"USECENAC\")\n",
    "G.edge(\"WINDOWS\" , \"USECENAC\")\n",
    "G.edge(\"YEARMADERANGE\" , \"USECENAC\")\n",
    "G.edge(\"TOTROOMS\" , \"USECENAC\")\n",
    "G.edge(\"binned_area\" , \"USECENAC\")\n",
    "G.edge(\"binned_carea\" , \"USECENAC\")\n",
    "G.edge(\"OA_LAT\" , \"USECENAC\")\n",
    "G.edge(\"AUDIT\" , \"USECENAC\")\n",
    "G.edge (\"ESWIN\" , \"USECENAC\")\n",
    "G.edge(\"ELPAY\" , \"USECENAC\")\n",
    "G.edge(\"SMARTMETER\" , \"USECENAC\")\n",
    "G.edge(\"INTDATA\" , \"USECENAC\")\n",
    "G.edge(\"ENERGYASST\" , \"USECENAC\")\n",
    "G.edge(\"USECENAC\" , \"EUI\")\n",
    "\n",
    "#######################\n",
    "\n",
    "G.edge(\"TYPEHUQ\" , \"ROOFTYPE\")\n",
    "G.edge(\"TYPEHUQ\" , \"WALLTYPE\")\n",
    "G.edge(\"TYPEHUQ\" , \"TOTROOMS\")\n",
    "G.edge(\"TYPEHUQ\" , \"binned_area\")\n",
    "G.edge(\"TYPEHUQ\" , \"binned_carea\")\n",
    "G.edge(\"TYPEHUQ\" , \"OA_LAT\")\n",
    "G.edge(\"TYPEHUQ\" , \"ADQINSUL\")\n",
    "G.edge(\"TYPEHUQ\" , \"AUDIT\"),\n",
    "G.edge(\"TYPEHUQ\" , \"ESWIN\")\n",
    "G.edge(\"TYPEHUQ\" , \"ELPAY\")\n",
    "G.edge(\"TYPEHUQ\" , \"SMARTMETER\")\n",
    "G.edge(\"TYPEHUQ\" , \"INTDATA\")\n",
    "G.edge(\"TYPEHUQ\" , \"ENERGYASST\")\n",
    "G.edge(\"TYPEHUQ\" , \"SOLOTHER\")\n",
    "G.edge(\"TYPEHUQ\" , \"EUI\")\n",
    "\n",
    "#######################\n",
    "G.edge(\"YEARMADERANGE\" , \"ROOFTYPE\")\n",
    "G.edge(\"ROOFTYPE\" , \"OA_LAT\")\n",
    "G.edge(\"ROOFTYPE\" , \"ADQINSUL\")\n",
    "G.edge(\"ROOFTYPE\" , \"EUI\")\n",
    "\n",
    "#######################\n",
    "G.edge(\"YEARMADERANGE\" , \"WALLTYPE\")\n",
    "G.edge(\"WALLTYPE\" , \"OA_LAT\")\n",
    "G.edge(\"WALLTYPE\" , \"ADQINSUL\")\n",
    "G.edge(\"WALLTYPE\" , \"EUI\")\n",
    "######################\n",
    "\n",
    "G.edge(\"TOTROOMS\" , \"WINDOWS\")\n",
    "G.edge(\"binned_area\" , \"WINDOWS\")\n",
    "G.edge(\"binned_carea\" , \"WINDOWS\")\n",
    "G.edge(\"WINDOWS\" , \"ADQINSUL\")\n",
    "G.edge(\"WINDOWS\" , \"ESWIN\")\n",
    "G.edge(\"WINDOWS\" , \"EUI\")\n",
    "\n",
    "#########################\n",
    "\n",
    "G.edge(\"YEARMADERANGE\" , \"OA_LAT\")\n",
    "G.edge(\"YEARMADERANGE\" , \"ADQINSUL\")\n",
    "G.edge(\"YEARMADERANGE\" , \"AUDIT\")\n",
    "G.edge(\"YEARMADERANGE\" , \"ESWIN\")\n",
    "G.edge(\"YEARMADERANGE\" , \"SMARTMETER\")\n",
    "G.edge(\"YEARMADERANGE\" , \"EUI\")\n",
    "\n",
    "############################\n",
    "\n",
    "G.edge(\"binned_area\" , \"TOTROOMS\")\n",
    "G.edge(\"TOTROOMS\" , \"binned_carea\")\n",
    "G.edge(\"TOTROOMS\" , \"AUDIT\")\n",
    "G.edge(\"TOTROOMS\" , \"ESWIN\")\n",
    "G.edge(\"TOTROOMS\" , \"ENERGYASST\")\n",
    "G.edge(\"TOTROOMS\" , \"SOLOTHER\")\n",
    "G.edge(\"TOTROOMS\" , \"EUI\")\n",
    "\n",
    "#########################\n",
    "\n",
    "G.edge(\"binned_area\" , \"binned_carea\")\n",
    "G.edge(\"binned_area\" , \"AUDIT\")\n",
    "G.edge(\"binned_area\" , \"ESWIN\")\n",
    "G.edge(\"binned_area\" , \"SMARTMETER\")\n",
    "G.edge(\"binned_area\" , \"INTDATA\")\n",
    "G.edge(\"binned_area\" , \"ENERGYASST\")\n",
    "G.edge(\"binned_area\" , \"EUI\")\n",
    "\n",
    "######################\n",
    "\n",
    "G.edge(\"binned_carea\" , \"AUDIT\")\n",
    "G.edge(\"binned_carea\" , \"ESWIN\")\n",
    "G.edge(\"binned_carea\" , \"SMARTMETER\")\n",
    "G.edge(\"binned_carea\" , \"INTDATA\")\n",
    "G.edge(\"binned_carea\" , \"ENERGYASST\")\n",
    "G.edge(\"binned_carea\" , \"SOLOTHER\")\n",
    "G.edge(\"binned_carea\" , \"EUI\")\n",
    "\n",
    "##################\n",
    "\n",
    "G.edge(\"OA_LAT\" , \"EUI\")\n",
    "\n",
    "#######################\n",
    "\n",
    "G.edge(\"ESWIN\" , \"ADQINSUL\")\n",
    "G.edge(\"ADQINSUL\" , \"EUI\")\n",
    "\n",
    "###########################\n",
    "\n",
    "G.edge(\"AUDIT\" , \"ESWIN\")\n",
    "G.edge(\"AUDIT\" , \"SMARTMETER\")\n",
    "G.edge(\"AUDIT\" , \"INTDATA\")\n",
    "G.edge(\"AUDIT\" , \"ENERGYASST\")\n",
    "G.edge(\"AUDIT\" , \"SOLOTHER\")\n",
    "G.edge(\"AUDIT\" , \"EUI\")\n",
    "############################\n",
    "\n",
    "G.edge(\"ESWIN\" , \"SMARTMETER\")\n",
    "G.edge(\"ESWIN\" , \"INTDATA\")\n",
    "G.edge(\"ESWIN\" , \"ENERGYASST\")\n",
    "G.edge(\"ESWIN\" , \"EUI\")\n",
    "\n",
    "####################\n",
    "G.edge(\"ELPAY\" , \"SMARTMETER\")\n",
    "G.edge(\"ELPAY\" , \"INTDATA\")\n",
    "G.edge(\"ELPAY\" , \"SOLOTHER\")\n",
    "G.edge(\"ELPAY\" , \"EUI\")\n",
    "\n",
    "#########################\n",
    "G.edge(\"SMARTMETER\" , \"INTDATA\")\n",
    "G.edge(\"SOLOTHER\" , \"SMARTMETER\")\n",
    "G.edge(\"SMARTMETER\" , \"EUI\")\n",
    "\n",
    "########################\n",
    "\n",
    "G.edge(\"INTDATA\" , \"EUI\")\n",
    "\n",
    "####################\n",
    "\n",
    "G.edge(\"ENERGYASST\" , \"SOLOTHER\")\n",
    "G.edge(\"ENERGYASST\" , \"EUI\")\n",
    "#########################\n",
    "#########################################\n",
    "\n",
    "# print(dot.source)\n",
    "\n",
    "G.format = 'pdf'\n",
    "G.render(directory='DAG', view = False).replace('\\\\', '/')\n",
    "\n"
   ]
  },
  {
   "cell_type": "code",
   "execution_count": 2,
   "metadata": {
    "collapsed": false,
    "pycharm": {
     "name": "#%%\n"
    }
   },
   "outputs": [],
   "source": [
    "data = pd.read_excel(\"data.xlsx\")"
   ]
  },
  {
   "cell_type": "code",
   "execution_count": 3,
   "metadata": {
    "collapsed": false,
    "pycharm": {
     "name": "#%%\n"
    }
   },
   "outputs": [
    {
     "data": {
      "text/plain": [
       "Index(['CDD65', 'DBT', 'IECC_CLIMATE', 'WSF', 'HHAGE', 'MONEYPY', 'NHSLDMEM',\n",
       "       'COOLTYPE', 'AGECENAC', 'WWACAGE', 'NUMBERAC', 'TYPEHUQ', 'ATTIC',\n",
       "       'ATTICFIN', 'PRKGPLC1', 'STUDIO', 'WALLTYPE', 'ROOFTYPE', 'WINDOWS',\n",
       "       'YEARMADERANGE', 'TOTROOMS', 'TOTAREA', 'TOTCAREA', 'CELLAR', 'STORIES',\n",
       "       'OA_LAT', 'ADQINSUL', 'ATTCCOOL', 'BASECOOL', 'TEMPHOMEAC',\n",
       "       'TEMPGONEAC', 'TEMPNITEAC', 'USECENAC', 'USEWWAC', 'SOLAR', 'THERMAIN',\n",
       "       'PROTHERM', 'AUDIT', 'AUDITCHG', 'ESWIN', 'SMARTTHERM', 'ELPAY',\n",
       "       'SMARTMETER', 'INTDATA', 'ENERGYASST', 'SOLOTHER', 'KWHCOL', 'EUI',\n",
       "       'TEMPNITEAC-TEMPHOMEAC', 'TEMPNITEAC-TEMPGONEAC', 'Home_vs_Night',\n",
       "       'Gone_vs_Night', 'CDD_category', 'Income_category', 'NHSLDMEM_category',\n",
       "       'AGECENAC_category', 'WWACAGE_category'],\n",
       "      dtype='object')"
      ]
     },
     "execution_count": 3,
     "metadata": {},
     "output_type": "execute_result"
    }
   ],
   "source": [
    "data.columns"
   ]
  },
  {
   "cell_type": "code",
   "execution_count": 21,
   "metadata": {
    "pycharm": {
     "name": "#%%\n"
    }
   },
   "outputs": [],
   "source": [
    "data_for_causal = data[['CDD_category','IECC_CLIMATE','WSF','NHSLDMEM_category','MONEYPY','COOLTYPE','AGECENAC_category','THERMAIN','Home_vs_Night','Gone_vs_Night','USECENAC','TYPEHUQ','ROOFTYPE',\n",
    "                        'WALLTYPE','WINDOWS','YEARMADERANGE','TOTROOMS','TOTAREA','TOTCAREA','OA_LAT','ADQINSUL','AUDIT','ESWIN','ELPAY','SMARTMETER','INTDATA','ENERGYASST','SOLOTHER','EUI']]"
   ]
  },
  {
   "cell_type": "code",
   "execution_count": 22,
   "metadata": {},
   "outputs": [],
   "source": [
    "# bin_labels = [1,2,3,4,5,6,7,8]\n",
    "data_for_causal['binned_area'] = pd.cut(data_for_causal['TOTAREA'], bins=8)\n",
    "data_for_causal['binned_carea'] = pd.cut(data_for_causal['TOTCAREA'], bins=8)\n",
    "\n",
    "data_for_causal = data_for_causal.drop(labels=['TOTAREA','TOTCAREA'], axis=1)\n"
   ]
  },
  {
   "cell_type": "code",
   "execution_count": 23,
   "metadata": {},
   "outputs": [
    {
     "data": {
      "text/plain": [
       "[(97.248, 190.405], (3.345, 97.248], (190.405, 283.562], (283.562, 376.72], (376.72, 469.878], (656.192, 749.35], (469.878, 563.035], (563.035, 656.192]]\n",
       "Categories (8, interval[float64, right]): [(3.345, 97.248] < (97.248, 190.405] < (190.405, 283.562] < (283.562, 376.72] < (376.72, 469.878] < (469.878, 563.035] < (563.035, 656.192] < (656.192, 749.35]]"
      ]
     },
     "execution_count": 23,
     "metadata": {},
     "output_type": "execute_result"
    }
   ],
   "source": [
    "data_for_causal['binned_carea'].unique()"
   ]
  },
  {
   "cell_type": "code",
   "execution_count": 24,
   "metadata": {},
   "outputs": [
    {
     "data": {
      "image/png": "[encoded data removed]",
      "text/latex": [
       "$\\displaystyle \\left( 93.903, \\  93.157\\right)$"
      ],
      "text/plain": [
       "(93.903, 93.157)"
      ]
     },
     "execution_count": 24,
     "metadata": {},
     "output_type": "execute_result"
    }
   ],
   "source": [
    "97.248-3.345, 190.405-97.248"
   ]
  },
  {
   "cell_type": "code",
   "execution_count": 15,
   "metadata": {
    "collapsed": false,
    "pycharm": {
     "name": "#%%\n"
    }
   },
   "outputs": [],
   "source": [
    "tot_floor_area = data_for_causal.copy()"
   ]
  },
  {
   "cell_type": "code",
   "execution_count": 6,
   "metadata": {
    "pycharm": {
     "name": "#%%\n"
    }
   },
   "outputs": [
    {
     "data": {
      "image/png": "[encoded data removed]",
      "text/plain": [
       "<Figure size 800x800 with 1 Axes>"
      ]
     },
     "metadata": {},
     "output_type": "display_data"
    }
   ],
   "source": [
    "from scipy import stats\n",
    "plt.figure(figsize=(8,8))\n",
    "custom_params = {\"axes.spines.right\": False, \"axes.spines.top\": False}\n",
    "sns.set_theme(style=\"ticks\", rc=custom_params, font_scale=1.5)\n",
    "plt.rcParams[\"axes.edgecolor\"] = \"black\"\n",
    "# draw = sns.violinplot(x = temp['IECC_CLIMATE'], y = temp['KWHCOL'], hue=temp['TEMP_CHANGE'])\n",
    "draw = sns.regplot(x = tot_floor_area['TOTAREA'], y = tot_floor_area['EUI'], scatter_kws={\"color\": \"black\"}, line_kws={\"color\": \"red\"}, ci = None)\n",
    "draw.set_xlabel(\"Total floor area ($\\mathregular{m^2}$)\",fontsize=24)\n",
    "draw.set_ylabel(\"Energy use intensity (kWh/$\\mathregular{m^2}$)\",fontsize=24)\n",
    "r = stats.spearmanr(tot_floor_area['TOTAREA'], tot_floor_area['EUI'])[0]\n",
    "plt.annotate(\"r = {:.2f}\".format(r), (600, 350))\n",
    "\n",
    "\n",
    "# draw.set(ylim=(0, 25000))\n",
    "figure = draw.get_figure()\n",
    "figure.savefig('tot_floor_area.png', bbox_inches='tight', dpi=300)"
   ]
  },
  {
   "cell_type": "code",
   "execution_count": 17,
   "metadata": {
    "collapsed": false,
    "pycharm": {
     "name": "#%%\n"
    }
   },
   "outputs": [
    {
     "name": "stdout",
     "output_type": "stream",
     "text": [
      "Estimand type: nonparametric-ate\n",
      "\n",
      "### Estimand : 1\n",
      "Estimand name: backdoor\n",
      "Estimand expression:\n",
      "      d                                                \n",
      "─────────────(E[EUI|TYPEHUQ,NHSLDMEM_category,MONEYPY])\n",
      "d[binnedₐᵣₑₐ]                                          \n",
      "Estimand assumption 1, Unconfoundedness: If U→{binned_area} and U→EUI then P(EUI|binned_area,TYPEHUQ,NHSLDMEM_category,MONEYPY,U) = P(EUI|binned_area,TYPEHUQ,NHSLDMEM_category,MONEYPY)\n",
      "\n",
      "### Estimand : 2\n",
      "Estimand name: iv\n",
      "No such variable(s) found!\n",
      "\n",
      "### Estimand : 3\n",
      "Estimand name: frontdoor\n",
      "No such variable(s) found!\n",
      "\n"
     ]
    }
   ],
   "source": [
    "# Initializing causal model\n",
    "model = CausalModel(data=tot_floor_area,\n",
    "                     graph=G.source.replace(\"\\t\", ' ').replace(\"\\n\", ' '),\n",
    "                     treatment=\"binned_area\",\n",
    "                     outcome=\"EUI\")\n",
    "\n",
    "# Identifying the estimation method\n",
    "identified_estimand= model.identify_effect(proceed_when_unidentifiable=True)\n",
    "print(identified_estimand)"
   ]
  },
  {
   "cell_type": "code",
   "execution_count": 18,
   "metadata": {
    "collapsed": false,
    "pycharm": {
     "name": "#%%\n"
    }
   },
   "outputs": [
    {
     "name": "stdout",
     "output_type": "stream",
     "text": [
      "-3.374412890939023\n"
     ]
    }
   ],
   "source": [
    "random_state = 120\n",
    "dml_estimate = model.estimate_effect(identified_estimand,\n",
    "                                     method_name=\"backdoor.econml.dml.DML\",\n",
    "                                     # control_value = 0,\n",
    "                                     # treatment_value = 1,\n",
    "                                     target_units = 'ate',\n",
    "                                     confidence_intervals=False,\n",
    "                                method_params={\"init_params\":{'model_y':GradientBoostingRegressor(random_state=random_state, learning_rate=0.0001),\n",
    "                                                              'model_t': GradientBoostingRegressor(random_state=random_state, learning_rate=0.0001),\n",
    "                                                              \"model_final\":LassoCV(fit_intercept=False, random_state=random_state),\n",
    "                                                              'featurizer':PolynomialFeatures(degree=1, include_bias=True),\n",
    "                                                              'random_state':random_state},\n",
    "                                               \"fit_params\":{}})\n",
    "print(dml_estimate.value)"
   ]
  },
  {
   "cell_type": "code",
   "execution_count": 9,
   "metadata": {
    "collapsed": false,
    "pycharm": {
     "name": "#%%\n"
    }
   },
   "outputs": [],
   "source": [
    "# dml_estimate.test_stat_significance()"
   ]
  },
  {
   "cell_type": "code",
   "execution_count": 19,
   "metadata": {
    "collapsed": false,
    "pycharm": {
     "name": "#%%\n"
    }
   },
   "outputs": [
    {
     "name": "stdout",
     "output_type": "stream",
     "text": [
      "Refute: Add a random common cause\n",
      "Estimated effect:-3.374412890939023\n",
      "New effect:-3.3744209934819\n",
      "p value:0.82\n",
      "\n",
      "Refute: Add an Unobserved Common Cause\n",
      "Estimated effect:-3.374412890939023\n",
      "New effect:-3.368978440707569\n",
      "\n",
      "Refute: Use a Placebo Treatment\n",
      "Estimated effect:-3.374412890939023\n",
      "New effect:2.1930472312118234e-06\n",
      "p value:0.71\n",
      "\n",
      "Refute: Use a subset of data\n",
      "Estimated effect:-3.374412890939023\n",
      "New effect:-3.3915591932397016\n",
      "p value:0.4559950873177242\n",
      "\n"
     ]
    }
   ],
   "source": [
    "# Random cause\n",
    "res_random=model.refute_estimate(identified_estimand, dml_estimate, method_name=\"random_common_cause\", random_seed=random_state)\n",
    "print(res_random)\n",
    "\n",
    "# Add Unobserved Common Causes\n",
    "res_unobserved=model.refute_estimate(identified_estimand, dml_estimate, method_name=\"add_unobserved_common_cause\",\n",
    "                                     confounders_effect_on_treatment=\"linear\", confounders_effect_on_outcome=\"linear\",\n",
    "                                    effect_strength_on_treatment=0.01, effect_strength_on_outcome=0.02, random_seed=random_state)\n",
    "print(res_unobserved)\n",
    "\n",
    "# Placebo Treatment\n",
    "res_placebo=model.refute_estimate(identified_estimand, dml_estimate,\n",
    "        method_name=\"placebo_treatment_refuter\", random_seed=random_state)\n",
    "print(res_placebo)\n",
    "\n",
    "\n",
    "# Data Subsets Validation\n",
    "res_subset=model.refute_estimate(identified_estimand, dml_estimate,\n",
    "        method_name=\"data_subset_refuter\", subset_fraction=0.8,\n",
    "        num_simulations=10, random_seed=random_state)\n",
    "print(res_subset)\n",
    "\n",
    "# # Boostrap Validation\n",
    "# res_bootstrap=model.refute_estimate(identified_estimand, dml_estimate,\n",
    "#         method_name=\"bootstrap_refuter\", random_seed=random_state)\n",
    "# print(res_bootstrap)"
   ]
  },
  {
   "cell_type": "code",
   "execution_count": 25,
   "metadata": {
    "pycharm": {
     "name": "#%%\n"
    }
   },
   "outputs": [
    {
     "data": {
      "image/png": "[encoded data removed]",
      "text/latex": [
       "$\\displaystyle -4.929$"
      ],
      "text/plain": [
       "-4.929"
      ]
     },
     "execution_count": 25,
     "metadata": {},
     "output_type": "execute_result"
    }
   ],
   "source": [
    "-0.053*93"
   ]
  },
  {
   "cell_type": "code",
   "execution_count": null,
   "metadata": {},
   "outputs": [],
   "source": []
  }
 ],
 "metadata": {
  "kernelspec": {
   "display_name": "thesis",
   "language": "python",
   "name": "python3"
  },
  "language_info": {
   "codemirror_mode": {
    "name": "ipython",
    "version": 3
   },
   "file_extension": ".py",
   "mimetype": "text/x-python",
   "name": "python",
   "nbconvert_exporter": "python",
   "pygments_lexer": "ipython3",
   "version": "3.10.6"
  },
  "vscode": {
   "interpreter": {
    "hash": "98c1c43490eba6286d7b33394c160ddc91e627c1db7e92063dec856a85670976"
   }
  }
 },
 "nbformat": 4,
 "nbformat_minor": 0
}
