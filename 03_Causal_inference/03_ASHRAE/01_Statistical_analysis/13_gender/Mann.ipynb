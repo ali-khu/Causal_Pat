{
 "cells": [
  {
   "cell_type": "code",
   "execution_count": 1,
   "metadata": {},
   "outputs": [],
   "source": [
    "import pandas as pd\n",
    "from scipy.stats import mannwhitneyu\n",
    "import numpy as np\n",
    "\n",
    "df = pd.read_excel('data.xlsx')"
   ]
  },
  {
   "cell_type": "code",
   "execution_count": 2,
   "metadata": {},
   "outputs": [],
   "source": [
    "data = df.copy()\n",
    "data = data.dropna(subset=[\"ta\",\"tr\", \"vel\", \"rh\", \"met\", \"clo\", \"thermal_sensation\", \"gender\"])"
   ]
  },
  {
   "cell_type": "code",
   "execution_count": 3,
   "metadata": {},
   "outputs": [
    {
     "data": {
      "text/plain": [
       "(30147, 26)"
      ]
     },
     "execution_count": 3,
     "metadata": {},
     "output_type": "execute_result"
    }
   ],
   "source": [
    "data.shape"
   ]
  },
  {
   "cell_type": "code",
   "execution_count": 10,
   "metadata": {},
   "outputs": [
    {
     "data": {
      "text/plain": [
       "MannwhitneyuResult(statistic=115377831.0, pvalue=0.01475456838333801)"
      ]
     },
     "execution_count": 10,
     "metadata": {},
     "output_type": "execute_result"
    }
   ],
   "source": [
    "x = data.copy()\n",
    "\n",
    "group1 = x[x['gender'] == x['gender'].unique()[0]]['ta'].values\n",
    "group2 = x[x['gender'] == x['gender'].unique()[1]]['ta'].values\n",
    "\n",
    "mannwhitneyu(group1, group2)"
   ]
  },
  {
   "cell_type": "code",
   "execution_count": 12,
   "metadata": {},
   "outputs": [
    {
     "data": {
      "text/plain": [
       "MannwhitneyuResult(statistic=112222277.5, pvalue=0.08192815824050069)"
      ]
     },
     "execution_count": 12,
     "metadata": {},
     "output_type": "execute_result"
    }
   ],
   "source": [
    "x = data.copy()\n",
    "\n",
    "group1 = x[x['gender'] == x['gender'].unique()[0]]['tr'].values\n",
    "group2 = x[x['gender'] == x['gender'].unique()[1]]['tr'].values\n",
    "mannwhitneyu(group1, group2)"
   ]
  },
  {
   "cell_type": "code",
   "execution_count": 13,
   "metadata": {},
   "outputs": [
    {
     "data": {
      "text/plain": [
       "MannwhitneyuResult(statistic=117004520.0, pvalue=4.359070777526415e-06)"
      ]
     },
     "execution_count": 13,
     "metadata": {},
     "output_type": "execute_result"
    }
   ],
   "source": [
    "x = data.copy()\n",
    "\n",
    "group1 = x[x['gender'] == x['gender'].unique()[0]]['vel'].values\n",
    "group2 = x[x['gender'] == x['gender'].unique()[1]]['vel'].values\n",
    "mannwhitneyu(group1, group2)"
   ]
  },
  {
   "cell_type": "code",
   "execution_count": 14,
   "metadata": {},
   "outputs": [
    {
     "data": {
      "text/plain": [
       "MannwhitneyuResult(statistic=116769190.5, pvalue=1.8654542307858327e-05)"
      ]
     },
     "execution_count": 14,
     "metadata": {},
     "output_type": "execute_result"
    }
   ],
   "source": [
    "x = data.copy()\n",
    "\n",
    "group1 = x[x['gender'] == x['gender'].unique()[0]]['rh'].values\n",
    "group2 = x[x['gender'] == x['gender'].unique()[1]]['rh'].values\n",
    "mannwhitneyu(group1, group2)"
   ]
  },
  {
   "cell_type": "code",
   "execution_count": 15,
   "metadata": {},
   "outputs": [
    {
     "data": {
      "text/plain": [
       "MannwhitneyuResult(statistic=120182743.0, pvalue=5.213328818389597e-19)"
      ]
     },
     "execution_count": 15,
     "metadata": {},
     "output_type": "execute_result"
    }
   ],
   "source": [
    "x = data.copy()\n",
    "\n",
    "group1 = x[x['gender'] == x['gender'].unique()[0]]['met'].values\n",
    "group2 = x[x['gender'] == x['gender'].unique()[1]]['met'].values\n",
    "mannwhitneyu(group1, group2)"
   ]
  },
  {
   "cell_type": "code",
   "execution_count": 16,
   "metadata": {},
   "outputs": [
    {
     "data": {
      "text/plain": [
       "MannwhitneyuResult(statistic=108429381.5, pvalue=1.3621759029841594e-11)"
      ]
     },
     "execution_count": 16,
     "metadata": {},
     "output_type": "execute_result"
    }
   ],
   "source": [
    "x = data.copy()\n",
    "\n",
    "group1 = x[x['gender'] == x['gender'].unique()[0]]['clo'].values\n",
    "group2 = x[x['gender'] == x['gender'].unique()[1]]['clo'].values\n",
    "mannwhitneyu(group1, group2)"
   ]
  },
  {
   "cell_type": "code",
   "execution_count": 17,
   "metadata": {},
   "outputs": [
    {
     "data": {
      "text/plain": [
       "MannwhitneyuResult(statistic=114798608.0, pvalue=0.08262089513625538)"
      ]
     },
     "execution_count": 17,
     "metadata": {},
     "output_type": "execute_result"
    }
   ],
   "source": [
    "x = data.copy()\n",
    "\n",
    "group1 = x[x['gender'] == x['gender'].unique()[0]]['thermal_sensation'].values\n",
    "group2 = x[x['gender'] == x['gender'].unique()[1]]['thermal_sensation'].values\n",
    "mannwhitneyu(group1, group2)"
   ]
  },
  {
   "cell_type": "code",
   "execution_count": null,
   "metadata": {},
   "outputs": [],
   "source": []
  }
 ],
 "metadata": {
  "kernelspec": {
   "display_name": "thesis",
   "language": "python",
   "name": "python3"
  },
  "language_info": {
   "codemirror_mode": {
    "name": "ipython",
    "version": 3
   },
   "file_extension": ".py",
   "mimetype": "text/x-python",
   "name": "python",
   "nbconvert_exporter": "python",
   "pygments_lexer": "ipython3",
   "version": "3.10.6"
  },
  "orig_nbformat": 4,
  "vscode": {
   "interpreter": {
    "hash": "d3e156ba609d3fe88450c2dc1973615cb05d3710a7f9768d2badc7f539ca2834"
   }
  }
 },
 "nbformat": 4,
 "nbformat_minor": 2
}
