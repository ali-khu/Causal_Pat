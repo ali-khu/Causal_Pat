{
 "cells": [
  {
   "cell_type": "code",
   "execution_count": 6,
   "metadata": {},
   "outputs": [],
   "source": [
    "import pandas as pd\n",
    "from scipy.stats import mannwhitneyu\n",
    "import numpy as np\n",
    "\n",
    "df = pd.read_excel('data.xlsx')"
   ]
  },
  {
   "cell_type": "code",
   "execution_count": 3,
   "metadata": {},
   "outputs": [],
   "source": [
    "data = df.copy()\n",
    "data = data.dropna(subset=[\"ta\",\"tr\", \"vel\", \"rh\", \"met\", \"clo\", \"thermal_sensation\"])"
   ]
  },
  {
   "cell_type": "code",
   "execution_count": 21,
   "metadata": {},
   "outputs": [
    {
     "data": {
      "text/plain": [
       "MannwhitneyuResult(statistic=84188881.5, pvalue=0.3128557997560376)"
      ]
     },
     "execution_count": 21,
     "metadata": {},
     "output_type": "execute_result"
    }
   ],
   "source": [
    "x = data.copy()\n",
    "x = x.dropna(subset=['thermal_acceptability'])\n",
    "\n",
    "group1 = x[x['thermal_acceptability'] == x['thermal_acceptability'].unique()[0]]['ta'].values\n",
    "group2 = x[x['thermal_acceptability'] == x['thermal_acceptability'].unique()[1]]['ta'].values\n",
    "\n",
    "mannwhitneyu(group1, group2)"
   ]
  },
  {
   "cell_type": "code",
   "execution_count": 22,
   "metadata": {},
   "outputs": [
    {
     "data": {
      "text/plain": [
       "MannwhitneyuResult(statistic=303783.0, pvalue=4.117572774717653e-21)"
      ]
     },
     "execution_count": 22,
     "metadata": {},
     "output_type": "execute_result"
    }
   ],
   "source": [
    "x = data.copy()\n",
    "x = x.dropna(subset=['blind_curtain'])\n",
    "\n",
    "group1 = x[x['blind_curtain'] == x['blind_curtain'].unique()[0]]['ta'].values\n",
    "group2 = x[x['blind_curtain'] == x['blind_curtain'].unique()[1]]['ta'].values\n",
    "\n",
    "mannwhitneyu(group1, group2)"
   ]
  },
  {
   "cell_type": "code",
   "execution_count": 23,
   "metadata": {},
   "outputs": [
    {
     "data": {
      "text/plain": [
       "MannwhitneyuResult(statistic=6189194.5, pvalue=0.0)"
      ]
     },
     "execution_count": 23,
     "metadata": {},
     "output_type": "execute_result"
    }
   ],
   "source": [
    "x = data.copy()\n",
    "x = x.dropna(subset=['fan'])\n",
    "\n",
    "group1 = x[x['fan'] == x['fan'].unique()[0]]['ta'].values\n",
    "group2 = x[x['fan'] == x['fan'].unique()[1]]['ta'].values\n",
    "\n",
    "mannwhitneyu(group1, group2)"
   ]
  },
  {
   "cell_type": "code",
   "execution_count": 24,
   "metadata": {},
   "outputs": [
    {
     "data": {
      "text/plain": [
       "MannwhitneyuResult(statistic=3145578.5, pvalue=0.0004029524240302237)"
      ]
     },
     "execution_count": 24,
     "metadata": {},
     "output_type": "execute_result"
    }
   ],
   "source": [
    "x = data.copy()\n",
    "x = x.dropna(subset=['window'])\n",
    "\n",
    "group1 = x[x['window'] == x['window'].unique()[0]]['ta'].values\n",
    "group2 = x[x['window'] == x['window'].unique()[1]]['ta'].values\n",
    "\n",
    "mannwhitneyu(group1, group2)"
   ]
  },
  {
   "cell_type": "code",
   "execution_count": 25,
   "metadata": {},
   "outputs": [
    {
     "data": {
      "text/plain": [
       "MannwhitneyuResult(statistic=86718.0, pvalue=0.11536617355079777)"
      ]
     },
     "execution_count": 25,
     "metadata": {},
     "output_type": "execute_result"
    }
   ],
   "source": [
    "x = data.copy()\n",
    "x = x.dropna(subset=['door'])\n",
    "\n",
    "group1 = x[x['door'] == x['door'].unique()[0]]['ta'].values\n",
    "group2 = x[x['door'] == x['door'].unique()[1]]['ta'].values\n",
    "\n",
    "mannwhitneyu(group1, group2)"
   ]
  },
  {
   "cell_type": "code",
   "execution_count": 26,
   "metadata": {},
   "outputs": [
    {
     "data": {
      "text/plain": [
       "MannwhitneyuResult(statistic=1793024.0, pvalue=1.3377342036608288e-42)"
      ]
     },
     "execution_count": 26,
     "metadata": {},
     "output_type": "execute_result"
    }
   ],
   "source": [
    "x = data.copy()\n",
    "x = x.dropna(subset=['heater'])\n",
    "\n",
    "group1 = x[x['heater'] == x['heater'].unique()[0]]['ta'].values\n",
    "group2 = x[x['heater'] == x['heater'].unique()[1]]['ta'].values\n",
    "\n",
    "mannwhitneyu(group1, group2)"
   ]
  },
  {
   "cell_type": "code",
   "execution_count": null,
   "metadata": {},
   "outputs": [],
   "source": []
  }
 ],
 "metadata": {
  "kernelspec": {
   "display_name": "thesis",
   "language": "python",
   "name": "python3"
  },
  "language_info": {
   "codemirror_mode": {
    "name": "ipython",
    "version": 3
   },
   "file_extension": ".py",
   "mimetype": "text/x-python",
   "name": "python",
   "nbconvert_exporter": "python",
   "pygments_lexer": "ipython3",
   "version": "3.10.6"
  },
  "orig_nbformat": 4,
  "vscode": {
   "interpreter": {
    "hash": "d3e156ba609d3fe88450c2dc1973615cb05d3710a7f9768d2badc7f539ca2834"
   }
  }
 },
 "nbformat": 4,
 "nbformat_minor": 2
}
