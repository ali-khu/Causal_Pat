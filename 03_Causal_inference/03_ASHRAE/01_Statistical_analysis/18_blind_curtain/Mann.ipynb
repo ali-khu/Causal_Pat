{
 "cells": [
  {
   "cell_type": "code",
   "execution_count": 1,
   "metadata": {},
   "outputs": [],
   "source": [
    "import pandas as pd\n",
    "from scipy.stats import mannwhitneyu\n",
    "import numpy as np\n",
    "\n",
    "df = pd.read_excel('data.xlsx')"
   ]
  },
  {
   "cell_type": "code",
   "execution_count": 3,
   "metadata": {},
   "outputs": [],
   "source": [
    "data = df.copy()\n",
    "data = data.dropna(subset=[\"ta\",\"tr\", \"vel\", \"rh\", \"met\", \"clo\", \"thermal_sensation\", \"blind_curtain\"])"
   ]
  },
  {
   "cell_type": "code",
   "execution_count": 4,
   "metadata": {},
   "outputs": [
    {
     "data": {
      "text/plain": [
       "MannwhitneyuResult(statistic=303783.0, pvalue=4.117572774717653e-21)"
      ]
     },
     "execution_count": 4,
     "metadata": {},
     "output_type": "execute_result"
    }
   ],
   "source": [
    "x = data.copy()\n",
    "\n",
    "group1 = x[x['blind_curtain'] == x['blind_curtain'].unique()[0]]['ta'].values\n",
    "group2 = x[x['blind_curtain'] == x['blind_curtain'].unique()[1]]['ta'].values\n",
    "\n",
    "mannwhitneyu(group1, group2)"
   ]
  },
  {
   "cell_type": "code",
   "execution_count": 5,
   "metadata": {},
   "outputs": [
    {
     "data": {
      "text/plain": [
       "MannwhitneyuResult(statistic=306325.5, pvalue=3.1922602436185093e-20)"
      ]
     },
     "execution_count": 5,
     "metadata": {},
     "output_type": "execute_result"
    }
   ],
   "source": [
    "x = data.copy()\n",
    "\n",
    "group1 = x[x['blind_curtain'] == x['blind_curtain'].unique()[0]]['tr'].values\n",
    "group2 = x[x['blind_curtain'] == x['blind_curtain'].unique()[1]]['tr'].values\n",
    "mannwhitneyu(group1, group2)"
   ]
  },
  {
   "cell_type": "code",
   "execution_count": 6,
   "metadata": {},
   "outputs": [
    {
     "data": {
      "text/plain": [
       "MannwhitneyuResult(statistic=470679.0, pvalue=1.4169535882922934e-06)"
      ]
     },
     "execution_count": 6,
     "metadata": {},
     "output_type": "execute_result"
    }
   ],
   "source": [
    "x = data.copy()\n",
    "\n",
    "group1 = x[x['blind_curtain'] == x['blind_curtain'].unique()[0]]['vel'].values\n",
    "group2 = x[x['blind_curtain'] == x['blind_curtain'].unique()[1]]['vel'].values\n",
    "mannwhitneyu(group1, group2)"
   ]
  },
  {
   "cell_type": "code",
   "execution_count": 7,
   "metadata": {},
   "outputs": [
    {
     "data": {
      "text/plain": [
       "MannwhitneyuResult(statistic=391349.5, pvalue=0.0508186010560544)"
      ]
     },
     "execution_count": 7,
     "metadata": {},
     "output_type": "execute_result"
    }
   ],
   "source": [
    "x = data.copy()\n",
    "\n",
    "group1 = x[x['blind_curtain'] == x['blind_curtain'].unique()[0]]['rh'].values\n",
    "group2 = x[x['blind_curtain'] == x['blind_curtain'].unique()[1]]['rh'].values\n",
    "mannwhitneyu(group1, group2)"
   ]
  },
  {
   "cell_type": "code",
   "execution_count": 8,
   "metadata": {},
   "outputs": [
    {
     "data": {
      "text/plain": [
       "MannwhitneyuResult(statistic=501578.0, pvalue=2.4916631500567238e-14)"
      ]
     },
     "execution_count": 8,
     "metadata": {},
     "output_type": "execute_result"
    }
   ],
   "source": [
    "x = data.copy()\n",
    "\n",
    "group1 = x[x['blind_curtain'] == x['blind_curtain'].unique()[0]]['met'].values\n",
    "group2 = x[x['blind_curtain'] == x['blind_curtain'].unique()[1]]['met'].values\n",
    "mannwhitneyu(group1, group2)"
   ]
  },
  {
   "cell_type": "code",
   "execution_count": 9,
   "metadata": {},
   "outputs": [
    {
     "data": {
      "text/plain": [
       "MannwhitneyuResult(statistic=506490.0, pvalue=3.290714954540547e-15)"
      ]
     },
     "execution_count": 9,
     "metadata": {},
     "output_type": "execute_result"
    }
   ],
   "source": [
    "x = data.copy()\n",
    "\n",
    "group1 = x[x['blind_curtain'] == x['blind_curtain'].unique()[0]]['clo'].values\n",
    "group2 = x[x['blind_curtain'] == x['blind_curtain'].unique()[1]]['clo'].values\n",
    "mannwhitneyu(group1, group2)"
   ]
  },
  {
   "cell_type": "code",
   "execution_count": 10,
   "metadata": {},
   "outputs": [
    {
     "data": {
      "text/plain": [
       "MannwhitneyuResult(statistic=350886.5, pvalue=5.733192628657263e-09)"
      ]
     },
     "execution_count": 10,
     "metadata": {},
     "output_type": "execute_result"
    }
   ],
   "source": [
    "x = data.copy()\n",
    "\n",
    "group1 = x[x['blind_curtain'] == x['blind_curtain'].unique()[0]]['thermal_sensation'].values\n",
    "group2 = x[x['blind_curtain'] == x['blind_curtain'].unique()[1]]['thermal_sensation'].values\n",
    "mannwhitneyu(group1, group2)"
   ]
  },
  {
   "cell_type": "code",
   "execution_count": null,
   "metadata": {},
   "outputs": [],
   "source": []
  }
 ],
 "metadata": {
  "kernelspec": {
   "display_name": "thesis",
   "language": "python",
   "name": "python3"
  },
  "language_info": {
   "codemirror_mode": {
    "name": "ipython",
    "version": 3
   },
   "file_extension": ".py",
   "mimetype": "text/x-python",
   "name": "python",
   "nbconvert_exporter": "python",
   "pygments_lexer": "ipython3",
   "version": "3.10.6"
  },
  "orig_nbformat": 4,
  "vscode": {
   "interpreter": {
    "hash": "d3e156ba609d3fe88450c2dc1973615cb05d3710a7f9768d2badc7f539ca2834"
   }
  }
 },
 "nbformat": 4,
 "nbformat_minor": 2
}
