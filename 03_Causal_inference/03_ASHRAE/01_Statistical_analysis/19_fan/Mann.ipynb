{
 "cells": [
  {
   "cell_type": "code",
   "execution_count": 1,
   "metadata": {},
   "outputs": [],
   "source": [
    "import pandas as pd\n",
    "from scipy.stats import mannwhitneyu\n",
    "import numpy as np\n",
    "\n",
    "df = pd.read_excel('data.xlsx')"
   ]
  },
  {
   "cell_type": "code",
   "execution_count": 2,
   "metadata": {},
   "outputs": [],
   "source": [
    "data = df.copy()\n",
    "data = data.dropna(subset=[\"ta\",\"tr\", \"vel\", \"rh\", \"met\", \"clo\", \"thermal_sensation\", \"fan\"])"
   ]
  },
  {
   "cell_type": "code",
   "execution_count": 3,
   "metadata": {},
   "outputs": [
    {
     "data": {
      "text/plain": [
       "MannwhitneyuResult(statistic=6189194.5, pvalue=0.0)"
      ]
     },
     "execution_count": 3,
     "metadata": {},
     "output_type": "execute_result"
    }
   ],
   "source": [
    "x = data.copy()\n",
    "\n",
    "group1 = x[x['fan'] == x['fan'].unique()[0]]['ta'].values\n",
    "group2 = x[x['fan'] == x['fan'].unique()[1]]['ta'].values\n",
    "\n",
    "mannwhitneyu(group1, group2)"
   ]
  },
  {
   "cell_type": "code",
   "execution_count": 4,
   "metadata": {},
   "outputs": [
    {
     "data": {
      "text/plain": [
       "MannwhitneyuResult(statistic=6277543.0, pvalue=0.0)"
      ]
     },
     "execution_count": 4,
     "metadata": {},
     "output_type": "execute_result"
    }
   ],
   "source": [
    "x = data.copy()\n",
    "\n",
    "group1 = x[x['fan'] == x['fan'].unique()[0]]['tr'].values\n",
    "group2 = x[x['fan'] == x['fan'].unique()[1]]['tr'].values\n",
    "mannwhitneyu(group1, group2)"
   ]
  },
  {
   "cell_type": "code",
   "execution_count": 5,
   "metadata": {},
   "outputs": [
    {
     "data": {
      "text/plain": [
       "MannwhitneyuResult(statistic=6560664.5, pvalue=0.0)"
      ]
     },
     "execution_count": 5,
     "metadata": {},
     "output_type": "execute_result"
    }
   ],
   "source": [
    "x = data.copy()\n",
    "\n",
    "group1 = x[x['fan'] == x['fan'].unique()[0]]['vel'].values\n",
    "group2 = x[x['fan'] == x['fan'].unique()[1]]['vel'].values\n",
    "mannwhitneyu(group1, group2)"
   ]
  },
  {
   "cell_type": "code",
   "execution_count": 6,
   "metadata": {},
   "outputs": [
    {
     "data": {
      "text/plain": [
       "MannwhitneyuResult(statistic=4933009.5, pvalue=1.7331242194432919e-96)"
      ]
     },
     "execution_count": 6,
     "metadata": {},
     "output_type": "execute_result"
    }
   ],
   "source": [
    "x = data.copy()\n",
    "\n",
    "group1 = x[x['fan'] == x['fan'].unique()[0]]['rh'].values\n",
    "group2 = x[x['fan'] == x['fan'].unique()[1]]['rh'].values\n",
    "mannwhitneyu(group1, group2)"
   ]
  },
  {
   "cell_type": "code",
   "execution_count": 7,
   "metadata": {},
   "outputs": [
    {
     "data": {
      "text/plain": [
       "MannwhitneyuResult(statistic=3489809.5, pvalue=0.0006124048246588695)"
      ]
     },
     "execution_count": 7,
     "metadata": {},
     "output_type": "execute_result"
    }
   ],
   "source": [
    "x = data.copy()\n",
    "\n",
    "group1 = x[x['fan'] == x['fan'].unique()[0]]['met'].values\n",
    "group2 = x[x['fan'] == x['fan'].unique()[1]]['met'].values\n",
    "mannwhitneyu(group1, group2)"
   ]
  },
  {
   "cell_type": "code",
   "execution_count": 8,
   "metadata": {},
   "outputs": [
    {
     "data": {
      "text/plain": [
       "MannwhitneyuResult(statistic=2754663.5, pvalue=1.055211234573094e-54)"
      ]
     },
     "execution_count": 8,
     "metadata": {},
     "output_type": "execute_result"
    }
   ],
   "source": [
    "x = data.copy()\n",
    "\n",
    "group1 = x[x['fan'] == x['fan'].unique()[0]]['clo'].values\n",
    "group2 = x[x['fan'] == x['fan'].unique()[1]]['clo'].values\n",
    "mannwhitneyu(group1, group2)"
   ]
  },
  {
   "cell_type": "code",
   "execution_count": 9,
   "metadata": {},
   "outputs": [
    {
     "data": {
      "text/plain": [
       "MannwhitneyuResult(statistic=3799363.0, pvalue=0.03504519987185125)"
      ]
     },
     "execution_count": 9,
     "metadata": {},
     "output_type": "execute_result"
    }
   ],
   "source": [
    "x = data.copy()\n",
    "\n",
    "group1 = x[x['fan'] == x['fan'].unique()[0]]['thermal_sensation'].values\n",
    "group2 = x[x['fan'] == x['fan'].unique()[1]]['thermal_sensation'].values\n",
    "mannwhitneyu(group1, group2)"
   ]
  },
  {
   "cell_type": "code",
   "execution_count": null,
   "metadata": {},
   "outputs": [],
   "source": []
  }
 ],
 "metadata": {
  "kernelspec": {
   "display_name": "thesis",
   "language": "python",
   "name": "python3"
  },
  "language_info": {
   "codemirror_mode": {
    "name": "ipython",
    "version": 3
   },
   "file_extension": ".py",
   "mimetype": "text/x-python",
   "name": "python",
   "nbconvert_exporter": "python",
   "pygments_lexer": "ipython3",
   "version": "3.10.6"
  },
  "orig_nbformat": 4,
  "vscode": {
   "interpreter": {
    "hash": "d3e156ba609d3fe88450c2dc1973615cb05d3710a7f9768d2badc7f539ca2834"
   }
  }
 },
 "nbformat": 4,
 "nbformat_minor": 2
}
