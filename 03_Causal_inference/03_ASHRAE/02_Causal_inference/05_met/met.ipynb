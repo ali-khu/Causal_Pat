{
 "cells": [
  {
   "cell_type": "code",
   "execution_count": null,
   "metadata": {
    "pycharm": {
     "name": "#%%\n"
    }
   },
   "outputs": [],
   "source": [
    "import numpy as np\n",
    "import pandas as pd\n",
    "from dowhy import CausalModel\n",
    "import graphviz\n",
    "import warnings\n",
    "from sklearn.preprocessing import PolynomialFeatures\n",
    "from sklearn.linear_model import LassoCV\n",
    "from sklearn.ensemble import GradientBoostingRegressor\n",
    "# EconML imports\n",
    "from econml.dml import LinearDML, CausalForestDML\n",
    "from econml.cate_interpreter import SingleTreeCateInterpreter, SingleTreePolicyInterpreter\n",
    "import seaborn as sns\n",
    "import dowhy.plotter\n",
    "%matplotlib inline\n",
    "import matplotlib.pyplot as plt\n",
    "\n",
    "warnings.filterwarnings('ignore')\n",
    "\n",
    "\n",
    "\n",
    "# The Direct Acyclic Graph\n",
    "\n",
    "G=graphviz.Digraph()\n",
    "G.edge(\"ta_h\" , \"tr\")\n",
    "G.edge(\"vel_h\" , \"ta_h\")\n",
    "G.edge(\"rh\" , \"ta_h\")\n",
    "G.edge(\"ta_h\" , \"clo\")\n",
    "G.edge(\"ta_h\" , \"thermal_sensation\")\n",
    "G.edge(\"vel_h\" , \"tr\")\n",
    "G.edge(\"rh\" , \"tr\")\n",
    "G.edge(\"tr\" , \"clo\")\n",
    "G.edge(\"tr\" , \"thermal_sensation\")\n",
    "G.edge(\"vel_h\" , \"clo\")\n",
    "G.edge(\"vel_h\" , \"thermal_sensation\")\n",
    "G.edge(\"rh\" , \"clo\")\n",
    "G.edge(\"rh\" , \"thermal_sensation\")\n",
    "G.edge(\"met\" , \"thermal_sensation\")\n",
    "G.edge(\"clo\" , \"thermal_sensation\")\n",
    "\n",
    "\n",
    "\n",
    "# print(dot.source)\n",
    "\n",
    "G.format = 'pdf'\n",
    "G.render(directory='DAG', view = False).replace('\\\\', '/')\n",
    "\n"
   ]
  },
  {
   "cell_type": "code",
   "execution_count": 2,
   "metadata": {
    "pycharm": {
     "name": "#%%\n"
    }
   },
   "outputs": [],
   "source": [
    "# Reading the data\n",
    "data = pd.read_excel(\"data.xlsx\")\n",
    "\n",
    "data_for_causal = data[[\"ta_h\",\"tr\", \"vel_h\", \"rh\", \"met\", \"clo\", \"thermal_sensation\"]]\n",
    "data_for_causal = data_for_causal.dropna()"
   ]
  },
  {
   "cell_type": "code",
   "execution_count": 3,
   "metadata": {
    "pycharm": {
     "name": "#%%\n"
    }
   },
   "outputs": [
    {
     "name": "stdout",
     "output_type": "stream",
     "text": [
      "Estimand type: nonparametric-ate\n",
      "\n",
      "### Estimand : 1\n",
      "Estimand name: backdoor\n",
      "Estimand expression:\n",
      "  d                        \n",
      "──────(E[thermalₛₑₙₛₐₜᵢₒₙ])\n",
      "d[met]                     \n",
      "Estimand assumption 1, Unconfoundedness: If U→{met} and U→thermal_sensation then P(thermal_sensation|met,,U) = P(thermal_sensation|met,)\n",
      "\n",
      "### Estimand : 2\n",
      "Estimand name: iv\n",
      "No such variable(s) found!\n",
      "\n",
      "### Estimand : 3\n",
      "Estimand name: frontdoor\n",
      "No such variable(s) found!\n",
      "\n"
     ]
    }
   ],
   "source": [
    "# Initializing causal model\n",
    "model = CausalModel(data=data_for_causal,\n",
    "                     graph=G.source.replace(\"\\t\", ' ').replace(\"\\n\", ' '),\n",
    "                     treatment=\"met\",\n",
    "                     outcome=\"thermal_sensation\")\n",
    "\n",
    "# Identifying the estimation method\n",
    "identified_estimand= model.identify_effect(proceed_when_unidentifiable=True)\n",
    "print(identified_estimand)"
   ]
  },
  {
   "cell_type": "code",
   "execution_count": 4,
   "metadata": {
    "pycharm": {
     "name": "#%%\n"
    }
   },
   "outputs": [
    {
     "name": "stdout",
     "output_type": "stream",
     "text": [
      "0.2501563831802926\n"
     ]
    }
   ],
   "source": [
    "random_state = 120\n",
    "dml_estimate = model.estimate_effect(identified_estimand,\n",
    "                                     method_name=\"backdoor.econml.dml.DML\", # Calling EconMl double machine learning algorithm\n",
    "                                   #   control_value = 0,\n",
    "                                     treatment_value = 0.5,\n",
    "                                     target_units = 'ate',\n",
    "                                     confidence_intervals=False,\n",
    "                                method_params={\"init_params\":{'model_y':GradientBoostingRegressor(random_state=random_state, learning_rate=0.0001),\n",
    "                                                              'model_t': GradientBoostingRegressor(random_state=random_state, learning_rate=0.0001),\n",
    "                                                              \"model_final\":LassoCV(fit_intercept=False, random_state=random_state),\n",
    "                                                              'featurizer':PolynomialFeatures(degree=1, include_bias=True),\n",
    "                                                              'random_state':random_state},\n",
    "                                               \"fit_params\":{}})\n",
    "print(dml_estimate.value)"
   ]
  },
  {
   "cell_type": "code",
   "execution_count": null,
   "metadata": {
    "pycharm": {
     "name": "#%%\n"
    }
   },
   "outputs": [],
   "source": [
    "# Random cause\n",
    "res_random=model.refute_estimate(identified_estimand, dml_estimate, method_name=\"random_common_cause\", random_seed=123)\n",
    "print(res_random)\n",
    "\n",
    "# Add Unobserved Common Causes\n",
    "res_unobserved=model.refute_estimate(identified_estimand, dml_estimate, method_name=\"add_unobserved_common_cause\",\n",
    "                                     confounders_effect_on_treatment=\"linear\", confounders_effect_on_outcome=\"linear\",\n",
    "                                    effect_strength_on_treatment=0.01, effect_strength_on_outcome=0.02, random_seed=123)\n",
    "print(res_unobserved)\n",
    "\n",
    "# Placebo Treatment\n",
    "res_placebo=model.refute_estimate(identified_estimand, dml_estimate,\n",
    "        method_name=\"placebo_treatment_refuter\", random_seed=123)\n",
    "print(res_placebo)\n",
    "\n",
    "\n",
    "# Data Subsets Validation\n",
    "res_subset=model.refute_estimate(identified_estimand, dml_estimate,\n",
    "        method_name=\"data_subset_refuter\", subset_fraction=0.8,\n",
    "        num_simulations=10, random_seed=123)\n",
    "print(res_subset)"
   ]
  },
  {
   "cell_type": "code",
   "execution_count": null,
   "metadata": {
    "pycharm": {
     "name": "#%%\n"
    }
   },
   "outputs": [],
   "source": []
  }
 ],
 "metadata": {
  "kernelspec": {
   "display_name": "thesis",
   "language": "python",
   "name": "python3"
  },
  "language_info": {
   "codemirror_mode": {
    "name": "ipython",
    "version": 3
   },
   "file_extension": ".py",
   "mimetype": "text/x-python",
   "name": "python",
   "nbconvert_exporter": "python",
   "pygments_lexer": "ipython3",
   "version": "3.10.6"
  },
  "orig_nbformat": 4,
  "vscode": {
   "interpreter": {
    "hash": "98c1c43490eba6286d7b33394c160ddc91e627c1db7e92063dec856a85670976"
   }
  }
 },
 "nbformat": 4,
 "nbformat_minor": 2
}
