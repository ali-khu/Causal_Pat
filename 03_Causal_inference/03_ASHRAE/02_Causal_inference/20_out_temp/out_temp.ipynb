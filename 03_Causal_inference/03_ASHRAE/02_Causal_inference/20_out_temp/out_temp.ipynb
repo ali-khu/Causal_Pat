{
 "cells": [
  {
   "cell_type": "code",
   "execution_count": 1,
   "metadata": {
    "pycharm": {
     "name": "#%%\n"
    }
   },
   "outputs": [
    {
     "data": {
      "text/plain": [
       "'DAG/Digraph.gv.pdf'"
      ]
     },
     "execution_count": 1,
     "metadata": {},
     "output_type": "execute_result"
    }
   ],
   "source": [
    "import numpy as np\n",
    "import pandas as pd\n",
    "from dowhy import CausalModel\n",
    "import graphviz\n",
    "import warnings\n",
    "from sklearn.preprocessing import PolynomialFeatures\n",
    "from sklearn.linear_model import LassoCV\n",
    "from sklearn.ensemble import GradientBoostingRegressor\n",
    "# EconML imports\n",
    "from econml.dml import LinearDML, CausalForestDML\n",
    "from econml.cate_interpreter import SingleTreeCateInterpreter, SingleTreePolicyInterpreter\n",
    "import seaborn as sns\n",
    "import dowhy.plotter\n",
    "%matplotlib inline\n",
    "import matplotlib.pyplot as plt\n",
    "\n",
    "warnings.filterwarnings('ignore')\n",
    "\n",
    "\n",
    "\n",
    "# The Direct Acyclic Graph\n",
    "\n",
    "G=graphviz.Digraph()\n",
    "G.edge(\"ta\" , \"tr\")\n",
    "G.edge(\"vel\" , \"ta\")\n",
    "G.edge(\"rh\" , \"ta\")\n",
    "G.edge(\"ta\" , \"clo\")\n",
    "G.edge(\"ta\" , \"thermal_sensation\")\n",
    "G.edge(\"vel\" , \"tr\")\n",
    "G.edge(\"rh\" , \"tr\")\n",
    "G.edge(\"tr\" , \"clo\")\n",
    "G.edge(\"tr\" , \"thermal_sensation\")\n",
    "G.edge(\"vel\" , \"clo\")\n",
    "G.edge(\"vel\" , \"thermal_sensation\")\n",
    "G.edge(\"rh\" , \"clo\")\n",
    "G.edge(\"rh\" , \"thermal_sensation\")\n",
    "G.edge(\"met\" , \"thermal_sensation\")\n",
    "G.edge(\"clo\" , \"thermal_sensation\")\n",
    "\n",
    "# print(dot.source)\n",
    "G.edge(\"t_out\" , \"ta\")\n",
    "G.edge(\"t_out\" , \"tr\")\n",
    "G.edge(\"t_out\" , \"rh\")\n",
    "G.edge(\"t_out\" , \"clo\")\n",
    "G.edge(\"t_out\" , \"thermal_sensation\")\n",
    "\n",
    "\n",
    "G.format = 'pdf'\n",
    "G.render(directory='DAG', view = False).replace('\\\\', '/')\n",
    "\n"
   ]
  },
  {
   "cell_type": "code",
   "execution_count": 2,
   "metadata": {
    "pycharm": {
     "name": "#%%\n"
    }
   },
   "outputs": [
    {
     "ename": "KeyError",
     "evalue": "\"['t_out'] not in index\"",
     "output_type": "error",
     "traceback": [
      "\u001b[1;31m---------------------------------------------------------------------------\u001b[0m",
      "\u001b[1;31mKeyError\u001b[0m                                  Traceback (most recent call last)",
      "\u001b[1;32mc:\\Users\\HUBEL\\GDrive\\08_THESIS\\Causal_infer\\03. Therm_comf\\03_Analysis\\03_causal_inference\\With_confounders\\21_out_temp\\out_temp.ipynb Cell 2\u001b[0m in \u001b[0;36m4\n\u001b[0;32m      <a href='vscode-notebook-cell:/c%3A/Users/HUBEL/GDrive/08_THESIS/Causal_infer/03.%20Therm_comf/03_Analysis/03_causal_inference/With_confounders/21_out_temp/out_temp.ipynb#W1sZmlsZQ%3D%3D?line=0'>1</a>\u001b[0m \u001b[39m# Reading the data\u001b[39;00m\n\u001b[0;32m      <a href='vscode-notebook-cell:/c%3A/Users/HUBEL/GDrive/08_THESIS/Causal_infer/03.%20Therm_comf/03_Analysis/03_causal_inference/With_confounders/21_out_temp/out_temp.ipynb#W1sZmlsZQ%3D%3D?line=1'>2</a>\u001b[0m data \u001b[39m=\u001b[39m pd\u001b[39m.\u001b[39mread_excel(\u001b[39m\"\u001b[39m\u001b[39mdata.xlsx\u001b[39m\u001b[39m\"\u001b[39m)\n\u001b[1;32m----> <a href='vscode-notebook-cell:/c%3A/Users/HUBEL/GDrive/08_THESIS/Causal_infer/03.%20Therm_comf/03_Analysis/03_causal_inference/With_confounders/21_out_temp/out_temp.ipynb#W1sZmlsZQ%3D%3D?line=3'>4</a>\u001b[0m data_for_causal \u001b[39m=\u001b[39m data[[\u001b[39m\"\u001b[39;49m\u001b[39mta\u001b[39;49m\u001b[39m\"\u001b[39;49m,\u001b[39m\"\u001b[39;49m\u001b[39mtr\u001b[39;49m\u001b[39m\"\u001b[39;49m, \u001b[39m\"\u001b[39;49m\u001b[39mvel\u001b[39;49m\u001b[39m\"\u001b[39;49m, \u001b[39m\"\u001b[39;49m\u001b[39mrh\u001b[39;49m\u001b[39m\"\u001b[39;49m, \u001b[39m\"\u001b[39;49m\u001b[39mmet\u001b[39;49m\u001b[39m\"\u001b[39;49m, \u001b[39m\"\u001b[39;49m\u001b[39mclo\u001b[39;49m\u001b[39m\"\u001b[39;49m, \u001b[39m\"\u001b[39;49m\u001b[39mthermal_sensation\u001b[39;49m\u001b[39m\"\u001b[39;49m, \u001b[39m\"\u001b[39;49m\u001b[39mt_out\u001b[39;49m\u001b[39m\"\u001b[39;49m]]\n\u001b[0;32m      <a href='vscode-notebook-cell:/c%3A/Users/HUBEL/GDrive/08_THESIS/Causal_infer/03.%20Therm_comf/03_Analysis/03_causal_inference/With_confounders/21_out_temp/out_temp.ipynb#W1sZmlsZQ%3D%3D?line=4'>5</a>\u001b[0m data_for_causal \u001b[39m=\u001b[39m data_for_causal\u001b[39m.\u001b[39mdropna()\n",
      "File \u001b[1;32mc:\\Users\\HUBEL\\anaconda3\\envs\\thesis\\lib\\site-packages\\pandas\\core\\frame.py:3810\u001b[0m, in \u001b[0;36mDataFrame.__getitem__\u001b[1;34m(self, key)\u001b[0m\n\u001b[0;32m   3808\u001b[0m     \u001b[39mif\u001b[39;00m is_iterator(key):\n\u001b[0;32m   3809\u001b[0m         key \u001b[39m=\u001b[39m \u001b[39mlist\u001b[39m(key)\n\u001b[1;32m-> 3810\u001b[0m     indexer \u001b[39m=\u001b[39m \u001b[39mself\u001b[39;49m\u001b[39m.\u001b[39;49mcolumns\u001b[39m.\u001b[39;49m_get_indexer_strict(key, \u001b[39m\"\u001b[39;49m\u001b[39mcolumns\u001b[39;49m\u001b[39m\"\u001b[39;49m)[\u001b[39m1\u001b[39m]\n\u001b[0;32m   3812\u001b[0m \u001b[39m# take() does not accept boolean indexers\u001b[39;00m\n\u001b[0;32m   3813\u001b[0m \u001b[39mif\u001b[39;00m \u001b[39mgetattr\u001b[39m(indexer, \u001b[39m\"\u001b[39m\u001b[39mdtype\u001b[39m\u001b[39m\"\u001b[39m, \u001b[39mNone\u001b[39;00m) \u001b[39m==\u001b[39m \u001b[39mbool\u001b[39m:\n",
      "File \u001b[1;32mc:\\Users\\HUBEL\\anaconda3\\envs\\thesis\\lib\\site-packages\\pandas\\core\\indexes\\base.py:6111\u001b[0m, in \u001b[0;36mIndex._get_indexer_strict\u001b[1;34m(self, key, axis_name)\u001b[0m\n\u001b[0;32m   6108\u001b[0m \u001b[39melse\u001b[39;00m:\n\u001b[0;32m   6109\u001b[0m     keyarr, indexer, new_indexer \u001b[39m=\u001b[39m \u001b[39mself\u001b[39m\u001b[39m.\u001b[39m_reindex_non_unique(keyarr)\n\u001b[1;32m-> 6111\u001b[0m \u001b[39mself\u001b[39;49m\u001b[39m.\u001b[39;49m_raise_if_missing(keyarr, indexer, axis_name)\n\u001b[0;32m   6113\u001b[0m keyarr \u001b[39m=\u001b[39m \u001b[39mself\u001b[39m\u001b[39m.\u001b[39mtake(indexer)\n\u001b[0;32m   6114\u001b[0m \u001b[39mif\u001b[39;00m \u001b[39misinstance\u001b[39m(key, Index):\n\u001b[0;32m   6115\u001b[0m     \u001b[39m# GH 42790 - Preserve name from an Index\u001b[39;00m\n",
      "File \u001b[1;32mc:\\Users\\HUBEL\\anaconda3\\envs\\thesis\\lib\\site-packages\\pandas\\core\\indexes\\base.py:6174\u001b[0m, in \u001b[0;36mIndex._raise_if_missing\u001b[1;34m(self, key, indexer, axis_name)\u001b[0m\n\u001b[0;32m   6171\u001b[0m     \u001b[39mraise\u001b[39;00m \u001b[39mKeyError\u001b[39;00m(\u001b[39mf\u001b[39m\u001b[39m\"\u001b[39m\u001b[39mNone of [\u001b[39m\u001b[39m{\u001b[39;00mkey\u001b[39m}\u001b[39;00m\u001b[39m] are in the [\u001b[39m\u001b[39m{\u001b[39;00maxis_name\u001b[39m}\u001b[39;00m\u001b[39m]\u001b[39m\u001b[39m\"\u001b[39m)\n\u001b[0;32m   6173\u001b[0m not_found \u001b[39m=\u001b[39m \u001b[39mlist\u001b[39m(ensure_index(key)[missing_mask\u001b[39m.\u001b[39mnonzero()[\u001b[39m0\u001b[39m]]\u001b[39m.\u001b[39munique())\n\u001b[1;32m-> 6174\u001b[0m \u001b[39mraise\u001b[39;00m \u001b[39mKeyError\u001b[39;00m(\u001b[39mf\u001b[39m\u001b[39m\"\u001b[39m\u001b[39m{\u001b[39;00mnot_found\u001b[39m}\u001b[39;00m\u001b[39m not in index\u001b[39m\u001b[39m\"\u001b[39m)\n",
      "\u001b[1;31mKeyError\u001b[0m: \"['t_out'] not in index\""
     ]
    }
   ],
   "source": [
    "# Reading the data\n",
    "data = pd.read_excel(\"data.xlsx\")\n",
    "\n",
    "data_for_causal = data[[\"ta\",\"tr\", \"vel\", \"rh\", \"met\", \"clo\", \"thermal_sensation\", \"t_out\"]]\n",
    "data_for_causal = data_for_causal.dropna()"
   ]
  },
  {
   "cell_type": "code",
   "execution_count": null,
   "metadata": {},
   "outputs": [],
   "source": [
    "data_for_causal.describe()"
   ]
  },
  {
   "cell_type": "code",
   "execution_count": null,
   "metadata": {
    "pycharm": {
     "name": "#%%\n"
    }
   },
   "outputs": [],
   "source": [
    "# Initializing causal model\n",
    "model = CausalModel(data=data_for_causal,\n",
    "                     graph=G.source.replace(\"\\t\", ' ').replace(\"\\n\", ' '),\n",
    "                     treatment=\"t_out\",\n",
    "                     outcome=\"thermal_sensation\")\n",
    "\n",
    "# Identifying the estimation method\n",
    "identified_estimand= model.identify_effect(proceed_when_unidentifiable=True)\n",
    "print(identified_estimand)"
   ]
  },
  {
   "cell_type": "code",
   "execution_count": null,
   "metadata": {
    "pycharm": {
     "name": "#%%\n"
    }
   },
   "outputs": [],
   "source": [
    "random_state = 120\n",
    "dml_estimate = model.estimate_effect(identified_estimand,\n",
    "                                     method_name=\"backdoor.econml.dml.DML\", # Calling EconMl double machine learning algorithm\n",
    "                                   #   control_value = 0,\n",
    "                                     treatment_value = 2,\n",
    "                                     target_units = 'ate',\n",
    "                                     confidence_intervals=False,\n",
    "                                method_params={\"init_params\":{'model_y':GradientBoostingRegressor(random_state=random_state, learning_rate=0.0001),\n",
    "                                                              'model_t': GradientBoostingRegressor(random_state=random_state, learning_rate=0.0001),\n",
    "                                                              \"model_final\":LassoCV(fit_intercept=False, random_state=random_state),\n",
    "                                                              'featurizer':PolynomialFeatures(degree=1, include_bias=True),\n",
    "                                                              'random_state':random_state},\n",
    "                                               \"fit_params\":{}})\n",
    "print(dml_estimate.value)"
   ]
  },
  {
   "cell_type": "code",
   "execution_count": null,
   "metadata": {
    "pycharm": {
     "name": "#%%\n"
    }
   },
   "outputs": [],
   "source": [
    "# Random cause\n",
    "res_random=model.refute_estimate(identified_estimand, dml_estimate, method_name=\"random_common_cause\", random_seed=123)\n",
    "print(res_random)\n",
    "\n",
    "# Add Unobserved Common Causes\n",
    "res_unobserved=model.refute_estimate(identified_estimand, dml_estimate, method_name=\"add_unobserved_common_cause\",\n",
    "                                     confounders_effect_on_treatment=\"linear\", confounders_effect_on_outcome=\"linear\",\n",
    "                                    effect_strength_on_treatment=0.01, effect_strength_on_outcome=0.02, random_seed=123)\n",
    "print(res_unobserved)\n",
    "\n",
    "# Placebo Treatment\n",
    "res_placebo=model.refute_estimate(identified_estimand, dml_estimate,\n",
    "        method_name=\"placebo_treatment_refuter\", random_seed=123)\n",
    "print(res_placebo)\n",
    "\n",
    "\n",
    "# Data Subsets Validation\n",
    "res_subset=model.refute_estimate(identified_estimand, dml_estimate,\n",
    "        method_name=\"data_subset_refuter\", subset_fraction=0.8,\n",
    "        num_simulations=10, random_seed=123)\n",
    "print(res_subset)"
   ]
  },
  {
   "cell_type": "code",
   "execution_count": null,
   "metadata": {
    "pycharm": {
     "name": "#%%\n"
    }
   },
   "outputs": [],
   "source": []
  }
 ],
 "metadata": {
  "kernelspec": {
   "display_name": "thesis",
   "language": "python",
   "name": "python3"
  },
  "language_info": {
   "codemirror_mode": {
    "name": "ipython",
    "version": 3
   },
   "file_extension": ".py",
   "mimetype": "text/x-python",
   "name": "python",
   "nbconvert_exporter": "python",
   "pygments_lexer": "ipython3",
   "version": "3.10.6"
  },
  "orig_nbformat": 4,
  "vscode": {
   "interpreter": {
    "hash": "98c1c43490eba6286d7b33394c160ddc91e627c1db7e92063dec856a85670976"
   }
  }
 },
 "nbformat": 4,
 "nbformat_minor": 2
}
