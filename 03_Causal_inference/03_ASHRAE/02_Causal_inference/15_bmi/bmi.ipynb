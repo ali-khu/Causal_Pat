{
 "cells": [
  {
   "cell_type": "code",
   "execution_count": 7,
   "metadata": {
    "pycharm": {
     "name": "#%%\n"
    }
   },
   "outputs": [
    {
     "data": {
      "text/plain": [
       "'DAG/Digraph.gv.pdf'"
      ]
     },
     "execution_count": 7,
     "metadata": {},
     "output_type": "execute_result"
    }
   ],
   "source": [
    "import numpy as np\n",
    "import pandas as pd\n",
    "from dowhy import CausalModel\n",
    "import graphviz\n",
    "import warnings\n",
    "from sklearn.preprocessing import PolynomialFeatures\n",
    "from sklearn.linear_model import LassoCV\n",
    "from sklearn.ensemble import GradientBoostingRegressor\n",
    "# EconML imports\n",
    "from econml.dml import LinearDML, CausalForestDML\n",
    "from econml.cate_interpreter import SingleTreeCateInterpreter, SingleTreePolicyInterpreter\n",
    "import seaborn as sns\n",
    "import dowhy.plotter\n",
    "%matplotlib inline\n",
    "import matplotlib.pyplot as plt\n",
    "\n",
    "warnings.filterwarnings('ignore')\n",
    "\n",
    "\n",
    "\n",
    "# The Direct Acyclic Graph\n",
    "\n",
    "G=graphviz.Digraph()\n",
    "G.edge(\"ta_h\" , \"tr\")\n",
    "G.edge(\"vel_h\" , \"ta_h\")\n",
    "G.edge(\"rh\" , \"ta_h\")\n",
    "G.edge(\"ta_h\" , \"clo\")\n",
    "G.edge(\"ta_h\" , \"thermal_sensation\")\n",
    "G.edge(\"vel_h\" , \"tr\")\n",
    "G.edge(\"rh\" , \"tr\")\n",
    "G.edge(\"tr\" , \"clo\")\n",
    "G.edge(\"tr\" , \"thermal_sensation\")\n",
    "G.edge(\"vel_h\" , \"clo\")\n",
    "G.edge(\"vel_h\" , \"thermal_sensation\")\n",
    "G.edge(\"rh\" , \"clo\")\n",
    "G.edge(\"rh\" , \"thermal_sensation\")\n",
    "G.edge(\"met\" , \"thermal_sensation\")\n",
    "G.edge(\"clo\" , \"thermal_sensation\")\n",
    "\n",
    "######################################\n",
    "#########################################\n",
    "\n",
    "G.edge(\"bmi_coded\" , \"met\")\n",
    "G.edge(\"bmi_coded\" , \"clo\")\n",
    "G.edge(\"bmi_coded\" , \"thermal_sensation\")\n",
    "\n",
    "\n",
    "# print(dot.source)\n",
    "\n",
    "G.format = 'pdf'\n",
    "G.render(directory='DAG', view = False).replace('\\\\', '/')\n",
    "\n"
   ]
  },
  {
   "cell_type": "code",
   "execution_count": 10,
   "metadata": {
    "pycharm": {
     "name": "#%%\n"
    }
   },
   "outputs": [],
   "source": [
    "# Reading the data\n",
    "data = pd.read_excel(\"data.xlsx\")\n",
    "\n",
    "data_for_causal = data[[\"ta_h\",\"tr\", \"vel_h\", \"rh\", \"met\", \"clo\", \"thermal_sensation\", \"ht\", \"wt\", \"age\"]]\n",
    "\n",
    "\n",
    "bin_width = 10\n",
    "data_for_causal['age_bins'] = pd.cut(data_for_causal['age'], bins=pd.interval_range(start=data_for_causal['age'].min(), end=data_for_causal['age'].max()+bin_width, freq=bin_width), include_lowest=True)\n",
    "\n",
    "\n",
    "# data_for_causal = data_for_causal.loc[(data_for_causal['age'] >=26) & (data_for_causal['age'] <=36)]\n",
    "# data_for_causal= data_for_causal.drop(labels='age', axis=1)\n",
    "data_for_causal = data_for_causal.dropna()"
   ]
  },
  {
   "cell_type": "code",
   "execution_count": 11,
   "metadata": {},
   "outputs": [
    {
     "data": {
      "image/png": "[encoded data removed]",
      "text/latex": [
       "$\\displaystyle \\left( 250, \\  11\\right)$"
      ],
      "text/plain": [
       "(250, 11)"
      ]
     },
     "execution_count": 11,
     "metadata": {},
     "output_type": "execute_result"
    }
   ],
   "source": [
    "data_for_causal.shape"
   ]
  },
  {
   "cell_type": "code",
   "execution_count": 12,
   "metadata": {},
   "outputs": [],
   "source": [
    "data_for_causal['bmi'] = data_for_causal['wt']/((data_for_causal['ht']) ** 2)"
   ]
  },
  {
   "cell_type": "code",
   "execution_count": 13,
   "metadata": {},
   "outputs": [],
   "source": [
    "conditions = [(data_for_causal['bmi'] < 18.5),\n",
    "                (data_for_causal['bmi'] >= 18.5) & (data_for_causal['bmi'] < 24.9),\n",
    "                (data_for_causal['bmi'] >= 24.9) & (data_for_causal['bmi'] <= 29.9),\n",
    "                (data_for_causal['bmi']>29.9)]\n",
    "\n",
    "choices = [\"Underweight\",\"Normal weight\", \"Overweight\",\"Obesity\"]\n",
    "\n",
    "data_for_causal['bmi_coded'] = np.select(conditions, choices, default=-2)"
   ]
  },
  {
   "cell_type": "code",
   "execution_count": 16,
   "metadata": {},
   "outputs": [
    {
     "data": {
      "text/plain": [
       "age_bins      bmi_coded    \n",
       "(6.0, 16.0]   Normal weight     0\n",
       "              Obesity           0\n",
       "              Overweight        0\n",
       "              Underweight       0\n",
       "(16.0, 26.0]  Normal weight     7\n",
       "              Obesity           1\n",
       "              Overweight        1\n",
       "              Underweight       0\n",
       "(26.0, 36.0]  Normal weight     9\n",
       "              Obesity           5\n",
       "              Overweight        7\n",
       "              Underweight       0\n",
       "(36.0, 46.0]  Normal weight     1\n",
       "              Obesity           0\n",
       "              Overweight        0\n",
       "              Underweight       0\n",
       "(46.0, 56.0]  Normal weight    20\n",
       "              Obesity          14\n",
       "              Overweight       18\n",
       "              Underweight       1\n",
       "(56.0, 66.0]  Normal weight     0\n",
       "              Obesity           0\n",
       "              Overweight        0\n",
       "              Underweight       0\n",
       "(66.0, 76.0]  Normal weight     7\n",
       "              Obesity          11\n",
       "              Overweight       14\n",
       "              Underweight       4\n",
       "(76.0, 86.0]  Normal weight    23\n",
       "              Obesity          18\n",
       "              Overweight       22\n",
       "              Underweight       1\n",
       "(86.0, 96.0]  Normal weight    27\n",
       "              Obesity          10\n",
       "              Overweight       21\n",
       "              Underweight       8\n",
       "Name: bmi_coded, dtype: int64"
      ]
     },
     "execution_count": 16,
     "metadata": {},
     "output_type": "execute_result"
    }
   ],
   "source": [
    "data_for_causal.groupby(['age_bins', 'bmi_coded'])['bmi_coded'].count()"
   ]
  },
  {
   "cell_type": "code",
   "execution_count": 6,
   "metadata": {},
   "outputs": [
    {
     "data": {
      "image/png": "[encoded data removed]",
      "text/plain": [
       "<Figure size 800x600 with 1 Axes>"
      ]
     },
     "metadata": {},
     "output_type": "display_data"
    }
   ],
   "source": [
    "df_percentages = data_for_causal['bmi_coded'].value_counts(normalize=True).reset_index(name='Percentage')\n",
    "df_percentages['Percentage'] *= 100\n",
    "\n",
    "\n",
    "plt.figure(figsize=(8,6))\n",
    "custom_params = {\"axes.spines.right\": False, \"axes.spines.top\": False}\n",
    "sns.set_theme(style=\"ticks\", rc=custom_params, font_scale=1.5)\n",
    "plt.rcParams[\"axes.edgecolor\"] = \"black\"\n",
    "draw = sns.barplot(x = df_percentages['index'], y = df_percentages['Percentage'], width=0.4, order=[\"Underweight\",\"Normal weight\", \"Overweight\",\"Obesity\"])\n",
    "draw.set_xlabel(\"BMI\",fontsize=24)\n",
    "# draw.set_ylabel(\"Thermal sensation\",fontsize=24)\n",
    "# draw.set(ylim=(0, 250))\n",
    "figure = draw.get_figure()\n",
    "figure.savefig('bmi.png', bbox_inches='tight', dpi=300)"
   ]
  },
  {
   "cell_type": "code",
   "execution_count": 5,
   "metadata": {
    "pycharm": {
     "name": "#%%\n"
    }
   },
   "outputs": [],
   "source": [
    "bmi = data_for_causal.copy()\n",
    "bmi = bmi.drop(labels=['wt','ht', \"bmi\"], axis=1)\n",
    "\n",
    "\n",
    "bmi[\"bmi_coded\"] = bmi['bmi_coded'].replace([\"underweight\", \"normal weight\", \"overweight\", \"obesity\"], \n",
    "                                                                           [1,2,3,4])"
   ]
  },
  {
   "cell_type": "code",
   "execution_count": 12,
   "metadata": {},
   "outputs": [
    {
     "data": {
      "text/html": [
       "<div>\n",
       "<style scoped>\n",
       "    .dataframe tbody tr th:only-of-type {\n",
       "        vertical-align: middle;\n",
       "    }\n",
       "\n",
       "    .dataframe tbody tr th {\n",
       "        vertical-align: top;\n",
       "    }\n",
       "\n",
       "    .dataframe thead th {\n",
       "        text-align: right;\n",
       "    }\n",
       "</style>\n",
       "<table border=\"1\" class=\"dataframe\">\n",
       "  <thead>\n",
       "    <tr style=\"text-align: right;\">\n",
       "      <th></th>\n",
       "      <th>Source</th>\n",
       "      <th>ddof1</th>\n",
       "      <th>H</th>\n",
       "      <th>p-unc</th>\n",
       "    </tr>\n",
       "  </thead>\n",
       "  <tbody>\n",
       "    <tr>\n",
       "      <th>Kruskal</th>\n",
       "      <td>bmi_coded</td>\n",
       "      <td>3</td>\n",
       "      <td>1.462998</td>\n",
       "      <td>0.690836</td>\n",
       "    </tr>\n",
       "  </tbody>\n",
       "</table>\n",
       "</div>"
      ],
      "text/plain": [
       "            Source  ddof1         H     p-unc\n",
       "Kruskal  bmi_coded      3  1.462998  0.690836"
      ]
     },
     "execution_count": 12,
     "metadata": {},
     "output_type": "execute_result"
    }
   ],
   "source": [
    "from pingouin import kruskal\n",
    "kruskal(data=bmi, dv='thermal_sensation', between='bmi_coded')"
   ]
  },
  {
   "cell_type": "code",
   "execution_count": 6,
   "metadata": {},
   "outputs": [
    {
     "data": {
      "text/plain": [
       "bmi_coded\n",
       "1    14\n",
       "2    94\n",
       "3    85\n",
       "4    61\n",
       "dtype: int64"
      ]
     },
     "execution_count": 6,
     "metadata": {},
     "output_type": "execute_result"
    }
   ],
   "source": [
    "bmi.groupby(\"bmi_coded\").size()"
   ]
  },
  {
   "cell_type": "code",
   "execution_count": 7,
   "metadata": {},
   "outputs": [
    {
     "data": {
      "text/html": [
       "<div>\n",
       "<style scoped>\n",
       "    .dataframe tbody tr th:only-of-type {\n",
       "        vertical-align: middle;\n",
       "    }\n",
       "\n",
       "    .dataframe tbody tr th {\n",
       "        vertical-align: top;\n",
       "    }\n",
       "\n",
       "    .dataframe thead th {\n",
       "        text-align: right;\n",
       "    }\n",
       "</style>\n",
       "<table border=\"1\" class=\"dataframe\">\n",
       "  <thead>\n",
       "    <tr style=\"text-align: right;\">\n",
       "      <th></th>\n",
       "      <th>Source</th>\n",
       "      <th>ddof1</th>\n",
       "      <th>H</th>\n",
       "      <th>p-unc</th>\n",
       "    </tr>\n",
       "  </thead>\n",
       "  <tbody>\n",
       "    <tr>\n",
       "      <th>Kruskal</th>\n",
       "      <td>bmi_coded</td>\n",
       "      <td>3</td>\n",
       "      <td>9.264277</td>\n",
       "      <td>0.025976</td>\n",
       "    </tr>\n",
       "  </tbody>\n",
       "</table>\n",
       "</div>"
      ],
      "text/plain": [
       "            Source  ddof1         H     p-unc\n",
       "Kruskal  bmi_coded      3  9.264277  0.025976"
      ]
     },
     "execution_count": 7,
     "metadata": {},
     "output_type": "execute_result"
    }
   ],
   "source": [
    "from pingouin import kruskal\n",
    "kruskal(data=bmi, dv='clo', between='bmi_coded')"
   ]
  },
  {
   "cell_type": "code",
   "execution_count": 29,
   "metadata": {},
   "outputs": [],
   "source": [
    "filtered_data = bmi.loc[(bmi['bmi_coded'] == 3) | (bmi['bmi_coded'] == 4)]\n",
    "filtered_data[\"bmi_coded\"] = filtered_data['bmi_coded'].replace([3,4], [0, 1])"
   ]
  },
  {
   "cell_type": "code",
   "execution_count": 30,
   "metadata": {},
   "outputs": [
    {
     "data": {
      "text/plain": [
       "bmi_coded\n",
       "0    85\n",
       "1    61\n",
       "dtype: int64"
      ]
     },
     "execution_count": 30,
     "metadata": {},
     "output_type": "execute_result"
    }
   ],
   "source": [
    "filtered_data.groupby(\"bmi_coded\").size()"
   ]
  },
  {
   "cell_type": "code",
   "execution_count": 31,
   "metadata": {
    "pycharm": {
     "name": "#%%\n"
    }
   },
   "outputs": [
    {
     "name": "stdout",
     "output_type": "stream",
     "text": [
      "Estimand type: nonparametric-ate\n",
      "\n",
      "### Estimand : 1\n",
      "Estimand name: backdoor\n",
      "Estimand expression:\n",
      "     d                           \n",
      "────────────(E[thermalₛₑₙₛₐₜᵢₒₙ])\n",
      "d[bmi_coded]                     \n",
      "Estimand assumption 1, Unconfoundedness: If U→{bmi_coded} and U→thermal_sensation then P(thermal_sensation|bmi_coded,,U) = P(thermal_sensation|bmi_coded,)\n",
      "\n",
      "### Estimand : 2\n",
      "Estimand name: iv\n",
      "No such variable(s) found!\n",
      "\n",
      "### Estimand : 3\n",
      "Estimand name: frontdoor\n",
      "No such variable(s) found!\n",
      "\n"
     ]
    }
   ],
   "source": [
    "# Initializing causal model\n",
    "model = CausalModel(data=filtered_data,\n",
    "                     graph=G.source.replace(\"\\t\", ' ').replace(\"\\n\", ' '),\n",
    "                     treatment=\"bmi_coded\",\n",
    "                     outcome=\"thermal_sensation\")\n",
    "\n",
    "# Identifying the estimation method\n",
    "identified_estimand= model.identify_effect(proceed_when_unidentifiable=True)\n",
    "print(identified_estimand)"
   ]
  },
  {
   "cell_type": "code",
   "execution_count": 32,
   "metadata": {
    "pycharm": {
     "name": "#%%\n"
    }
   },
   "outputs": [
    {
     "name": "stdout",
     "output_type": "stream",
     "text": [
      "0.20502063200799228\n"
     ]
    }
   ],
   "source": [
    "random_state = 120\n",
    "dml_estimate = model.estimate_effect(identified_estimand,\n",
    "                                     method_name=\"backdoor.econml.dml.DML\", # Calling EconMl double machine learning algorithm\n",
    "                                     control_value = 0,\n",
    "                                     treatment_value = 1,\n",
    "                                     target_units = 'ate',\n",
    "                                     confidence_intervals=False,\n",
    "                                method_params={\"init_params\":{'model_y':GradientBoostingRegressor(random_state=random_state, learning_rate=0.0001),\n",
    "                                                              'model_t': GradientBoostingRegressor(random_state=random_state, learning_rate=0.0001),\n",
    "                                                              \"model_final\":LassoCV(fit_intercept=False, random_state=random_state),\n",
    "                                                              'featurizer':PolynomialFeatures(degree=1, include_bias=True),\n",
    "                                                              'random_state':random_state},\n",
    "                                               \"fit_params\":{}})\n",
    "print(dml_estimate.value)"
   ]
  },
  {
   "cell_type": "code",
   "execution_count": 24,
   "metadata": {
    "pycharm": {
     "name": "#%%\n"
    }
   },
   "outputs": [
    {
     "name": "stdout",
     "output_type": "stream",
     "text": [
      "Refute: Add a random common cause\n",
      "Estimated effect:-0.015155926483350327\n",
      "New effect:-0.015258028443294307\n",
      "p value:0.44999999999999996\n",
      "\n",
      "Refute: Add an Unobserved Common Cause\n",
      "Estimated effect:-0.015155926483350327\n",
      "New effect:-0.01803565100767248\n",
      "\n"
     ]
    },
    {
     "ename": "KeyboardInterrupt",
     "evalue": "",
     "output_type": "error",
     "traceback": [
      "\u001b[1;31m---------------------------------------------------------------------------\u001b[0m",
      "\u001b[1;31mKeyboardInterrupt\u001b[0m                         Traceback (most recent call last)",
      "\u001b[1;32mc:\\Users\\HUBEL\\GDrive\\08_THESIS\\Causal_infer\\03. Therm_comf\\03_Analysis\\03_causal_inference\\With_confounders\\15_bmi\\bmi.ipynb Cell 12\u001b[0m in \u001b[0;36m1\n\u001b[0;32m      <a href='vscode-notebook-cell:/c%3A/Users/HUBEL/GDrive/08_THESIS/Causal_infer/03.%20Therm_comf/03_Analysis/03_causal_inference/With_confounders/15_bmi/bmi.ipynb#X14sZmlsZQ%3D%3D?line=8'>9</a>\u001b[0m \u001b[39mprint\u001b[39m(res_unobserved)\n\u001b[0;32m     <a href='vscode-notebook-cell:/c%3A/Users/HUBEL/GDrive/08_THESIS/Causal_infer/03.%20Therm_comf/03_Analysis/03_causal_inference/With_confounders/15_bmi/bmi.ipynb#X14sZmlsZQ%3D%3D?line=10'>11</a>\u001b[0m \u001b[39m# Placebo Treatment\u001b[39;00m\n\u001b[1;32m---> <a href='vscode-notebook-cell:/c%3A/Users/HUBEL/GDrive/08_THESIS/Causal_infer/03.%20Therm_comf/03_Analysis/03_causal_inference/With_confounders/15_bmi/bmi.ipynb#X14sZmlsZQ%3D%3D?line=11'>12</a>\u001b[0m res_placebo\u001b[39m=\u001b[39mmodel\u001b[39m.\u001b[39;49mrefute_estimate(identified_estimand, dml_estimate,\n\u001b[0;32m     <a href='vscode-notebook-cell:/c%3A/Users/HUBEL/GDrive/08_THESIS/Causal_infer/03.%20Therm_comf/03_Analysis/03_causal_inference/With_confounders/15_bmi/bmi.ipynb#X14sZmlsZQ%3D%3D?line=12'>13</a>\u001b[0m         method_name\u001b[39m=\u001b[39;49m\u001b[39m\"\u001b[39;49m\u001b[39mplacebo_treatment_refuter\u001b[39;49m\u001b[39m\"\u001b[39;49m, random_seed\u001b[39m=\u001b[39;49m\u001b[39m123\u001b[39;49m)\n\u001b[0;32m     <a href='vscode-notebook-cell:/c%3A/Users/HUBEL/GDrive/08_THESIS/Causal_infer/03.%20Therm_comf/03_Analysis/03_causal_inference/With_confounders/15_bmi/bmi.ipynb#X14sZmlsZQ%3D%3D?line=13'>14</a>\u001b[0m \u001b[39mprint\u001b[39m(res_placebo)\n\u001b[0;32m     <a href='vscode-notebook-cell:/c%3A/Users/HUBEL/GDrive/08_THESIS/Causal_infer/03.%20Therm_comf/03_Analysis/03_causal_inference/With_confounders/15_bmi/bmi.ipynb#X14sZmlsZQ%3D%3D?line=16'>17</a>\u001b[0m \u001b[39m# Data Subsets Validation\u001b[39;00m\n",
      "File \u001b[1;32mc:\\Users\\HUBEL\\anaconda3\\envs\\thesis\\lib\\site-packages\\dowhy\\causal_model.py:420\u001b[0m, in \u001b[0;36mCausalModel.refute_estimate\u001b[1;34m(self, estimand, estimate, method_name, **kwargs)\u001b[0m\n\u001b[0;32m    412\u001b[0m     refuter_class \u001b[39m=\u001b[39m causal_refuters\u001b[39m.\u001b[39mget_class_object(method_name)\n\u001b[0;32m    414\u001b[0m refuter \u001b[39m=\u001b[39m refuter_class(\n\u001b[0;32m    415\u001b[0m     \u001b[39mself\u001b[39m\u001b[39m.\u001b[39m_data,\n\u001b[0;32m    416\u001b[0m     identified_estimand\u001b[39m=\u001b[39mestimand,\n\u001b[0;32m    417\u001b[0m     estimate\u001b[39m=\u001b[39mestimate,\n\u001b[0;32m    418\u001b[0m     \u001b[39m*\u001b[39m\u001b[39m*\u001b[39mkwargs\n\u001b[0;32m    419\u001b[0m )\n\u001b[1;32m--> 420\u001b[0m res \u001b[39m=\u001b[39m refuter\u001b[39m.\u001b[39;49mrefute_estimate()\n\u001b[0;32m    421\u001b[0m \u001b[39mreturn\u001b[39;00m res\n",
      "File \u001b[1;32mc:\\Users\\HUBEL\\anaconda3\\envs\\thesis\\lib\\site-packages\\dowhy\\causal_refuters\\placebo_treatment_refuter.py:135\u001b[0m, in \u001b[0;36mPlaceboTreatmentRefuter.refute_estimate\u001b[1;34m(self)\u001b[0m\n\u001b[0;32m    133\u001b[0m     \u001b[39mself\u001b[39m\u001b[39m.\u001b[39mlogger\u001b[39m.\u001b[39mdebug(new_data[\u001b[39m0\u001b[39m:\u001b[39m10\u001b[39m])\n\u001b[0;32m    134\u001b[0m     new_estimator \u001b[39m=\u001b[39m CausalEstimator\u001b[39m.\u001b[39mget_estimator_object(new_data, identified_estimand, \u001b[39mself\u001b[39m\u001b[39m.\u001b[39m_estimate)\n\u001b[1;32m--> 135\u001b[0m     new_effect \u001b[39m=\u001b[39m new_estimator\u001b[39m.\u001b[39;49mestimate_effect()\n\u001b[0;32m    136\u001b[0m     sample_estimates[index] \u001b[39m=\u001b[39m new_effect\u001b[39m.\u001b[39mvalue\n\u001b[0;32m    138\u001b[0m \u001b[39m# Restoring the value of iv_instrument_name\u001b[39;00m\n",
      "File \u001b[1;32mc:\\Users\\HUBEL\\anaconda3\\envs\\thesis\\lib\\site-packages\\dowhy\\causal_estimator.py:191\u001b[0m, in \u001b[0;36mCausalEstimator.estimate_effect\u001b[1;34m(self)\u001b[0m\n\u001b[0;32m    183\u001b[0m \u001b[39mdef\u001b[39;00m \u001b[39mestimate_effect\u001b[39m(\u001b[39mself\u001b[39m):\n\u001b[0;32m    184\u001b[0m     \u001b[39m\"\"\"Base estimation method that calls the estimate_effect method of its calling subclass.\u001b[39;00m\n\u001b[0;32m    185\u001b[0m \n\u001b[0;32m    186\u001b[0m \u001b[39m    Can optionally also test significance and estimate effect strength for any returned estimate.\u001b[39;00m\n\u001b[1;32m   (...)\u001b[0m\n\u001b[0;32m    189\u001b[0m \u001b[39m    :returns: A CausalEstimate instance that contains point estimates of average and conditional effects. Based on the parameters provided, it optionally includes confidence intervals, standard errors,statistical significance and other statistical parameters.\u001b[39;00m\n\u001b[0;32m    190\u001b[0m \u001b[39m    \"\"\"\u001b[39;00m\n\u001b[1;32m--> 191\u001b[0m     est \u001b[39m=\u001b[39m \u001b[39mself\u001b[39;49m\u001b[39m.\u001b[39;49m_estimate_effect()\n\u001b[0;32m    192\u001b[0m     est\u001b[39m.\u001b[39madd_estimator(\u001b[39mself\u001b[39m)\n\u001b[0;32m    194\u001b[0m     \u001b[39mif\u001b[39;00m \u001b[39mself\u001b[39m\u001b[39m.\u001b[39m_significance_test:\n",
      "File \u001b[1;32mc:\\Users\\HUBEL\\anaconda3\\envs\\thesis\\lib\\site-packages\\dowhy\\causal_estimators\\econml.py:116\u001b[0m, in \u001b[0;36mEconml._estimate_effect\u001b[1;34m(self)\u001b[0m\n\u001b[0;32m    112\u001b[0m     estimator_data_args \u001b[39m=\u001b[39m {\n\u001b[0;32m    113\u001b[0m         arg: named_data_args[arg] \u001b[39mfor\u001b[39;00m arg \u001b[39min\u001b[39;00m named_data_args\u001b[39m.\u001b[39mkeys() \u001b[39mif\u001b[39;00m arg \u001b[39min\u001b[39;00m estimator_named_args\n\u001b[0;32m    114\u001b[0m         }\n\u001b[0;32m    115\u001b[0m     \u001b[39mif\u001b[39;00m \u001b[39mself\u001b[39m\u001b[39m.\u001b[39mmethod_params[\u001b[39m\"\u001b[39m\u001b[39mfit_params\u001b[39m\u001b[39m\"\u001b[39m] \u001b[39mis\u001b[39;00m \u001b[39mnot\u001b[39;00m \u001b[39mFalse\u001b[39;00m:\n\u001b[1;32m--> 116\u001b[0m         \u001b[39mself\u001b[39m\u001b[39m.\u001b[39mestimator\u001b[39m.\u001b[39mfit(\u001b[39m*\u001b[39m\u001b[39m*\u001b[39mestimator_data_args,\n\u001b[0;32m    117\u001b[0m                            \u001b[39m*\u001b[39m\u001b[39m*\u001b[39m\u001b[39mself\u001b[39m\u001b[39m.\u001b[39mmethod_params[\u001b[39m\"\u001b[39m\u001b[39mfit_params\u001b[39m\u001b[39m\"\u001b[39m])\n\u001b[0;32m    119\u001b[0m X_test \u001b[39m=\u001b[39m X\n\u001b[0;32m    120\u001b[0m n_target_units \u001b[39m=\u001b[39m n_samples\n",
      "File \u001b[1;32mc:\\Users\\HUBEL\\anaconda3\\envs\\thesis\\lib\\site-packages\\econml\\dml\\dml.py:503\u001b[0m, in \u001b[0;36mDML.fit\u001b[1;34m(self, Y, T, X, W, sample_weight, freq_weight, sample_var, groups, cache_values, inference)\u001b[0m\n\u001b[0;32m    464\u001b[0m \u001b[39mdef\u001b[39;00m \u001b[39mfit\u001b[39m(\u001b[39mself\u001b[39m, Y, T, \u001b[39m*\u001b[39m, X\u001b[39m=\u001b[39m\u001b[39mNone\u001b[39;00m, W\u001b[39m=\u001b[39m\u001b[39mNone\u001b[39;00m, sample_weight\u001b[39m=\u001b[39m\u001b[39mNone\u001b[39;00m, freq_weight\u001b[39m=\u001b[39m\u001b[39mNone\u001b[39;00m, sample_var\u001b[39m=\u001b[39m\u001b[39mNone\u001b[39;00m, groups\u001b[39m=\u001b[39m\u001b[39mNone\u001b[39;00m,\n\u001b[0;32m    465\u001b[0m         cache_values\u001b[39m=\u001b[39m\u001b[39mFalse\u001b[39;00m, inference\u001b[39m=\u001b[39m\u001b[39m'\u001b[39m\u001b[39mauto\u001b[39m\u001b[39m'\u001b[39m):\n\u001b[0;32m    466\u001b[0m     \u001b[39m\"\"\"\u001b[39;00m\n\u001b[0;32m    467\u001b[0m \u001b[39m    Estimate the counterfactual model from data, i.e. estimates functions τ(·,·,·), ∂τ(·,·).\u001b[39;00m\n\u001b[0;32m    468\u001b[0m \n\u001b[1;32m   (...)\u001b[0m\n\u001b[0;32m    501\u001b[0m \u001b[39m    self\u001b[39;00m\n\u001b[0;32m    502\u001b[0m \u001b[39m    \"\"\"\u001b[39;00m\n\u001b[1;32m--> 503\u001b[0m     \u001b[39mreturn\u001b[39;00m \u001b[39msuper\u001b[39;49m()\u001b[39m.\u001b[39;49mfit(Y, T, X\u001b[39m=\u001b[39;49mX, W\u001b[39m=\u001b[39;49mW, sample_weight\u001b[39m=\u001b[39;49msample_weight, freq_weight\u001b[39m=\u001b[39;49mfreq_weight,\n\u001b[0;32m    504\u001b[0m                        sample_var\u001b[39m=\u001b[39;49msample_var, groups\u001b[39m=\u001b[39;49mgroups,\n\u001b[0;32m    505\u001b[0m                        cache_values\u001b[39m=\u001b[39;49mcache_values,\n\u001b[0;32m    506\u001b[0m                        inference\u001b[39m=\u001b[39;49minference)\n",
      "File \u001b[1;32mc:\\Users\\HUBEL\\anaconda3\\envs\\thesis\\lib\\site-packages\\econml\\dml\\_rlearner.py:368\u001b[0m, in \u001b[0;36m_RLearner.fit\u001b[1;34m(self, Y, T, X, W, sample_weight, freq_weight, sample_var, groups, cache_values, inference)\u001b[0m\n\u001b[0;32m    331\u001b[0m \u001b[39m\"\"\"\u001b[39;00m\n\u001b[0;32m    332\u001b[0m \u001b[39mEstimate the counterfactual model from data, i.e. estimates function :math:`\\\\theta(\\\\cdot)`.\u001b[39;00m\n\u001b[0;32m    333\u001b[0m \n\u001b[1;32m   (...)\u001b[0m\n\u001b[0;32m    365\u001b[0m \u001b[39mself: _RLearner instance\u001b[39;00m\n\u001b[0;32m    366\u001b[0m \u001b[39m\"\"\"\u001b[39;00m\n\u001b[0;32m    367\u001b[0m \u001b[39m# Replacing fit from _OrthoLearner, to enforce Z=None and improve the docstring\u001b[39;00m\n\u001b[1;32m--> 368\u001b[0m \u001b[39mreturn\u001b[39;00m \u001b[39msuper\u001b[39;49m()\u001b[39m.\u001b[39;49mfit(Y, T, X\u001b[39m=\u001b[39;49mX, W\u001b[39m=\u001b[39;49mW,\n\u001b[0;32m    369\u001b[0m                    sample_weight\u001b[39m=\u001b[39;49msample_weight, freq_weight\u001b[39m=\u001b[39;49mfreq_weight, sample_var\u001b[39m=\u001b[39;49msample_var, groups\u001b[39m=\u001b[39;49mgroups,\n\u001b[0;32m    370\u001b[0m                    cache_values\u001b[39m=\u001b[39;49mcache_values,\n\u001b[0;32m    371\u001b[0m                    inference\u001b[39m=\u001b[39;49minference)\n",
      "File \u001b[1;32mc:\\Users\\HUBEL\\anaconda3\\envs\\thesis\\lib\\site-packages\\econml\\_cate_estimator.py:130\u001b[0m, in \u001b[0;36mBaseCateEstimator._wrap_fit.<locals>.call\u001b[1;34m(self, Y, T, inference, *args, **kwargs)\u001b[0m\n\u001b[0;32m    128\u001b[0m     inference\u001b[39m.\u001b[39mprefit(\u001b[39mself\u001b[39m, Y, T, \u001b[39m*\u001b[39margs, \u001b[39m*\u001b[39m\u001b[39m*\u001b[39mkwargs)\n\u001b[0;32m    129\u001b[0m \u001b[39m# call the wrapped fit method\u001b[39;00m\n\u001b[1;32m--> 130\u001b[0m m(\u001b[39mself\u001b[39m, Y, T, \u001b[39m*\u001b[39margs, \u001b[39m*\u001b[39m\u001b[39m*\u001b[39mkwargs)\n\u001b[0;32m    131\u001b[0m \u001b[39mself\u001b[39m\u001b[39m.\u001b[39m_postfit(Y, T, \u001b[39m*\u001b[39margs, \u001b[39m*\u001b[39m\u001b[39m*\u001b[39mkwargs)\n\u001b[0;32m    132\u001b[0m \u001b[39mif\u001b[39;00m inference \u001b[39mis\u001b[39;00m \u001b[39mnot\u001b[39;00m \u001b[39mNone\u001b[39;00m:\n\u001b[0;32m    133\u001b[0m     \u001b[39m# NOTE: we call inference fit *after* calling the main fit method\u001b[39;00m\n",
      "File \u001b[1;32mc:\\Users\\HUBEL\\anaconda3\\envs\\thesis\\lib\\site-packages\\econml\\_ortho_learner.py:636\u001b[0m, in \u001b[0;36m_OrthoLearner.fit\u001b[1;34m(self, Y, T, X, W, Z, sample_weight, freq_weight, sample_var, groups, cache_values, inference, only_final, check_input)\u001b[0m\n\u001b[0;32m    634\u001b[0m \u001b[39mself\u001b[39m\u001b[39m.\u001b[39m_models_nuisance \u001b[39m=\u001b[39m []\n\u001b[0;32m    635\u001b[0m \u001b[39mfor\u001b[39;00m idx \u001b[39min\u001b[39;00m \u001b[39mrange\u001b[39m(\u001b[39mself\u001b[39m\u001b[39m.\u001b[39mmc_iters \u001b[39mor\u001b[39;00m \u001b[39m1\u001b[39m):\n\u001b[1;32m--> 636\u001b[0m     nuisances, fitted_models, new_inds, scores \u001b[39m=\u001b[39m \u001b[39mself\u001b[39;49m\u001b[39m.\u001b[39;49m_fit_nuisances(\n\u001b[0;32m    637\u001b[0m         Y, T, X, W, Z, sample_weight\u001b[39m=\u001b[39;49msample_weight_nuisances, groups\u001b[39m=\u001b[39;49mgroups)\n\u001b[0;32m    638\u001b[0m     all_nuisances\u001b[39m.\u001b[39mappend(nuisances)\n\u001b[0;32m    639\u001b[0m     \u001b[39mself\u001b[39m\u001b[39m.\u001b[39m_models_nuisance\u001b[39m.\u001b[39mappend(fitted_models)\n",
      "File \u001b[1;32mc:\\Users\\HUBEL\\anaconda3\\envs\\thesis\\lib\\site-packages\\econml\\_ortho_learner.py:766\u001b[0m, in \u001b[0;36m_OrthoLearner._fit_nuisances\u001b[1;34m(self, Y, T, X, W, Z, sample_weight, groups)\u001b[0m\n\u001b[0;32m    763\u001b[0m     \u001b[39melse\u001b[39;00m:\n\u001b[0;32m    764\u001b[0m         folds \u001b[39m=\u001b[39m splitter\u001b[39m.\u001b[39msplit(to_split, strata)\n\u001b[1;32m--> 766\u001b[0m nuisances, fitted_models, fitted_inds, scores \u001b[39m=\u001b[39m _crossfit(\u001b[39mself\u001b[39;49m\u001b[39m.\u001b[39;49m_ortho_learner_model_nuisance, folds,\n\u001b[0;32m    767\u001b[0m                                                           Y, T, X\u001b[39m=\u001b[39;49mX, W\u001b[39m=\u001b[39;49mW, Z\u001b[39m=\u001b[39;49mZ,\n\u001b[0;32m    768\u001b[0m                                                           sample_weight\u001b[39m=\u001b[39;49msample_weight, groups\u001b[39m=\u001b[39;49mgroups)\n\u001b[0;32m    769\u001b[0m \u001b[39mreturn\u001b[39;00m nuisances, fitted_models, fitted_inds, scores\n",
      "File \u001b[1;32mc:\\Users\\HUBEL\\anaconda3\\envs\\thesis\\lib\\site-packages\\econml\\_ortho_learner.py:168\u001b[0m, in \u001b[0;36m_crossfit\u001b[1;34m(model, folds, *args, **kwargs)\u001b[0m\n\u001b[0;32m    165\u001b[0m kwargs_train \u001b[39m=\u001b[39m {key: var[train_idxs] \u001b[39mfor\u001b[39;00m key, var \u001b[39min\u001b[39;00m kwargs\u001b[39m.\u001b[39mitems()}\n\u001b[0;32m    166\u001b[0m kwargs_test \u001b[39m=\u001b[39m {key: var[test_idxs] \u001b[39mfor\u001b[39;00m key, var \u001b[39min\u001b[39;00m kwargs\u001b[39m.\u001b[39mitems()}\n\u001b[1;32m--> 168\u001b[0m model_list[idx]\u001b[39m.\u001b[39mfit(\u001b[39m*\u001b[39margs_train, \u001b[39m*\u001b[39m\u001b[39m*\u001b[39mkwargs_train)\n\u001b[0;32m    170\u001b[0m nuisance_temp \u001b[39m=\u001b[39m model_list[idx]\u001b[39m.\u001b[39mpredict(\u001b[39m*\u001b[39margs_test, \u001b[39m*\u001b[39m\u001b[39m*\u001b[39mkwargs_test)\n\u001b[0;32m    172\u001b[0m \u001b[39mif\u001b[39;00m \u001b[39mnot\u001b[39;00m \u001b[39misinstance\u001b[39m(nuisance_temp, \u001b[39mtuple\u001b[39m):\n",
      "File \u001b[1;32mc:\\Users\\HUBEL\\anaconda3\\envs\\thesis\\lib\\site-packages\\econml\\dml\\_rlearner.py:52\u001b[0m, in \u001b[0;36m_ModelNuisance.fit\u001b[1;34m(self, Y, T, X, W, Z, sample_weight, groups)\u001b[0m\n\u001b[0;32m     50\u001b[0m \u001b[39massert\u001b[39;00m Z \u001b[39mis\u001b[39;00m \u001b[39mNone\u001b[39;00m, \u001b[39m\"\u001b[39m\u001b[39mCannot accept instrument!\u001b[39m\u001b[39m\"\u001b[39m\n\u001b[0;32m     51\u001b[0m \u001b[39mself\u001b[39m\u001b[39m.\u001b[39m_model_t\u001b[39m.\u001b[39mfit(X, W, T, \u001b[39m*\u001b[39m\u001b[39m*\u001b[39mfilter_none_kwargs(sample_weight\u001b[39m=\u001b[39msample_weight, groups\u001b[39m=\u001b[39mgroups))\n\u001b[1;32m---> 52\u001b[0m \u001b[39mself\u001b[39m\u001b[39m.\u001b[39m_model_y\u001b[39m.\u001b[39mfit(X, W, Y, \u001b[39m*\u001b[39m\u001b[39m*\u001b[39mfilter_none_kwargs(sample_weight\u001b[39m=\u001b[39msample_weight, groups\u001b[39m=\u001b[39mgroups))\n\u001b[0;32m     53\u001b[0m \u001b[39mreturn\u001b[39;00m \u001b[39mself\u001b[39m\n",
      "File \u001b[1;32mc:\\Users\\HUBEL\\anaconda3\\envs\\thesis\\lib\\site-packages\\econml\\dml\\dml.py:75\u001b[0m, in \u001b[0;36m_FirstStageWrapper.fit\u001b[1;34m(self, X, W, Target, sample_weight, groups)\u001b[0m\n\u001b[0;32m     72\u001b[0m     fit_with_groups(\u001b[39mself\u001b[39m\u001b[39m.\u001b[39m_model, \u001b[39mself\u001b[39m\u001b[39m.\u001b[39m_combine(X, W, Target\u001b[39m.\u001b[39mshape[\u001b[39m0\u001b[39m]), Target, groups\u001b[39m=\u001b[39mgroups,\n\u001b[0;32m     73\u001b[0m                     sample_weight\u001b[39m=\u001b[39msample_weight)\n\u001b[0;32m     74\u001b[0m \u001b[39melse\u001b[39;00m:\n\u001b[1;32m---> 75\u001b[0m     fit_with_groups(\u001b[39mself\u001b[39;49m\u001b[39m.\u001b[39;49m_model, \u001b[39mself\u001b[39;49m\u001b[39m.\u001b[39;49m_combine(X, W, Target\u001b[39m.\u001b[39;49mshape[\u001b[39m0\u001b[39;49m]), Target, groups\u001b[39m=\u001b[39;49mgroups)\n\u001b[0;32m     76\u001b[0m \u001b[39mreturn\u001b[39;00m \u001b[39mself\u001b[39m\n",
      "File \u001b[1;32mc:\\Users\\HUBEL\\anaconda3\\envs\\thesis\\lib\\site-packages\\econml\\utilities.py:906\u001b[0m, in \u001b[0;36mfit_with_groups\u001b[1;34m(model, X, y, groups, **kwargs)\u001b[0m\n\u001b[0;32m    903\u001b[0m         \u001b[39mfinally\u001b[39;00m:\n\u001b[0;32m    904\u001b[0m             model\u001b[39m.\u001b[39mcv \u001b[39m=\u001b[39m old_cv\n\u001b[1;32m--> 906\u001b[0m \u001b[39mreturn\u001b[39;00m model\u001b[39m.\u001b[39mfit(X, y, \u001b[39m*\u001b[39m\u001b[39m*\u001b[39mkwargs)\n",
      "File \u001b[1;32mc:\\Users\\HUBEL\\anaconda3\\envs\\thesis\\lib\\site-packages\\sklearn\\ensemble\\_gb.py:668\u001b[0m, in \u001b[0;36mBaseGradientBoosting.fit\u001b[1;34m(self, X, y, sample_weight, monitor)\u001b[0m\n\u001b[0;32m    665\u001b[0m     \u001b[39mself\u001b[39m\u001b[39m.\u001b[39m_resize_state()\n\u001b[0;32m    667\u001b[0m \u001b[39m# fit the boosting stages\u001b[39;00m\n\u001b[1;32m--> 668\u001b[0m n_stages \u001b[39m=\u001b[39m \u001b[39mself\u001b[39;49m\u001b[39m.\u001b[39;49m_fit_stages(\n\u001b[0;32m    669\u001b[0m     X,\n\u001b[0;32m    670\u001b[0m     y,\n\u001b[0;32m    671\u001b[0m     raw_predictions,\n\u001b[0;32m    672\u001b[0m     sample_weight,\n\u001b[0;32m    673\u001b[0m     \u001b[39mself\u001b[39;49m\u001b[39m.\u001b[39;49m_rng,\n\u001b[0;32m    674\u001b[0m     X_val,\n\u001b[0;32m    675\u001b[0m     y_val,\n\u001b[0;32m    676\u001b[0m     sample_weight_val,\n\u001b[0;32m    677\u001b[0m     begin_at_stage,\n\u001b[0;32m    678\u001b[0m     monitor,\n\u001b[0;32m    679\u001b[0m )\n\u001b[0;32m    681\u001b[0m \u001b[39m# change shape of arrays after fit (early-stopping or additional ests)\u001b[39;00m\n\u001b[0;32m    682\u001b[0m \u001b[39mif\u001b[39;00m n_stages \u001b[39m!=\u001b[39m \u001b[39mself\u001b[39m\u001b[39m.\u001b[39mestimators_\u001b[39m.\u001b[39mshape[\u001b[39m0\u001b[39m]:\n",
      "File \u001b[1;32mc:\\Users\\HUBEL\\anaconda3\\envs\\thesis\\lib\\site-packages\\sklearn\\ensemble\\_gb.py:745\u001b[0m, in \u001b[0;36mBaseGradientBoosting._fit_stages\u001b[1;34m(self, X, y, raw_predictions, sample_weight, random_state, X_val, y_val, sample_weight_val, begin_at_stage, monitor)\u001b[0m\n\u001b[0;32m    738\u001b[0m     old_oob_score \u001b[39m=\u001b[39m loss_(\n\u001b[0;32m    739\u001b[0m         y[\u001b[39m~\u001b[39msample_mask],\n\u001b[0;32m    740\u001b[0m         raw_predictions[\u001b[39m~\u001b[39msample_mask],\n\u001b[0;32m    741\u001b[0m         sample_weight[\u001b[39m~\u001b[39msample_mask],\n\u001b[0;32m    742\u001b[0m     )\n\u001b[0;32m    744\u001b[0m \u001b[39m# fit next stage of trees\u001b[39;00m\n\u001b[1;32m--> 745\u001b[0m raw_predictions \u001b[39m=\u001b[39m \u001b[39mself\u001b[39;49m\u001b[39m.\u001b[39;49m_fit_stage(\n\u001b[0;32m    746\u001b[0m     i,\n\u001b[0;32m    747\u001b[0m     X,\n\u001b[0;32m    748\u001b[0m     y,\n\u001b[0;32m    749\u001b[0m     raw_predictions,\n\u001b[0;32m    750\u001b[0m     sample_weight,\n\u001b[0;32m    751\u001b[0m     sample_mask,\n\u001b[0;32m    752\u001b[0m     random_state,\n\u001b[0;32m    753\u001b[0m     X_csc,\n\u001b[0;32m    754\u001b[0m     X_csr,\n\u001b[0;32m    755\u001b[0m )\n\u001b[0;32m    757\u001b[0m \u001b[39m# track deviance (= loss)\u001b[39;00m\n\u001b[0;32m    758\u001b[0m \u001b[39mif\u001b[39;00m do_oob:\n",
      "File \u001b[1;32mc:\\Users\\HUBEL\\anaconda3\\envs\\thesis\\lib\\site-packages\\sklearn\\ensemble\\_gb.py:247\u001b[0m, in \u001b[0;36mBaseGradientBoosting._fit_stage\u001b[1;34m(self, i, X, y, raw_predictions, sample_weight, sample_mask, random_state, X_csc, X_csr)\u001b[0m\n\u001b[0;32m    244\u001b[0m     sample_weight \u001b[39m=\u001b[39m sample_weight \u001b[39m*\u001b[39m sample_mask\u001b[39m.\u001b[39mastype(np\u001b[39m.\u001b[39mfloat64)\n\u001b[0;32m    246\u001b[0m X \u001b[39m=\u001b[39m X_csr \u001b[39mif\u001b[39;00m X_csr \u001b[39mis\u001b[39;00m \u001b[39mnot\u001b[39;00m \u001b[39mNone\u001b[39;00m \u001b[39melse\u001b[39;00m X\n\u001b[1;32m--> 247\u001b[0m tree\u001b[39m.\u001b[39;49mfit(X, residual, sample_weight\u001b[39m=\u001b[39;49msample_weight, check_input\u001b[39m=\u001b[39;49m\u001b[39mFalse\u001b[39;49;00m)\n\u001b[0;32m    249\u001b[0m \u001b[39m# update tree leaves\u001b[39;00m\n\u001b[0;32m    250\u001b[0m loss\u001b[39m.\u001b[39mupdate_terminal_regions(\n\u001b[0;32m    251\u001b[0m     tree\u001b[39m.\u001b[39mtree_,\n\u001b[0;32m    252\u001b[0m     X,\n\u001b[1;32m   (...)\u001b[0m\n\u001b[0;32m    259\u001b[0m     k\u001b[39m=\u001b[39mk,\n\u001b[0;32m    260\u001b[0m )\n",
      "File \u001b[1;32mc:\\Users\\HUBEL\\anaconda3\\envs\\thesis\\lib\\site-packages\\sklearn\\tree\\_classes.py:1342\u001b[0m, in \u001b[0;36mDecisionTreeRegressor.fit\u001b[1;34m(self, X, y, sample_weight, check_input)\u001b[0m\n\u001b[0;32m   1313\u001b[0m \u001b[39mdef\u001b[39;00m \u001b[39mfit\u001b[39m(\u001b[39mself\u001b[39m, X, y, sample_weight\u001b[39m=\u001b[39m\u001b[39mNone\u001b[39;00m, check_input\u001b[39m=\u001b[39m\u001b[39mTrue\u001b[39;00m):\n\u001b[0;32m   1314\u001b[0m     \u001b[39m\"\"\"Build a decision tree regressor from the training set (X, y).\u001b[39;00m\n\u001b[0;32m   1315\u001b[0m \n\u001b[0;32m   1316\u001b[0m \u001b[39m    Parameters\u001b[39;00m\n\u001b[1;32m   (...)\u001b[0m\n\u001b[0;32m   1339\u001b[0m \u001b[39m        Fitted estimator.\u001b[39;00m\n\u001b[0;32m   1340\u001b[0m \u001b[39m    \"\"\"\u001b[39;00m\n\u001b[1;32m-> 1342\u001b[0m     \u001b[39msuper\u001b[39;49m()\u001b[39m.\u001b[39;49mfit(\n\u001b[0;32m   1343\u001b[0m         X,\n\u001b[0;32m   1344\u001b[0m         y,\n\u001b[0;32m   1345\u001b[0m         sample_weight\u001b[39m=\u001b[39;49msample_weight,\n\u001b[0;32m   1346\u001b[0m         check_input\u001b[39m=\u001b[39;49mcheck_input,\n\u001b[0;32m   1347\u001b[0m     )\n\u001b[0;32m   1348\u001b[0m     \u001b[39mreturn\u001b[39;00m \u001b[39mself\u001b[39m\n",
      "File \u001b[1;32mc:\\Users\\HUBEL\\anaconda3\\envs\\thesis\\lib\\site-packages\\sklearn\\tree\\_classes.py:458\u001b[0m, in \u001b[0;36mBaseDecisionTree.fit\u001b[1;34m(self, X, y, sample_weight, check_input)\u001b[0m\n\u001b[0;32m    447\u001b[0m \u001b[39melse\u001b[39;00m:\n\u001b[0;32m    448\u001b[0m     builder \u001b[39m=\u001b[39m BestFirstTreeBuilder(\n\u001b[0;32m    449\u001b[0m         splitter,\n\u001b[0;32m    450\u001b[0m         min_samples_split,\n\u001b[1;32m   (...)\u001b[0m\n\u001b[0;32m    455\u001b[0m         \u001b[39mself\u001b[39m\u001b[39m.\u001b[39mmin_impurity_decrease,\n\u001b[0;32m    456\u001b[0m     )\n\u001b[1;32m--> 458\u001b[0m builder\u001b[39m.\u001b[39;49mbuild(\u001b[39mself\u001b[39;49m\u001b[39m.\u001b[39;49mtree_, X, y, sample_weight)\n\u001b[0;32m    460\u001b[0m \u001b[39mif\u001b[39;00m \u001b[39mself\u001b[39m\u001b[39m.\u001b[39mn_outputs_ \u001b[39m==\u001b[39m \u001b[39m1\u001b[39m \u001b[39mand\u001b[39;00m is_classifier(\u001b[39mself\u001b[39m):\n\u001b[0;32m    461\u001b[0m     \u001b[39mself\u001b[39m\u001b[39m.\u001b[39mn_classes_ \u001b[39m=\u001b[39m \u001b[39mself\u001b[39m\u001b[39m.\u001b[39mn_classes_[\u001b[39m0\u001b[39m]\n",
      "\u001b[1;31mKeyboardInterrupt\u001b[0m: "
     ]
    }
   ],
   "source": [
    "# Random cause\n",
    "res_random=model.refute_estimate(identified_estimand, dml_estimate, method_name=\"random_common_cause\", random_seed=123)\n",
    "print(res_random)\n",
    "\n",
    "# Add Unobserved Common Causes\n",
    "res_unobserved=model.refute_estimate(identified_estimand, dml_estimate, method_name=\"add_unobserved_common_cause\",\n",
    "                                     confounders_effect_on_treatment=\"linear\", confounders_effect_on_outcome=\"linear\",\n",
    "                                    effect_strength_on_treatment=0.01, effect_strength_on_outcome=0.02, random_seed=123)\n",
    "print(res_unobserved)\n",
    "\n",
    "# Placebo Treatment\n",
    "res_placebo=model.refute_estimate(identified_estimand, dml_estimate,\n",
    "        method_name=\"placebo_treatment_refuter\", random_seed=123)\n",
    "print(res_placebo)\n",
    "\n",
    "\n",
    "# Data Subsets Validation\n",
    "res_subset=model.refute_estimate(identified_estimand, dml_estimate,\n",
    "        method_name=\"data_subset_refuter\", subset_fraction=0.8,\n",
    "        num_simulations=10, random_seed=123)\n",
    "print(res_subset)"
   ]
  },
  {
   "cell_type": "code",
   "execution_count": null,
   "metadata": {
    "pycharm": {
     "name": "#%%\n"
    }
   },
   "outputs": [],
   "source": []
  }
 ],
 "metadata": {
  "kernelspec": {
   "display_name": "thesis",
   "language": "python",
   "name": "python3"
  },
  "language_info": {
   "codemirror_mode": {
    "name": "ipython",
    "version": 3
   },
   "file_extension": ".py",
   "mimetype": "text/x-python",
   "name": "python",
   "nbconvert_exporter": "python",
   "pygments_lexer": "ipython3",
   "version": "3.10.8"
  },
  "orig_nbformat": 4,
  "vscode": {
   "interpreter": {
    "hash": "98c1c43490eba6286d7b33394c160ddc91e627c1db7e92063dec856a85670976"
   }
  }
 },
 "nbformat": 4,
 "nbformat_minor": 2
}
