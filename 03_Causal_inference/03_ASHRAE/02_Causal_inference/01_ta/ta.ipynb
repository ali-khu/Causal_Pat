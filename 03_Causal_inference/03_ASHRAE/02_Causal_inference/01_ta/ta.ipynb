{
 "cells": [
  {
   "cell_type": "code",
   "execution_count": 1,
   "metadata": {
    "pycharm": {
     "name": "#%%\n"
    }
   },
   "outputs": [
    {
     "data": {
      "text/plain": [
       "'DAG/Digraph.gv.pdf'"
      ]
     },
     "execution_count": 1,
     "metadata": {},
     "output_type": "execute_result"
    }
   ],
   "source": [
    "import numpy as np\n",
    "import pandas as pd\n",
    "from dowhy import CausalModel\n",
    "import graphviz\n",
    "import warnings\n",
    "from sklearn.preprocessing import PolynomialFeatures\n",
    "from sklearn.linear_model import LassoCV\n",
    "from sklearn.ensemble import GradientBoostingRegressor\n",
    "# EconML imports\n",
    "from econml.dml import LinearDML, CausalForestDML\n",
    "from econml.cate_interpreter import SingleTreeCateInterpreter, SingleTreePolicyInterpreter\n",
    "import seaborn as sns\n",
    "import dowhy.plotter\n",
    "%matplotlib inline\n",
    "import matplotlib.pyplot as plt\n",
    "\n",
    "warnings.filterwarnings('ignore')\n",
    "\n",
    "\n",
    "\n",
    "# The Direct Acyclic Graph\n",
    "\n",
    "G=graphviz.Digraph()\n",
    "G.edge(\"ta_h\" , \"tr\")\n",
    "G.edge(\"vel_h\" , \"ta_h\")\n",
    "G.edge(\"rh\" , \"ta_h\")\n",
    "G.edge(\"ta_h\" , \"clo\")\n",
    "G.edge(\"ta_h\" , \"thermal_sensation\")\n",
    "G.edge(\"vel_h\" , \"tr\")\n",
    "G.edge(\"rh\" , \"tr\")\n",
    "G.edge(\"tr\" , \"clo\")\n",
    "G.edge(\"tr\" , \"thermal_sensation\")\n",
    "G.edge(\"vel_h\" , \"clo\")\n",
    "G.edge(\"vel_h\" , \"thermal_sensation\")\n",
    "G.edge(\"rh\" , \"clo\")\n",
    "G.edge(\"rh\" , \"thermal_sensation\")\n",
    "G.edge(\"met\" , \"thermal_sensation\")\n",
    "G.edge(\"clo\" , \"thermal_sensation\")\n",
    "\n",
    "\n",
    "\n",
    "# print(dot.source)\n",
    "\n",
    "G.format = 'pdf'\n",
    "G.render(directory='DAG', view = False).replace('\\\\', '/')\n",
    "\n"
   ]
  },
  {
   "cell_type": "code",
   "execution_count": 2,
   "metadata": {
    "pycharm": {
     "name": "#%%\n"
    }
   },
   "outputs": [],
   "source": [
    "# Reading the data\n",
    "data = pd.read_excel(\"data.xlsx\")\n",
    "\n",
    "data_for_causal = data[[\"ta_h\",\"tr\", \"vel_h\", \"rh\", \"met\", \"clo\", \"thermal_sensation\"]]\n",
    "data_for_causal = data_for_causal.dropna()"
   ]
  },
  {
   "cell_type": "code",
   "execution_count": 3,
   "metadata": {},
   "outputs": [
    {
     "data": {
      "image/png": "[encoded data removed]",
      "text/latex": [
       "$\\displaystyle 27$"
      ],
      "text/plain": [
       "27"
      ]
     },
     "execution_count": 3,
     "metadata": {},
     "output_type": "execute_result"
    }
   ],
   "source": [
    "\n",
    "len(data['country'].unique())"
   ]
  },
  {
   "cell_type": "code",
   "execution_count": 4,
   "metadata": {},
   "outputs": [
    {
     "data": {
      "text/html": [
       "<div>\n",
       "<style scoped>\n",
       "    .dataframe tbody tr th:only-of-type {\n",
       "        vertical-align: middle;\n",
       "    }\n",
       "\n",
       "    .dataframe tbody tr th {\n",
       "        vertical-align: top;\n",
       "    }\n",
       "\n",
       "    .dataframe thead th {\n",
       "        text-align: right;\n",
       "    }\n",
       "</style>\n",
       "<table border=\"1\" class=\"dataframe\">\n",
       "  <thead>\n",
       "    <tr style=\"text-align: right;\">\n",
       "      <th></th>\n",
       "      <th>ta_h</th>\n",
       "      <th>tr</th>\n",
       "      <th>vel_h</th>\n",
       "      <th>rh</th>\n",
       "      <th>met</th>\n",
       "      <th>clo</th>\n",
       "      <th>thermal_sensation</th>\n",
       "    </tr>\n",
       "  </thead>\n",
       "  <tbody>\n",
       "    <tr>\n",
       "      <th>count</th>\n",
       "      <td>14861.000000</td>\n",
       "      <td>14861.000000</td>\n",
       "      <td>14861.000000</td>\n",
       "      <td>14861.000000</td>\n",
       "      <td>14861.000000</td>\n",
       "      <td>14861.000000</td>\n",
       "      <td>14861.000000</td>\n",
       "    </tr>\n",
       "    <tr>\n",
       "      <th>mean</th>\n",
       "      <td>24.481171</td>\n",
       "      <td>24.347124</td>\n",
       "      <td>0.202645</td>\n",
       "      <td>51.515186</td>\n",
       "      <td>1.209126</td>\n",
       "      <td>0.587638</td>\n",
       "      <td>-0.019958</td>\n",
       "    </tr>\n",
       "    <tr>\n",
       "      <th>std</th>\n",
       "      <td>3.026901</td>\n",
       "      <td>3.159064</td>\n",
       "      <td>0.250611</td>\n",
       "      <td>14.457996</td>\n",
       "      <td>0.205215</td>\n",
       "      <td>0.291305</td>\n",
       "      <td>1.267191</td>\n",
       "    </tr>\n",
       "    <tr>\n",
       "      <th>min</th>\n",
       "      <td>10.100000</td>\n",
       "      <td>8.500000</td>\n",
       "      <td>0.000000</td>\n",
       "      <td>8.900000</td>\n",
       "      <td>0.700000</td>\n",
       "      <td>0.040000</td>\n",
       "      <td>-3.000000</td>\n",
       "    </tr>\n",
       "    <tr>\n",
       "      <th>25%</th>\n",
       "      <td>22.660000</td>\n",
       "      <td>22.485790</td>\n",
       "      <td>0.080000</td>\n",
       "      <td>41.195754</td>\n",
       "      <td>1.100000</td>\n",
       "      <td>0.393840</td>\n",
       "      <td>-1.000000</td>\n",
       "    </tr>\n",
       "    <tr>\n",
       "      <th>50%</th>\n",
       "      <td>23.800000</td>\n",
       "      <td>23.600000</td>\n",
       "      <td>0.138955</td>\n",
       "      <td>53.052908</td>\n",
       "      <td>1.200000</td>\n",
       "      <td>0.530000</td>\n",
       "      <td>0.000000</td>\n",
       "    </tr>\n",
       "    <tr>\n",
       "      <th>75%</th>\n",
       "      <td>26.600000</td>\n",
       "      <td>26.238518</td>\n",
       "      <td>0.250000</td>\n",
       "      <td>62.200000</td>\n",
       "      <td>1.200000</td>\n",
       "      <td>0.710000</td>\n",
       "      <td>1.000000</td>\n",
       "    </tr>\n",
       "    <tr>\n",
       "      <th>max</th>\n",
       "      <td>34.600000</td>\n",
       "      <td>36.300000</td>\n",
       "      <td>6.540000</td>\n",
       "      <td>89.000000</td>\n",
       "      <td>3.100000</td>\n",
       "      <td>2.870000</td>\n",
       "      <td>3.000000</td>\n",
       "    </tr>\n",
       "  </tbody>\n",
       "</table>\n",
       "</div>"
      ],
      "text/plain": [
       "               ta_h            tr         vel_h            rh           met  \\\n",
       "count  14861.000000  14861.000000  14861.000000  14861.000000  14861.000000   \n",
       "mean      24.481171     24.347124      0.202645     51.515186      1.209126   \n",
       "std        3.026901      3.159064      0.250611     14.457996      0.205215   \n",
       "min       10.100000      8.500000      0.000000      8.900000      0.700000   \n",
       "25%       22.660000     22.485790      0.080000     41.195754      1.100000   \n",
       "50%       23.800000     23.600000      0.138955     53.052908      1.200000   \n",
       "75%       26.600000     26.238518      0.250000     62.200000      1.200000   \n",
       "max       34.600000     36.300000      6.540000     89.000000      3.100000   \n",
       "\n",
       "                clo  thermal_sensation  \n",
       "count  14861.000000       14861.000000  \n",
       "mean       0.587638          -0.019958  \n",
       "std        0.291305           1.267191  \n",
       "min        0.040000          -3.000000  \n",
       "25%        0.393840          -1.000000  \n",
       "50%        0.530000           0.000000  \n",
       "75%        0.710000           1.000000  \n",
       "max        2.870000           3.000000  "
      ]
     },
     "execution_count": 4,
     "metadata": {},
     "output_type": "execute_result"
    }
   ],
   "source": [
    "data_for_causal.describe()"
   ]
  },
  {
   "cell_type": "code",
   "execution_count": 5,
   "metadata": {
    "pycharm": {
     "name": "#%%\n"
    }
   },
   "outputs": [
    {
     "name": "stdout",
     "output_type": "stream",
     "text": [
      "Estimand type: nonparametric-ate\n",
      "\n",
      "### Estimand : 1\n",
      "Estimand name: backdoor\n",
      "Estimand expression:\n",
      "  d                                  \n",
      "──────(E[thermal_sensation|rh,vel_h])\n",
      "d[taₕ]                               \n",
      "Estimand assumption 1, Unconfoundedness: If U→{ta_h} and U→thermal_sensation then P(thermal_sensation|ta_h,rh,vel_h,U) = P(thermal_sensation|ta_h,rh,vel_h)\n",
      "\n",
      "### Estimand : 2\n",
      "Estimand name: iv\n",
      "No such variable(s) found!\n",
      "\n",
      "### Estimand : 3\n",
      "Estimand name: frontdoor\n",
      "No such variable(s) found!\n",
      "\n"
     ]
    }
   ],
   "source": [
    "# Initializing causal model\n",
    "model = CausalModel(data=data_for_causal,\n",
    "                     graph=G.source.replace(\"\\t\", ' ').replace(\"\\n\", ' '),\n",
    "                     treatment=\"ta_h\",\n",
    "                     outcome=\"thermal_sensation\")\n",
    "\n",
    "# Identifying the estimation method\n",
    "identified_estimand= model.identify_effect(proceed_when_unidentifiable=True)\n",
    "print(identified_estimand)"
   ]
  },
  {
   "cell_type": "code",
   "execution_count": 6,
   "metadata": {
    "pycharm": {
     "name": "#%%\n"
    }
   },
   "outputs": [
    {
     "name": "stdout",
     "output_type": "stream",
     "text": [
      "0.344423708569441\n"
     ]
    }
   ],
   "source": [
    "random_state = 120\n",
    "dml_estimate = model.estimate_effect(identified_estimand,\n",
    "                                     method_name=\"backdoor.econml.dml.DML\", # Calling EconMl double machine learning algorithm\n",
    "                                   #   control_value = 0,\n",
    "                                     treatment_value = 2,\n",
    "                                    #  target_units = 'ate',\n",
    "                                     confidence_intervals=False,\n",
    "                                method_params={\"init_params\":{'model_y':GradientBoostingRegressor(random_state=random_state, learning_rate=0.0001),\n",
    "                                                              'model_t': GradientBoostingRegressor(random_state=random_state, learning_rate=0.0001),\n",
    "                                                              \"model_final\":LassoCV(fit_intercept=False, random_state=random_state),\n",
    "                                                              'featurizer':PolynomialFeatures(degree=1, include_bias=True),\n",
    "                                                              'random_state':random_state},\n",
    "                                               \"fit_params\":{}})\n",
    "print(dml_estimate.value)"
   ]
  },
  {
   "cell_type": "code",
   "execution_count": null,
   "metadata": {
    "pycharm": {
     "name": "#%%\n"
    }
   },
   "outputs": [],
   "source": [
    "# Random cause\n",
    "res_random=model.refute_estimate(identified_estimand, dml_estimate, method_name=\"random_common_cause\", random_seed=123)\n",
    "print(res_random)\n",
    "\n",
    "# Add Unobserved Common Causes\n",
    "res_unobserved=model.refute_estimate(identified_estimand, dml_estimate, method_name=\"add_unobserved_common_cause\",\n",
    "                                     confounders_effect_on_treatment=\"linear\", confounders_effect_on_outcome=\"linear\",\n",
    "                                    effect_strength_on_treatment=0.01, effect_strength_on_outcome=0.02, random_seed=123)\n",
    "print(res_unobserved)\n",
    "\n",
    "# Placebo Treatment\n",
    "res_placebo=model.refute_estimate(identified_estimand, dml_estimate,\n",
    "        method_name=\"placebo_treatment_refuter\", random_seed=123)\n",
    "print(res_placebo)\n",
    "\n",
    "\n",
    "# Data Subsets Validation\n",
    "res_subset=model.refute_estimate(identified_estimand, dml_estimate,\n",
    "        method_name=\"data_subset_refuter\", subset_fraction=0.8,\n",
    "        num_simulations=10, random_seed=123)\n",
    "print(res_subset)"
   ]
  },
  {
   "cell_type": "code",
   "execution_count": null,
   "metadata": {
    "pycharm": {
     "name": "#%%\n"
    }
   },
   "outputs": [],
   "source": []
  }
 ],
 "metadata": {
  "kernelspec": {
   "display_name": "thesis",
   "language": "python",
   "name": "python3"
  },
  "language_info": {
   "codemirror_mode": {
    "name": "ipython",
    "version": 3
   },
   "file_extension": ".py",
   "mimetype": "text/x-python",
   "name": "python",
   "nbconvert_exporter": "python",
   "pygments_lexer": "ipython3",
   "version": "3.10.8"
  },
  "orig_nbformat": 4,
  "vscode": {
   "interpreter": {
    "hash": "98c1c43490eba6286d7b33394c160ddc91e627c1db7e92063dec856a85670976"
   }
  }
 },
 "nbformat": 4,
 "nbformat_minor": 2
}
