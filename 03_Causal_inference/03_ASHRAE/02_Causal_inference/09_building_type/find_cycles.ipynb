{
 "cells": [
  {
   "cell_type": "code",
   "execution_count": 2,
   "metadata": {
    "collapsed": true
   },
   "outputs": [
    {
     "data": {
      "text/plain": [
       "[]"
      ]
     },
     "execution_count": 2,
     "metadata": {},
     "output_type": "execute_result"
    }
   ],
   "source": [
    "import networkx as nx\n",
    "import matplotlib.pyplot as plt\n",
    "\n",
    "# Create Directed Graph\n",
    "G=nx.DiGraph()\n",
    "\n",
    "G.add_edge(\"ta\" , \"tr\")\n",
    "G.add_edge(\"vel\" , \"ta\")\n",
    "G.add_edge(\"rh\" , \"ta\")\n",
    "G.add_edge(\"ta\" , \"clo\")\n",
    "G.add_edge(\"ta\" , \"thermal_sensation\")\n",
    "G.add_edge(\"vel\" , \"tr\")\n",
    "G.add_edge(\"rh\" , \"tr\")\n",
    "G.add_edge(\"tr\" , \"clo\")\n",
    "G.add_edge(\"tr\" , \"thermal_sensation\")\n",
    "G.add_edge(\"vel\" , \"clo\")\n",
    "G.add_edge(\"vel\" , \"thermal_sensation\")\n",
    "G.add_edge(\"rh\" , \"clo\")\n",
    "G.add_edge(\"rh\" , \"thermal_sensation\")\n",
    "G.add_edge(\"met\" , \"thermal_sensation\")\n",
    "G.add_edge(\"clo\" , \"thermal_sensation\")\n",
    "\n",
    "######################################\n",
    "#########################################\n",
    "\n",
    "G.add_edge(\"vel\" , \"thermal_acceptability\")\n",
    "G.add_edge(\"rh\" , \"thermal_acceptability\")\n",
    "G.add_edge(\"met\" , \"thermal_acceptability\")\n",
    "G.add_edge(\"clo\" , \"thermal_acceptability\")\n",
    "G.add_edge(\"thermal_acceptability\" , \"thermal_sensation\")\n",
    "\n",
    "#Return a list of cycles described as a list o nodes\n",
    "list(nx.simple_cycles(G))"
   ]
  },
  {
   "cell_type": "code",
   "execution_count": 2,
   "metadata": {
    "collapsed": false
   },
   "outputs": [
    {
     "data": {
      "text/plain": [
       "<generator object simple_cycles at 0x0000022055A65B60>"
      ]
     },
     "execution_count": 2,
     "metadata": {},
     "output_type": "execute_result"
    }
   ],
   "source": [
    "nx.simple_cycles(G)"
   ]
  },
  {
   "cell_type": "code",
   "execution_count": null,
   "metadata": {
    "collapsed": false
   },
   "outputs": [],
   "source": []
  },
  {
   "cell_type": "code",
   "execution_count": null,
   "metadata": {
    "collapsed": false,
    "pycharm": {
     "is_executing": true
    }
   },
   "outputs": [],
   "source": []
  },
  {
   "cell_type": "code",
   "execution_count": null,
   "metadata": {
    "collapsed": false
   },
   "outputs": [],
   "source": []
  }
 ],
 "metadata": {
  "kernelspec": {
   "display_name": "Python 3",
   "language": "python",
   "name": "python3"
  },
  "language_info": {
   "codemirror_mode": {
    "name": "ipython",
    "version": 3
   },
   "file_extension": ".py",
   "mimetype": "text/x-python",
   "name": "python",
   "nbconvert_exporter": "python",
   "pygments_lexer": "ipython3",
   "version": "3.10.6"
  }
 },
 "nbformat": 4,
 "nbformat_minor": 0
}
