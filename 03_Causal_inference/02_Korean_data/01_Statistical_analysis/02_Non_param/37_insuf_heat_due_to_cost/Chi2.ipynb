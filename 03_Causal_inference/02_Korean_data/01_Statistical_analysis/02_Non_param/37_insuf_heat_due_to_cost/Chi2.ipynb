{
 "cells": [
  {
   "cell_type": "code",
   "execution_count": 1,
   "metadata": {},
   "outputs": [],
   "source": [
    "import pandas as pd\n",
    "from bioinfokit.analys import stat\n",
    "df = pd.read_excel('data.xlsx')\n",
    "import numpy as np\n"
   ]
  },
  {
   "cell_type": "code",
   "execution_count": 2,
   "metadata": {},
   "outputs": [],
   "source": [
    "data = df.copy()\n",
    "data = data.loc[(data['insuf_heat_due_to_cost'] != -2)]"
   ]
  },
  {
   "cell_type": "code",
   "execution_count": 3,
   "metadata": {},
   "outputs": [
    {
     "name": "stdout",
     "output_type": "stream",
     "text": [
      "\n",
      "Chi-squared test for independence\n",
      "\n",
      "Test              Df    Chi-square    P-value\n",
      "--------------  ----  ------------  ---------\n",
      "Pearson            6       11.9209  0.0637573\n",
      "Log-likelihood     6       12.6276  0.0493452\n",
      "\n"
     ]
    }
   ],
   "source": [
    "x = data.copy()\n",
    "x = x.loc[(x['insul_added_material'] != -2)]\n",
    "\n",
    "ctab = pd.crosstab(x['insuf_heat_due_to_cost'], x['insul_added_material'])\n",
    "res = stat()\n",
    "res.chisq(df=ctab)\n",
    "print(res.summary)"
   ]
  },
  {
   "cell_type": "code",
   "execution_count": 4,
   "metadata": {},
   "outputs": [
    {
     "name": "stdout",
     "output_type": "stream",
     "text": [
      "\n",
      "Chi-squared test for independence\n",
      "\n",
      "Test              Df    Chi-square    P-value\n",
      "--------------  ----  ------------  ---------\n",
      "Pearson            3       3.46285   0.325612\n",
      "Log-likelihood     3       4.83174   0.184541\n",
      "\n"
     ]
    }
   ],
   "source": [
    "x = data.copy()\n",
    "x = x.loc[(x['improve_energy_method'] != -2)]\n",
    "\n",
    "ctab = pd.crosstab(x['insuf_heat_due_to_cost'], x['improve_energy_method'])\n",
    "res = stat()\n",
    "res.chisq(df=ctab)\n",
    "print(res.summary)"
   ]
  },
  {
   "cell_type": "code",
   "execution_count": 5,
   "metadata": {},
   "outputs": [
    {
     "name": "stdout",
     "output_type": "stream",
     "text": [
      "\n",
      "Chi-squared test for independence\n",
      "\n",
      "Test              Df    Chi-square    P-value\n",
      "--------------  ----  ------------  ---------\n",
      "Pearson            2       1.00314   0.605578\n",
      "Log-likelihood     2       1.71735   0.423724\n",
      "\n"
     ]
    }
   ],
   "source": [
    "x = data.copy()\n",
    "x = x.loc[(x['energy_savinng_prog'] != -2)]\n",
    "\n",
    "ctab = pd.crosstab(x['insuf_heat_due_to_cost'], x['energy_savinng_prog'])\n",
    "res = stat()\n",
    "res.chisq(df=ctab)\n",
    "print(res.summary)"
   ]
  },
  {
   "cell_type": "code",
   "execution_count": 6,
   "metadata": {},
   "outputs": [
    {
     "name": "stdout",
     "output_type": "stream",
     "text": [
      "\n",
      "Chi-squared test for independence\n",
      "\n",
      "Test              Df    Chi-square    P-value\n",
      "--------------  ----  ------------  ---------\n",
      "Pearson            2       3.7593   0.152644\n",
      "Log-likelihood     2       4.83078  0.0893324\n",
      "\n"
     ]
    }
   ],
   "source": [
    "x = data.copy()\n",
    "x = x.loc[(x['N_of_house_members_category'] != -2)]\n",
    "\n",
    "ctab = pd.crosstab(x['insuf_heat_due_to_cost'], x['N_of_house_members_category'])\n",
    "res = stat()\n",
    "res.chisq(df=ctab)\n",
    "print(res.summary)"
   ]
  },
  {
   "cell_type": "code",
   "execution_count": 7,
   "metadata": {},
   "outputs": [
    {
     "name": "stdout",
     "output_type": "stream",
     "text": [
      "\n",
      "Chi-squared test for independence\n",
      "\n",
      "Test              Df    Chi-square    P-value\n",
      "--------------  ----  ------------  ---------\n",
      "Pearson            1      0.178444   0.672714\n",
      "Log-likelihood     1      0.176746   0.674184\n",
      "\n"
     ]
    }
   ],
   "source": [
    "x = data.copy()\n",
    "x = x.loc[(x['gender'] != -2)]\n",
    "\n",
    "ctab = pd.crosstab(x['insuf_heat_due_to_cost'], x['gender'])\n",
    "res = stat()\n",
    "res.chisq(df=ctab)\n",
    "print(res.summary)"
   ]
  },
  {
   "cell_type": "code",
   "execution_count": 8,
   "metadata": {},
   "outputs": [
    {
     "name": "stdout",
     "output_type": "stream",
     "text": [
      "\n",
      "Chi-squared test for independence\n",
      "\n",
      "Test              Df    Chi-square    P-value\n",
      "--------------  ----  ------------  ---------\n",
      "Pearson            4       8.72738  0.0682868\n",
      "Log-likelihood     4       8.54362  0.073576\n",
      "\n"
     ]
    }
   ],
   "source": [
    "x = data.copy()\n",
    "x = x.loc[(x['head_house_age_group'] != -2)]\n",
    "\n",
    "ctab = pd.crosstab(x['insuf_heat_due_to_cost'], x['head_house_age_group'])\n",
    "res = stat()\n",
    "res.chisq(df=ctab)\n",
    "print(res.summary)"
   ]
  },
  {
   "cell_type": "code",
   "execution_count": 9,
   "metadata": {},
   "outputs": [
    {
     "name": "stdout",
     "output_type": "stream",
     "text": [
      "\n",
      "Chi-squared test for independence\n",
      "\n",
      "Test              Df    Chi-square    P-value\n",
      "--------------  ----  ------------  ---------\n",
      "Pearson            3       1.56796   0.666677\n",
      "Log-likelihood     3       2.0421    0.563715\n",
      "\n"
     ]
    }
   ],
   "source": [
    "x = data.copy()\n",
    "x = x.loc[(x['head_house_edu_group'] != -2)]\n",
    "\n",
    "ctab = pd.crosstab(x['insuf_heat_due_to_cost'], x['head_house_edu_group'])\n",
    "res = stat()\n",
    "res.chisq(df=ctab)\n",
    "print(res.summary)"
   ]
  },
  {
   "cell_type": "code",
   "execution_count": 10,
   "metadata": {},
   "outputs": [
    {
     "name": "stdout",
     "output_type": "stream",
     "text": [
      "\n",
      "Chi-squared test for independence\n",
      "\n",
      "Test              Df    Chi-square    P-value\n",
      "--------------  ----  ------------  ---------\n",
      "Pearson            5       6.18071   0.28903\n",
      "Log-likelihood     5       6.27585   0.280295\n",
      "\n"
     ]
    }
   ],
   "source": [
    "x = data.copy()\n",
    "x = x.loc[(x['head_house_occ_group'] != -2)]\n",
    "\n",
    "ctab = pd.crosstab(x['insuf_heat_due_to_cost'], x['head_house_occ_group'])\n",
    "res = stat()\n",
    "res.chisq(df=ctab)\n",
    "print(res.summary)"
   ]
  },
  {
   "cell_type": "code",
   "execution_count": 11,
   "metadata": {},
   "outputs": [
    {
     "name": "stdout",
     "output_type": "stream",
     "text": [
      "\n",
      "Chi-squared test for independence\n",
      "\n",
      "Test              Df    Chi-square    P-value\n",
      "--------------  ----  ------------  ---------\n",
      "Pearson            6       3.88452   0.6923\n",
      "Log-likelihood     6       5.13394   0.526753\n",
      "\n"
     ]
    }
   ],
   "source": [
    "x = data.copy()\n",
    "x = x.loc[(x['head_house_income_source_group'] != -2)]\n",
    "\n",
    "ctab = pd.crosstab(x['insuf_heat_due_to_cost'], x['head_house_income_source_group'])\n",
    "res = stat()\n",
    "res.chisq(df=ctab)\n",
    "print(res.summary)"
   ]
  },
  {
   "cell_type": "code",
   "execution_count": 12,
   "metadata": {},
   "outputs": [
    {
     "name": "stdout",
     "output_type": "stream",
     "text": [
      "\n",
      "Chi-squared test for independence\n",
      "\n",
      "Test              Df    Chi-square    P-value\n",
      "--------------  ----  ------------  ---------\n",
      "Pearson            0             0          1\n",
      "Log-likelihood     0             0          1\n",
      "\n"
     ]
    }
   ],
   "source": [
    "x = data.copy()\n",
    "x = x.loc[(x['house_member_pregnant'] != -2)]\n",
    "\n",
    "ctab = pd.crosstab(x['insuf_heat_due_to_cost'], x['house_member_pregnant'])\n",
    "res = stat()\n",
    "res.chisq(df=ctab)\n",
    "print(res.summary)"
   ]
  },
  {
   "cell_type": "code",
   "execution_count": 13,
   "metadata": {},
   "outputs": [
    {
     "name": "stdout",
     "output_type": "stream",
     "text": [
      "\n",
      "Chi-squared test for independence\n",
      "\n",
      "Test              Df    Chi-square    P-value\n",
      "--------------  ----  ------------  ---------\n",
      "Pearson            2       3.69098   0.157948\n",
      "Log-likelihood     2       3.39475   0.183163\n",
      "\n"
     ]
    }
   ],
   "source": [
    "x = data.copy()\n",
    "x = x.loc[(x['annual_income_category'] != -2)]\n",
    "\n",
    "ctab = pd.crosstab(x['insuf_heat_due_to_cost'], x['annual_income_category'])\n",
    "res = stat()\n",
    "res.chisq(df=ctab)\n",
    "print(res.summary)"
   ]
  },
  {
   "cell_type": "code",
   "execution_count": 14,
   "metadata": {},
   "outputs": [
    {
     "name": "stdout",
     "output_type": "stream",
     "text": [
      "\n",
      "Chi-squared test for independence\n",
      "\n",
      "Test              Df    Chi-square    P-value\n",
      "--------------  ----  ------------  ---------\n",
      "Pearson            3       5.13294   0.162318\n",
      "Log-likelihood     3       5.00981   0.17108\n",
      "\n"
     ]
    }
   ],
   "source": [
    "x = data.copy()\n",
    "x = x.loc[(x['av_monthly_income_group'] != -2)]\n",
    "\n",
    "ctab = pd.crosstab(x['insuf_heat_due_to_cost'], x['av_monthly_income_group'])\n",
    "res = stat()\n",
    "res.chisq(df=ctab)\n",
    "print(res.summary)"
   ]
  },
  {
   "cell_type": "code",
   "execution_count": null,
   "metadata": {},
   "outputs": [],
   "source": []
  }
 ],
 "metadata": {
  "kernelspec": {
   "display_name": "thesis",
   "language": "python",
   "name": "python3"
  },
  "language_info": {
   "codemirror_mode": {
    "name": "ipython",
    "version": 3
   },
   "file_extension": ".py",
   "mimetype": "text/x-python",
   "name": "python",
   "nbconvert_exporter": "python",
   "pygments_lexer": "ipython3",
   "version": "3.10.8"
  },
  "orig_nbformat": 4,
  "vscode": {
   "interpreter": {
    "hash": "d3e156ba609d3fe88450c2dc1973615cb05d3710a7f9768d2badc7f539ca2834"
   }
  }
 },
 "nbformat": 4,
 "nbformat_minor": 2
}
