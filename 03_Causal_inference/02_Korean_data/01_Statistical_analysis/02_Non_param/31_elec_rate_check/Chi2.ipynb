{
 "cells": [
  {
   "cell_type": "code",
   "execution_count": 1,
   "metadata": {},
   "outputs": [],
   "source": [
    "import pandas as pd\n",
    "from bioinfokit.analys import stat\n",
    "df = pd.read_excel('data.xlsx')\n",
    "import numpy as np\n"
   ]
  },
  {
   "cell_type": "code",
   "execution_count": 2,
   "metadata": {},
   "outputs": [],
   "source": [
    "data = df.copy()\n",
    "data = data.loc[(data['elec_rate_check'] != -2)]"
   ]
  },
  {
   "cell_type": "code",
   "execution_count": 3,
   "metadata": {},
   "outputs": [
    {
     "name": "stdout",
     "output_type": "stream",
     "text": [
      "\n",
      "Chi-squared test for independence\n",
      "\n",
      "Test              Df    Chi-square       P-value\n",
      "--------------  ----  ------------  ------------\n",
      "Pearson            1       575.908  2.91123e-127\n",
      "Log-likelihood     1       638.503  7.07234e-141\n",
      "\n"
     ]
    }
   ],
   "source": [
    "x = data.copy()\n",
    "x = x.loc[(x['city_g_rate_check'] != -2)]\n",
    "\n",
    "ctab = pd.crosstab(x['elec_rate_check'], x['city_g_rate_check'])\n",
    "res = stat()\n",
    "res.chisq(df=ctab)\n",
    "print(res.summary)"
   ]
  },
  {
   "cell_type": "code",
   "execution_count": 4,
   "metadata": {},
   "outputs": [
    {
     "name": "stdout",
     "output_type": "stream",
     "text": [
      "\n",
      "Chi-squared test for independence\n",
      "\n",
      "Test              Df    Chi-square    P-value\n",
      "--------------  ----  ------------  ---------\n",
      "Pearson            0             0          1\n",
      "Log-likelihood     0             0          1\n",
      "\n"
     ]
    }
   ],
   "source": [
    "x = data.copy()\n",
    "x = x.loc[(x['why_not_check_city_el_rate'] != -2)]\n",
    "\n",
    "ctab = pd.crosstab(x['elec_rate_check'], x['why_not_check_city_el_rate'])\n",
    "res = stat()\n",
    "res.chisq(df=ctab)\n",
    "print(res.summary)"
   ]
  },
  {
   "cell_type": "code",
   "execution_count": 5,
   "metadata": {},
   "outputs": [
    {
     "name": "stdout",
     "output_type": "stream",
     "text": [
      "\n",
      "Chi-squared test for independence\n",
      "\n",
      "Test              Df    Chi-square      P-value\n",
      "--------------  ----  ------------  -----------\n",
      "Pearson            3       26.8797  6.23926e-06\n",
      "Log-likelihood     3       34.2116  1.78756e-07\n",
      "\n"
     ]
    }
   ],
   "source": [
    "x = data.copy()\n",
    "x = x.loc[(x['why_not_check_city_g_rate'] != -2)]\n",
    "\n",
    "ctab = pd.crosstab(x['elec_rate_check'], x['why_not_check_city_g_rate'])\n",
    "res = stat()\n",
    "res.chisq(df=ctab)\n",
    "print(res.summary)"
   ]
  },
  {
   "cell_type": "code",
   "execution_count": 6,
   "metadata": {},
   "outputs": [
    {
     "name": "stdout",
     "output_type": "stream",
     "text": [
      "\n",
      "Chi-squared test for independence\n",
      "\n",
      "Test              Df    Chi-square    P-value\n",
      "--------------  ----  ------------  ---------\n",
      "Pearson            3      0.444078   0.930994\n",
      "Log-likelihood     3      0.437795   0.932329\n",
      "\n"
     ]
    }
   ],
   "source": [
    "x = data.copy()\n",
    "x = x.loc[(x['gas_avg_monthly_heat_cost_group'] != -2)]\n",
    "\n",
    "ctab = pd.crosstab(x['elec_rate_check'], x['gas_avg_monthly_heat_cost_group'])\n",
    "res = stat()\n",
    "res.chisq(df=ctab)\n",
    "print(res.summary)"
   ]
  },
  {
   "cell_type": "code",
   "execution_count": 3,
   "metadata": {},
   "outputs": [
    {
     "name": "stdout",
     "output_type": "stream",
     "text": [
      "\n",
      "Chi-squared test for independence\n",
      "\n",
      "Test              Df    Chi-square    P-value\n",
      "--------------  ----  ------------  ---------\n",
      "Pearson            2       4.08538   0.129679\n",
      "Log-likelihood     2       4.07915   0.130084\n",
      "\n"
     ]
    }
   ],
   "source": [
    "x = data.copy()\n",
    "x = x.loc[(x['gas_last_winter_heat_statisfaction'] != -2)]\n",
    "\n",
    "ctab = pd.crosstab(x['elec_rate_check'], x['gas_last_winter_heat_statisfaction'])\n",
    "res = stat()\n",
    "res.chisq(df=ctab)\n",
    "print(res.summary)"
   ]
  },
  {
   "cell_type": "code",
   "execution_count": 8,
   "metadata": {},
   "outputs": [
    {
     "name": "stdout",
     "output_type": "stream",
     "text": [
      "\n",
      "Chi-squared test for independence\n",
      "\n",
      "Test              Df    Chi-square    P-value\n",
      "--------------  ----  ------------  ---------\n",
      "Pearson            1       2.74823  0.0973622\n",
      "Log-likelihood     1       2.8211   0.0930324\n",
      "\n"
     ]
    }
   ],
   "source": [
    "x = data.copy()\n",
    "x = x.loc[(x['insuf_heat_due_to_cost'] != -2)]\n",
    "\n",
    "ctab = pd.crosstab(x['elec_rate_check'], x['insuf_heat_due_to_cost'])\n",
    "res = stat()\n",
    "res.chisq(df=ctab)\n",
    "print(res.summary)"
   ]
  },
  {
   "cell_type": "code",
   "execution_count": 9,
   "metadata": {},
   "outputs": [
    {
     "name": "stdout",
     "output_type": "stream",
     "text": [
      "\n",
      "Chi-squared test for independence\n",
      "\n",
      "Test              Df    Chi-square    P-value\n",
      "--------------  ----  ------------  ---------\n",
      "Pearson            6       11.1884  0.0827247\n",
      "Log-likelihood     6       11.2207  0.0817892\n",
      "\n"
     ]
    }
   ],
   "source": [
    "x = data.copy()\n",
    "x = x.loc[(x['insul_added_material'] != -2)]\n",
    "\n",
    "ctab = pd.crosstab(x['elec_rate_check'], x['insul_added_material'])\n",
    "res = stat()\n",
    "res.chisq(df=ctab)\n",
    "print(res.summary)"
   ]
  },
  {
   "cell_type": "code",
   "execution_count": 10,
   "metadata": {},
   "outputs": [
    {
     "name": "stdout",
     "output_type": "stream",
     "text": [
      "\n",
      "Chi-squared test for independence\n",
      "\n",
      "Test              Df    Chi-square     P-value\n",
      "--------------  ----  ------------  ----------\n",
      "Pearson            5       15.4044  0.00876711\n",
      "Log-likelihood     5       15.8275  0.00735422\n",
      "\n"
     ]
    }
   ],
   "source": [
    "x = data.copy()\n",
    "x = x.loc[(x['improve_energy_method'] != -2)]\n",
    "\n",
    "ctab = pd.crosstab(x['elec_rate_check'], x['improve_energy_method'])\n",
    "res = stat()\n",
    "res.chisq(df=ctab)\n",
    "print(res.summary)"
   ]
  },
  {
   "cell_type": "code",
   "execution_count": 11,
   "metadata": {},
   "outputs": [
    {
     "name": "stdout",
     "output_type": "stream",
     "text": [
      "\n",
      "Chi-squared test for independence\n",
      "\n",
      "Test              Df    Chi-square     P-value\n",
      "--------------  ----  ------------  ----------\n",
      "Pearson            2       9.50402  0.00863434\n",
      "Log-likelihood     2      10.2447   0.005962\n",
      "\n"
     ]
    }
   ],
   "source": [
    "x = data.copy()\n",
    "x = x.loc[(x['energy_savinng_prog'] != -2)]\n",
    "\n",
    "ctab = pd.crosstab(x['elec_rate_check'], x['energy_savinng_prog'])\n",
    "res = stat()\n",
    "res.chisq(df=ctab)\n",
    "print(res.summary)"
   ]
  },
  {
   "cell_type": "code",
   "execution_count": 12,
   "metadata": {},
   "outputs": [
    {
     "name": "stdout",
     "output_type": "stream",
     "text": [
      "\n",
      "Chi-squared test for independence\n",
      "\n",
      "Test              Df    Chi-square     P-value\n",
      "--------------  ----  ------------  ----------\n",
      "Pearson            3       13.3426  0.00395142\n",
      "Log-likelihood     3       13.7709  0.0032341\n",
      "\n"
     ]
    }
   ],
   "source": [
    "x = data.copy()\n",
    "x = x.loc[(x['N_of_house_members_category'] != -2)]\n",
    "\n",
    "ctab = pd.crosstab(x['elec_rate_check'], x['N_of_house_members_category'])\n",
    "res = stat()\n",
    "res.chisq(df=ctab)\n",
    "print(res.summary)"
   ]
  },
  {
   "cell_type": "code",
   "execution_count": 13,
   "metadata": {},
   "outputs": [
    {
     "name": "stdout",
     "output_type": "stream",
     "text": [
      "\n",
      "Chi-squared test for independence\n",
      "\n",
      "Test              Df    Chi-square    P-value\n",
      "--------------  ----  ------------  ---------\n",
      "Pearson            1       5.07728  0.0242413\n",
      "Log-likelihood     1       5.06978  0.0243464\n",
      "\n"
     ]
    }
   ],
   "source": [
    "x = data.copy()\n",
    "x = x.loc[(x['gender'] != -2)]\n",
    "\n",
    "ctab = pd.crosstab(x['elec_rate_check'], x['gender'])\n",
    "res = stat()\n",
    "res.chisq(df=ctab)\n",
    "print(res.summary)"
   ]
  },
  {
   "cell_type": "code",
   "execution_count": 14,
   "metadata": {},
   "outputs": [
    {
     "name": "stdout",
     "output_type": "stream",
     "text": [
      "\n",
      "Chi-squared test for independence\n",
      "\n",
      "Test              Df    Chi-square    P-value\n",
      "--------------  ----  ------------  ---------\n",
      "Pearson            4       7.96899  0.0927206\n",
      "Log-likelihood     4       7.98141  0.0922616\n",
      "\n"
     ]
    }
   ],
   "source": [
    "x = data.copy()\n",
    "x = x.loc[(x['head_house_age_group'] != -2)]\n",
    "\n",
    "ctab = pd.crosstab(x['elec_rate_check'], x['head_house_age_group'])\n",
    "res = stat()\n",
    "res.chisq(df=ctab)\n",
    "print(res.summary)"
   ]
  },
  {
   "cell_type": "code",
   "execution_count": 15,
   "metadata": {},
   "outputs": [
    {
     "name": "stdout",
     "output_type": "stream",
     "text": [
      "\n",
      "Chi-squared test for independence\n",
      "\n",
      "Test              Df    Chi-square     P-value\n",
      "--------------  ----  ------------  ----------\n",
      "Pearson            3       15.3628  0.00153144\n",
      "Log-likelihood     3       15.4345  0.0014806\n",
      "\n"
     ]
    }
   ],
   "source": [
    "x = data.copy()\n",
    "x = x.loc[(x['head_house_edu_group'] != -2)]\n",
    "\n",
    "ctab = pd.crosstab(x['elec_rate_check'], x['head_house_edu_group'])\n",
    "res = stat()\n",
    "res.chisq(df=ctab)\n",
    "print(res.summary)"
   ]
  },
  {
   "cell_type": "code",
   "execution_count": 16,
   "metadata": {},
   "outputs": [
    {
     "name": "stdout",
     "output_type": "stream",
     "text": [
      "\n",
      "Chi-squared test for independence\n",
      "\n",
      "Test              Df    Chi-square      P-value\n",
      "--------------  ----  ------------  -----------\n",
      "Pearson            5       25.4096  0.000116117\n",
      "Log-likelihood     5       25.6337  0.000105083\n",
      "\n"
     ]
    }
   ],
   "source": [
    "x = data.copy()\n",
    "x = x.loc[(x['head_house_occ_group'] != -2)]\n",
    "\n",
    "ctab = pd.crosstab(x['elec_rate_check'], x['head_house_occ_group'])\n",
    "res = stat()\n",
    "res.chisq(df=ctab)\n",
    "print(res.summary)"
   ]
  },
  {
   "cell_type": "code",
   "execution_count": 17,
   "metadata": {},
   "outputs": [
    {
     "name": "stdout",
     "output_type": "stream",
     "text": [
      "\n",
      "Chi-squared test for independence\n",
      "\n",
      "Test              Df    Chi-square    P-value\n",
      "--------------  ----  ------------  ---------\n",
      "Pearson            6       14.575   0.023833\n",
      "Log-likelihood     6       14.7021  0.0227046\n",
      "\n"
     ]
    }
   ],
   "source": [
    "x = data.copy()\n",
    "x = x.loc[(x['head_house_income_source_group'] != -2)]\n",
    "\n",
    "ctab = pd.crosstab(x['elec_rate_check'], x['head_house_income_source_group'])\n",
    "res = stat()\n",
    "res.chisq(df=ctab)\n",
    "print(res.summary)"
   ]
  },
  {
   "cell_type": "code",
   "execution_count": 18,
   "metadata": {},
   "outputs": [
    {
     "name": "stdout",
     "output_type": "stream",
     "text": [
      "\n",
      "Chi-squared test for independence\n",
      "\n",
      "Test              Df    Chi-square    P-value\n",
      "--------------  ----  ------------  ---------\n",
      "Pearson            1     0.0464565   0.829348\n",
      "Log-likelihood     1     0.0463747   0.829496\n",
      "\n"
     ]
    }
   ],
   "source": [
    "x = data.copy()\n",
    "x = x.loc[(x['house_member_pregnant'] != -2)]\n",
    "\n",
    "ctab = pd.crosstab(x['elec_rate_check'], x['house_member_pregnant'])\n",
    "res = stat()\n",
    "res.chisq(df=ctab)\n",
    "print(res.summary)"
   ]
  },
  {
   "cell_type": "code",
   "execution_count": 19,
   "metadata": {},
   "outputs": [
    {
     "name": "stdout",
     "output_type": "stream",
     "text": [
      "\n",
      "Chi-squared test for independence\n",
      "\n",
      "Test              Df    Chi-square    P-value\n",
      "--------------  ----  ------------  ---------\n",
      "Pearson            4       2.85134   0.583003\n",
      "Log-likelihood     4       3.62424   0.459241\n",
      "\n"
     ]
    }
   ],
   "source": [
    "x = data.copy()\n",
    "x = x.loc[(x['annual_income_category'] != -2)]\n",
    "\n",
    "ctab = pd.crosstab(x['elec_rate_check'], x['annual_income_category'])\n",
    "res = stat()\n",
    "res.chisq(df=ctab)\n",
    "print(res.summary)"
   ]
  },
  {
   "cell_type": "code",
   "execution_count": 20,
   "metadata": {},
   "outputs": [
    {
     "name": "stdout",
     "output_type": "stream",
     "text": [
      "\n",
      "Chi-squared test for independence\n",
      "\n",
      "Test              Df    Chi-square    P-value\n",
      "--------------  ----  ------------  ---------\n",
      "Pearson            3       8.04804  0.0450292\n",
      "Log-likelihood     3       8.05579  0.0448727\n",
      "\n"
     ]
    }
   ],
   "source": [
    "x = data.copy()\n",
    "x = x.loc[(x['av_monthly_income_group'] != -2)]\n",
    "\n",
    "ctab = pd.crosstab(x['elec_rate_check'], x['av_monthly_income_group'])\n",
    "res = stat()\n",
    "res.chisq(df=ctab)\n",
    "print(res.summary)"
   ]
  },
  {
   "cell_type": "code",
   "execution_count": null,
   "metadata": {},
   "outputs": [],
   "source": []
  }
 ],
 "metadata": {
  "kernelspec": {
   "display_name": "thesis",
   "language": "python",
   "name": "python3"
  },
  "language_info": {
   "codemirror_mode": {
    "name": "ipython",
    "version": 3
   },
   "file_extension": ".py",
   "mimetype": "text/x-python",
   "name": "python",
   "nbconvert_exporter": "python",
   "pygments_lexer": "ipython3",
   "version": "3.10.6"
  },
  "orig_nbformat": 4,
  "vscode": {
   "interpreter": {
    "hash": "d3e156ba609d3fe88450c2dc1973615cb05d3710a7f9768d2badc7f539ca2834"
   }
  }
 },
 "nbformat": 4,
 "nbformat_minor": 2
}
