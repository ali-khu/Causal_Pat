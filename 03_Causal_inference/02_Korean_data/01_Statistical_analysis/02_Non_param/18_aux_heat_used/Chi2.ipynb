{
 "cells": [
  {
   "cell_type": "code",
   "execution_count": 1,
   "metadata": {},
   "outputs": [],
   "source": [
    "import pandas as pd\n",
    "from bioinfokit.analys import stat\n",
    "df = pd.read_excel('data.xlsx')\n",
    "import numpy as np\n"
   ]
  },
  {
   "cell_type": "code",
   "execution_count": 2,
   "metadata": {},
   "outputs": [],
   "source": [
    "data = df.copy()\n",
    "data = data.loc[(data['aux_heat_used'] != -2)]"
   ]
  },
  {
   "cell_type": "code",
   "execution_count": 3,
   "metadata": {},
   "outputs": [
    {
     "name": "stdout",
     "output_type": "stream",
     "text": [
      "\n",
      "Chi-squared test for independence\n",
      "\n",
      "Test              Df    Chi-square    P-value\n",
      "--------------  ----  ------------  ---------\n",
      "Pearson            4       9.05715  0.0596868\n",
      "Log-likelihood     4       9.10389  0.0585546\n",
      "\n"
     ]
    }
   ],
   "source": [
    "x = data.copy()\n",
    "x = x.loc[(x['gas boiler_eff_rating'] != -2)]\n",
    "\n",
    "ctab = pd.crosstab(x['aux_heat_used'], x['gas boiler_eff_rating'])\n",
    "res = stat()\n",
    "res.chisq(df=ctab)\n",
    "print(res.summary)"
   ]
  },
  {
   "cell_type": "code",
   "execution_count": 4,
   "metadata": {},
   "outputs": [
    {
     "name": "stdout",
     "output_type": "stream",
     "text": [
      "\n",
      "Chi-squared test for independence\n",
      "\n",
      "Test              Df    Chi-square    P-value\n",
      "--------------  ----  ------------  ---------\n",
      "Pearson            4       4.63033   0.327372\n",
      "Log-likelihood     4       5.47036   0.242348\n",
      "\n"
     ]
    }
   ],
   "source": [
    "x = data.copy()\n",
    "x = x.loc[(x['elec_boil_power_eff_rating'] != -2)]\n",
    "\n",
    "ctab = pd.crosstab(x['aux_heat_used'], x['elec_boil_power_eff_rating'])\n",
    "res = stat()\n",
    "res.chisq(df=ctab)\n",
    "print(res.summary)"
   ]
  },
  {
   "cell_type": "code",
   "execution_count": 5,
   "metadata": {},
   "outputs": [
    {
     "name": "stdout",
     "output_type": "stream",
     "text": [
      "\n",
      "Chi-squared test for independence\n",
      "\n",
      "Test              Df    Chi-square      P-value\n",
      "--------------  ----  ------------  -----------\n",
      "Pearson            4       48.3622  7.93137e-10\n",
      "Log-likelihood     4       48.9222  6.06108e-10\n",
      "\n"
     ]
    }
   ],
   "source": [
    "x = data.copy()\n",
    "x = x.loc[(x['cook_equip_used'] != -2)]\n",
    "\n",
    "ctab = pd.crosstab(x['aux_heat_used'], x['cook_equip_used'])\n",
    "res = stat()\n",
    "res.chisq(df=ctab)\n",
    "print(res.summary)"
   ]
  },
  {
   "cell_type": "code",
   "execution_count": 6,
   "metadata": {},
   "outputs": [
    {
     "name": "stdout",
     "output_type": "stream",
     "text": [
      "\n",
      "Chi-squared test for independence\n",
      "\n",
      "Test              Df    Chi-square    P-value\n",
      "--------------  ----  ------------  ---------\n",
      "Pearson            1       1.00135   0.316983\n",
      "Log-likelihood     1       1.0139    0.313969\n",
      "\n"
     ]
    }
   ],
   "source": [
    "x = data.copy()\n",
    "x = x.loc[(x['renewable_installed'] != -2)]\n",
    "\n",
    "ctab = pd.crosstab(x['aux_heat_used'], x['renewable_installed'])\n",
    "res = stat()\n",
    "res.chisq(df=ctab)\n",
    "print(res.summary)"
   ]
  },
  {
   "cell_type": "code",
   "execution_count": 7,
   "metadata": {},
   "outputs": [
    {
     "name": "stdout",
     "output_type": "stream",
     "text": [
      "\n",
      "Chi-squared test for independence\n",
      "\n",
      "Test              Df    Chi-square    P-value\n",
      "--------------  ----  ------------  ---------\n",
      "Pearson            1       1.11766   0.290422\n",
      "Log-likelihood     1       1.11771   0.290413\n",
      "\n"
     ]
    }
   ],
   "source": [
    "x = data.copy()\n",
    "x = x.loc[(x['elec_rate_check'] != -2)]\n",
    "\n",
    "ctab = pd.crosstab(x['aux_heat_used'], x['elec_rate_check'])\n",
    "res = stat()\n",
    "res.chisq(df=ctab)\n",
    "print(res.summary)"
   ]
  },
  {
   "cell_type": "code",
   "execution_count": 8,
   "metadata": {},
   "outputs": [
    {
     "name": "stdout",
     "output_type": "stream",
     "text": [
      "\n",
      "Chi-squared test for independence\n",
      "\n",
      "Test              Df    Chi-square      P-value\n",
      "--------------  ----  ------------  -----------\n",
      "Pearson            1       26.853   2.19539e-07\n",
      "Log-likelihood     1       26.8962  2.14676e-07\n",
      "\n"
     ]
    }
   ],
   "source": [
    "x = data.copy()\n",
    "x = x.loc[(x['city_g_rate_check'] != -2)]\n",
    "\n",
    "ctab = pd.crosstab(x['aux_heat_used'], x['city_g_rate_check'])\n",
    "res = stat()\n",
    "res.chisq(df=ctab)\n",
    "print(res.summary)"
   ]
  },
  {
   "cell_type": "code",
   "execution_count": 9,
   "metadata": {},
   "outputs": [
    {
     "name": "stdout",
     "output_type": "stream",
     "text": [
      "\n",
      "Chi-squared test for independence\n",
      "\n",
      "Test              Df    Chi-square    P-value\n",
      "--------------  ----  ------------  ---------\n",
      "Pearson            3       3.77185   0.287177\n",
      "Log-likelihood     3       3.77899   0.28634\n",
      "\n"
     ]
    }
   ],
   "source": [
    "x = data.copy()\n",
    "x = x.loc[(x['why_not_check_city_el_rate'] != -2)]\n",
    "\n",
    "ctab = pd.crosstab(x['aux_heat_used'], x['why_not_check_city_el_rate'])\n",
    "res = stat()\n",
    "res.chisq(df=ctab)\n",
    "print(res.summary)"
   ]
  },
  {
   "cell_type": "code",
   "execution_count": 10,
   "metadata": {},
   "outputs": [
    {
     "name": "stdout",
     "output_type": "stream",
     "text": [
      "\n",
      "Chi-squared test for independence\n",
      "\n",
      "Test              Df    Chi-square    P-value\n",
      "--------------  ----  ------------  ---------\n",
      "Pearson            3       2.7564    0.430728\n",
      "Log-likelihood     3       2.79366   0.424544\n",
      "\n"
     ]
    }
   ],
   "source": [
    "x = data.copy()\n",
    "x = x.loc[(x['why_not_check_city_g_rate'] != -2)]\n",
    "\n",
    "ctab = pd.crosstab(x['aux_heat_used'], x['why_not_check_city_g_rate'])\n",
    "res = stat()\n",
    "res.chisq(df=ctab)\n",
    "print(res.summary)"
   ]
  },
  {
   "cell_type": "code",
   "execution_count": 11,
   "metadata": {},
   "outputs": [
    {
     "name": "stdout",
     "output_type": "stream",
     "text": [
      "\n",
      "Chi-squared test for independence\n",
      "\n",
      "Test              Df    Chi-square    P-value\n",
      "--------------  ----  ------------  ---------\n",
      "Pearson            3       2.50994   0.473497\n",
      "Log-likelihood     3       2.5543    0.465558\n",
      "\n"
     ]
    }
   ],
   "source": [
    "x = data.copy()\n",
    "x = x.loc[(x['gas_avg_monthly_heat_cost_group'] != -2)]\n",
    "\n",
    "ctab = pd.crosstab(x['aux_heat_used'], x['gas_avg_monthly_heat_cost_group'])\n",
    "res = stat()\n",
    "res.chisq(df=ctab)\n",
    "print(res.summary)"
   ]
  },
  {
   "cell_type": "code",
   "execution_count": 3,
   "metadata": {},
   "outputs": [
    {
     "name": "stdout",
     "output_type": "stream",
     "text": [
      "\n",
      "Chi-squared test for independence\n",
      "\n",
      "Test              Df    Chi-square      P-value\n",
      "--------------  ----  ------------  -----------\n",
      "Pearson            2       18.8849  7.92851e-05\n",
      "Log-likelihood     2       18.9195  7.7926e-05\n",
      "\n"
     ]
    }
   ],
   "source": [
    "x = data.copy()\n",
    "x = x.loc[(x['gas_last_winter_heat_statisfaction'] != -2)]\n",
    "\n",
    "ctab = pd.crosstab(x['aux_heat_used'], x['gas_last_winter_heat_statisfaction'])\n",
    "res = stat()\n",
    "res.chisq(df=ctab)\n",
    "print(res.summary)"
   ]
  },
  {
   "cell_type": "code",
   "execution_count": 13,
   "metadata": {},
   "outputs": [
    {
     "name": "stdout",
     "output_type": "stream",
     "text": [
      "\n",
      "Chi-squared test for independence\n",
      "\n",
      "Test              Df    Chi-square    P-value\n",
      "--------------  ----  ------------  ---------\n",
      "Pearson            1             0          1\n",
      "Log-likelihood     1             0          1\n",
      "\n"
     ]
    }
   ],
   "source": [
    "x = data.copy()\n",
    "x = x.loc[(x['insuf_heat_due_to_cost'] != -2)]\n",
    "\n",
    "ctab = pd.crosstab(x['aux_heat_used'], x['insuf_heat_due_to_cost'])\n",
    "res = stat()\n",
    "res.chisq(df=ctab)\n",
    "print(res.summary)"
   ]
  },
  {
   "cell_type": "code",
   "execution_count": 14,
   "metadata": {},
   "outputs": [
    {
     "name": "stdout",
     "output_type": "stream",
     "text": [
      "\n",
      "Chi-squared test for independence\n",
      "\n",
      "Test              Df    Chi-square    P-value\n",
      "--------------  ----  ------------  ---------\n",
      "Pearson            6       7.64186   0.265533\n",
      "Log-likelihood     6       7.67596   0.262817\n",
      "\n"
     ]
    }
   ],
   "source": [
    "x = data.copy()\n",
    "x = x.loc[(x['insul_added_material'] != -2)]\n",
    "\n",
    "ctab = pd.crosstab(x['aux_heat_used'], x['insul_added_material'])\n",
    "res = stat()\n",
    "res.chisq(df=ctab)\n",
    "print(res.summary)"
   ]
  },
  {
   "cell_type": "code",
   "execution_count": 15,
   "metadata": {},
   "outputs": [
    {
     "name": "stdout",
     "output_type": "stream",
     "text": [
      "\n",
      "Chi-squared test for independence\n",
      "\n",
      "Test              Df    Chi-square    P-value\n",
      "--------------  ----  ------------  ---------\n",
      "Pearson            5       10.3038  0.0670706\n",
      "Log-likelihood     5       10.474   0.0628664\n",
      "\n"
     ]
    }
   ],
   "source": [
    "x = data.copy()\n",
    "x = x.loc[(x['improve_energy_method'] != -2)]\n",
    "\n",
    "ctab = pd.crosstab(x['aux_heat_used'], x['improve_energy_method'])\n",
    "res = stat()\n",
    "res.chisq(df=ctab)\n",
    "print(res.summary)"
   ]
  },
  {
   "cell_type": "code",
   "execution_count": 16,
   "metadata": {},
   "outputs": [
    {
     "name": "stdout",
     "output_type": "stream",
     "text": [
      "\n",
      "Chi-squared test for independence\n",
      "\n",
      "Test              Df    Chi-square    P-value\n",
      "--------------  ----  ------------  ---------\n",
      "Pearson            2       1.76578   0.413587\n",
      "Log-likelihood     2       1.79039   0.408527\n",
      "\n"
     ]
    }
   ],
   "source": [
    "x = data.copy()\n",
    "x = x.loc[(x['energy_savinng_prog'] != -2)]\n",
    "\n",
    "ctab = pd.crosstab(x['aux_heat_used'], x['energy_savinng_prog'])\n",
    "res = stat()\n",
    "res.chisq(df=ctab)\n",
    "print(res.summary)"
   ]
  },
  {
   "cell_type": "code",
   "execution_count": 17,
   "metadata": {},
   "outputs": [
    {
     "name": "stdout",
     "output_type": "stream",
     "text": [
      "\n",
      "Chi-squared test for independence\n",
      "\n",
      "Test              Df    Chi-square      P-value\n",
      "--------------  ----  ------------  -----------\n",
      "Pearson            3       17.0417  0.000692906\n",
      "Log-likelihood     3       17.4434  0.000572803\n",
      "\n"
     ]
    }
   ],
   "source": [
    "x = data.copy()\n",
    "x = x.loc[(x['N_of_house_members_category'] != -2)]\n",
    "\n",
    "ctab = pd.crosstab(x['aux_heat_used'], x['N_of_house_members_category'])\n",
    "res = stat()\n",
    "res.chisq(df=ctab)\n",
    "print(res.summary)"
   ]
  },
  {
   "cell_type": "code",
   "execution_count": 18,
   "metadata": {},
   "outputs": [
    {
     "name": "stdout",
     "output_type": "stream",
     "text": [
      "\n",
      "Chi-squared test for independence\n",
      "\n",
      "Test              Df    Chi-square     P-value\n",
      "--------------  ----  ------------  ----------\n",
      "Pearson            1       8.57852  0.00340152\n",
      "Log-likelihood     1       8.60812  0.00334667\n",
      "\n"
     ]
    }
   ],
   "source": [
    "x = data.copy()\n",
    "x = x.loc[(x['gender'] != -2)]\n",
    "\n",
    "ctab = pd.crosstab(x['aux_heat_used'], x['gender'])\n",
    "res = stat()\n",
    "res.chisq(df=ctab)\n",
    "print(res.summary)"
   ]
  },
  {
   "cell_type": "code",
   "execution_count": 19,
   "metadata": {},
   "outputs": [
    {
     "name": "stdout",
     "output_type": "stream",
     "text": [
      "\n",
      "Chi-squared test for independence\n",
      "\n",
      "Test              Df    Chi-square      P-value\n",
      "--------------  ----  ------------  -----------\n",
      "Pearson            4       53.3092  7.34224e-11\n",
      "Log-likelihood     4       53.7051  6.06673e-11\n",
      "\n"
     ]
    }
   ],
   "source": [
    "x = data.copy()\n",
    "x = x.loc[(x['head_house_age_group'] != -2)]\n",
    "\n",
    "ctab = pd.crosstab(x['aux_heat_used'], x['head_house_age_group'])\n",
    "res = stat()\n",
    "res.chisq(df=ctab)\n",
    "print(res.summary)"
   ]
  },
  {
   "cell_type": "code",
   "execution_count": 20,
   "metadata": {},
   "outputs": [
    {
     "name": "stdout",
     "output_type": "stream",
     "text": [
      "\n",
      "Chi-squared test for independence\n",
      "\n",
      "Test              Df    Chi-square      P-value\n",
      "--------------  ----  ------------  -----------\n",
      "Pearson            3       29.6127  1.66475e-06\n",
      "Log-likelihood     3       29.6799  1.61147e-06\n",
      "\n"
     ]
    }
   ],
   "source": [
    "x = data.copy()\n",
    "x = x.loc[(x['head_house_edu_group'] != -2)]\n",
    "\n",
    "ctab = pd.crosstab(x['aux_heat_used'], x['head_house_edu_group'])\n",
    "res = stat()\n",
    "res.chisq(df=ctab)\n",
    "print(res.summary)"
   ]
  },
  {
   "cell_type": "code",
   "execution_count": 21,
   "metadata": {},
   "outputs": [
    {
     "name": "stdout",
     "output_type": "stream",
     "text": [
      "\n",
      "Chi-squared test for independence\n",
      "\n",
      "Test              Df    Chi-square      P-value\n",
      "--------------  ----  ------------  -----------\n",
      "Pearson            5       44.3199  1.99445e-08\n",
      "Log-likelihood     5       44.6061  1.7446e-08\n",
      "\n"
     ]
    }
   ],
   "source": [
    "x = data.copy()\n",
    "x = x.loc[(x['head_house_occ_group'] != -2)]\n",
    "\n",
    "ctab = pd.crosstab(x['aux_heat_used'], x['head_house_occ_group'])\n",
    "res = stat()\n",
    "res.chisq(df=ctab)\n",
    "print(res.summary)"
   ]
  },
  {
   "cell_type": "code",
   "execution_count": 22,
   "metadata": {},
   "outputs": [
    {
     "name": "stdout",
     "output_type": "stream",
     "text": [
      "\n",
      "Chi-squared test for independence\n",
      "\n",
      "Test              Df    Chi-square      P-value\n",
      "--------------  ----  ------------  -----------\n",
      "Pearson            6       35.3252  3.72718e-06\n",
      "Log-likelihood     6       35.9699  2.79398e-06\n",
      "\n"
     ]
    }
   ],
   "source": [
    "x = data.copy()\n",
    "x = x.loc[(x['head_house_income_source_group'] != -2)]\n",
    "\n",
    "ctab = pd.crosstab(x['aux_heat_used'], x['head_house_income_source_group'])\n",
    "res = stat()\n",
    "res.chisq(df=ctab)\n",
    "print(res.summary)"
   ]
  },
  {
   "cell_type": "code",
   "execution_count": 23,
   "metadata": {},
   "outputs": [
    {
     "name": "stdout",
     "output_type": "stream",
     "text": [
      "\n",
      "Chi-squared test for independence\n",
      "\n",
      "Test              Df    Chi-square    P-value\n",
      "--------------  ----  ------------  ---------\n",
      "Pearson            1       1.46971   0.225392\n",
      "Log-likelihood     1       1.48887   0.222392\n",
      "\n"
     ]
    }
   ],
   "source": [
    "x = data.copy()\n",
    "x = x.loc[(x['house_member_pregnant'] != -2)]\n",
    "\n",
    "ctab = pd.crosstab(x['aux_heat_used'], x['house_member_pregnant'])\n",
    "res = stat()\n",
    "res.chisq(df=ctab)\n",
    "print(res.summary)"
   ]
  },
  {
   "cell_type": "code",
   "execution_count": 24,
   "metadata": {},
   "outputs": [
    {
     "name": "stdout",
     "output_type": "stream",
     "text": [
      "\n",
      "Chi-squared test for independence\n",
      "\n",
      "Test              Df    Chi-square    P-value\n",
      "--------------  ----  ------------  ---------\n",
      "Pearson            4       6.00561  0.19873\n",
      "Log-likelihood     4       7.92964  0.0941897\n",
      "\n"
     ]
    }
   ],
   "source": [
    "x = data.copy()\n",
    "x = x.loc[(x['annual_income_category'] != -2)]\n",
    "\n",
    "ctab = pd.crosstab(x['aux_heat_used'], x['annual_income_category'])\n",
    "res = stat()\n",
    "res.chisq(df=ctab)\n",
    "print(res.summary)"
   ]
  },
  {
   "cell_type": "code",
   "execution_count": 25,
   "metadata": {},
   "outputs": [
    {
     "name": "stdout",
     "output_type": "stream",
     "text": [
      "\n",
      "Chi-squared test for independence\n",
      "\n",
      "Test              Df    Chi-square      P-value\n",
      "--------------  ----  ------------  -----------\n",
      "Pearson            3       20.6171  0.000126421\n",
      "Log-likelihood     3       20.7072  0.000121091\n",
      "\n"
     ]
    }
   ],
   "source": [
    "x = data.copy()\n",
    "x = x.loc[(x['av_monthly_income_group'] != -2)]\n",
    "\n",
    "ctab = pd.crosstab(x['aux_heat_used'], x['av_monthly_income_group'])\n",
    "res = stat()\n",
    "res.chisq(df=ctab)\n",
    "print(res.summary)"
   ]
  },
  {
   "cell_type": "code",
   "execution_count": null,
   "metadata": {},
   "outputs": [],
   "source": []
  }
 ],
 "metadata": {
  "kernelspec": {
   "display_name": "thesis",
   "language": "python",
   "name": "python3"
  },
  "language_info": {
   "codemirror_mode": {
    "name": "ipython",
    "version": 3
   },
   "file_extension": ".py",
   "mimetype": "text/x-python",
   "name": "python",
   "nbconvert_exporter": "python",
   "pygments_lexer": "ipython3",
   "version": "3.10.6"
  },
  "orig_nbformat": 4,
  "vscode": {
   "interpreter": {
    "hash": "d3e156ba609d3fe88450c2dc1973615cb05d3710a7f9768d2badc7f539ca2834"
   }
  }
 },
 "nbformat": 4,
 "nbformat_minor": 2
}
