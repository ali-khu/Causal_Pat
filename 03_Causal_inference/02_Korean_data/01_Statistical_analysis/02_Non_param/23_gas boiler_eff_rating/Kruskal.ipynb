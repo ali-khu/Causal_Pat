{
 "cells": [
  {
   "cell_type": "code",
   "execution_count": 1,
   "metadata": {},
   "outputs": [],
   "source": [
    "import pandas as pd\n",
    "import numpy as np\n",
    "from pingouin import kruskal\n",
    "\n",
    "df = pd.read_excel('data.xlsx')"
   ]
  },
  {
   "cell_type": "code",
   "execution_count": 2,
   "metadata": {},
   "outputs": [],
   "source": [
    "data = df.copy()\n",
    "data = data.loc[(data['gas boiler_eff_rating'] != -2)]"
   ]
  },
  {
   "cell_type": "code",
   "execution_count": 3,
   "metadata": {},
   "outputs": [
    {
     "data": {
      "text/html": [
       "<div>\n",
       "<style scoped>\n",
       "    .dataframe tbody tr th:only-of-type {\n",
       "        vertical-align: middle;\n",
       "    }\n",
       "\n",
       "    .dataframe tbody tr th {\n",
       "        vertical-align: top;\n",
       "    }\n",
       "\n",
       "    .dataframe thead th {\n",
       "        text-align: right;\n",
       "    }\n",
       "</style>\n",
       "<table border=\"1\" class=\"dataframe\">\n",
       "  <thead>\n",
       "    <tr style=\"text-align: right;\">\n",
       "      <th></th>\n",
       "      <th>Source</th>\n",
       "      <th>ddof1</th>\n",
       "      <th>H</th>\n",
       "      <th>p-unc</th>\n",
       "    </tr>\n",
       "  </thead>\n",
       "  <tbody>\n",
       "    <tr>\n",
       "      <th>Kruskal</th>\n",
       "      <td>gas boiler_eff_rating</td>\n",
       "      <td>3</td>\n",
       "      <td>109.425023</td>\n",
       "      <td>1.459057e-23</td>\n",
       "    </tr>\n",
       "  </tbody>\n",
       "</table>\n",
       "</div>"
      ],
      "text/plain": [
       "                        Source  ddof1           H         p-unc\n",
       "Kruskal  gas boiler_eff_rating      3  109.425023  1.459057e-23"
      ]
     },
     "execution_count": 3,
     "metadata": {},
     "output_type": "execute_result"
    }
   ],
   "source": [
    "x = data.copy()\n",
    "x = x.loc[(x['gas boil_heat efficiency'] != -2)]\n",
    "kruskal(data=x, dv='gas boil_heat efficiency', between='gas boiler_eff_rating')"
   ]
  },
  {
   "cell_type": "code",
   "execution_count": 4,
   "metadata": {},
   "outputs": [
    {
     "ename": "ZeroDivisionError",
     "evalue": "division by zero",
     "output_type": "error",
     "traceback": [
      "\u001b[0;31m---------------------------------------------------------------------------\u001b[0m",
      "\u001b[0;31mZeroDivisionError\u001b[0m                         Traceback (most recent call last)",
      "\u001b[1;32m/Users/heal/GDrive/08_THESIS/Causal_infer/02_Kor_resi/04_Stat_tests/02_Non_param/23_gas boiler_eff_rating/Kruskal.ipynb Cell 4\u001b[0m in \u001b[0;36m3\n\u001b[1;32m      <a href='vscode-notebook-cell:/Users/heal/GDrive/08_THESIS/Causal_infer/02_Kor_resi/04_Stat_tests/02_Non_param/23_gas%20boiler_eff_rating/Kruskal.ipynb#X10sZmlsZQ%3D%3D?line=0'>1</a>\u001b[0m x \u001b[39m=\u001b[39m data\u001b[39m.\u001b[39mcopy()\n\u001b[1;32m      <a href='vscode-notebook-cell:/Users/heal/GDrive/08_THESIS/Causal_infer/02_Kor_resi/04_Stat_tests/02_Non_param/23_gas%20boiler_eff_rating/Kruskal.ipynb#X10sZmlsZQ%3D%3D?line=1'>2</a>\u001b[0m x \u001b[39m=\u001b[39m x\u001b[39m.\u001b[39mloc[(x[\u001b[39m'\u001b[39m\u001b[39melec_boil_heat_output_lcal_h\u001b[39m\u001b[39m'\u001b[39m] \u001b[39m!=\u001b[39m \u001b[39m-\u001b[39m\u001b[39m2\u001b[39m)]\n\u001b[0;32m----> <a href='vscode-notebook-cell:/Users/heal/GDrive/08_THESIS/Causal_infer/02_Kor_resi/04_Stat_tests/02_Non_param/23_gas%20boiler_eff_rating/Kruskal.ipynb#X10sZmlsZQ%3D%3D?line=2'>3</a>\u001b[0m kruskal(data\u001b[39m=\u001b[39;49mx, dv\u001b[39m=\u001b[39;49m\u001b[39m'\u001b[39;49m\u001b[39melec_boil_heat_output_lcal_h\u001b[39;49m\u001b[39m'\u001b[39;49m, between\u001b[39m=\u001b[39;49m\u001b[39m'\u001b[39;49m\u001b[39mgas boiler_eff_rating\u001b[39;49m\u001b[39m'\u001b[39;49m)\n",
      "File \u001b[0;32m~/opt/anaconda3/envs/thesis/lib/python3.10/site-packages/pingouin/nonparametric.py:560\u001b[0m, in \u001b[0;36mkruskal\u001b[0;34m(data, dv, between, detailed)\u001b[0m\n\u001b[1;32m    557\u001b[0m n_per_grp \u001b[39m=\u001b[39m grp\u001b[39m.\u001b[39mcount()\u001b[39m.\u001b[39mto_numpy()\n\u001b[1;32m    559\u001b[0m \u001b[39m# Calculate chi-square statistic (H)\u001b[39;00m\n\u001b[0;32m--> 560\u001b[0m H \u001b[39m=\u001b[39m (\u001b[39m12\u001b[39;49m \u001b[39m/\u001b[39;49m (n \u001b[39m*\u001b[39;49m (n \u001b[39m+\u001b[39;49m \u001b[39m1\u001b[39;49m)) \u001b[39m*\u001b[39m np\u001b[39m.\u001b[39msum(sum_rk_grp\u001b[39m*\u001b[39m\u001b[39m*\u001b[39m\u001b[39m2\u001b[39m \u001b[39m/\u001b[39m n_per_grp)) \u001b[39m-\u001b[39m \u001b[39m3\u001b[39m \u001b[39m*\u001b[39m (n \u001b[39m+\u001b[39m \u001b[39m1\u001b[39m)\n\u001b[1;32m    562\u001b[0m \u001b[39m# Correct for ties\u001b[39;00m\n\u001b[1;32m    563\u001b[0m H \u001b[39m/\u001b[39m\u001b[39m=\u001b[39m scipy\u001b[39m.\u001b[39mstats\u001b[39m.\u001b[39mtiecorrect(data[\u001b[39m\"\u001b[39m\u001b[39mrank\u001b[39m\u001b[39m\"\u001b[39m]\u001b[39m.\u001b[39mto_numpy())\n",
      "\u001b[0;31mZeroDivisionError\u001b[0m: division by zero"
     ]
    }
   ],
   "source": [
    "x = data.copy()\n",
    "x = x.loc[(x['elec_boil_heat_output_lcal_h'] != -2)]\n",
    "kruskal(data=x, dv='elec_boil_heat_output_lcal_h', between='gas boiler_eff_rating')"
   ]
  },
  {
   "cell_type": "code",
   "execution_count": 5,
   "metadata": {},
   "outputs": [
    {
     "ename": "ZeroDivisionError",
     "evalue": "division by zero",
     "output_type": "error",
     "traceback": [
      "\u001b[0;31m---------------------------------------------------------------------------\u001b[0m",
      "\u001b[0;31mZeroDivisionError\u001b[0m                         Traceback (most recent call last)",
      "\u001b[1;32m/Users/heal/GDrive/08_THESIS/Causal_infer/02_Kor_resi/04_Stat_tests/02_Non_param/23_gas boiler_eff_rating/Kruskal.ipynb Cell 5\u001b[0m in \u001b[0;36m3\n\u001b[1;32m      <a href='vscode-notebook-cell:/Users/heal/GDrive/08_THESIS/Causal_infer/02_Kor_resi/04_Stat_tests/02_Non_param/23_gas%20boiler_eff_rating/Kruskal.ipynb#X11sZmlsZQ%3D%3D?line=0'>1</a>\u001b[0m x \u001b[39m=\u001b[39m data\u001b[39m.\u001b[39mcopy()\n\u001b[1;32m      <a href='vscode-notebook-cell:/Users/heal/GDrive/08_THESIS/Causal_infer/02_Kor_resi/04_Stat_tests/02_Non_param/23_gas%20boiler_eff_rating/Kruskal.ipynb#X11sZmlsZQ%3D%3D?line=1'>2</a>\u001b[0m x \u001b[39m=\u001b[39m x\u001b[39m.\u001b[39mloc[(x[\u001b[39m'\u001b[39m\u001b[39melec_boil_power_consumption\u001b[39m\u001b[39m'\u001b[39m] \u001b[39m!=\u001b[39m \u001b[39m-\u001b[39m\u001b[39m2\u001b[39m)]\n\u001b[0;32m----> <a href='vscode-notebook-cell:/Users/heal/GDrive/08_THESIS/Causal_infer/02_Kor_resi/04_Stat_tests/02_Non_param/23_gas%20boiler_eff_rating/Kruskal.ipynb#X11sZmlsZQ%3D%3D?line=2'>3</a>\u001b[0m kruskal(data\u001b[39m=\u001b[39;49mx, dv\u001b[39m=\u001b[39;49m\u001b[39m'\u001b[39;49m\u001b[39melec_boil_power_consumption\u001b[39;49m\u001b[39m'\u001b[39;49m, between\u001b[39m=\u001b[39;49m\u001b[39m'\u001b[39;49m\u001b[39mgas boiler_eff_rating\u001b[39;49m\u001b[39m'\u001b[39;49m)\n",
      "File \u001b[0;32m~/opt/anaconda3/envs/thesis/lib/python3.10/site-packages/pingouin/nonparametric.py:560\u001b[0m, in \u001b[0;36mkruskal\u001b[0;34m(data, dv, between, detailed)\u001b[0m\n\u001b[1;32m    557\u001b[0m n_per_grp \u001b[39m=\u001b[39m grp\u001b[39m.\u001b[39mcount()\u001b[39m.\u001b[39mto_numpy()\n\u001b[1;32m    559\u001b[0m \u001b[39m# Calculate chi-square statistic (H)\u001b[39;00m\n\u001b[0;32m--> 560\u001b[0m H \u001b[39m=\u001b[39m (\u001b[39m12\u001b[39;49m \u001b[39m/\u001b[39;49m (n \u001b[39m*\u001b[39;49m (n \u001b[39m+\u001b[39;49m \u001b[39m1\u001b[39;49m)) \u001b[39m*\u001b[39m np\u001b[39m.\u001b[39msum(sum_rk_grp\u001b[39m*\u001b[39m\u001b[39m*\u001b[39m\u001b[39m2\u001b[39m \u001b[39m/\u001b[39m n_per_grp)) \u001b[39m-\u001b[39m \u001b[39m3\u001b[39m \u001b[39m*\u001b[39m (n \u001b[39m+\u001b[39m \u001b[39m1\u001b[39m)\n\u001b[1;32m    562\u001b[0m \u001b[39m# Correct for ties\u001b[39;00m\n\u001b[1;32m    563\u001b[0m H \u001b[39m/\u001b[39m\u001b[39m=\u001b[39m scipy\u001b[39m.\u001b[39mstats\u001b[39m.\u001b[39mtiecorrect(data[\u001b[39m\"\u001b[39m\u001b[39mrank\u001b[39m\u001b[39m\"\u001b[39m]\u001b[39m.\u001b[39mto_numpy())\n",
      "\u001b[0;31mZeroDivisionError\u001b[0m: division by zero"
     ]
    }
   ],
   "source": [
    "x = data.copy()\n",
    "x = x.loc[(x['elec_boil_power_consumption'] != -2)]\n",
    "kruskal(data=x, dv='elec_boil_power_consumption', between='gas boiler_eff_rating')"
   ]
  },
  {
   "cell_type": "code",
   "execution_count": 6,
   "metadata": {},
   "outputs": [
    {
     "ename": "ZeroDivisionError",
     "evalue": "division by zero",
     "output_type": "error",
     "traceback": [
      "\u001b[0;31m---------------------------------------------------------------------------\u001b[0m",
      "\u001b[0;31mZeroDivisionError\u001b[0m                         Traceback (most recent call last)",
      "\u001b[1;32m/Users/heal/GDrive/08_THESIS/Causal_infer/02_Kor_resi/04_Stat_tests/02_Non_param/23_gas boiler_eff_rating/Kruskal.ipynb Cell 6\u001b[0m in \u001b[0;36m3\n\u001b[1;32m      <a href='vscode-notebook-cell:/Users/heal/GDrive/08_THESIS/Causal_infer/02_Kor_resi/04_Stat_tests/02_Non_param/23_gas%20boiler_eff_rating/Kruskal.ipynb#X12sZmlsZQ%3D%3D?line=0'>1</a>\u001b[0m x \u001b[39m=\u001b[39m data\u001b[39m.\u001b[39mcopy()\n\u001b[1;32m      <a href='vscode-notebook-cell:/Users/heal/GDrive/08_THESIS/Causal_infer/02_Kor_resi/04_Stat_tests/02_Non_param/23_gas%20boiler_eff_rating/Kruskal.ipynb#X12sZmlsZQ%3D%3D?line=1'>2</a>\u001b[0m x \u001b[39m=\u001b[39m x\u001b[39m.\u001b[39mloc[(x[\u001b[39m'\u001b[39m\u001b[39melec_boil_heat_efficiency\u001b[39m\u001b[39m'\u001b[39m] \u001b[39m!=\u001b[39m \u001b[39m-\u001b[39m\u001b[39m2\u001b[39m)]\n\u001b[0;32m----> <a href='vscode-notebook-cell:/Users/heal/GDrive/08_THESIS/Causal_infer/02_Kor_resi/04_Stat_tests/02_Non_param/23_gas%20boiler_eff_rating/Kruskal.ipynb#X12sZmlsZQ%3D%3D?line=2'>3</a>\u001b[0m kruskal(data\u001b[39m=\u001b[39;49mx, dv\u001b[39m=\u001b[39;49m\u001b[39m'\u001b[39;49m\u001b[39melec_boil_heat_efficiency\u001b[39;49m\u001b[39m'\u001b[39;49m, between\u001b[39m=\u001b[39;49m\u001b[39m'\u001b[39;49m\u001b[39mgas boiler_eff_rating\u001b[39;49m\u001b[39m'\u001b[39;49m)\n",
      "File \u001b[0;32m~/opt/anaconda3/envs/thesis/lib/python3.10/site-packages/pingouin/nonparametric.py:560\u001b[0m, in \u001b[0;36mkruskal\u001b[0;34m(data, dv, between, detailed)\u001b[0m\n\u001b[1;32m    557\u001b[0m n_per_grp \u001b[39m=\u001b[39m grp\u001b[39m.\u001b[39mcount()\u001b[39m.\u001b[39mto_numpy()\n\u001b[1;32m    559\u001b[0m \u001b[39m# Calculate chi-square statistic (H)\u001b[39;00m\n\u001b[0;32m--> 560\u001b[0m H \u001b[39m=\u001b[39m (\u001b[39m12\u001b[39;49m \u001b[39m/\u001b[39;49m (n \u001b[39m*\u001b[39;49m (n \u001b[39m+\u001b[39;49m \u001b[39m1\u001b[39;49m)) \u001b[39m*\u001b[39m np\u001b[39m.\u001b[39msum(sum_rk_grp\u001b[39m*\u001b[39m\u001b[39m*\u001b[39m\u001b[39m2\u001b[39m \u001b[39m/\u001b[39m n_per_grp)) \u001b[39m-\u001b[39m \u001b[39m3\u001b[39m \u001b[39m*\u001b[39m (n \u001b[39m+\u001b[39m \u001b[39m1\u001b[39m)\n\u001b[1;32m    562\u001b[0m \u001b[39m# Correct for ties\u001b[39;00m\n\u001b[1;32m    563\u001b[0m H \u001b[39m/\u001b[39m\u001b[39m=\u001b[39m scipy\u001b[39m.\u001b[39mstats\u001b[39m.\u001b[39mtiecorrect(data[\u001b[39m\"\u001b[39m\u001b[39mrank\u001b[39m\u001b[39m\"\u001b[39m]\u001b[39m.\u001b[39mto_numpy())\n",
      "\u001b[0;31mZeroDivisionError\u001b[0m: division by zero"
     ]
    }
   ],
   "source": [
    "x = data.copy()\n",
    "x = x.loc[(x['elec_boil_heat_efficiency'] != -2)]\n",
    "kruskal(data=x, dv='elec_boil_heat_efficiency', between='gas boiler_eff_rating')"
   ]
  },
  {
   "cell_type": "code",
   "execution_count": 7,
   "metadata": {},
   "outputs": [
    {
     "data": {
      "text/html": [
       "<div>\n",
       "<style scoped>\n",
       "    .dataframe tbody tr th:only-of-type {\n",
       "        vertical-align: middle;\n",
       "    }\n",
       "\n",
       "    .dataframe tbody tr th {\n",
       "        vertical-align: top;\n",
       "    }\n",
       "\n",
       "    .dataframe thead th {\n",
       "        text-align: right;\n",
       "    }\n",
       "</style>\n",
       "<table border=\"1\" class=\"dataframe\">\n",
       "  <thead>\n",
       "    <tr style=\"text-align: right;\">\n",
       "      <th></th>\n",
       "      <th>Source</th>\n",
       "      <th>ddof1</th>\n",
       "      <th>H</th>\n",
       "      <th>p-unc</th>\n",
       "    </tr>\n",
       "  </thead>\n",
       "  <tbody>\n",
       "    <tr>\n",
       "      <th>Kruskal</th>\n",
       "      <td>gas boiler_eff_rating</td>\n",
       "      <td>4</td>\n",
       "      <td>38.039676</td>\n",
       "      <td>1.099638e-07</td>\n",
       "    </tr>\n",
       "  </tbody>\n",
       "</table>\n",
       "</div>"
      ],
      "text/plain": [
       "                        Source  ddof1          H         p-unc\n",
       "Kruskal  gas boiler_eff_rating      4  38.039676  1.099638e-07"
      ]
     },
     "execution_count": 7,
     "metadata": {},
     "output_type": "execute_result"
    }
   ],
   "source": [
    "x = data.copy()\n",
    "x = x.loc[(x['EUI'] != -2)]\n",
    "kruskal(data=df, dv='EUI', between='gas boiler_eff_rating')"
   ]
  },
  {
   "cell_type": "code",
   "execution_count": null,
   "metadata": {},
   "outputs": [],
   "source": []
  }
 ],
 "metadata": {
  "kernelspec": {
   "display_name": "thesis",
   "language": "python",
   "name": "python3"
  },
  "language_info": {
   "codemirror_mode": {
    "name": "ipython",
    "version": 3
   },
   "file_extension": ".py",
   "mimetype": "text/x-python",
   "name": "python",
   "nbconvert_exporter": "python",
   "pygments_lexer": "ipython3",
   "version": "3.10.8"
  },
  "orig_nbformat": 4,
  "vscode": {
   "interpreter": {
    "hash": "98c1c43490eba6286d7b33394c160ddc91e627c1db7e92063dec856a85670976"
   }
  }
 },
 "nbformat": 4,
 "nbformat_minor": 2
}
