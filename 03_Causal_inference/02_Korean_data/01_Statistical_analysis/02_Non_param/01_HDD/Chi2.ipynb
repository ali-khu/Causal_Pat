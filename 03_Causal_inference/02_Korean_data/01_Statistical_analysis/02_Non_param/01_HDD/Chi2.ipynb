{
 "cells": [
  {
   "cell_type": "code",
   "execution_count": 1,
   "metadata": {},
   "outputs": [
    {
     "data": {
      "text/plain": [
       "Index(['id_hs', 'city_code', 'housing_type', 'res_floor_group',\n",
       "       'N_of_outer_walls', 'housing_direction', 'housing_direction.1',\n",
       "       'completion_year_group', 'res_area', 'N_of_heating_room_winter',\n",
       "       'N_of_heating_liv_room_winter', 'N_of_heating_bathroom_winter',\n",
       "       'N_of_ext_wall_win_group', 'ratio_double_glazed_group',\n",
       "       'N_double_glazed_win', 'h_occupancy_type', 'main_heat_facility',\n",
       "       'main_heat_fuel', 'aux_heat_used', 'keros_boil_heat_output',\n",
       "       'keros_boil_heat_efficiency', 'gas_boil_heat_output',\n",
       "       'gas boil_power consumption', 'gas boiler_eff_rating',\n",
       "       'gas boil_heat efficiency', 'elec_boil_heat_output_lcal_h',\n",
       "       'elec_boil_power_consumption', 'elec_boil_power_eff_rating',\n",
       "       'elec_boil_heat_efficiency', 'cook_equip_used', 'renewable_installed',\n",
       "       'elec_rate_check', 'city_g_rate_check', 'why_not_check_city_g_rate',\n",
       "       'gas_avg_monthly_heat_cost', 'gas_last_winter_heat_statisfaction',\n",
       "       'insuf_heat_due_to_cost', 'insuf_heat_due_to_equip_cost',\n",
       "       'add_insulation_winter', 'add_insul_bubble', 'add_insul_paper_strip',\n",
       "       'add_insul_wind_proof', 'repl_boiler_current', 'repl_windows_current',\n",
       "       'out_wall_reinf_current', 'year_repl_boiler_current',\n",
       "       'year_repl_windows_current', 'year_out_wall_reinf_current',\n",
       "       'out_wall_reinf_past', 'energy_savinng_prog', 'enroll_year',\n",
       "       'enroll_month', 'year_incentive_paid', 'month_incentive_paid',\n",
       "       'N_of_house_members', 'gender', 'head_house_age_group',\n",
       "       'head_house_edu_group', 'head_house_occ_group', 'house_member_pregnant',\n",
       "       'head_house_income_source_group', 'annual_income',\n",
       "       'av_monthly_income_group', 'why_not_check_city_el_rate',\n",
       "       'heating_energy_2018_kWh', 'heating_energy_2019_kWh', 'total_kWh',\n",
       "       'EUI', 'annual_income_category', 'N_of_house_members_category', 'HDD18',\n",
       "       'insul_added_material', 'improve_energy_method',\n",
       "       'gas_avg_monthly_heat_cost_group', 'HDD18_bins',\n",
       "       'N_double_glazed_win_group'],\n",
       "      dtype='object')"
      ]
     },
     "execution_count": 1,
     "metadata": {},
     "output_type": "execute_result"
    }
   ],
   "source": [
    "import pandas as pd\n",
    "from bioinfokit.analys import stat\n",
    "df = pd.read_excel('data.xlsx')\n",
    "import numpy as np\n",
    "df.columns"
   ]
  },
  {
   "cell_type": "code",
   "execution_count": 2,
   "metadata": {},
   "outputs": [],
   "source": [
    "hdd = df.copy()\n",
    "hdd = hdd.loc[(hdd['HDD18_bins'] != -2)]"
   ]
  },
  {
   "cell_type": "code",
   "execution_count": 3,
   "metadata": {},
   "outputs": [
    {
     "name": "stdout",
     "output_type": "stream",
     "text": [
      "\n",
      "Chi-squared test for independence\n",
      "\n",
      "Test              Df    Chi-square    P-value\n",
      "--------------  ----  ------------  ---------\n",
      "Pearson           45       6339             0\n",
      "Log-likelihood    45       4114.67          0\n",
      "\n"
     ]
    }
   ],
   "source": [
    "x = hdd.copy()\n",
    "x = x.loc[(x['city_code'] != -2)]\n",
    "\n",
    "ctab = pd.crosstab(x['HDD18_bins'], x['city_code'])\n",
    "res = stat()\n",
    "res.chisq(df=ctab)\n",
    "print(res.summary)"
   ]
  },
  {
   "cell_type": "code",
   "execution_count": 4,
   "metadata": {},
   "outputs": [
    {
     "name": "stdout",
     "output_type": "stream",
     "text": [
      "\n",
      "Chi-squared test for independence\n",
      "\n",
      "Test              Df    Chi-square      P-value\n",
      "--------------  ----  ------------  -----------\n",
      "Pearson           21       164.009  3.67909e-24\n",
      "Log-likelihood    21       135.401  9.97369e-19\n",
      "\n"
     ]
    }
   ],
   "source": [
    "x = hdd.copy()\n",
    "x = x.loc[(x['housing_type'] != -2)]\n",
    "\n",
    "ctab = pd.crosstab(x['HDD18_bins'], x['housing_type'])\n",
    "res = stat()\n",
    "res.chisq(df=ctab)\n",
    "print(res.summary)"
   ]
  },
  {
   "cell_type": "code",
   "execution_count": 5,
   "metadata": {},
   "outputs": [
    {
     "name": "stdout",
     "output_type": "stream",
     "text": [
      "\n",
      "Chi-squared test for independence\n",
      "\n",
      "Test              Df    Chi-square      P-value\n",
      "--------------  ----  ------------  -----------\n",
      "Pearson           12       43.6221  1.77089e-05\n",
      "Log-likelihood    12       44.7313  1.14565e-05\n",
      "\n"
     ]
    }
   ],
   "source": [
    "x = hdd.copy()\n",
    "x = x.loc[(x['res_floor_group'] != -2)]\n",
    "\n",
    "ctab = pd.crosstab(x['HDD18_bins'], x['res_floor_group'])\n",
    "res = stat()\n",
    "res.chisq(df=ctab)\n",
    "print(res.summary)"
   ]
  },
  {
   "cell_type": "code",
   "execution_count": 6,
   "metadata": {},
   "outputs": [
    {
     "name": "stdout",
     "output_type": "stream",
     "text": [
      "\n",
      "Chi-squared test for independence\n",
      "\n",
      "Test              Df    Chi-square      P-value\n",
      "--------------  ----  ------------  -----------\n",
      "Pearson           12       224.381  2.92734e-41\n",
      "Log-likelihood    12       233.385  3.94489e-43\n",
      "\n"
     ]
    }
   ],
   "source": [
    "x = hdd.copy()\n",
    "x = x.loc[(x['N_of_outer_walls'] != -2)]\n",
    "\n",
    "ctab = pd.crosstab(x['HDD18_bins'], x['N_of_outer_walls'])\n",
    "res = stat()\n",
    "res.chisq(df=ctab)\n",
    "print(res.summary)"
   ]
  },
  {
   "cell_type": "code",
   "execution_count": 7,
   "metadata": {},
   "outputs": [
    {
     "name": "stdout",
     "output_type": "stream",
     "text": [
      "\n",
      "Chi-squared test for independence\n",
      "\n",
      "Test              Df    Chi-square      P-value\n",
      "--------------  ----  ------------  -----------\n",
      "Pearson           21      117.962   1.68647e-15\n",
      "Log-likelihood    21       89.8666  1.70164e-10\n",
      "\n"
     ]
    }
   ],
   "source": [
    "x = hdd.copy()\n",
    "x = x.loc[(x['housing_direction'] != -2)]\n",
    "\n",
    "ctab = pd.crosstab(x['HDD18_bins'], x['housing_direction'])\n",
    "res = stat()\n",
    "res.chisq(df=ctab)\n",
    "print(res.summary)"
   ]
  },
  {
   "cell_type": "code",
   "execution_count": 8,
   "metadata": {},
   "outputs": [
    {
     "name": "stdout",
     "output_type": "stream",
     "text": [
      "\n",
      "Chi-squared test for independence\n",
      "\n",
      "Test              Df    Chi-square      P-value\n",
      "--------------  ----  ------------  -----------\n",
      "Pearson           15       118.964  3.00627e-18\n",
      "Log-likelihood    15       122.143  7.25742e-19\n",
      "\n"
     ]
    }
   ],
   "source": [
    "x = hdd.copy()\n",
    "x = x.loc[(x['completion_year_group'] != -2)]\n",
    "\n",
    "ctab = pd.crosstab(x['HDD18_bins'], x['completion_year_group'])\n",
    "res = stat()\n",
    "res.chisq(df=ctab)\n",
    "print(res.summary)"
   ]
  },
  {
   "cell_type": "code",
   "execution_count": 9,
   "metadata": {},
   "outputs": [
    {
     "name": "stdout",
     "output_type": "stream",
     "text": [
      "\n",
      "Chi-squared test for independence\n",
      "\n",
      "Test              Df    Chi-square      P-value\n",
      "--------------  ----  ------------  -----------\n",
      "Pearson            9       72.5475  4.81049e-12\n",
      "Log-likelihood     9       74.1312  2.34518e-12\n",
      "\n"
     ]
    }
   ],
   "source": [
    "x = hdd.copy()\n",
    "x = x.loc[(x['N_of_heating_room_winter'] != -2)]\n",
    "\n",
    "ctab = pd.crosstab(x['HDD18_bins'], x['N_of_heating_room_winter'])\n",
    "res = stat()\n",
    "res.chisq(df=ctab)\n",
    "print(res.summary)"
   ]
  },
  {
   "cell_type": "code",
   "execution_count": 10,
   "metadata": {},
   "outputs": [
    {
     "name": "stdout",
     "output_type": "stream",
     "text": [
      "\n",
      "Chi-squared test for independence\n",
      "\n",
      "Test              Df    Chi-square      P-value\n",
      "--------------  ----  ------------  -----------\n",
      "Pearson            3       18.007   0.000438383\n",
      "Log-likelihood     3       19.1633  0.000252948\n",
      "\n"
     ]
    }
   ],
   "source": [
    "x = hdd.copy()\n",
    "x = x.loc[(x['N_of_heating_liv_room_winter'] != -2)]\n",
    "\n",
    "ctab = pd.crosstab(x['HDD18_bins'], x['N_of_heating_liv_room_winter'])\n",
    "res = stat()\n",
    "res.chisq(df=ctab)\n",
    "print(res.summary)"
   ]
  },
  {
   "cell_type": "code",
   "execution_count": 11,
   "metadata": {},
   "outputs": [
    {
     "name": "stdout",
     "output_type": "stream",
     "text": [
      "\n",
      "Chi-squared test for independence\n",
      "\n",
      "Test              Df    Chi-square      P-value\n",
      "--------------  ----  ------------  -----------\n",
      "Pearson            6       131.954  4.98378e-26\n",
      "Log-likelihood     6       122.198  5.62832e-24\n",
      "\n"
     ]
    }
   ],
   "source": [
    "x = hdd.copy()\n",
    "x = x.loc[(x['N_of_heating_bathroom_winter'] != -2)]\n",
    "\n",
    "ctab = pd.crosstab(x['HDD18_bins'], x['N_of_heating_bathroom_winter'])\n",
    "res = stat()\n",
    "res.chisq(df=ctab)\n",
    "print(res.summary)"
   ]
  },
  {
   "cell_type": "code",
   "execution_count": 12,
   "metadata": {},
   "outputs": [
    {
     "name": "stdout",
     "output_type": "stream",
     "text": [
      "\n",
      "Chi-squared test for independence\n",
      "\n",
      "Test              Df    Chi-square      P-value\n",
      "--------------  ----  ------------  -----------\n",
      "Pearson            9        107.33  5.13597e-19\n",
      "Log-likelihood     9        103.02  3.84865e-18\n",
      "\n"
     ]
    }
   ],
   "source": [
    "x = hdd.copy()\n",
    "x = x.loc[(x['N_of_ext_wall_win_group'] != -2)]\n",
    "\n",
    "ctab = pd.crosstab(x['HDD18_bins'], x['N_of_ext_wall_win_group'])\n",
    "res = stat()\n",
    "res.chisq(df=ctab)\n",
    "print(res.summary)"
   ]
  },
  {
   "cell_type": "code",
   "execution_count": 13,
   "metadata": {},
   "outputs": [
    {
     "name": "stdout",
     "output_type": "stream",
     "text": [
      "\n",
      "Chi-squared test for independence\n",
      "\n",
      "Test              Df    Chi-square      P-value\n",
      "--------------  ----  ------------  -----------\n",
      "Pearson            9       127.888  3.22296e-23\n",
      "Log-likelihood     9       130.534  9.20795e-24\n",
      "\n"
     ]
    }
   ],
   "source": [
    "x = hdd.copy()\n",
    "x = x.loc[(x['ratio_double_glazed_group'] != -2)]\n",
    "\n",
    "ctab = pd.crosstab(x['HDD18_bins'], x['ratio_double_glazed_group'])\n",
    "res = stat()\n",
    "res.chisq(df=ctab)\n",
    "print(res.summary)"
   ]
  },
  {
   "cell_type": "code",
   "execution_count": 14,
   "metadata": {},
   "outputs": [
    {
     "name": "stdout",
     "output_type": "stream",
     "text": [
      "\n",
      "Chi-squared test for independence\n",
      "\n",
      "Test              Df    Chi-square      P-value\n",
      "--------------  ----  ------------  -----------\n",
      "Pearson           12       74.0467  5.56156e-11\n",
      "Log-likelihood    12       78.1973  9.09847e-12\n",
      "\n"
     ]
    }
   ],
   "source": [
    "x = hdd.copy()\n",
    "x = x.loc[(x['N_double_glazed_win_group'] != -2)]\n",
    "\n",
    "ctab = pd.crosstab(x['HDD18_bins'], x['N_double_glazed_win_group'])\n",
    "res = stat()\n",
    "res.chisq(df=ctab)\n",
    "print(res.summary)"
   ]
  },
  {
   "cell_type": "code",
   "execution_count": 15,
   "metadata": {},
   "outputs": [
    {
     "name": "stdout",
     "output_type": "stream",
     "text": [
      "\n",
      "Chi-squared test for independence\n",
      "\n",
      "Test              Df    Chi-square     P-value\n",
      "--------------  ----  ------------  ----------\n",
      "Pearson            9       26.8177  0.00149921\n",
      "Log-likelihood     9       25.9522  0.00208009\n",
      "\n"
     ]
    }
   ],
   "source": [
    "x = hdd.copy()\n",
    "x = x.loc[(x['h_occupancy_type'] != -2)]\n",
    "\n",
    "ctab = pd.crosstab(x['HDD18_bins'], x['h_occupancy_type'])\n",
    "res = stat()\n",
    "res.chisq(df=ctab)\n",
    "print(res.summary)"
   ]
  },
  {
   "cell_type": "code",
   "execution_count": 16,
   "metadata": {},
   "outputs": [
    {
     "name": "stdout",
     "output_type": "stream",
     "text": [
      "\n",
      "Chi-squared test for independence\n",
      "\n",
      "Test              Df    Chi-square      P-value\n",
      "--------------  ----  ------------  -----------\n",
      "Pearson           21       487.872  5.03405e-90\n",
      "Log-likelihood    21       336.309  1.21988e-58\n",
      "\n"
     ]
    }
   ],
   "source": [
    "x = hdd.copy()\n",
    "x = x.loc[(x['main_heat_facility'] != -2)]\n",
    "\n",
    "ctab = pd.crosstab(x['HDD18_bins'], x['main_heat_facility'])\n",
    "res = stat()\n",
    "res.chisq(df=ctab)\n",
    "print(res.summary)"
   ]
  },
  {
   "cell_type": "code",
   "execution_count": 17,
   "metadata": {},
   "outputs": [
    {
     "name": "stdout",
     "output_type": "stream",
     "text": [
      "\n",
      "Chi-squared test for independence\n",
      "\n",
      "Test              Df    Chi-square      P-value\n",
      "--------------  ----  ------------  -----------\n",
      "Pearson           18       456.193  1.63573e-85\n",
      "Log-likelihood    18       317.03   1.49687e-56\n",
      "\n"
     ]
    }
   ],
   "source": [
    "x = hdd.copy()\n",
    "x = x.loc[(x['main_heat_fuel'] != -2)]\n",
    "\n",
    "ctab = pd.crosstab(x['HDD18_bins'], x['main_heat_fuel'])\n",
    "res = stat()\n",
    "res.chisq(df=ctab)\n",
    "print(res.summary)"
   ]
  },
  {
   "cell_type": "code",
   "execution_count": 18,
   "metadata": {},
   "outputs": [
    {
     "name": "stdout",
     "output_type": "stream",
     "text": [
      "\n",
      "Chi-squared test for independence\n",
      "\n",
      "Test              Df    Chi-square    P-value\n",
      "--------------  ----  ------------  ---------\n",
      "Pearson            3       6.31458  0.0972691\n",
      "Log-likelihood     3       6.32664  0.0967557\n",
      "\n"
     ]
    }
   ],
   "source": [
    "x = hdd.copy()\n",
    "x = x.loc[(x['aux_heat_used'] != -2)]\n",
    "\n",
    "ctab = pd.crosstab(x['HDD18_bins'], x['aux_heat_used'])\n",
    "res = stat()\n",
    "res.chisq(df=ctab)\n",
    "print(res.summary)"
   ]
  },
  {
   "cell_type": "code",
   "execution_count": 19,
   "metadata": {},
   "outputs": [
    {
     "name": "stdout",
     "output_type": "stream",
     "text": [
      "\n",
      "Chi-squared test for independence\n",
      "\n",
      "Test              Df    Chi-square      P-value\n",
      "--------------  ----  ------------  -----------\n",
      "Pearson           12       73.0989  8.39176e-11\n",
      "Log-likelihood    12       77.4894  1.2402e-11\n",
      "\n"
     ]
    }
   ],
   "source": [
    "x = hdd.copy()\n",
    "x = x.loc[(x['gas boiler_eff_rating'] != -2)]\n",
    "\n",
    "ctab = pd.crosstab(x['HDD18_bins'], x['gas boiler_eff_rating'])\n",
    "res = stat()\n",
    "res.chisq(df=ctab)\n",
    "print(res.summary)"
   ]
  },
  {
   "cell_type": "code",
   "execution_count": 22,
   "metadata": {},
   "outputs": [
    {
     "name": "stdout",
     "output_type": "stream",
     "text": [
      "\n",
      "Chi-squared test for independence\n",
      "\n",
      "Test              Df    Chi-square    P-value\n",
      "--------------  ----  ------------  ---------\n",
      "Pearson            8       14.7829  0.0635067\n",
      "Log-likelihood     8       17.034   0.0297565\n",
      "\n"
     ]
    }
   ],
   "source": [
    "x = hdd.copy()\n",
    "x = x.loc[(x['elec_boil_power_eff_rating'] != -2)]\n",
    "\n",
    "ctab = pd.crosstab(x['HDD18_bins'], x['elec_boil_power_eff_rating'])\n",
    "res = stat()\n",
    "res.chisq(df=ctab)\n",
    "print(res.summary)"
   ]
  },
  {
   "cell_type": "code",
   "execution_count": 23,
   "metadata": {},
   "outputs": [
    {
     "name": "stdout",
     "output_type": "stream",
     "text": [
      "\n",
      "Chi-squared test for independence\n",
      "\n",
      "Test              Df    Chi-square      P-value\n",
      "--------------  ----  ------------  -----------\n",
      "Pearson           12       201.152  1.886e-36\n",
      "Log-likelihood    12       204.232  4.36016e-37\n",
      "\n"
     ]
    }
   ],
   "source": [
    "x = hdd.copy()\n",
    "x = x.loc[(x['cook_equip_used'] != -2)]\n",
    "\n",
    "ctab = pd.crosstab(x['HDD18_bins'], x['cook_equip_used'])\n",
    "res = stat()\n",
    "res.chisq(df=ctab)\n",
    "print(res.summary)"
   ]
  },
  {
   "cell_type": "code",
   "execution_count": 24,
   "metadata": {},
   "outputs": [
    {
     "name": "stdout",
     "output_type": "stream",
     "text": [
      "\n",
      "Chi-squared test for independence\n",
      "\n",
      "Test              Df    Chi-square    P-value\n",
      "--------------  ----  ------------  ---------\n",
      "Pearson            3       1.46093   0.691317\n",
      "Log-likelihood     3       1.86882   0.600075\n",
      "\n"
     ]
    }
   ],
   "source": [
    "x = hdd.copy()\n",
    "x = x.loc[(x['renewable_installed'] != -2)]\n",
    "\n",
    "ctab = pd.crosstab(x['HDD18_bins'], x['renewable_installed'])\n",
    "res = stat()\n",
    "res.chisq(df=ctab)\n",
    "print(res.summary)"
   ]
  },
  {
   "cell_type": "code",
   "execution_count": 25,
   "metadata": {},
   "outputs": [
    {
     "name": "stdout",
     "output_type": "stream",
     "text": [
      "\n",
      "Chi-squared test for independence\n",
      "\n",
      "Test              Df    Chi-square      P-value\n",
      "--------------  ----  ------------  -----------\n",
      "Pearson            3       49.5943  9.74764e-11\n",
      "Log-likelihood     3       51.3689  4.08228e-11\n",
      "\n"
     ]
    }
   ],
   "source": [
    "x = hdd.copy()\n",
    "x = x.loc[(x['elec_rate_check'] != -2)]\n",
    "\n",
    "ctab = pd.crosstab(x['HDD18_bins'], x['elec_rate_check'])\n",
    "res = stat()\n",
    "res.chisq(df=ctab)\n",
    "print(res.summary)"
   ]
  },
  {
   "cell_type": "code",
   "execution_count": 26,
   "metadata": {},
   "outputs": [
    {
     "name": "stdout",
     "output_type": "stream",
     "text": [
      "\n",
      "Chi-squared test for independence\n",
      "\n",
      "Test              Df    Chi-square      P-value\n",
      "--------------  ----  ------------  -----------\n",
      "Pearson            2       17.1711  0.000186782\n",
      "Log-likelihood     2       17.9704  0.000125251\n",
      "\n"
     ]
    }
   ],
   "source": [
    "x = hdd.copy()\n",
    "x = x.loc[(x['city_g_rate_check'] != -2)]\n",
    "\n",
    "ctab = pd.crosstab(x['HDD18_bins'], x['city_g_rate_check'])\n",
    "res = stat()\n",
    "res.chisq(df=ctab)\n",
    "print(res.summary)"
   ]
  },
  {
   "cell_type": "code",
   "execution_count": 27,
   "metadata": {},
   "outputs": [
    {
     "name": "stdout",
     "output_type": "stream",
     "text": [
      "\n",
      "Chi-squared test for independence\n",
      "\n",
      "Test              Df    Chi-square    P-value\n",
      "--------------  ----  ------------  ---------\n",
      "Pearson            9       11.8496   0.221919\n",
      "Log-likelihood     9       12.1766   0.203536\n",
      "\n"
     ]
    }
   ],
   "source": [
    "x = hdd.copy()\n",
    "x = x.loc[(x['why_not_check_city_el_rate'] != -2)]\n",
    "\n",
    "ctab = pd.crosstab(x['HDD18_bins'], x['why_not_check_city_el_rate'])\n",
    "res = stat()\n",
    "res.chisq(df=ctab)\n",
    "print(res.summary)"
   ]
  },
  {
   "cell_type": "code",
   "execution_count": 4,
   "metadata": {},
   "outputs": [
    {
     "name": "stdout",
     "output_type": "stream",
     "text": [
      "\n",
      "Chi-squared test for independence\n",
      "\n",
      "Test              Df    Chi-square     P-value\n",
      "--------------  ----  ------------  ----------\n",
      "Pearson            6       16.7222  0.0103605\n",
      "Log-likelihood     6       19.5458  0.00333464\n",
      "\n"
     ]
    }
   ],
   "source": [
    "x = hdd.copy()\n",
    "x = x.loc[(x['why_not_check_city_g_rate'] != -2)]\n",
    "\n",
    "ctab = pd.crosstab(x['HDD18_bins'], x['why_not_check_city_g_rate'])\n",
    "res = stat()\n",
    "res.chisq(df=ctab)\n",
    "print(res.summary)"
   ]
  },
  {
   "cell_type": "code",
   "execution_count": 5,
   "metadata": {},
   "outputs": [
    {
     "name": "stdout",
     "output_type": "stream",
     "text": [
      "\n",
      "Chi-squared test for independence\n",
      "\n",
      "Test              Df    Chi-square    P-value\n",
      "--------------  ----  ------------  ---------\n",
      "Pearson            9       18.3616  0.0312023\n",
      "Log-likelihood     9       19.7842  0.019292\n",
      "\n"
     ]
    }
   ],
   "source": [
    "x = hdd.copy()\n",
    "x = x.loc[(x['gas_avg_monthly_heat_cost_group'] != -2)]\n",
    "\n",
    "ctab = pd.crosstab(x['HDD18_bins'], x['gas_avg_monthly_heat_cost_group'])\n",
    "res = stat()\n",
    "res.chisq(df=ctab)\n",
    "print(res.summary)"
   ]
  },
  {
   "cell_type": "code",
   "execution_count": 3,
   "metadata": {},
   "outputs": [
    {
     "name": "stdout",
     "output_type": "stream",
     "text": [
      "\n",
      "Chi-squared test for independence\n",
      "\n",
      "Test              Df    Chi-square      P-value\n",
      "--------------  ----  ------------  -----------\n",
      "Pearson            6       137.451  3.45734e-27\n",
      "Log-likelihood     6       134.5    1.4483e-26\n",
      "\n"
     ]
    }
   ],
   "source": [
    "x = hdd.copy()\n",
    "x = x.loc[(x['gas_last_winter_heat_statisfaction'] != -2)]\n",
    "\n",
    "ctab = pd.crosstab(x['HDD18_bins'], x['gas_last_winter_heat_statisfaction'])\n",
    "res = stat()\n",
    "res.chisq(df=ctab)\n",
    "print(res.summary)"
   ]
  },
  {
   "cell_type": "code",
   "execution_count": 7,
   "metadata": {},
   "outputs": [
    {
     "name": "stdout",
     "output_type": "stream",
     "text": [
      "\n",
      "Chi-squared test for independence\n",
      "\n",
      "Test              Df    Chi-square    P-value\n",
      "--------------  ----  ------------  ---------\n",
      "Pearson            3       4.61295   0.202434\n",
      "Log-likelihood     3       4.49396   0.21283\n",
      "\n"
     ]
    }
   ],
   "source": [
    "x = hdd.copy()\n",
    "x = x.loc[(x['insuf_heat_due_to_cost'] != -2)]\n",
    "\n",
    "ctab = pd.crosstab(x['HDD18_bins'], x['insuf_heat_due_to_cost'])\n",
    "res = stat()\n",
    "res.chisq(df=ctab)\n",
    "print(res.summary)"
   ]
  },
  {
   "cell_type": "code",
   "execution_count": 8,
   "metadata": {},
   "outputs": [
    {
     "name": "stdout",
     "output_type": "stream",
     "text": [
      "\n",
      "Chi-squared test for independence\n",
      "\n",
      "Test              Df    Chi-square      P-value\n",
      "--------------  ----  ------------  -----------\n",
      "Pearson           18       53.5816  2.13181e-05\n",
      "Log-likelihood    18       66.0038  2.11731e-07\n",
      "\n"
     ]
    }
   ],
   "source": [
    "x = hdd.copy()\n",
    "x = x.loc[(x['insul_added_material'] != -2)]\n",
    "\n",
    "ctab = pd.crosstab(x['HDD18_bins'], x['insul_added_material'])\n",
    "res = stat()\n",
    "res.chisq(df=ctab)\n",
    "print(res.summary)"
   ]
  },
  {
   "cell_type": "code",
   "execution_count": 9,
   "metadata": {},
   "outputs": [
    {
     "name": "stdout",
     "output_type": "stream",
     "text": [
      "\n",
      "Chi-squared test for independence\n",
      "\n",
      "Test              Df    Chi-square      P-value\n",
      "--------------  ----  ------------  -----------\n",
      "Pearson           15       52.8987  4.00841e-06\n",
      "Log-likelihood    15       52.4091  4.83308e-06\n",
      "\n"
     ]
    }
   ],
   "source": [
    "x = hdd.copy()\n",
    "x = x.loc[(x['improve_energy_method'] != -2)]\n",
    "\n",
    "ctab = pd.crosstab(x['HDD18_bins'], x['improve_energy_method'])\n",
    "res = stat()\n",
    "res.chisq(df=ctab)\n",
    "print(res.summary)"
   ]
  },
  {
   "cell_type": "code",
   "execution_count": 10,
   "metadata": {},
   "outputs": [
    {
     "name": "stdout",
     "output_type": "stream",
     "text": [
      "\n",
      "Chi-squared test for independence\n",
      "\n",
      "Test              Df    Chi-square      P-value\n",
      "--------------  ----  ------------  -----------\n",
      "Pearson            6       32.2101  1.48721e-05\n",
      "Log-likelihood     6       30.9615  2.57817e-05\n",
      "\n"
     ]
    }
   ],
   "source": [
    "x = hdd.copy()\n",
    "x = x.loc[(x['energy_savinng_prog'] != -2)]\n",
    "\n",
    "ctab = pd.crosstab(x['HDD18_bins'], x['energy_savinng_prog'])\n",
    "res = stat()\n",
    "res.chisq(df=ctab)\n",
    "print(res.summary)"
   ]
  },
  {
   "cell_type": "code",
   "execution_count": 11,
   "metadata": {},
   "outputs": [
    {
     "name": "stdout",
     "output_type": "stream",
     "text": [
      "\n",
      "Chi-squared test for independence\n",
      "\n",
      "Test              Df    Chi-square      P-value\n",
      "--------------  ----  ------------  -----------\n",
      "Pearson            3       30.7898  9.41238e-07\n",
      "Log-likelihood     3       30.391   1.14194e-06\n",
      "\n"
     ]
    }
   ],
   "source": [
    "x = hdd.copy()\n",
    "x = x.loc[(x['gender'] != -2)]\n",
    "\n",
    "ctab = pd.crosstab(x['HDD18_bins'], x['gender'])\n",
    "res = stat()\n",
    "res.chisq(df=ctab)\n",
    "print(res.summary)"
   ]
  },
  {
   "cell_type": "code",
   "execution_count": 12,
   "metadata": {},
   "outputs": [
    {
     "name": "stdout",
     "output_type": "stream",
     "text": [
      "\n",
      "Chi-squared test for independence\n",
      "\n",
      "Test              Df    Chi-square      P-value\n",
      "--------------  ----  ------------  -----------\n",
      "Pearson           12       75.9871  2.39001e-11\n",
      "Log-likelihood    12       72.9965  8.77286e-11\n",
      "\n"
     ]
    }
   ],
   "source": [
    "x = hdd.copy()\n",
    "x = x.loc[(x['head_house_age_group'] != -2)]\n",
    "\n",
    "ctab = pd.crosstab(x['HDD18_bins'], x['head_house_age_group'])\n",
    "res = stat()\n",
    "res.chisq(df=ctab)\n",
    "print(res.summary)"
   ]
  },
  {
   "cell_type": "code",
   "execution_count": 13,
   "metadata": {},
   "outputs": [
    {
     "name": "stdout",
     "output_type": "stream",
     "text": [
      "\n",
      "Chi-squared test for independence\n",
      "\n",
      "Test              Df    Chi-square      P-value\n",
      "--------------  ----  ------------  -----------\n",
      "Pearson            9       74.2071  2.26578e-12\n",
      "Log-likelihood     9       79.316   2.20947e-13\n",
      "\n"
     ]
    }
   ],
   "source": [
    "x = hdd.copy()\n",
    "x = x.loc[(x['head_house_edu_group'] != -2)]\n",
    "\n",
    "ctab = pd.crosstab(x['HDD18_bins'], x['head_house_edu_group'])\n",
    "res = stat()\n",
    "res.chisq(df=ctab)\n",
    "print(res.summary)"
   ]
  },
  {
   "cell_type": "code",
   "execution_count": 3,
   "metadata": {},
   "outputs": [
    {
     "name": "stdout",
     "output_type": "stream",
     "text": [
      "\n",
      "Chi-squared test for independence\n",
      "\n",
      "Test              Df    Chi-square      P-value\n",
      "--------------  ----  ------------  -----------\n",
      "Pearson           15       66.3821  1.95362e-08\n",
      "Log-likelihood    15       70.6825  3.3754e-09\n",
      "\n"
     ]
    }
   ],
   "source": [
    "x = hdd.copy()\n",
    "x = x.loc[(x['head_house_occ_group'] != -2)]\n",
    "\n",
    "ctab = pd.crosstab(x['HDD18_bins'], x['head_house_occ_group'])\n",
    "res = stat()\n",
    "res.chisq(df=ctab)\n",
    "print(res.summary)"
   ]
  },
  {
   "cell_type": "code",
   "execution_count": 4,
   "metadata": {},
   "outputs": [
    {
     "name": "stdout",
     "output_type": "stream",
     "text": [
      "\n",
      "Chi-squared test for independence\n",
      "\n",
      "Test              Df    Chi-square      P-value\n",
      "--------------  ----  ------------  -----------\n",
      "Pearson           18       36.846   0.00548797\n",
      "Log-likelihood    18       48.3756  0.000132374\n",
      "\n"
     ]
    }
   ],
   "source": [
    "x = hdd.copy()\n",
    "x = x.loc[(x['head_house_income_source_group'] != -2)]\n",
    "\n",
    "ctab = pd.crosstab(x['HDD18_bins'], x['head_house_income_source_group'])\n",
    "res = stat()\n",
    "res.chisq(df=ctab)\n",
    "print(res.summary)"
   ]
  },
  {
   "cell_type": "code",
   "execution_count": 5,
   "metadata": {},
   "outputs": [
    {
     "name": "stdout",
     "output_type": "stream",
     "text": [
      "\n",
      "Chi-squared test for independence\n",
      "\n",
      "Test              Df    Chi-square    P-value\n",
      "--------------  ----  ------------  ---------\n",
      "Pearson            3       3.81222   0.282468\n",
      "Log-likelihood     3       4.799     0.187121\n",
      "\n"
     ]
    }
   ],
   "source": [
    "x = hdd.copy()\n",
    "x = x.loc[(x['house_member_pregnant'] != -2)]\n",
    "\n",
    "ctab = pd.crosstab(x['HDD18_bins'], x['house_member_pregnant'])\n",
    "res = stat()\n",
    "res.chisq(df=ctab)\n",
    "print(res.summary)"
   ]
  },
  {
   "cell_type": "code",
   "execution_count": 6,
   "metadata": {},
   "outputs": [
    {
     "name": "stdout",
     "output_type": "stream",
     "text": [
      "\n",
      "Chi-squared test for independence\n",
      "\n",
      "Test              Df    Chi-square    P-value\n",
      "--------------  ----  ------------  ---------\n",
      "Pearson           12       7.33842   0.834464\n",
      "Log-likelihood    12       8.87254   0.713777\n",
      "\n"
     ]
    }
   ],
   "source": [
    "x = hdd.copy()\n",
    "x = x.loc[(x['annual_income_category'] != -2)]\n",
    "\n",
    "ctab = pd.crosstab(x['HDD18_bins'], x['annual_income_category'])\n",
    "res = stat()\n",
    "res.chisq(df=ctab)\n",
    "print(res.summary)"
   ]
  },
  {
   "cell_type": "code",
   "execution_count": 7,
   "metadata": {},
   "outputs": [
    {
     "name": "stdout",
     "output_type": "stream",
     "text": [
      "\n",
      "Chi-squared test for independence\n",
      "\n",
      "Test              Df    Chi-square      P-value\n",
      "--------------  ----  ------------  -----------\n",
      "Pearson            9       62.1012  5.26734e-10\n",
      "Log-likelihood     9       60.9722  8.70556e-10\n",
      "\n"
     ]
    }
   ],
   "source": [
    "x = hdd.copy()\n",
    "x = x.loc[(x['av_monthly_income_group'] != -2)]\n",
    "\n",
    "ctab = pd.crosstab(x['HDD18_bins'], x['av_monthly_income_group'])\n",
    "res = stat()\n",
    "res.chisq(df=ctab)\n",
    "print(res.summary)"
   ]
  },
  {
   "cell_type": "code",
   "execution_count": null,
   "metadata": {},
   "outputs": [],
   "source": []
  }
 ],
 "metadata": {
  "kernelspec": {
   "display_name": "thesis",
   "language": "python",
   "name": "python3"
  },
  "language_info": {
   "codemirror_mode": {
    "name": "ipython",
    "version": 3
   },
   "file_extension": ".py",
   "mimetype": "text/x-python",
   "name": "python",
   "nbconvert_exporter": "python",
   "pygments_lexer": "ipython3",
   "version": "3.10.6"
  },
  "orig_nbformat": 4,
  "vscode": {
   "interpreter": {
    "hash": "d3e156ba609d3fe88450c2dc1973615cb05d3710a7f9768d2badc7f539ca2834"
   }
  }
 },
 "nbformat": 4,
 "nbformat_minor": 2
}
