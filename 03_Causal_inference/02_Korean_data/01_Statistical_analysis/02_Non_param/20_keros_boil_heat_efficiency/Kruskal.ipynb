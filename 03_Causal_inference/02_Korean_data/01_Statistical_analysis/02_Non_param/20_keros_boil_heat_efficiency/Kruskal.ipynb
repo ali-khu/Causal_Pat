{
 "cells": [
  {
   "cell_type": "code",
   "execution_count": 1,
   "metadata": {},
   "outputs": [],
   "source": [
    "import pandas as pd\n",
    "import numpy as np\n",
    "from pingouin import kruskal\n",
    "\n",
    "df = pd.read_excel('data.xlsx')"
   ]
  },
  {
   "cell_type": "code",
   "execution_count": 2,
   "metadata": {},
   "outputs": [],
   "source": [
    "data = df.copy()\n",
    "data = data.loc[(data['keros_boil_heat_efficiency'] != -2)]"
   ]
  },
  {
   "cell_type": "code",
   "execution_count": 3,
   "metadata": {},
   "outputs": [
    {
     "ename": "ZeroDivisionError",
     "evalue": "division by zero",
     "output_type": "error",
     "traceback": [
      "\u001b[0;31m---------------------------------------------------------------------------\u001b[0m",
      "\u001b[0;31mZeroDivisionError\u001b[0m                         Traceback (most recent call last)",
      "\u001b[1;32m/Users/heal/GDrive/08_THESIS/Causal_infer/02_Kor_resi/04_Stat_tests/02_Non_param/20_keros_boil_heat_efficiency/Kruskal.ipynb Cell 3\u001b[0m in \u001b[0;36m3\n\u001b[1;32m      <a href='vscode-notebook-cell:/Users/heal/GDrive/08_THESIS/Causal_infer/02_Kor_resi/04_Stat_tests/02_Non_param/20_keros_boil_heat_efficiency/Kruskal.ipynb#W2sZmlsZQ%3D%3D?line=0'>1</a>\u001b[0m x \u001b[39m=\u001b[39m data\u001b[39m.\u001b[39mcopy()\n\u001b[1;32m      <a href='vscode-notebook-cell:/Users/heal/GDrive/08_THESIS/Causal_infer/02_Kor_resi/04_Stat_tests/02_Non_param/20_keros_boil_heat_efficiency/Kruskal.ipynb#W2sZmlsZQ%3D%3D?line=1'>2</a>\u001b[0m x \u001b[39m=\u001b[39m x\u001b[39m.\u001b[39mloc[(x[\u001b[39m'\u001b[39m\u001b[39mgas boiler_eff_rating\u001b[39m\u001b[39m'\u001b[39m] \u001b[39m!=\u001b[39m \u001b[39m-\u001b[39m\u001b[39m2\u001b[39m)]\n\u001b[0;32m----> <a href='vscode-notebook-cell:/Users/heal/GDrive/08_THESIS/Causal_infer/02_Kor_resi/04_Stat_tests/02_Non_param/20_keros_boil_heat_efficiency/Kruskal.ipynb#W2sZmlsZQ%3D%3D?line=2'>3</a>\u001b[0m kruskal(data\u001b[39m=\u001b[39;49mx, dv\u001b[39m=\u001b[39;49m\u001b[39m'\u001b[39;49m\u001b[39mkeros_boil_heat_efficiency\u001b[39;49m\u001b[39m'\u001b[39;49m, between\u001b[39m=\u001b[39;49m\u001b[39m'\u001b[39;49m\u001b[39mgas boiler_eff_rating\u001b[39;49m\u001b[39m'\u001b[39;49m)\n",
      "File \u001b[0;32m~/opt/anaconda3/envs/thesis/lib/python3.10/site-packages/pingouin/nonparametric.py:560\u001b[0m, in \u001b[0;36mkruskal\u001b[0;34m(data, dv, between, detailed)\u001b[0m\n\u001b[1;32m    557\u001b[0m n_per_grp \u001b[39m=\u001b[39m grp\u001b[39m.\u001b[39mcount()\u001b[39m.\u001b[39mto_numpy()\n\u001b[1;32m    559\u001b[0m \u001b[39m# Calculate chi-square statistic (H)\u001b[39;00m\n\u001b[0;32m--> 560\u001b[0m H \u001b[39m=\u001b[39m (\u001b[39m12\u001b[39;49m \u001b[39m/\u001b[39;49m (n \u001b[39m*\u001b[39;49m (n \u001b[39m+\u001b[39;49m \u001b[39m1\u001b[39;49m)) \u001b[39m*\u001b[39m np\u001b[39m.\u001b[39msum(sum_rk_grp\u001b[39m*\u001b[39m\u001b[39m*\u001b[39m\u001b[39m2\u001b[39m \u001b[39m/\u001b[39m n_per_grp)) \u001b[39m-\u001b[39m \u001b[39m3\u001b[39m \u001b[39m*\u001b[39m (n \u001b[39m+\u001b[39m \u001b[39m1\u001b[39m)\n\u001b[1;32m    562\u001b[0m \u001b[39m# Correct for ties\u001b[39;00m\n\u001b[1;32m    563\u001b[0m H \u001b[39m/\u001b[39m\u001b[39m=\u001b[39m scipy\u001b[39m.\u001b[39mstats\u001b[39m.\u001b[39mtiecorrect(data[\u001b[39m\"\u001b[39m\u001b[39mrank\u001b[39m\u001b[39m\"\u001b[39m]\u001b[39m.\u001b[39mto_numpy())\n",
      "\u001b[0;31mZeroDivisionError\u001b[0m: division by zero"
     ]
    }
   ],
   "source": [
    "x = data.copy()\n",
    "x = x.loc[(x['gas boiler_eff_rating'] != -2)]\n",
    "kruskal(data=x, dv='keros_boil_heat_efficiency', between='gas boiler_eff_rating')"
   ]
  },
  {
   "cell_type": "code",
   "execution_count": 4,
   "metadata": {},
   "outputs": [
    {
     "ename": "ZeroDivisionError",
     "evalue": "division by zero",
     "output_type": "error",
     "traceback": [
      "\u001b[0;31m---------------------------------------------------------------------------\u001b[0m",
      "\u001b[0;31mZeroDivisionError\u001b[0m                         Traceback (most recent call last)",
      "\u001b[1;32m/Users/heal/GDrive/08_THESIS/Causal_infer/02_Kor_resi/04_Stat_tests/02_Non_param/20_keros_boil_heat_efficiency/Kruskal.ipynb Cell 4\u001b[0m in \u001b[0;36m3\n\u001b[1;32m      <a href='vscode-notebook-cell:/Users/heal/GDrive/08_THESIS/Causal_infer/02_Kor_resi/04_Stat_tests/02_Non_param/20_keros_boil_heat_efficiency/Kruskal.ipynb#W3sZmlsZQ%3D%3D?line=0'>1</a>\u001b[0m x \u001b[39m=\u001b[39m data\u001b[39m.\u001b[39mcopy()\n\u001b[1;32m      <a href='vscode-notebook-cell:/Users/heal/GDrive/08_THESIS/Causal_infer/02_Kor_resi/04_Stat_tests/02_Non_param/20_keros_boil_heat_efficiency/Kruskal.ipynb#W3sZmlsZQ%3D%3D?line=1'>2</a>\u001b[0m x \u001b[39m=\u001b[39m x\u001b[39m.\u001b[39mloc[(x[\u001b[39m'\u001b[39m\u001b[39melec_boil_power_eff_rating\u001b[39m\u001b[39m'\u001b[39m] \u001b[39m!=\u001b[39m \u001b[39m-\u001b[39m\u001b[39m2\u001b[39m)]\n\u001b[0;32m----> <a href='vscode-notebook-cell:/Users/heal/GDrive/08_THESIS/Causal_infer/02_Kor_resi/04_Stat_tests/02_Non_param/20_keros_boil_heat_efficiency/Kruskal.ipynb#W3sZmlsZQ%3D%3D?line=2'>3</a>\u001b[0m kruskal(data\u001b[39m=\u001b[39;49mx, dv\u001b[39m=\u001b[39;49m\u001b[39m'\u001b[39;49m\u001b[39mkeros_boil_heat_efficiency\u001b[39;49m\u001b[39m'\u001b[39;49m, between\u001b[39m=\u001b[39;49m\u001b[39m'\u001b[39;49m\u001b[39melec_boil_power_eff_rating\u001b[39;49m\u001b[39m'\u001b[39;49m)\n",
      "File \u001b[0;32m~/opt/anaconda3/envs/thesis/lib/python3.10/site-packages/pingouin/nonparametric.py:560\u001b[0m, in \u001b[0;36mkruskal\u001b[0;34m(data, dv, between, detailed)\u001b[0m\n\u001b[1;32m    557\u001b[0m n_per_grp \u001b[39m=\u001b[39m grp\u001b[39m.\u001b[39mcount()\u001b[39m.\u001b[39mto_numpy()\n\u001b[1;32m    559\u001b[0m \u001b[39m# Calculate chi-square statistic (H)\u001b[39;00m\n\u001b[0;32m--> 560\u001b[0m H \u001b[39m=\u001b[39m (\u001b[39m12\u001b[39;49m \u001b[39m/\u001b[39;49m (n \u001b[39m*\u001b[39;49m (n \u001b[39m+\u001b[39;49m \u001b[39m1\u001b[39;49m)) \u001b[39m*\u001b[39m np\u001b[39m.\u001b[39msum(sum_rk_grp\u001b[39m*\u001b[39m\u001b[39m*\u001b[39m\u001b[39m2\u001b[39m \u001b[39m/\u001b[39m n_per_grp)) \u001b[39m-\u001b[39m \u001b[39m3\u001b[39m \u001b[39m*\u001b[39m (n \u001b[39m+\u001b[39m \u001b[39m1\u001b[39m)\n\u001b[1;32m    562\u001b[0m \u001b[39m# Correct for ties\u001b[39;00m\n\u001b[1;32m    563\u001b[0m H \u001b[39m/\u001b[39m\u001b[39m=\u001b[39m scipy\u001b[39m.\u001b[39mstats\u001b[39m.\u001b[39mtiecorrect(data[\u001b[39m\"\u001b[39m\u001b[39mrank\u001b[39m\u001b[39m\"\u001b[39m]\u001b[39m.\u001b[39mto_numpy())\n",
      "\u001b[0;31mZeroDivisionError\u001b[0m: division by zero"
     ]
    }
   ],
   "source": [
    "x = data.copy()\n",
    "x = x.loc[(x['elec_boil_power_eff_rating'] != -2)]\n",
    "kruskal(data=x, dv='keros_boil_heat_efficiency', between='elec_boil_power_eff_rating')"
   ]
  },
  {
   "cell_type": "code",
   "execution_count": 5,
   "metadata": {},
   "outputs": [
    {
     "data": {
      "text/html": [
       "<div>\n",
       "<style scoped>\n",
       "    .dataframe tbody tr th:only-of-type {\n",
       "        vertical-align: middle;\n",
       "    }\n",
       "\n",
       "    .dataframe tbody tr th {\n",
       "        vertical-align: top;\n",
       "    }\n",
       "\n",
       "    .dataframe thead th {\n",
       "        text-align: right;\n",
       "    }\n",
       "</style>\n",
       "<table border=\"1\" class=\"dataframe\">\n",
       "  <thead>\n",
       "    <tr style=\"text-align: right;\">\n",
       "      <th></th>\n",
       "      <th>Source</th>\n",
       "      <th>ddof1</th>\n",
       "      <th>H</th>\n",
       "      <th>p-unc</th>\n",
       "    </tr>\n",
       "  </thead>\n",
       "  <tbody>\n",
       "    <tr>\n",
       "      <th>Kruskal</th>\n",
       "      <td>cook_equip_used</td>\n",
       "      <td>1</td>\n",
       "      <td>1.457773</td>\n",
       "      <td>0.227285</td>\n",
       "    </tr>\n",
       "  </tbody>\n",
       "</table>\n",
       "</div>"
      ],
      "text/plain": [
       "                  Source  ddof1         H     p-unc\n",
       "Kruskal  cook_equip_used      1  1.457773  0.227285"
      ]
     },
     "execution_count": 5,
     "metadata": {},
     "output_type": "execute_result"
    }
   ],
   "source": [
    "x = data.copy()\n",
    "x = x.loc[(x['cook_equip_used'] != -2)]\n",
    "kruskal(data=x, dv='keros_boil_heat_efficiency', between='cook_equip_used')"
   ]
  },
  {
   "cell_type": "code",
   "execution_count": 6,
   "metadata": {},
   "outputs": [
    {
     "data": {
      "text/html": [
       "<div>\n",
       "<style scoped>\n",
       "    .dataframe tbody tr th:only-of-type {\n",
       "        vertical-align: middle;\n",
       "    }\n",
       "\n",
       "    .dataframe tbody tr th {\n",
       "        vertical-align: top;\n",
       "    }\n",
       "\n",
       "    .dataframe thead th {\n",
       "        text-align: right;\n",
       "    }\n",
       "</style>\n",
       "<table border=\"1\" class=\"dataframe\">\n",
       "  <thead>\n",
       "    <tr style=\"text-align: right;\">\n",
       "      <th></th>\n",
       "      <th>Source</th>\n",
       "      <th>ddof1</th>\n",
       "      <th>H</th>\n",
       "      <th>p-unc</th>\n",
       "    </tr>\n",
       "  </thead>\n",
       "  <tbody>\n",
       "    <tr>\n",
       "      <th>Kruskal</th>\n",
       "      <td>renewable_installed</td>\n",
       "      <td>1</td>\n",
       "      <td>0.035274</td>\n",
       "      <td>0.851022</td>\n",
       "    </tr>\n",
       "  </tbody>\n",
       "</table>\n",
       "</div>"
      ],
      "text/plain": [
       "                      Source  ddof1         H     p-unc\n",
       "Kruskal  renewable_installed      1  0.035274  0.851022"
      ]
     },
     "execution_count": 6,
     "metadata": {},
     "output_type": "execute_result"
    }
   ],
   "source": [
    "x = data.copy()\n",
    "x = x.loc[(x['renewable_installed'] != -2)]\n",
    "kruskal(data=x, dv='keros_boil_heat_efficiency', between='renewable_installed')"
   ]
  },
  {
   "cell_type": "code",
   "execution_count": 7,
   "metadata": {},
   "outputs": [
    {
     "data": {
      "text/html": [
       "<div>\n",
       "<style scoped>\n",
       "    .dataframe tbody tr th:only-of-type {\n",
       "        vertical-align: middle;\n",
       "    }\n",
       "\n",
       "    .dataframe tbody tr th {\n",
       "        vertical-align: top;\n",
       "    }\n",
       "\n",
       "    .dataframe thead th {\n",
       "        text-align: right;\n",
       "    }\n",
       "</style>\n",
       "<table border=\"1\" class=\"dataframe\">\n",
       "  <thead>\n",
       "    <tr style=\"text-align: right;\">\n",
       "      <th></th>\n",
       "      <th>Source</th>\n",
       "      <th>ddof1</th>\n",
       "      <th>H</th>\n",
       "      <th>p-unc</th>\n",
       "    </tr>\n",
       "  </thead>\n",
       "  <tbody>\n",
       "    <tr>\n",
       "      <th>Kruskal</th>\n",
       "      <td>elec_rate_check</td>\n",
       "      <td>1</td>\n",
       "      <td>11.370509</td>\n",
       "      <td>0.000746</td>\n",
       "    </tr>\n",
       "  </tbody>\n",
       "</table>\n",
       "</div>"
      ],
      "text/plain": [
       "                  Source  ddof1          H     p-unc\n",
       "Kruskal  elec_rate_check      1  11.370509  0.000746"
      ]
     },
     "execution_count": 7,
     "metadata": {},
     "output_type": "execute_result"
    }
   ],
   "source": [
    "x = data.copy()\n",
    "x = x.loc[(x['elec_rate_check'] != -2)]\n",
    "kruskal(data=x, dv='keros_boil_heat_efficiency', between='elec_rate_check')"
   ]
  },
  {
   "cell_type": "code",
   "execution_count": 8,
   "metadata": {},
   "outputs": [
    {
     "ename": "ZeroDivisionError",
     "evalue": "division by zero",
     "output_type": "error",
     "traceback": [
      "\u001b[0;31m---------------------------------------------------------------------------\u001b[0m",
      "\u001b[0;31mZeroDivisionError\u001b[0m                         Traceback (most recent call last)",
      "\u001b[1;32m/Users/heal/GDrive/08_THESIS/Causal_infer/02_Kor_resi/04_Stat_tests/02_Non_param/20_keros_boil_heat_efficiency/Kruskal.ipynb Cell 8\u001b[0m in \u001b[0;36m3\n\u001b[1;32m      <a href='vscode-notebook-cell:/Users/heal/GDrive/08_THESIS/Causal_infer/02_Kor_resi/04_Stat_tests/02_Non_param/20_keros_boil_heat_efficiency/Kruskal.ipynb#X10sZmlsZQ%3D%3D?line=0'>1</a>\u001b[0m x \u001b[39m=\u001b[39m data\u001b[39m.\u001b[39mcopy()\n\u001b[1;32m      <a href='vscode-notebook-cell:/Users/heal/GDrive/08_THESIS/Causal_infer/02_Kor_resi/04_Stat_tests/02_Non_param/20_keros_boil_heat_efficiency/Kruskal.ipynb#X10sZmlsZQ%3D%3D?line=1'>2</a>\u001b[0m x \u001b[39m=\u001b[39m x\u001b[39m.\u001b[39mloc[(x[\u001b[39m'\u001b[39m\u001b[39mcity_g_rate_check\u001b[39m\u001b[39m'\u001b[39m] \u001b[39m!=\u001b[39m \u001b[39m-\u001b[39m\u001b[39m2\u001b[39m)]\n\u001b[0;32m----> <a href='vscode-notebook-cell:/Users/heal/GDrive/08_THESIS/Causal_infer/02_Kor_resi/04_Stat_tests/02_Non_param/20_keros_boil_heat_efficiency/Kruskal.ipynb#X10sZmlsZQ%3D%3D?line=2'>3</a>\u001b[0m kruskal(data\u001b[39m=\u001b[39;49mx, dv\u001b[39m=\u001b[39;49m\u001b[39m'\u001b[39;49m\u001b[39mkeros_boil_heat_efficiency\u001b[39;49m\u001b[39m'\u001b[39;49m, between\u001b[39m=\u001b[39;49m\u001b[39m'\u001b[39;49m\u001b[39mcity_g_rate_check\u001b[39;49m\u001b[39m'\u001b[39;49m)\n",
      "File \u001b[0;32m~/opt/anaconda3/envs/thesis/lib/python3.10/site-packages/pingouin/nonparametric.py:560\u001b[0m, in \u001b[0;36mkruskal\u001b[0;34m(data, dv, between, detailed)\u001b[0m\n\u001b[1;32m    557\u001b[0m n_per_grp \u001b[39m=\u001b[39m grp\u001b[39m.\u001b[39mcount()\u001b[39m.\u001b[39mto_numpy()\n\u001b[1;32m    559\u001b[0m \u001b[39m# Calculate chi-square statistic (H)\u001b[39;00m\n\u001b[0;32m--> 560\u001b[0m H \u001b[39m=\u001b[39m (\u001b[39m12\u001b[39;49m \u001b[39m/\u001b[39;49m (n \u001b[39m*\u001b[39;49m (n \u001b[39m+\u001b[39;49m \u001b[39m1\u001b[39;49m)) \u001b[39m*\u001b[39m np\u001b[39m.\u001b[39msum(sum_rk_grp\u001b[39m*\u001b[39m\u001b[39m*\u001b[39m\u001b[39m2\u001b[39m \u001b[39m/\u001b[39m n_per_grp)) \u001b[39m-\u001b[39m \u001b[39m3\u001b[39m \u001b[39m*\u001b[39m (n \u001b[39m+\u001b[39m \u001b[39m1\u001b[39m)\n\u001b[1;32m    562\u001b[0m \u001b[39m# Correct for ties\u001b[39;00m\n\u001b[1;32m    563\u001b[0m H \u001b[39m/\u001b[39m\u001b[39m=\u001b[39m scipy\u001b[39m.\u001b[39mstats\u001b[39m.\u001b[39mtiecorrect(data[\u001b[39m\"\u001b[39m\u001b[39mrank\u001b[39m\u001b[39m\"\u001b[39m]\u001b[39m.\u001b[39mto_numpy())\n",
      "\u001b[0;31mZeroDivisionError\u001b[0m: division by zero"
     ]
    }
   ],
   "source": [
    "x = data.copy()\n",
    "x = x.loc[(x['city_g_rate_check'] != -2)]\n",
    "kruskal(data=x, dv='keros_boil_heat_efficiency', between='city_g_rate_check')"
   ]
  },
  {
   "cell_type": "code",
   "execution_count": 9,
   "metadata": {},
   "outputs": [
    {
     "data": {
      "text/html": [
       "<div>\n",
       "<style scoped>\n",
       "    .dataframe tbody tr th:only-of-type {\n",
       "        vertical-align: middle;\n",
       "    }\n",
       "\n",
       "    .dataframe tbody tr th {\n",
       "        vertical-align: top;\n",
       "    }\n",
       "\n",
       "    .dataframe thead th {\n",
       "        text-align: right;\n",
       "    }\n",
       "</style>\n",
       "<table border=\"1\" class=\"dataframe\">\n",
       "  <thead>\n",
       "    <tr style=\"text-align: right;\">\n",
       "      <th></th>\n",
       "      <th>Source</th>\n",
       "      <th>ddof1</th>\n",
       "      <th>H</th>\n",
       "      <th>p-unc</th>\n",
       "    </tr>\n",
       "  </thead>\n",
       "  <tbody>\n",
       "    <tr>\n",
       "      <th>Kruskal</th>\n",
       "      <td>why_not_check_city_el_rate</td>\n",
       "      <td>3</td>\n",
       "      <td>1.388119</td>\n",
       "      <td>0.708322</td>\n",
       "    </tr>\n",
       "  </tbody>\n",
       "</table>\n",
       "</div>"
      ],
      "text/plain": [
       "                             Source  ddof1         H     p-unc\n",
       "Kruskal  why_not_check_city_el_rate      3  1.388119  0.708322"
      ]
     },
     "execution_count": 9,
     "metadata": {},
     "output_type": "execute_result"
    }
   ],
   "source": [
    "x = data.copy()\n",
    "x = x.loc[(x['why_not_check_city_el_rate'] != -2)]\n",
    "kruskal(data=x, dv='keros_boil_heat_efficiency', between='why_not_check_city_el_rate')"
   ]
  },
  {
   "cell_type": "code",
   "execution_count": 10,
   "metadata": {},
   "outputs": [
    {
     "ename": "ZeroDivisionError",
     "evalue": "division by zero",
     "output_type": "error",
     "traceback": [
      "\u001b[0;31m---------------------------------------------------------------------------\u001b[0m",
      "\u001b[0;31mZeroDivisionError\u001b[0m                         Traceback (most recent call last)",
      "\u001b[1;32m/Users/heal/GDrive/08_THESIS/Causal_infer/02_Kor_resi/04_Stat_tests/02_Non_param/20_keros_boil_heat_efficiency/Kruskal.ipynb Cell 10\u001b[0m in \u001b[0;36m3\n\u001b[1;32m      <a href='vscode-notebook-cell:/Users/heal/GDrive/08_THESIS/Causal_infer/02_Kor_resi/04_Stat_tests/02_Non_param/20_keros_boil_heat_efficiency/Kruskal.ipynb#X12sZmlsZQ%3D%3D?line=0'>1</a>\u001b[0m x \u001b[39m=\u001b[39m data\u001b[39m.\u001b[39mcopy()\n\u001b[1;32m      <a href='vscode-notebook-cell:/Users/heal/GDrive/08_THESIS/Causal_infer/02_Kor_resi/04_Stat_tests/02_Non_param/20_keros_boil_heat_efficiency/Kruskal.ipynb#X12sZmlsZQ%3D%3D?line=1'>2</a>\u001b[0m x \u001b[39m=\u001b[39m x\u001b[39m.\u001b[39mloc[(x[\u001b[39m'\u001b[39m\u001b[39mwhy_not_check_city_g_rate\u001b[39m\u001b[39m'\u001b[39m] \u001b[39m!=\u001b[39m \u001b[39m-\u001b[39m\u001b[39m2\u001b[39m)]\n\u001b[0;32m----> <a href='vscode-notebook-cell:/Users/heal/GDrive/08_THESIS/Causal_infer/02_Kor_resi/04_Stat_tests/02_Non_param/20_keros_boil_heat_efficiency/Kruskal.ipynb#X12sZmlsZQ%3D%3D?line=2'>3</a>\u001b[0m kruskal(data\u001b[39m=\u001b[39;49mx, dv\u001b[39m=\u001b[39;49m\u001b[39m'\u001b[39;49m\u001b[39mkeros_boil_heat_efficiency\u001b[39;49m\u001b[39m'\u001b[39;49m, between\u001b[39m=\u001b[39;49m\u001b[39m'\u001b[39;49m\u001b[39mwhy_not_check_city_g_rate\u001b[39;49m\u001b[39m'\u001b[39;49m)\n",
      "File \u001b[0;32m~/opt/anaconda3/envs/thesis/lib/python3.10/site-packages/pingouin/nonparametric.py:560\u001b[0m, in \u001b[0;36mkruskal\u001b[0;34m(data, dv, between, detailed)\u001b[0m\n\u001b[1;32m    557\u001b[0m n_per_grp \u001b[39m=\u001b[39m grp\u001b[39m.\u001b[39mcount()\u001b[39m.\u001b[39mto_numpy()\n\u001b[1;32m    559\u001b[0m \u001b[39m# Calculate chi-square statistic (H)\u001b[39;00m\n\u001b[0;32m--> 560\u001b[0m H \u001b[39m=\u001b[39m (\u001b[39m12\u001b[39;49m \u001b[39m/\u001b[39;49m (n \u001b[39m*\u001b[39;49m (n \u001b[39m+\u001b[39;49m \u001b[39m1\u001b[39;49m)) \u001b[39m*\u001b[39m np\u001b[39m.\u001b[39msum(sum_rk_grp\u001b[39m*\u001b[39m\u001b[39m*\u001b[39m\u001b[39m2\u001b[39m \u001b[39m/\u001b[39m n_per_grp)) \u001b[39m-\u001b[39m \u001b[39m3\u001b[39m \u001b[39m*\u001b[39m (n \u001b[39m+\u001b[39m \u001b[39m1\u001b[39m)\n\u001b[1;32m    562\u001b[0m \u001b[39m# Correct for ties\u001b[39;00m\n\u001b[1;32m    563\u001b[0m H \u001b[39m/\u001b[39m\u001b[39m=\u001b[39m scipy\u001b[39m.\u001b[39mstats\u001b[39m.\u001b[39mtiecorrect(data[\u001b[39m\"\u001b[39m\u001b[39mrank\u001b[39m\u001b[39m\"\u001b[39m]\u001b[39m.\u001b[39mto_numpy())\n",
      "\u001b[0;31mZeroDivisionError\u001b[0m: division by zero"
     ]
    }
   ],
   "source": [
    "x = data.copy()\n",
    "x = x.loc[(x['why_not_check_city_g_rate'] != -2)]\n",
    "kruskal(data=x, dv='keros_boil_heat_efficiency', between='why_not_check_city_g_rate')"
   ]
  },
  {
   "cell_type": "code",
   "execution_count": 11,
   "metadata": {},
   "outputs": [
    {
     "data": {
      "text/html": [
       "<div>\n",
       "<style scoped>\n",
       "    .dataframe tbody tr th:only-of-type {\n",
       "        vertical-align: middle;\n",
       "    }\n",
       "\n",
       "    .dataframe tbody tr th {\n",
       "        vertical-align: top;\n",
       "    }\n",
       "\n",
       "    .dataframe thead th {\n",
       "        text-align: right;\n",
       "    }\n",
       "</style>\n",
       "<table border=\"1\" class=\"dataframe\">\n",
       "  <thead>\n",
       "    <tr style=\"text-align: right;\">\n",
       "      <th></th>\n",
       "      <th>Source</th>\n",
       "      <th>ddof1</th>\n",
       "      <th>H</th>\n",
       "      <th>p-unc</th>\n",
       "    </tr>\n",
       "  </thead>\n",
       "  <tbody>\n",
       "    <tr>\n",
       "      <th>Kruskal</th>\n",
       "      <td>gas_avg_monthly_heat_cost_group</td>\n",
       "      <td>3</td>\n",
       "      <td>1.742458</td>\n",
       "      <td>0.627536</td>\n",
       "    </tr>\n",
       "  </tbody>\n",
       "</table>\n",
       "</div>"
      ],
      "text/plain": [
       "                                  Source  ddof1         H     p-unc\n",
       "Kruskal  gas_avg_monthly_heat_cost_group      3  1.742458  0.627536"
      ]
     },
     "execution_count": 11,
     "metadata": {},
     "output_type": "execute_result"
    }
   ],
   "source": [
    "x = data.copy()\n",
    "x = x.loc[(x['gas_avg_monthly_heat_cost_group'] != -2)]\n",
    "kruskal(data=x, dv='keros_boil_heat_efficiency', between='gas_avg_monthly_heat_cost_group')"
   ]
  },
  {
   "cell_type": "code",
   "execution_count": 3,
   "metadata": {},
   "outputs": [
    {
     "data": {
      "text/html": [
       "<div>\n",
       "<style scoped>\n",
       "    .dataframe tbody tr th:only-of-type {\n",
       "        vertical-align: middle;\n",
       "    }\n",
       "\n",
       "    .dataframe tbody tr th {\n",
       "        vertical-align: top;\n",
       "    }\n",
       "\n",
       "    .dataframe thead th {\n",
       "        text-align: right;\n",
       "    }\n",
       "</style>\n",
       "<table border=\"1\" class=\"dataframe\">\n",
       "  <thead>\n",
       "    <tr style=\"text-align: right;\">\n",
       "      <th></th>\n",
       "      <th>Source</th>\n",
       "      <th>ddof1</th>\n",
       "      <th>H</th>\n",
       "      <th>p-unc</th>\n",
       "    </tr>\n",
       "  </thead>\n",
       "  <tbody>\n",
       "    <tr>\n",
       "      <th>Kruskal</th>\n",
       "      <td>gas_last_winter_heat_statisfaction</td>\n",
       "      <td>2</td>\n",
       "      <td>2.642786</td>\n",
       "      <td>0.266763</td>\n",
       "    </tr>\n",
       "  </tbody>\n",
       "</table>\n",
       "</div>"
      ],
      "text/plain": [
       "                                     Source  ddof1         H     p-unc\n",
       "Kruskal  gas_last_winter_heat_statisfaction      2  2.642786  0.266763"
      ]
     },
     "execution_count": 3,
     "metadata": {},
     "output_type": "execute_result"
    }
   ],
   "source": [
    "x = data.copy()\n",
    "x = x.loc[(x['gas_last_winter_heat_statisfaction'] != -2)]\n",
    "kruskal(data=x, dv='keros_boil_heat_efficiency', between='gas_last_winter_heat_statisfaction')"
   ]
  },
  {
   "cell_type": "code",
   "execution_count": 13,
   "metadata": {},
   "outputs": [
    {
     "data": {
      "text/html": [
       "<div>\n",
       "<style scoped>\n",
       "    .dataframe tbody tr th:only-of-type {\n",
       "        vertical-align: middle;\n",
       "    }\n",
       "\n",
       "    .dataframe tbody tr th {\n",
       "        vertical-align: top;\n",
       "    }\n",
       "\n",
       "    .dataframe thead th {\n",
       "        text-align: right;\n",
       "    }\n",
       "</style>\n",
       "<table border=\"1\" class=\"dataframe\">\n",
       "  <thead>\n",
       "    <tr style=\"text-align: right;\">\n",
       "      <th></th>\n",
       "      <th>Source</th>\n",
       "      <th>ddof1</th>\n",
       "      <th>H</th>\n",
       "      <th>p-unc</th>\n",
       "    </tr>\n",
       "  </thead>\n",
       "  <tbody>\n",
       "    <tr>\n",
       "      <th>Kruskal</th>\n",
       "      <td>insuf_heat_due_to_cost</td>\n",
       "      <td>1</td>\n",
       "      <td>1.161972</td>\n",
       "      <td>0.281057</td>\n",
       "    </tr>\n",
       "  </tbody>\n",
       "</table>\n",
       "</div>"
      ],
      "text/plain": [
       "                         Source  ddof1         H     p-unc\n",
       "Kruskal  insuf_heat_due_to_cost      1  1.161972  0.281057"
      ]
     },
     "execution_count": 13,
     "metadata": {},
     "output_type": "execute_result"
    }
   ],
   "source": [
    "x = data.copy()\n",
    "x = x.loc[(x['insuf_heat_due_to_cost'] != -2)]\n",
    "kruskal(data=x, dv='keros_boil_heat_efficiency', between='insuf_heat_due_to_cost')"
   ]
  },
  {
   "cell_type": "code",
   "execution_count": 14,
   "metadata": {},
   "outputs": [
    {
     "data": {
      "text/html": [
       "<div>\n",
       "<style scoped>\n",
       "    .dataframe tbody tr th:only-of-type {\n",
       "        vertical-align: middle;\n",
       "    }\n",
       "\n",
       "    .dataframe tbody tr th {\n",
       "        vertical-align: top;\n",
       "    }\n",
       "\n",
       "    .dataframe thead th {\n",
       "        text-align: right;\n",
       "    }\n",
       "</style>\n",
       "<table border=\"1\" class=\"dataframe\">\n",
       "  <thead>\n",
       "    <tr style=\"text-align: right;\">\n",
       "      <th></th>\n",
       "      <th>Source</th>\n",
       "      <th>ddof1</th>\n",
       "      <th>H</th>\n",
       "      <th>p-unc</th>\n",
       "    </tr>\n",
       "  </thead>\n",
       "  <tbody>\n",
       "    <tr>\n",
       "      <th>Kruskal</th>\n",
       "      <td>insul_added_material</td>\n",
       "      <td>6</td>\n",
       "      <td>5.909501</td>\n",
       "      <td>0.433404</td>\n",
       "    </tr>\n",
       "  </tbody>\n",
       "</table>\n",
       "</div>"
      ],
      "text/plain": [
       "                       Source  ddof1         H     p-unc\n",
       "Kruskal  insul_added_material      6  5.909501  0.433404"
      ]
     },
     "execution_count": 14,
     "metadata": {},
     "output_type": "execute_result"
    }
   ],
   "source": [
    "x = data.copy()\n",
    "x = x.loc[(x['insul_added_material'] != -2)]\n",
    "kruskal(data=x, dv='keros_boil_heat_efficiency', between='insul_added_material')"
   ]
  },
  {
   "cell_type": "code",
   "execution_count": 15,
   "metadata": {},
   "outputs": [
    {
     "data": {
      "text/html": [
       "<div>\n",
       "<style scoped>\n",
       "    .dataframe tbody tr th:only-of-type {\n",
       "        vertical-align: middle;\n",
       "    }\n",
       "\n",
       "    .dataframe tbody tr th {\n",
       "        vertical-align: top;\n",
       "    }\n",
       "\n",
       "    .dataframe thead th {\n",
       "        text-align: right;\n",
       "    }\n",
       "</style>\n",
       "<table border=\"1\" class=\"dataframe\">\n",
       "  <thead>\n",
       "    <tr style=\"text-align: right;\">\n",
       "      <th></th>\n",
       "      <th>Source</th>\n",
       "      <th>ddof1</th>\n",
       "      <th>H</th>\n",
       "      <th>p-unc</th>\n",
       "    </tr>\n",
       "  </thead>\n",
       "  <tbody>\n",
       "    <tr>\n",
       "      <th>Kruskal</th>\n",
       "      <td>improve_energy_method</td>\n",
       "      <td>2</td>\n",
       "      <td>0.884036</td>\n",
       "      <td>0.642738</td>\n",
       "    </tr>\n",
       "  </tbody>\n",
       "</table>\n",
       "</div>"
      ],
      "text/plain": [
       "                        Source  ddof1         H     p-unc\n",
       "Kruskal  improve_energy_method      2  0.884036  0.642738"
      ]
     },
     "execution_count": 15,
     "metadata": {},
     "output_type": "execute_result"
    }
   ],
   "source": [
    "x = data.copy()\n",
    "x = x.loc[(x['improve_energy_method'] != -2)]\n",
    "kruskal(data=x, dv='keros_boil_heat_efficiency', between='improve_energy_method')"
   ]
  },
  {
   "cell_type": "code",
   "execution_count": 16,
   "metadata": {},
   "outputs": [
    {
     "data": {
      "text/html": [
       "<div>\n",
       "<style scoped>\n",
       "    .dataframe tbody tr th:only-of-type {\n",
       "        vertical-align: middle;\n",
       "    }\n",
       "\n",
       "    .dataframe tbody tr th {\n",
       "        vertical-align: top;\n",
       "    }\n",
       "\n",
       "    .dataframe thead th {\n",
       "        text-align: right;\n",
       "    }\n",
       "</style>\n",
       "<table border=\"1\" class=\"dataframe\">\n",
       "  <thead>\n",
       "    <tr style=\"text-align: right;\">\n",
       "      <th></th>\n",
       "      <th>Source</th>\n",
       "      <th>ddof1</th>\n",
       "      <th>H</th>\n",
       "      <th>p-unc</th>\n",
       "    </tr>\n",
       "  </thead>\n",
       "  <tbody>\n",
       "    <tr>\n",
       "      <th>Kruskal</th>\n",
       "      <td>energy_savinng_prog</td>\n",
       "      <td>0</td>\n",
       "      <td>0.0</td>\n",
       "      <td>NaN</td>\n",
       "    </tr>\n",
       "  </tbody>\n",
       "</table>\n",
       "</div>"
      ],
      "text/plain": [
       "                      Source  ddof1    H  p-unc\n",
       "Kruskal  energy_savinng_prog      0  0.0    NaN"
      ]
     },
     "execution_count": 16,
     "metadata": {},
     "output_type": "execute_result"
    }
   ],
   "source": [
    "x = data.copy()\n",
    "x = x.loc[(x['energy_savinng_prog'] != -2)]\n",
    "kruskal(data=x, dv='keros_boil_heat_efficiency', between='energy_savinng_prog')"
   ]
  },
  {
   "cell_type": "code",
   "execution_count": 17,
   "metadata": {},
   "outputs": [
    {
     "data": {
      "text/html": [
       "<div>\n",
       "<style scoped>\n",
       "    .dataframe tbody tr th:only-of-type {\n",
       "        vertical-align: middle;\n",
       "    }\n",
       "\n",
       "    .dataframe tbody tr th {\n",
       "        vertical-align: top;\n",
       "    }\n",
       "\n",
       "    .dataframe thead th {\n",
       "        text-align: right;\n",
       "    }\n",
       "</style>\n",
       "<table border=\"1\" class=\"dataframe\">\n",
       "  <thead>\n",
       "    <tr style=\"text-align: right;\">\n",
       "      <th></th>\n",
       "      <th>Source</th>\n",
       "      <th>ddof1</th>\n",
       "      <th>H</th>\n",
       "      <th>p-unc</th>\n",
       "    </tr>\n",
       "  </thead>\n",
       "  <tbody>\n",
       "    <tr>\n",
       "      <th>Kruskal</th>\n",
       "      <td>N_of_house_members_category</td>\n",
       "      <td>2</td>\n",
       "      <td>1.152956</td>\n",
       "      <td>0.561874</td>\n",
       "    </tr>\n",
       "  </tbody>\n",
       "</table>\n",
       "</div>"
      ],
      "text/plain": [
       "                              Source  ddof1         H     p-unc\n",
       "Kruskal  N_of_house_members_category      2  1.152956  0.561874"
      ]
     },
     "execution_count": 17,
     "metadata": {},
     "output_type": "execute_result"
    }
   ],
   "source": [
    "x = data.copy()\n",
    "x = x.loc[(x['N_of_house_members_category'] != -2)]\n",
    "kruskal(data=x, dv='keros_boil_heat_efficiency', between='N_of_house_members_category')"
   ]
  },
  {
   "cell_type": "code",
   "execution_count": 18,
   "metadata": {},
   "outputs": [
    {
     "data": {
      "text/html": [
       "<div>\n",
       "<style scoped>\n",
       "    .dataframe tbody tr th:only-of-type {\n",
       "        vertical-align: middle;\n",
       "    }\n",
       "\n",
       "    .dataframe tbody tr th {\n",
       "        vertical-align: top;\n",
       "    }\n",
       "\n",
       "    .dataframe thead th {\n",
       "        text-align: right;\n",
       "    }\n",
       "</style>\n",
       "<table border=\"1\" class=\"dataframe\">\n",
       "  <thead>\n",
       "    <tr style=\"text-align: right;\">\n",
       "      <th></th>\n",
       "      <th>Source</th>\n",
       "      <th>ddof1</th>\n",
       "      <th>H</th>\n",
       "      <th>p-unc</th>\n",
       "    </tr>\n",
       "  </thead>\n",
       "  <tbody>\n",
       "    <tr>\n",
       "      <th>Kruskal</th>\n",
       "      <td>gender</td>\n",
       "      <td>1</td>\n",
       "      <td>0.035608</td>\n",
       "      <td>0.850328</td>\n",
       "    </tr>\n",
       "  </tbody>\n",
       "</table>\n",
       "</div>"
      ],
      "text/plain": [
       "         Source  ddof1         H     p-unc\n",
       "Kruskal  gender      1  0.035608  0.850328"
      ]
     },
     "execution_count": 18,
     "metadata": {},
     "output_type": "execute_result"
    }
   ],
   "source": [
    "x = data.copy()\n",
    "x = x.loc[(x['gender'] != -2)]\n",
    "kruskal(data=x, dv='keros_boil_heat_efficiency', between='gender')"
   ]
  },
  {
   "cell_type": "code",
   "execution_count": 19,
   "metadata": {},
   "outputs": [
    {
     "data": {
      "text/html": [
       "<div>\n",
       "<style scoped>\n",
       "    .dataframe tbody tr th:only-of-type {\n",
       "        vertical-align: middle;\n",
       "    }\n",
       "\n",
       "    .dataframe tbody tr th {\n",
       "        vertical-align: top;\n",
       "    }\n",
       "\n",
       "    .dataframe thead th {\n",
       "        text-align: right;\n",
       "    }\n",
       "</style>\n",
       "<table border=\"1\" class=\"dataframe\">\n",
       "  <thead>\n",
       "    <tr style=\"text-align: right;\">\n",
       "      <th></th>\n",
       "      <th>Source</th>\n",
       "      <th>ddof1</th>\n",
       "      <th>H</th>\n",
       "      <th>p-unc</th>\n",
       "    </tr>\n",
       "  </thead>\n",
       "  <tbody>\n",
       "    <tr>\n",
       "      <th>Kruskal</th>\n",
       "      <td>head_house_age_group</td>\n",
       "      <td>3</td>\n",
       "      <td>5.300684</td>\n",
       "      <td>0.151058</td>\n",
       "    </tr>\n",
       "  </tbody>\n",
       "</table>\n",
       "</div>"
      ],
      "text/plain": [
       "                       Source  ddof1         H     p-unc\n",
       "Kruskal  head_house_age_group      3  5.300684  0.151058"
      ]
     },
     "execution_count": 19,
     "metadata": {},
     "output_type": "execute_result"
    }
   ],
   "source": [
    "x = data.copy()\n",
    "x = x.loc[(x['head_house_age_group'] != -2)]\n",
    "kruskal(data=x, dv='keros_boil_heat_efficiency', between='head_house_age_group')"
   ]
  },
  {
   "cell_type": "code",
   "execution_count": 20,
   "metadata": {},
   "outputs": [
    {
     "data": {
      "text/html": [
       "<div>\n",
       "<style scoped>\n",
       "    .dataframe tbody tr th:only-of-type {\n",
       "        vertical-align: middle;\n",
       "    }\n",
       "\n",
       "    .dataframe tbody tr th {\n",
       "        vertical-align: top;\n",
       "    }\n",
       "\n",
       "    .dataframe thead th {\n",
       "        text-align: right;\n",
       "    }\n",
       "</style>\n",
       "<table border=\"1\" class=\"dataframe\">\n",
       "  <thead>\n",
       "    <tr style=\"text-align: right;\">\n",
       "      <th></th>\n",
       "      <th>Source</th>\n",
       "      <th>ddof1</th>\n",
       "      <th>H</th>\n",
       "      <th>p-unc</th>\n",
       "    </tr>\n",
       "  </thead>\n",
       "  <tbody>\n",
       "    <tr>\n",
       "      <th>Kruskal</th>\n",
       "      <td>head_house_edu_group</td>\n",
       "      <td>3</td>\n",
       "      <td>3.032516</td>\n",
       "      <td>0.386639</td>\n",
       "    </tr>\n",
       "  </tbody>\n",
       "</table>\n",
       "</div>"
      ],
      "text/plain": [
       "                       Source  ddof1         H     p-unc\n",
       "Kruskal  head_house_edu_group      3  3.032516  0.386639"
      ]
     },
     "execution_count": 20,
     "metadata": {},
     "output_type": "execute_result"
    }
   ],
   "source": [
    "x = data.copy()\n",
    "x = x.loc[(x['head_house_edu_group'] != -2)]\n",
    "kruskal(data=x, dv='keros_boil_heat_efficiency', between='head_house_edu_group')"
   ]
  },
  {
   "cell_type": "code",
   "execution_count": 21,
   "metadata": {},
   "outputs": [
    {
     "data": {
      "text/html": [
       "<div>\n",
       "<style scoped>\n",
       "    .dataframe tbody tr th:only-of-type {\n",
       "        vertical-align: middle;\n",
       "    }\n",
       "\n",
       "    .dataframe tbody tr th {\n",
       "        vertical-align: top;\n",
       "    }\n",
       "\n",
       "    .dataframe thead th {\n",
       "        text-align: right;\n",
       "    }\n",
       "</style>\n",
       "<table border=\"1\" class=\"dataframe\">\n",
       "  <thead>\n",
       "    <tr style=\"text-align: right;\">\n",
       "      <th></th>\n",
       "      <th>Source</th>\n",
       "      <th>ddof1</th>\n",
       "      <th>H</th>\n",
       "      <th>p-unc</th>\n",
       "    </tr>\n",
       "  </thead>\n",
       "  <tbody>\n",
       "    <tr>\n",
       "      <th>Kruskal</th>\n",
       "      <td>head_house_occ_group</td>\n",
       "      <td>5</td>\n",
       "      <td>4.32636</td>\n",
       "      <td>0.503446</td>\n",
       "    </tr>\n",
       "  </tbody>\n",
       "</table>\n",
       "</div>"
      ],
      "text/plain": [
       "                       Source  ddof1        H     p-unc\n",
       "Kruskal  head_house_occ_group      5  4.32636  0.503446"
      ]
     },
     "execution_count": 21,
     "metadata": {},
     "output_type": "execute_result"
    }
   ],
   "source": [
    "x = data.copy()\n",
    "x = x.loc[(x['head_house_occ_group'] != -2)]\n",
    "kruskal(data=x, dv='keros_boil_heat_efficiency', between='head_house_occ_group')"
   ]
  },
  {
   "cell_type": "code",
   "execution_count": 22,
   "metadata": {},
   "outputs": [
    {
     "data": {
      "text/html": [
       "<div>\n",
       "<style scoped>\n",
       "    .dataframe tbody tr th:only-of-type {\n",
       "        vertical-align: middle;\n",
       "    }\n",
       "\n",
       "    .dataframe tbody tr th {\n",
       "        vertical-align: top;\n",
       "    }\n",
       "\n",
       "    .dataframe thead th {\n",
       "        text-align: right;\n",
       "    }\n",
       "</style>\n",
       "<table border=\"1\" class=\"dataframe\">\n",
       "  <thead>\n",
       "    <tr style=\"text-align: right;\">\n",
       "      <th></th>\n",
       "      <th>Source</th>\n",
       "      <th>ddof1</th>\n",
       "      <th>H</th>\n",
       "      <th>p-unc</th>\n",
       "    </tr>\n",
       "  </thead>\n",
       "  <tbody>\n",
       "    <tr>\n",
       "      <th>Kruskal</th>\n",
       "      <td>head_house_income_source_group</td>\n",
       "      <td>4</td>\n",
       "      <td>5.184527</td>\n",
       "      <td>0.268882</td>\n",
       "    </tr>\n",
       "  </tbody>\n",
       "</table>\n",
       "</div>"
      ],
      "text/plain": [
       "                                 Source  ddof1         H     p-unc\n",
       "Kruskal  head_house_income_source_group      4  5.184527  0.268882"
      ]
     },
     "execution_count": 22,
     "metadata": {},
     "output_type": "execute_result"
    }
   ],
   "source": [
    "x = data.copy()\n",
    "x = x.loc[(x['head_house_income_source_group'] != -2)]\n",
    "kruskal(data=x, dv='keros_boil_heat_efficiency', between='head_house_income_source_group')"
   ]
  },
  {
   "cell_type": "code",
   "execution_count": 23,
   "metadata": {},
   "outputs": [
    {
     "data": {
      "text/html": [
       "<div>\n",
       "<style scoped>\n",
       "    .dataframe tbody tr th:only-of-type {\n",
       "        vertical-align: middle;\n",
       "    }\n",
       "\n",
       "    .dataframe tbody tr th {\n",
       "        vertical-align: top;\n",
       "    }\n",
       "\n",
       "    .dataframe thead th {\n",
       "        text-align: right;\n",
       "    }\n",
       "</style>\n",
       "<table border=\"1\" class=\"dataframe\">\n",
       "  <thead>\n",
       "    <tr style=\"text-align: right;\">\n",
       "      <th></th>\n",
       "      <th>Source</th>\n",
       "      <th>ddof1</th>\n",
       "      <th>H</th>\n",
       "      <th>p-unc</th>\n",
       "    </tr>\n",
       "  </thead>\n",
       "  <tbody>\n",
       "    <tr>\n",
       "      <th>Kruskal</th>\n",
       "      <td>house_member_pregnant</td>\n",
       "      <td>0</td>\n",
       "      <td>0.0</td>\n",
       "      <td>NaN</td>\n",
       "    </tr>\n",
       "  </tbody>\n",
       "</table>\n",
       "</div>"
      ],
      "text/plain": [
       "                        Source  ddof1    H  p-unc\n",
       "Kruskal  house_member_pregnant      0  0.0    NaN"
      ]
     },
     "execution_count": 23,
     "metadata": {},
     "output_type": "execute_result"
    }
   ],
   "source": [
    "x = data.copy()\n",
    "x = x.loc[(x['house_member_pregnant'] != -2)]\n",
    "kruskal(data=x, dv='keros_boil_heat_efficiency', between='house_member_pregnant')"
   ]
  },
  {
   "cell_type": "code",
   "execution_count": 24,
   "metadata": {},
   "outputs": [
    {
     "data": {
      "text/html": [
       "<div>\n",
       "<style scoped>\n",
       "    .dataframe tbody tr th:only-of-type {\n",
       "        vertical-align: middle;\n",
       "    }\n",
       "\n",
       "    .dataframe tbody tr th {\n",
       "        vertical-align: top;\n",
       "    }\n",
       "\n",
       "    .dataframe thead th {\n",
       "        text-align: right;\n",
       "    }\n",
       "</style>\n",
       "<table border=\"1\" class=\"dataframe\">\n",
       "  <thead>\n",
       "    <tr style=\"text-align: right;\">\n",
       "      <th></th>\n",
       "      <th>Source</th>\n",
       "      <th>ddof1</th>\n",
       "      <th>H</th>\n",
       "      <th>p-unc</th>\n",
       "    </tr>\n",
       "  </thead>\n",
       "  <tbody>\n",
       "    <tr>\n",
       "      <th>Kruskal</th>\n",
       "      <td>annual_income_category</td>\n",
       "      <td>1</td>\n",
       "      <td>0.022791</td>\n",
       "      <td>0.880001</td>\n",
       "    </tr>\n",
       "  </tbody>\n",
       "</table>\n",
       "</div>"
      ],
      "text/plain": [
       "                         Source  ddof1         H     p-unc\n",
       "Kruskal  annual_income_category      1  0.022791  0.880001"
      ]
     },
     "execution_count": 24,
     "metadata": {},
     "output_type": "execute_result"
    }
   ],
   "source": [
    "x = data.copy()\n",
    "x = x.loc[(x['annual_income_category'] != -2)]\n",
    "kruskal(data=x, dv='keros_boil_heat_efficiency', between='annual_income_category')"
   ]
  },
  {
   "cell_type": "code",
   "execution_count": 25,
   "metadata": {},
   "outputs": [
    {
     "data": {
      "text/html": [
       "<div>\n",
       "<style scoped>\n",
       "    .dataframe tbody tr th:only-of-type {\n",
       "        vertical-align: middle;\n",
       "    }\n",
       "\n",
       "    .dataframe tbody tr th {\n",
       "        vertical-align: top;\n",
       "    }\n",
       "\n",
       "    .dataframe thead th {\n",
       "        text-align: right;\n",
       "    }\n",
       "</style>\n",
       "<table border=\"1\" class=\"dataframe\">\n",
       "  <thead>\n",
       "    <tr style=\"text-align: right;\">\n",
       "      <th></th>\n",
       "      <th>Source</th>\n",
       "      <th>ddof1</th>\n",
       "      <th>H</th>\n",
       "      <th>p-unc</th>\n",
       "    </tr>\n",
       "  </thead>\n",
       "  <tbody>\n",
       "    <tr>\n",
       "      <th>Kruskal</th>\n",
       "      <td>av_monthly_income_group</td>\n",
       "      <td>3</td>\n",
       "      <td>2.676213</td>\n",
       "      <td>0.444285</td>\n",
       "    </tr>\n",
       "  </tbody>\n",
       "</table>\n",
       "</div>"
      ],
      "text/plain": [
       "                          Source  ddof1         H     p-unc\n",
       "Kruskal  av_monthly_income_group      3  2.676213  0.444285"
      ]
     },
     "execution_count": 25,
     "metadata": {},
     "output_type": "execute_result"
    }
   ],
   "source": [
    "x = data.copy()\n",
    "x = x.loc[(x['av_monthly_income_group'] != -2)]\n",
    "kruskal(data=x, dv='keros_boil_heat_efficiency', between='av_monthly_income_group')"
   ]
  },
  {
   "cell_type": "code",
   "execution_count": null,
   "metadata": {},
   "outputs": [],
   "source": []
  }
 ],
 "metadata": {
  "kernelspec": {
   "display_name": "thesis",
   "language": "python",
   "name": "python3"
  },
  "language_info": {
   "codemirror_mode": {
    "name": "ipython",
    "version": 3
   },
   "file_extension": ".py",
   "mimetype": "text/x-python",
   "name": "python",
   "nbconvert_exporter": "python",
   "pygments_lexer": "ipython3",
   "version": "3.10.6"
  },
  "orig_nbformat": 4,
  "vscode": {
   "interpreter": {
    "hash": "98c1c43490eba6286d7b33394c160ddc91e627c1db7e92063dec856a85670976"
   }
  }
 },
 "nbformat": 4,
 "nbformat_minor": 2
}
