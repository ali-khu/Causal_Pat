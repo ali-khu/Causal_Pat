{
 "cells": [
  {
   "cell_type": "code",
   "execution_count": 1,
   "metadata": {},
   "outputs": [],
   "source": [
    "import pandas as pd\n",
    "from bioinfokit.analys import stat\n",
    "df = pd.read_excel('data.xlsx')\n",
    "import numpy as np\n"
   ]
  },
  {
   "cell_type": "code",
   "execution_count": 2,
   "metadata": {},
   "outputs": [],
   "source": [
    "data = df.copy()\n",
    "data = data.loc[(data['annual_income_category'] != -2)]"
   ]
  },
  {
   "cell_type": "code",
   "execution_count": 3,
   "metadata": {},
   "outputs": [
    {
     "name": "stdout",
     "output_type": "stream",
     "text": [
      "\n",
      "Chi-squared test for independence\n",
      "\n",
      "Test              Df    Chi-square      P-value\n",
      "--------------  ----  ------------  -----------\n",
      "Pearson           12       217.837  6.66588e-40\n",
      "Log-likelihood    12       117.99   1.55394e-19\n",
      "\n"
     ]
    }
   ],
   "source": [
    "x = data.copy()\n",
    "x = x.loc[(x['av_monthly_income_group'] != -2)]\n",
    "\n",
    "ctab = pd.crosstab(x['annual_income_category'], x['av_monthly_income_group'])\n",
    "res = stat()\n",
    "res.chisq(df=ctab)\n",
    "print(res.summary)"
   ]
  },
  {
   "cell_type": "code",
   "execution_count": null,
   "metadata": {},
   "outputs": [],
   "source": []
  }
 ],
 "metadata": {
  "kernelspec": {
   "display_name": "thesis",
   "language": "python",
   "name": "python3"
  },
  "language_info": {
   "codemirror_mode": {
    "name": "ipython",
    "version": 3
   },
   "file_extension": ".py",
   "mimetype": "text/x-python",
   "name": "python",
   "nbconvert_exporter": "python",
   "pygments_lexer": "ipython3",
   "version": "3.10.8"
  },
  "orig_nbformat": 4,
  "vscode": {
   "interpreter": {
    "hash": "d3e156ba609d3fe88450c2dc1973615cb05d3710a7f9768d2badc7f539ca2834"
   }
  }
 },
 "nbformat": 4,
 "nbformat_minor": 2
}
