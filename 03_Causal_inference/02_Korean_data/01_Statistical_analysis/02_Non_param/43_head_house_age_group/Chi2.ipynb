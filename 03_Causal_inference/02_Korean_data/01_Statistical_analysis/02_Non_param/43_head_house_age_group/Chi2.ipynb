{
 "cells": [
  {
   "cell_type": "code",
   "execution_count": 1,
   "metadata": {},
   "outputs": [],
   "source": [
    "import pandas as pd\n",
    "from bioinfokit.analys import stat\n",
    "df = pd.read_excel('data.xlsx')\n",
    "import numpy as np\n"
   ]
  },
  {
   "cell_type": "code",
   "execution_count": 2,
   "metadata": {},
   "outputs": [],
   "source": [
    "data = df.copy()\n",
    "data = data.loc[(data['head_house_age_group'] != -2)]"
   ]
  },
  {
   "cell_type": "code",
   "execution_count": 3,
   "metadata": {},
   "outputs": [
    {
     "name": "stdout",
     "output_type": "stream",
     "text": [
      "\n",
      "Chi-squared test for independence\n",
      "\n",
      "Test              Df    Chi-square       P-value\n",
      "--------------  ----  ------------  ------------\n",
      "Pearson           12       1001.71  8.04535e-207\n",
      "Log-likelihood    12       1075.84  9.17977e-223\n",
      "\n"
     ]
    }
   ],
   "source": [
    "x = data.copy()\n",
    "x = x.loc[(x['head_house_edu_group'] != -2)]\n",
    "\n",
    "ctab = pd.crosstab(x['head_house_age_group'], x['head_house_edu_group'])\n",
    "res = stat()\n",
    "res.chisq(df=ctab)\n",
    "print(res.summary)"
   ]
  },
  {
   "cell_type": "code",
   "execution_count": 4,
   "metadata": {},
   "outputs": [
    {
     "name": "stdout",
     "output_type": "stream",
     "text": [
      "\n",
      "Chi-squared test for independence\n",
      "\n",
      "Test              Df    Chi-square       P-value\n",
      "--------------  ----  ------------  ------------\n",
      "Pearson           20       936.887  1.10171e-185\n",
      "Log-likelihood    20      1031.43   7.71562e-206\n",
      "\n"
     ]
    }
   ],
   "source": [
    "x = data.copy()\n",
    "x = x.loc[(x['head_house_occ_group'] != -2)]\n",
    "\n",
    "ctab = pd.crosstab(x['head_house_age_group'], x['head_house_occ_group'])\n",
    "res = stat()\n",
    "res.chisq(df=ctab)\n",
    "print(res.summary)"
   ]
  },
  {
   "cell_type": "code",
   "execution_count": 5,
   "metadata": {},
   "outputs": [
    {
     "name": "stdout",
     "output_type": "stream",
     "text": [
      "\n",
      "Chi-squared test for independence\n",
      "\n",
      "Test              Df    Chi-square       P-value\n",
      "--------------  ----  ------------  ------------\n",
      "Pearson           24       561.204  3.02824e-103\n",
      "Log-likelihood    24       596.444  1.31509e-110\n",
      "\n"
     ]
    }
   ],
   "source": [
    "x = data.copy()\n",
    "x = x.loc[(x['head_house_income_source_group'] != -2)]\n",
    "\n",
    "ctab = pd.crosstab(x['head_house_age_group'], x['head_house_income_source_group'])\n",
    "res = stat()\n",
    "res.chisq(df=ctab)\n",
    "print(res.summary)"
   ]
  },
  {
   "cell_type": "code",
   "execution_count": 6,
   "metadata": {},
   "outputs": [
    {
     "name": "stdout",
     "output_type": "stream",
     "text": [
      "\n",
      "Chi-squared test for independence\n",
      "\n",
      "Test              Df    Chi-square      P-value\n",
      "--------------  ----  ------------  -----------\n",
      "Pearson            4       43.3145  8.90408e-09\n",
      "Log-likelihood     4       22.5091  0.000158678\n",
      "\n"
     ]
    }
   ],
   "source": [
    "x = data.copy()\n",
    "x = x.loc[(x['house_member_pregnant'] != -2)]\n",
    "\n",
    "ctab = pd.crosstab(x['head_house_age_group'], x['house_member_pregnant'])\n",
    "res = stat()\n",
    "res.chisq(df=ctab)\n",
    "print(res.summary)"
   ]
  },
  {
   "cell_type": "code",
   "execution_count": 7,
   "metadata": {},
   "outputs": [
    {
     "name": "stdout",
     "output_type": "stream",
     "text": [
      "\n",
      "Chi-squared test for independence\n",
      "\n",
      "Test              Df    Chi-square    P-value\n",
      "--------------  ----  ------------  ---------\n",
      "Pearson           16       20.1215   0.214798\n",
      "Log-likelihood    16       22.6059   0.124683\n",
      "\n"
     ]
    }
   ],
   "source": [
    "x = data.copy()\n",
    "x = x.loc[(x['annual_income_category'] != -2)]\n",
    "\n",
    "ctab = pd.crosstab(x['head_house_age_group'], x['annual_income_category'])\n",
    "res = stat()\n",
    "res.chisq(df=ctab)\n",
    "print(res.summary)"
   ]
  },
  {
   "cell_type": "code",
   "execution_count": 8,
   "metadata": {},
   "outputs": [
    {
     "name": "stdout",
     "output_type": "stream",
     "text": [
      "\n",
      "Chi-squared test for independence\n",
      "\n",
      "Test              Df    Chi-square       P-value\n",
      "--------------  ----  ------------  ------------\n",
      "Pearson           12       743.872  1.77572e-151\n",
      "Log-likelihood    12       778.697  6.11168e-159\n",
      "\n"
     ]
    }
   ],
   "source": [
    "x = data.copy()\n",
    "x = x.loc[(x['av_monthly_income_group'] != -2)]\n",
    "\n",
    "ctab = pd.crosstab(x['head_house_age_group'], x['av_monthly_income_group'])\n",
    "res = stat()\n",
    "res.chisq(df=ctab)\n",
    "print(res.summary)"
   ]
  },
  {
   "cell_type": "code",
   "execution_count": null,
   "metadata": {},
   "outputs": [],
   "source": []
  }
 ],
 "metadata": {
  "kernelspec": {
   "display_name": "thesis",
   "language": "python",
   "name": "python3"
  },
  "language_info": {
   "codemirror_mode": {
    "name": "ipython",
    "version": 3
   },
   "file_extension": ".py",
   "mimetype": "text/x-python",
   "name": "python",
   "nbconvert_exporter": "python",
   "pygments_lexer": "ipython3",
   "version": "3.10.8"
  },
  "orig_nbformat": 4,
  "vscode": {
   "interpreter": {
    "hash": "d3e156ba609d3fe88450c2dc1973615cb05d3710a7f9768d2badc7f539ca2834"
   }
  }
 },
 "nbformat": 4,
 "nbformat_minor": 2
}
